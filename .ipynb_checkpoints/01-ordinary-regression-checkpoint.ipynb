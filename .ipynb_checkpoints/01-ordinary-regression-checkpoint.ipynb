{
 "cells": [
  {
   "cell_type": "markdown",
   "id": "9f3ee304-61fc-4bfe-9743-2c3646ce46c2",
   "metadata": {},
   "source": [
    "# Ordinary Regression"
   ]
  },
  {
   "cell_type": "markdown",
   "id": "6f2b38a8-c0ad-49b0-b582-e8381e19464c",
   "metadata": {},
   "source": [
    "## Question 1"
   ]
  },
  {
   "cell_type": "code",
   "execution_count": 1,
   "id": "e568e94b-cfb8-453c-b03f-cef4fdc30ca2",
   "metadata": {
    "execution": {
     "iopub.execute_input": "2022-01-31T21:05:07.707555Z",
     "iopub.status.busy": "2022-01-31T21:05:07.707555Z",
     "iopub.status.idle": "2022-01-31T21:05:08.491549Z",
     "shell.execute_reply": "2022-01-31T21:05:08.491549Z",
     "shell.execute_reply.started": "2022-01-31T21:05:07.707555Z"
    },
    "tags": []
   },
   "outputs": [
    {
     "data": {
      "text/plain": [
       "(9.2, array([0.8]))"
      ]
     },
     "execution_count": 1,
     "metadata": {},
     "output_type": "execute_result"
    }
   ],
   "source": [
    "import pandas as pd\n",
    "from sklearn.linear_model import LinearRegression\n",
    "\n",
    "df = pd.DataFrame({\n",
    "    'y': [10, 12, 10, 12, 14],\n",
    "    'x': [1, 2, 3, 4, 5]\n",
    "})\n",
    "\n",
    "X = df[['x']]\n",
    "y = df['y']\n",
    "\n",
    "model = LinearRegression()\n",
    "model.fit(X, y)\n",
    "\n",
    "model.intercept_, model.coef_"
   ]
  },
  {
   "cell_type": "markdown",
   "id": "985a2b58-f73e-4463-82a8-9cf10eae65b6",
   "metadata": {},
   "source": [
    "Plot the points and line."
   ]
  },
  {
   "cell_type": "code",
   "execution_count": 2,
   "id": "c7cfd18f-b95c-4c46-b5f1-9c6338f30460",
   "metadata": {
    "execution": {
     "iopub.execute_input": "2022-01-31T21:05:08.492551Z",
     "iopub.status.busy": "2022-01-31T21:05:08.492551Z",
     "iopub.status.idle": "2022-01-31T21:05:08.949547Z",
     "shell.execute_reply": "2022-01-31T21:05:08.949547Z",
     "shell.execute_reply.started": "2022-01-31T21:05:08.492551Z"
    },
    "tags": []
   },
   "outputs": [
    {
     "data": {
      "image/png": "[encoded data removed]",
      "text/plain": [
       "<Figure size 432x288 with 1 Axes>"
      ]
     },
     "metadata": {},
     "output_type": "display_data"
    }
   ],
   "source": [
    "import seaborn as sns\n",
    "import matplotlib.pyplot as plt\n",
    "\n",
    "plt.style.use('ggplot')\n",
    "\n",
    "ax = sns.regplot(x='x', y='y', data=df, marker='+')\n",
    "_ = ax.set_title('Regression Plot')"
   ]
  },
  {
   "cell_type": "markdown",
   "id": "b060a124-e2fe-43e1-b0a9-b585a015d038",
   "metadata": {},
   "source": [
    "Calculate the residuals."
   ]
  },
  {
   "cell_type": "code",
   "execution_count": 3,
   "id": "f5bfa2b1-fc3a-44b1-9ec0-04c756a0a6af",
   "metadata": {
    "execution": {
     "iopub.execute_input": "2022-01-31T21:05:08.951549Z",
     "iopub.status.busy": "2022-01-31T21:05:08.950549Z",
     "iopub.status.idle": "2022-01-31T21:05:08.965547Z",
     "shell.execute_reply": "2022-01-31T21:05:08.965547Z",
     "shell.execute_reply.started": "2022-01-31T21:05:08.951549Z"
    },
    "tags": []
   },
   "outputs": [
    {
     "data": {
      "text/html": [
       "<div>\n",
       "<style scoped>\n",
       "    .dataframe tbody tr th:only-of-type {\n",
       "        vertical-align: middle;\n",
       "    }\n",
       "\n",
       "    .dataframe tbody tr th {\n",
       "        vertical-align: top;\n",
       "    }\n",
       "\n",
       "    .dataframe thead th {\n",
       "        text-align: right;\n",
       "    }\n",
       "</style>\n",
       "<table border=\"1\" class=\"dataframe\">\n",
       "  <thead>\n",
       "    <tr style=\"text-align: right;\">\n",
       "      <th></th>\n",
       "      <th>y</th>\n",
       "      <th>x</th>\n",
       "      <th>y_pred</th>\n",
       "      <th>residual</th>\n",
       "      <th>squared_residual</th>\n",
       "    </tr>\n",
       "  </thead>\n",
       "  <tbody>\n",
       "    <tr>\n",
       "      <th>0</th>\n",
       "      <td>10</td>\n",
       "      <td>1</td>\n",
       "      <td>10.0</td>\n",
       "      <td>0.0</td>\n",
       "      <td>0.00</td>\n",
       "    </tr>\n",
       "    <tr>\n",
       "      <th>1</th>\n",
       "      <td>12</td>\n",
       "      <td>2</td>\n",
       "      <td>10.8</td>\n",
       "      <td>1.2</td>\n",
       "      <td>1.44</td>\n",
       "    </tr>\n",
       "    <tr>\n",
       "      <th>2</th>\n",
       "      <td>10</td>\n",
       "      <td>3</td>\n",
       "      <td>11.6</td>\n",
       "      <td>-1.6</td>\n",
       "      <td>2.56</td>\n",
       "    </tr>\n",
       "    <tr>\n",
       "      <th>3</th>\n",
       "      <td>12</td>\n",
       "      <td>4</td>\n",
       "      <td>12.4</td>\n",
       "      <td>-0.4</td>\n",
       "      <td>0.16</td>\n",
       "    </tr>\n",
       "    <tr>\n",
       "      <th>4</th>\n",
       "      <td>14</td>\n",
       "      <td>5</td>\n",
       "      <td>13.2</td>\n",
       "      <td>0.8</td>\n",
       "      <td>0.64</td>\n",
       "    </tr>\n",
       "  </tbody>\n",
       "</table>\n",
       "</div>"
      ],
      "text/plain": [
       "    y  x  y_pred  residual  squared_residual\n",
       "0  10  1    10.0       0.0              0.00\n",
       "1  12  2    10.8       1.2              1.44\n",
       "2  10  3    11.6      -1.6              2.56\n",
       "3  12  4    12.4      -0.4              0.16\n",
       "4  14  5    13.2       0.8              0.64"
      ]
     },
     "execution_count": 3,
     "metadata": {},
     "output_type": "execute_result"
    }
   ],
   "source": [
    "import numpy as np\n",
    "\n",
    "df['y_pred'] = model.predict(X)\n",
    "df['residual'] = df['y'] - df['y_pred']\n",
    "df['squared_residual'] = np.power(df['residual'], 2.0)\n",
    "df"
   ]
  },
  {
   "cell_type": "markdown",
   "id": "dcecd692-be3d-49f9-94ce-d7c5c6f3ec8d",
   "metadata": {},
   "source": [
    "Calculate the sum of squared residuals."
   ]
  },
  {
   "cell_type": "code",
   "execution_count": 4,
   "id": "1b674820-7dea-46f1-a9b8-dd16820a9d46",
   "metadata": {
    "execution": {
     "iopub.execute_input": "2022-01-31T21:05:08.966547Z",
     "iopub.status.busy": "2022-01-31T21:05:08.966547Z",
     "iopub.status.idle": "2022-01-31T21:05:08.981562Z",
     "shell.execute_reply": "2022-01-31T21:05:08.981562Z",
     "shell.execute_reply.started": "2022-01-31T21:05:08.966547Z"
    },
    "tags": []
   },
   "outputs": [
    {
     "data": {
      "text/plain": [
       "4.8000000000000025"
      ]
     },
     "execution_count": 4,
     "metadata": {},
     "output_type": "execute_result"
    }
   ],
   "source": [
    "r1 = df['squared_residual'].sum()\n",
    "r1"
   ]
  },
  {
   "cell_type": "markdown",
   "id": "3068d984-422a-433d-a79f-224830d674b2",
   "metadata": {},
   "source": [
    "### Increase the intercept by 20%\n",
    "\n",
    "Recalculate the sum of squared residuals and re-plot the line when the intercept is increased by 20%."
   ]
  },
  {
   "cell_type": "code",
   "execution_count": 5,
   "id": "bee7ebbb-6f02-41b9-a76b-b53ede467e0f",
   "metadata": {
    "execution": {
     "iopub.execute_input": "2022-01-31T21:05:08.982562Z",
     "iopub.status.busy": "2022-01-31T21:05:08.982562Z",
     "iopub.status.idle": "2022-01-31T21:05:08.996562Z",
     "shell.execute_reply": "2022-01-31T21:05:08.996562Z",
     "shell.execute_reply.started": "2022-01-31T21:05:08.982562Z"
    },
    "tags": []
   },
   "outputs": [
    {
     "data": {
      "text/html": [
       "<div>\n",
       "<style scoped>\n",
       "    .dataframe tbody tr th:only-of-type {\n",
       "        vertical-align: middle;\n",
       "    }\n",
       "\n",
       "    .dataframe tbody tr th {\n",
       "        vertical-align: top;\n",
       "    }\n",
       "\n",
       "    .dataframe thead th {\n",
       "        text-align: right;\n",
       "    }\n",
       "</style>\n",
       "<table border=\"1\" class=\"dataframe\">\n",
       "  <thead>\n",
       "    <tr style=\"text-align: right;\">\n",
       "      <th></th>\n",
       "      <th>y</th>\n",
       "      <th>x</th>\n",
       "      <th>y_pred</th>\n",
       "      <th>residual</th>\n",
       "      <th>squared_residual</th>\n",
       "    </tr>\n",
       "  </thead>\n",
       "  <tbody>\n",
       "    <tr>\n",
       "      <th>0</th>\n",
       "      <td>10</td>\n",
       "      <td>1</td>\n",
       "      <td>11.84</td>\n",
       "      <td>-1.84</td>\n",
       "      <td>3.3856</td>\n",
       "    </tr>\n",
       "    <tr>\n",
       "      <th>1</th>\n",
       "      <td>12</td>\n",
       "      <td>2</td>\n",
       "      <td>12.64</td>\n",
       "      <td>-0.64</td>\n",
       "      <td>0.4096</td>\n",
       "    </tr>\n",
       "    <tr>\n",
       "      <th>2</th>\n",
       "      <td>10</td>\n",
       "      <td>3</td>\n",
       "      <td>13.44</td>\n",
       "      <td>-3.44</td>\n",
       "      <td>11.8336</td>\n",
       "    </tr>\n",
       "    <tr>\n",
       "      <th>3</th>\n",
       "      <td>12</td>\n",
       "      <td>4</td>\n",
       "      <td>14.24</td>\n",
       "      <td>-2.24</td>\n",
       "      <td>5.0176</td>\n",
       "    </tr>\n",
       "    <tr>\n",
       "      <th>4</th>\n",
       "      <td>14</td>\n",
       "      <td>5</td>\n",
       "      <td>15.04</td>\n",
       "      <td>-1.04</td>\n",
       "      <td>1.0816</td>\n",
       "    </tr>\n",
       "  </tbody>\n",
       "</table>\n",
       "</div>"
      ],
      "text/plain": [
       "    y  x  y_pred  residual  squared_residual\n",
       "0  10  1   11.84     -1.84            3.3856\n",
       "1  12  2   12.64     -0.64            0.4096\n",
       "2  10  3   13.44     -3.44           11.8336\n",
       "3  12  4   14.24     -2.24            5.0176\n",
       "4  14  5   15.04     -1.04            1.0816"
      ]
     },
     "execution_count": 5,
     "metadata": {},
     "output_type": "execute_result"
    }
   ],
   "source": [
    "b = model.intercept_ + model.intercept_ * 0.2\n",
    "\n",
    "df['y_pred'] = b + model.coef_[0] * df['x']\n",
    "df['residual'] = df['y'] - df['y_pred']\n",
    "df['squared_residual'] = np.power(df['residual'], 2.0)\n",
    "df"
   ]
  },
  {
   "cell_type": "code",
   "execution_count": 6,
   "id": "f3ca39cb-bfd0-4aed-9354-e9d966be7aa3",
   "metadata": {
    "execution": {
     "iopub.execute_input": "2022-01-31T21:05:08.997563Z",
     "iopub.status.busy": "2022-01-31T21:05:08.997563Z",
     "iopub.status.idle": "2022-01-31T21:05:09.107588Z",
     "shell.execute_reply": "2022-01-31T21:05:09.107588Z",
     "shell.execute_reply.started": "2022-01-31T21:05:08.997563Z"
    },
    "tags": []
   },
   "outputs": [
    {
     "data": {
      "image/png": "[encoded data removed]",
      "text/plain": [
       "<Figure size 432x288 with 1 Axes>"
      ]
     },
     "metadata": {},
     "output_type": "display_data"
    }
   ],
   "source": [
    "ax = df.plot(kind='scatter', x='x', y='y', marker='+')\n",
    "\n",
    "x1, y1 = df.iloc[0]['x'], df.iloc[0]['y_pred']\n",
    "x2, y2 = df.iloc[-1]['x'], df.iloc[-1]['y_pred']\n",
    "\n",
    "_ = ax.axline((x1, y1), (x2, y2))\n",
    "_ = ax.set_title('Regression Plot b* = b + 0.15 b')"
   ]
  },
  {
   "cell_type": "code",
   "execution_count": 7,
   "id": "2675e7d3-9097-40ec-a5fd-1287a4cb155c",
   "metadata": {
    "execution": {
     "iopub.execute_input": "2022-01-31T21:05:09.109590Z",
     "iopub.status.busy": "2022-01-31T21:05:09.109590Z",
     "iopub.status.idle": "2022-01-31T21:05:09.123589Z",
     "shell.execute_reply": "2022-01-31T21:05:09.123589Z",
     "shell.execute_reply.started": "2022-01-31T21:05:09.109590Z"
    }
   },
   "outputs": [
    {
     "data": {
      "text/plain": [
       "21.727999999999984"
      ]
     },
     "execution_count": 7,
     "metadata": {},
     "output_type": "execute_result"
    }
   ],
   "source": [
    "r2 = df['squared_residual'].sum()\n",
    "r2"
   ]
  },
  {
   "cell_type": "markdown",
   "id": "8f6fc16e-6369-47a6-a5d7-3f6c3ea25028",
   "metadata": {},
   "source": [
    "### Decrease intercept by 20%\n",
    "\n",
    "Recalculate the sum of squared residuals and re-plot the line when the intercept is decreased by 20%."
   ]
  },
  {
   "cell_type": "code",
   "execution_count": 8,
   "id": "ed3de2d0-008f-4fd3-842f-1d5515ac9e1b",
   "metadata": {
    "execution": {
     "iopub.execute_input": "2022-01-31T21:05:09.124591Z",
     "iopub.status.busy": "2022-01-31T21:05:09.124591Z",
     "iopub.status.idle": "2022-01-31T21:05:09.139589Z",
     "shell.execute_reply": "2022-01-31T21:05:09.139589Z",
     "shell.execute_reply.started": "2022-01-31T21:05:09.124591Z"
    },
    "tags": []
   },
   "outputs": [
    {
     "data": {
      "text/html": [
       "<div>\n",
       "<style scoped>\n",
       "    .dataframe tbody tr th:only-of-type {\n",
       "        vertical-align: middle;\n",
       "    }\n",
       "\n",
       "    .dataframe tbody tr th {\n",
       "        vertical-align: top;\n",
       "    }\n",
       "\n",
       "    .dataframe thead th {\n",
       "        text-align: right;\n",
       "    }\n",
       "</style>\n",
       "<table border=\"1\" class=\"dataframe\">\n",
       "  <thead>\n",
       "    <tr style=\"text-align: right;\">\n",
       "      <th></th>\n",
       "      <th>y</th>\n",
       "      <th>x</th>\n",
       "      <th>y_pred</th>\n",
       "      <th>residual</th>\n",
       "      <th>squared_residual</th>\n",
       "    </tr>\n",
       "  </thead>\n",
       "  <tbody>\n",
       "    <tr>\n",
       "      <th>0</th>\n",
       "      <td>10</td>\n",
       "      <td>1</td>\n",
       "      <td>8.16</td>\n",
       "      <td>1.84</td>\n",
       "      <td>3.3856</td>\n",
       "    </tr>\n",
       "    <tr>\n",
       "      <th>1</th>\n",
       "      <td>12</td>\n",
       "      <td>2</td>\n",
       "      <td>8.96</td>\n",
       "      <td>3.04</td>\n",
       "      <td>9.2416</td>\n",
       "    </tr>\n",
       "    <tr>\n",
       "      <th>2</th>\n",
       "      <td>10</td>\n",
       "      <td>3</td>\n",
       "      <td>9.76</td>\n",
       "      <td>0.24</td>\n",
       "      <td>0.0576</td>\n",
       "    </tr>\n",
       "    <tr>\n",
       "      <th>3</th>\n",
       "      <td>12</td>\n",
       "      <td>4</td>\n",
       "      <td>10.56</td>\n",
       "      <td>1.44</td>\n",
       "      <td>2.0736</td>\n",
       "    </tr>\n",
       "    <tr>\n",
       "      <th>4</th>\n",
       "      <td>14</td>\n",
       "      <td>5</td>\n",
       "      <td>11.36</td>\n",
       "      <td>2.64</td>\n",
       "      <td>6.9696</td>\n",
       "    </tr>\n",
       "  </tbody>\n",
       "</table>\n",
       "</div>"
      ],
      "text/plain": [
       "    y  x  y_pred  residual  squared_residual\n",
       "0  10  1    8.16      1.84            3.3856\n",
       "1  12  2    8.96      3.04            9.2416\n",
       "2  10  3    9.76      0.24            0.0576\n",
       "3  12  4   10.56      1.44            2.0736\n",
       "4  14  5   11.36      2.64            6.9696"
      ]
     },
     "execution_count": 8,
     "metadata": {},
     "output_type": "execute_result"
    }
   ],
   "source": [
    "b = model.intercept_ - model.intercept_ * 0.2\n",
    "\n",
    "df['y_pred'] = b + model.coef_[0] * df['x']\n",
    "df['residual'] = df['y'] - df['y_pred']\n",
    "df['squared_residual'] = np.power(df['residual'], 2.0)\n",
    "df"
   ]
  },
  {
   "cell_type": "code",
   "execution_count": 9,
   "id": "58234af4-2138-4c39-aa5f-a017d420bae8",
   "metadata": {
    "execution": {
     "iopub.execute_input": "2022-01-31T21:05:09.140589Z",
     "iopub.status.busy": "2022-01-31T21:05:09.140589Z",
     "iopub.status.idle": "2022-01-31T21:05:09.235595Z",
     "shell.execute_reply": "2022-01-31T21:05:09.235595Z",
     "shell.execute_reply.started": "2022-01-31T21:05:09.140589Z"
    },
    "tags": []
   },
   "outputs": [
    {
     "data": {
      "image/png": "[encoded data removed]",
      "text/plain": [
       "<Figure size 432x288 with 1 Axes>"
      ]
     },
     "metadata": {},
     "output_type": "display_data"
    }
   ],
   "source": [
    "ax = df.plot(kind='scatter', x='x', y='y', marker='+')\n",
    "\n",
    "x1, y1 = df.iloc[0]['x'], df.iloc[0]['y_pred']\n",
    "x2, y2 = df.iloc[-1]['x'], df.iloc[-1]['y_pred']\n",
    "\n",
    "_ = ax.axline((x1, y1), (x2, y2))\n",
    "_ = ax.set_title('Regression Plot, b* = b - 0.15 * b')"
   ]
  },
  {
   "cell_type": "code",
   "execution_count": 10,
   "id": "94134393-a087-4e6c-8e6e-22fece876f07",
   "metadata": {
    "execution": {
     "iopub.execute_input": "2022-01-31T21:05:09.236598Z",
     "iopub.status.busy": "2022-01-31T21:05:09.236598Z",
     "iopub.status.idle": "2022-01-31T21:05:09.251595Z",
     "shell.execute_reply": "2022-01-31T21:05:09.251595Z",
     "shell.execute_reply.started": "2022-01-31T21:05:09.236598Z"
    },
    "tags": []
   },
   "outputs": [
    {
     "data": {
      "text/plain": [
       "21.728000000000016"
      ]
     },
     "execution_count": 10,
     "metadata": {},
     "output_type": "execute_result"
    }
   ],
   "source": [
    "r3 = df['squared_residual'].sum()\n",
    "r3"
   ]
  },
  {
   "cell_type": "markdown",
   "id": "91029f49-1b20-41b7-aecb-21d76287003b",
   "metadata": {},
   "source": [
    "## Question 2"
   ]
  },
  {
   "cell_type": "markdown",
   "id": "a739972e-028c-4abe-85e9-b60c63ddf54a",
   "metadata": {},
   "source": [
    "### Load data"
   ]
  },
  {
   "cell_type": "code",
   "execution_count": 11,
   "id": "271f936c-1bab-4db0-b2b3-1a4fe7827fcc",
   "metadata": {
    "execution": {
     "iopub.execute_input": "2022-01-31T21:05:09.252596Z",
     "iopub.status.busy": "2022-01-31T21:05:09.252596Z",
     "iopub.status.idle": "2022-01-31T21:05:10.769584Z",
     "shell.execute_reply": "2022-01-31T21:05:10.769584Z",
     "shell.execute_reply.started": "2022-01-31T21:05:09.252596Z"
    },
    "tags": []
   },
   "outputs": [],
   "source": [
    "df = pd.read_csv('MFH cost Jan 2018.csv', low_memory=False)"
   ]
  },
  {
   "cell_type": "code",
   "execution_count": 12,
   "id": "aa2ac70e-d521-409e-a8b4-40010370c684",
   "metadata": {
    "execution": {
     "iopub.execute_input": "2022-01-31T21:05:10.770587Z",
     "iopub.status.busy": "2022-01-31T21:05:10.770587Z",
     "iopub.status.idle": "2022-01-31T21:05:10.785585Z",
     "shell.execute_reply": "2022-01-31T21:05:10.785585Z",
     "shell.execute_reply.started": "2022-01-31T21:05:10.770587Z"
    }
   },
   "outputs": [
    {
     "data": {
      "text/plain": [
       "(39139, 540)"
      ]
     },
     "execution_count": 12,
     "metadata": {},
     "output_type": "execute_result"
    }
   ],
   "source": [
    "df.shape"
   ]
  },
  {
   "cell_type": "code",
   "execution_count": 13,
   "id": "2766cfda-1fa6-421c-a7f5-47463b0048f8",
   "metadata": {
    "execution": {
     "iopub.execute_input": "2022-01-31T21:05:10.786587Z",
     "iopub.status.busy": "2022-01-31T21:05:10.786587Z",
     "iopub.status.idle": "2022-01-31T21:05:10.801584Z",
     "shell.execute_reply": "2022-01-31T21:05:10.801584Z",
     "shell.execute_reply.started": "2022-01-31T21:05:10.786587Z"
    },
    "tags": []
   },
   "outputs": [],
   "source": [
    "# ', '.join(sorted(df.columns))"
   ]
  },
  {
   "cell_type": "raw",
   "id": "eb2df20b-4df8-4f20-90f5-ff60ee9d94b5",
   "metadata": {
    "execution": {
     "iopub.execute_input": "2022-01-27T21:12:40.957140Z",
     "iopub.status.busy": "2022-01-27T21:12:40.957140Z",
     "iopub.status.idle": "2022-01-27T21:12:41.508511Z",
     "shell.execute_reply": "2022-01-27T21:12:41.508511Z",
     "shell.execute_reply.started": "2022-01-27T21:12:40.957140Z"
    }
   },
   "source": [
    "df.drop_duplicates().shape"
   ]
  },
  {
   "cell_type": "code",
   "execution_count": 14,
   "id": "e6533f3f-a4e4-42dd-8958-5033db5cc408",
   "metadata": {
    "execution": {
     "iopub.execute_input": "2022-01-31T21:05:10.802586Z",
     "iopub.status.busy": "2022-01-31T21:05:10.802586Z",
     "iopub.status.idle": "2022-01-31T21:05:10.817602Z",
     "shell.execute_reply": "2022-01-31T21:05:10.817602Z",
     "shell.execute_reply.started": "2022-01-31T21:05:10.802586Z"
    }
   },
   "outputs": [
    {
     "data": {
      "text/plain": [
       "age             0.320243\n",
       "dayssurvived    0.603388\n",
       "dtype: float64"
      ]
     },
     "execution_count": 14,
     "metadata": {},
     "output_type": "execute_result"
    }
   ],
   "source": [
    "df[['age', 'dayssurvived']].isna().sum() / df.shape[0]"
   ]
  },
  {
   "cell_type": "markdown",
   "id": "80573064-209e-49f5-b25e-4bd39a311b8f",
   "metadata": {},
   "source": [
    "### Step 2"
   ]
  },
  {
   "cell_type": "code",
   "execution_count": 15,
   "id": "95ad63b5-b65d-4bc1-974e-e156d0f80b14",
   "metadata": {
    "execution": {
     "iopub.execute_input": "2022-01-31T21:05:10.818604Z",
     "iopub.status.busy": "2022-01-31T21:05:10.818604Z",
     "iopub.status.idle": "2022-01-31T21:05:10.849522Z",
     "shell.execute_reply": "2022-01-31T21:05:10.849522Z",
     "shell.execute_reply.started": "2022-01-31T21:05:10.818604Z"
    },
    "tags": []
   },
   "outputs": [
    {
     "data": {
      "text/html": [
       "<div>\n",
       "<style scoped>\n",
       "    .dataframe tbody tr th:only-of-type {\n",
       "        vertical-align: middle;\n",
       "    }\n",
       "\n",
       "    .dataframe tbody tr th {\n",
       "        vertical-align: top;\n",
       "    }\n",
       "\n",
       "    .dataframe thead th {\n",
       "        text-align: right;\n",
       "    }\n",
       "</style>\n",
       "<table border=\"1\" class=\"dataframe\">\n",
       "  <thead>\n",
       "    <tr style=\"text-align: right;\">\n",
       "      <th></th>\n",
       "      <th>age</th>\n",
       "      <th>dayssurvived</th>\n",
       "      <th>Daily All Cost</th>\n",
       "    </tr>\n",
       "  </thead>\n",
       "  <tbody>\n",
       "    <tr>\n",
       "      <th>count</th>\n",
       "      <td>26605.000000</td>\n",
       "      <td>15523.000000</td>\n",
       "      <td>39139.000000</td>\n",
       "    </tr>\n",
       "    <tr>\n",
       "      <th>mean</th>\n",
       "      <td>72.159895</td>\n",
       "      <td>1398.196289</td>\n",
       "      <td>250.493208</td>\n",
       "    </tr>\n",
       "    <tr>\n",
       "      <th>std</th>\n",
       "      <td>12.403902</td>\n",
       "      <td>969.020255</td>\n",
       "      <td>325.002145</td>\n",
       "    </tr>\n",
       "    <tr>\n",
       "      <th>min</th>\n",
       "      <td>22.000000</td>\n",
       "      <td>14.000000</td>\n",
       "      <td>0.000000</td>\n",
       "    </tr>\n",
       "    <tr>\n",
       "      <th>25%</th>\n",
       "      <td>63.000000</td>\n",
       "      <td>687.000000</td>\n",
       "      <td>85.837450</td>\n",
       "    </tr>\n",
       "    <tr>\n",
       "      <th>50%</th>\n",
       "      <td>73.000000</td>\n",
       "      <td>1107.000000</td>\n",
       "      <td>180.140400</td>\n",
       "    </tr>\n",
       "    <tr>\n",
       "      <th>75%</th>\n",
       "      <td>83.000000</td>\n",
       "      <td>1830.500000</td>\n",
       "      <td>299.267589</td>\n",
       "    </tr>\n",
       "    <tr>\n",
       "      <th>max</th>\n",
       "      <td>105.000000</td>\n",
       "      <td>6210.000000</td>\n",
       "      <td>12210.619010</td>\n",
       "    </tr>\n",
       "  </tbody>\n",
       "</table>\n",
       "</div>"
      ],
      "text/plain": [
       "                age  dayssurvived  Daily All Cost\n",
       "count  26605.000000  15523.000000    39139.000000\n",
       "mean      72.159895   1398.196289      250.493208\n",
       "std       12.403902    969.020255      325.002145\n",
       "min       22.000000     14.000000        0.000000\n",
       "25%       63.000000    687.000000       85.837450\n",
       "50%       73.000000   1107.000000      180.140400\n",
       "75%       83.000000   1830.500000      299.267589\n",
       "max      105.000000   6210.000000    12210.619010"
      ]
     },
     "execution_count": 15,
     "metadata": {},
     "output_type": "execute_result"
    }
   ],
   "source": [
    "df[['age', 'gender', 'dayssurvived', 'Daily All Cost']].describe()"
   ]
  },
  {
   "cell_type": "code",
   "execution_count": 16,
   "id": "70bed315-01f5-491f-bcc0-093b6637e551",
   "metadata": {
    "execution": {
     "iopub.execute_input": "2022-01-31T21:05:10.850523Z",
     "iopub.status.busy": "2022-01-31T21:05:10.850523Z",
     "iopub.status.idle": "2022-01-31T21:05:10.865552Z",
     "shell.execute_reply": "2022-01-31T21:05:10.865552Z",
     "shell.execute_reply.started": "2022-01-31T21:05:10.850523Z"
    }
   },
   "outputs": [
    {
     "data": {
      "text/plain": [
       "age               0.320243\n",
       "gender            0.320167\n",
       "dayssurvived      0.603388\n",
       "Daily All Cost    0.000000\n",
       "dtype: float64"
      ]
     },
     "execution_count": 16,
     "metadata": {},
     "output_type": "execute_result"
    }
   ],
   "source": [
    "df[['age', 'gender', 'dayssurvived', 'Daily All Cost']].isna().sum() / df.shape[0]"
   ]
  },
  {
   "cell_type": "markdown",
   "id": "2af97cf5-12db-4710-a5c8-599bae8801cd",
   "metadata": {},
   "source": [
    "### Step 3"
   ]
  },
  {
   "cell_type": "code",
   "execution_count": 17,
   "id": "21bd3823-0665-4290-b1d4-21dee0ab0f81",
   "metadata": {
    "execution": {
     "iopub.execute_input": "2022-01-31T21:05:10.866563Z",
     "iopub.status.busy": "2022-01-31T21:05:10.866563Z",
     "iopub.status.idle": "2022-01-31T21:05:12.634162Z",
     "shell.execute_reply": "2022-01-31T21:05:12.634162Z",
     "shell.execute_reply.started": "2022-01-31T21:05:10.866563Z"
    }
   },
   "outputs": [
    {
     "data": {
      "text/plain": [
       "<AxesSubplot:ylabel='Density'>"
      ]
     },
     "execution_count": 17,
     "metadata": {},
     "output_type": "execute_result"
    },
    {
     "data": {
      "image/png": "[encoded data removed]",
      "text/plain": [
       "<Figure size 432x288 with 1 Axes>"
      ]
     },
     "metadata": {},
     "output_type": "display_data"
    }
   ],
   "source": [
    "s = df.dropna(subset=['Daily All Cost'])['Daily All Cost']\n",
    "s = s[s > 0]\n",
    "s.plot(kind='kde')"
   ]
  },
  {
   "cell_type": "code",
   "execution_count": 18,
   "id": "f8cb4d5b-757a-4616-b775-64b4c329a781",
   "metadata": {
    "execution": {
     "iopub.execute_input": "2022-01-31T21:05:12.635164Z",
     "iopub.status.busy": "2022-01-31T21:05:12.635164Z",
     "iopub.status.idle": "2022-01-31T21:05:13.838165Z",
     "shell.execute_reply": "2022-01-31T21:05:13.838165Z",
     "shell.execute_reply.started": "2022-01-31T21:05:12.635164Z"
    },
    "tags": []
   },
   "outputs": [
    {
     "data": {
      "text/plain": [
       "<AxesSubplot:ylabel='Density'>"
      ]
     },
     "execution_count": 18,
     "metadata": {},
     "output_type": "execute_result"
    },
    {
     "data": {
      "image/png": "[encoded data removed]",
      "text/plain": [
       "<Figure size 432x288 with 1 Axes>"
      ]
     },
     "metadata": {},
     "output_type": "display_data"
    }
   ],
   "source": [
    "import numpy as np\n",
    "\n",
    "s = df.dropna(subset=['Daily All Cost'])['Daily All Cost']\n",
    "s = s[s > 0]\n",
    "s = np.log(s)\n",
    "s.plot(kind='kde')"
   ]
  },
  {
   "cell_type": "markdown",
   "id": "de5e6d63-c633-4005-ada8-c08ed0e39d14",
   "metadata": {},
   "source": [
    "### Step 4"
   ]
  },
  {
   "cell_type": "code",
   "execution_count": 19,
   "id": "3c74fc67-c3a5-4310-a612-78f88f3f5d22",
   "metadata": {
    "execution": {
     "iopub.execute_input": "2022-01-31T21:05:13.839166Z",
     "iopub.status.busy": "2022-01-31T21:05:13.839166Z",
     "iopub.status.idle": "2022-01-31T21:05:14.154164Z",
     "shell.execute_reply": "2022-01-31T21:05:14.154164Z",
     "shell.execute_reply.started": "2022-01-31T21:05:13.839166Z"
    }
   },
   "outputs": [
    {
     "data": {
      "text/plain": [
       "<AxesSubplot:xlabel='age', ylabel='Daily All Cost'>"
      ]
     },
     "execution_count": 19,
     "metadata": {},
     "output_type": "execute_result"
    },
    {
     "data": {
      "image/png": "[encoded data removed]",
      "text/plain": [
       "<Figure size 432x288 with 1 Axes>"
      ]
     },
     "metadata": {},
     "output_type": "display_data"
    }
   ],
   "source": [
    "df.plot(kind='scatter', x='age', y='Daily All Cost')"
   ]
  },
  {
   "cell_type": "markdown",
   "id": "14f21206-d83e-4068-a317-4ccc16323e32",
   "metadata": {},
   "source": [
    "### Step 5"
   ]
  },
  {
   "cell_type": "code",
   "execution_count": 20,
   "id": "20826a99-4121-4ecb-bfc5-7f9d186f3ff8",
   "metadata": {
    "execution": {
     "iopub.execute_input": "2022-01-31T21:05:14.155166Z",
     "iopub.status.busy": "2022-01-31T21:05:14.155166Z",
     "iopub.status.idle": "2022-01-31T21:05:14.170164Z",
     "shell.execute_reply": "2022-01-31T21:05:14.170164Z",
     "shell.execute_reply.started": "2022-01-31T21:05:14.155166Z"
    }
   },
   "outputs": [
    {
     "data": {
      "text/plain": [
       "M    25583\n",
       "F     1025\n",
       "Name: gender, dtype: int64"
      ]
     },
     "execution_count": 20,
     "metadata": {},
     "output_type": "execute_result"
    }
   ],
   "source": [
    "df['gender'].value_counts()"
   ]
  },
  {
   "cell_type": "code",
   "execution_count": 21,
   "id": "2e1e4e77-d267-47f9-925d-a1ed04c56f0c",
   "metadata": {
    "execution": {
     "iopub.execute_input": "2022-01-31T21:05:14.171165Z",
     "iopub.status.busy": "2022-01-31T21:05:14.171165Z",
     "iopub.status.idle": "2022-01-31T21:05:14.264165Z",
     "shell.execute_reply": "2022-01-31T21:05:14.264165Z",
     "shell.execute_reply.started": "2022-01-31T21:05:14.171165Z"
    },
    "tags": []
   },
   "outputs": [
    {
     "data": {
      "text/plain": [
       "((26605, 2), (26605,))"
      ]
     },
     "execution_count": 21,
     "metadata": {},
     "output_type": "execute_result"
    }
   ],
   "source": [
    "X = df.dropna(subset=['age', 'gender', 'Daily All Cost'])\n",
    "X = X[X['Daily All Cost'] > 0]\n",
    "X['gender'] = X['gender'].apply(lambda v: 1 if v == 'M' else 0)\n",
    "X, y = X[['age', 'gender']], X['Daily All Cost']\n",
    "\n",
    "X.shape, y.shape"
   ]
  },
  {
   "cell_type": "code",
   "execution_count": 22,
   "id": "b09d2526-368c-4fd1-8da7-9b3a740b3150",
   "metadata": {
    "execution": {
     "iopub.execute_input": "2022-01-31T21:05:14.265165Z",
     "iopub.status.busy": "2022-01-31T21:05:14.265165Z",
     "iopub.status.idle": "2022-01-31T21:05:14.280163Z",
     "shell.execute_reply": "2022-01-31T21:05:14.280163Z",
     "shell.execute_reply.started": "2022-01-31T21:05:14.265165Z"
    },
    "tags": []
   },
   "outputs": [
    {
     "data": {
      "text/plain": [
       "(264.3420036647272, array([0.12883604, 0.63987923]))"
      ]
     },
     "execution_count": 22,
     "metadata": {},
     "output_type": "execute_result"
    }
   ],
   "source": [
    "model = LinearRegression()\n",
    "model.fit(X, y)\n",
    "\n",
    "model.intercept_, model.coef_"
   ]
  },
  {
   "cell_type": "code",
   "execution_count": 23,
   "id": "748b4fb2-206a-47e2-8137-aacb4e581af4",
   "metadata": {
    "execution": {
     "iopub.execute_input": "2022-01-31T21:05:14.281166Z",
     "iopub.status.busy": "2022-01-31T21:05:14.281166Z",
     "iopub.status.idle": "2022-01-31T21:05:14.296164Z",
     "shell.execute_reply": "2022-01-31T21:05:14.296164Z",
     "shell.execute_reply.started": "2022-01-31T21:05:14.281166Z"
    },
    "tags": []
   },
   "outputs": [
    {
     "data": {
      "text/plain": [
       "(2.242432612920009e-05, 0.004735433045583063)"
      ]
     },
     "execution_count": 23,
     "metadata": {},
     "output_type": "execute_result"
    }
   ],
   "source": [
    "from sklearn.metrics import r2_score, explained_variance_score\n",
    "\n",
    "r2_score(y, model.predict(X)), np.sqrt(r2_score(y, model.predict(X)))"
   ]
  },
  {
   "cell_type": "code",
   "execution_count": null,
   "id": "f23915fb-b3ac-4133-a02b-fe99ecf95c24",
   "metadata": {},
   "outputs": [],
   "source": []
  }
 ],
 "metadata": {
  "kernelspec": {
   "display_name": "Python 3",
   "language": "python",
   "name": "python3"
  },
  "language_info": {
   "codemirror_mode": {
    "name": "ipython",
    "version": 3
   },
   "file_extension": ".py",
   "mimetype": "text/x-python",
   "name": "python",
   "nbconvert_exporter": "python",
   "pygments_lexer": "ipython3",
   "version": "3.8.5"
  },
  "widgets": {
   "application/vnd.jupyter.widget-state+json": {
    "state": {},
    "version_major": 2,
    "version_minor": 0
   }
  }
 },
 "nbformat": 4,
 "nbformat_minor": 5
}
