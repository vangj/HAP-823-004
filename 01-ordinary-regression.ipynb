{
 "cells": [
  {
   "cell_type": "markdown",
   "id": "9f3ee304-61fc-4bfe-9743-2c3646ce46c2",
   "metadata": {},
   "source": [
    "# Ordinary Regression\n",
    "\n",
    "From [http://openonlinecourses.com/causalanalysis/Ordinary%20Regression.asp](http://openonlinecourses.com/causalanalysis/Ordinary%20Regression.asp)."
   ]
  },
  {
   "cell_type": "markdown",
   "id": "6f2b38a8-c0ad-49b0-b582-e8381e19464c",
   "metadata": {},
   "source": [
    "## Question 1"
   ]
  },
  {
   "cell_type": "code",
   "execution_count": 1,
   "id": "e568e94b-cfb8-453c-b03f-cef4fdc30ca2",
   "metadata": {
    "execution": {
     "iopub.execute_input": "2022-01-31T21:55:51.535776Z",
     "iopub.status.busy": "2022-01-31T21:55:51.535776Z",
     "iopub.status.idle": "2022-01-31T21:55:52.283773Z",
     "shell.execute_reply": "2022-01-31T21:55:52.283773Z",
     "shell.execute_reply.started": "2022-01-31T21:55:51.535776Z"
    },
    "tags": []
   },
   "outputs": [
    {
     "data": {
      "text/plain": [
       "(9.2, array([0.8]))"
      ]
     },
     "execution_count": 1,
     "metadata": {},
     "output_type": "execute_result"
    }
   ],
   "source": [
    "import pandas as pd\n",
    "from sklearn.linear_model import LinearRegression\n",
    "\n",
    "df = pd.DataFrame({\n",
    "    'y': [10, 12, 10, 12, 14],\n",
    "    'x': [1, 2, 3, 4, 5]\n",
    "})\n",
    "\n",
    "X = df[['x']]\n",
    "y = df['y']\n",
    "\n",
    "model = LinearRegression()\n",
    "model.fit(X, y)\n",
    "\n",
    "model.intercept_, model.coef_"
   ]
  },
  {
   "cell_type": "markdown",
   "id": "985a2b58-f73e-4463-82a8-9cf10eae65b6",
   "metadata": {},
   "source": [
    "Plot the points and line."
   ]
  },
  {
   "cell_type": "code",
   "execution_count": 2,
   "id": "c7cfd18f-b95c-4c46-b5f1-9c6338f30460",
   "metadata": {
    "execution": {
     "iopub.execute_input": "2022-01-31T21:55:52.284773Z",
     "iopub.status.busy": "2022-01-31T21:55:52.284773Z",
     "iopub.status.idle": "2022-01-31T21:55:52.741772Z",
     "shell.execute_reply": "2022-01-31T21:55:52.741772Z",
     "shell.execute_reply.started": "2022-01-31T21:55:52.284773Z"
    },
    "tags": []
   },
   "outputs": [
    {
     "data": {
      "image/png": "[encoded data removed]",
      "text/plain": [
       "<Figure size 432x288 with 1 Axes>"
      ]
     },
     "metadata": {},
     "output_type": "display_data"
    }
   ],
   "source": [
    "import seaborn as sns\n",
    "import matplotlib.pyplot as plt\n",
    "\n",
    "plt.style.use('ggplot')\n",
    "\n",
    "ax = sns.regplot(x='x', y='y', data=df, marker='+')\n",
    "_ = ax.set_title('Regression Plot')"
   ]
  },
  {
   "cell_type": "markdown",
   "id": "b060a124-e2fe-43e1-b0a9-b585a015d038",
   "metadata": {},
   "source": [
    "Calculate the residuals."
   ]
  },
  {
   "cell_type": "code",
   "execution_count": 3,
   "id": "f5bfa2b1-fc3a-44b1-9ec0-04c756a0a6af",
   "metadata": {
    "execution": {
     "iopub.execute_input": "2022-01-31T21:55:52.742774Z",
     "iopub.status.busy": "2022-01-31T21:55:52.742774Z",
     "iopub.status.idle": "2022-01-31T21:55:52.757774Z",
     "shell.execute_reply": "2022-01-31T21:55:52.757774Z",
     "shell.execute_reply.started": "2022-01-31T21:55:52.742774Z"
    },
    "tags": []
   },
   "outputs": [
    {
     "data": {
      "text/html": [
       "<div>\n",
       "<style scoped>\n",
       "    .dataframe tbody tr th:only-of-type {\n",
       "        vertical-align: middle;\n",
       "    }\n",
       "\n",
       "    .dataframe tbody tr th {\n",
       "        vertical-align: top;\n",
       "    }\n",
       "\n",
       "    .dataframe thead th {\n",
       "        text-align: right;\n",
       "    }\n",
       "</style>\n",
       "<table border=\"1\" class=\"dataframe\">\n",
       "  <thead>\n",
       "    <tr style=\"text-align: right;\">\n",
       "      <th></th>\n",
       "      <th>y</th>\n",
       "      <th>x</th>\n",
       "      <th>y_pred</th>\n",
       "      <th>residual</th>\n",
       "      <th>squared_residual</th>\n",
       "    </tr>\n",
       "  </thead>\n",
       "  <tbody>\n",
       "    <tr>\n",
       "      <th>0</th>\n",
       "      <td>10</td>\n",
       "      <td>1</td>\n",
       "      <td>10.0</td>\n",
       "      <td>0.0</td>\n",
       "      <td>0.00</td>\n",
       "    </tr>\n",
       "    <tr>\n",
       "      <th>1</th>\n",
       "      <td>12</td>\n",
       "      <td>2</td>\n",
       "      <td>10.8</td>\n",
       "      <td>1.2</td>\n",
       "      <td>1.44</td>\n",
       "    </tr>\n",
       "    <tr>\n",
       "      <th>2</th>\n",
       "      <td>10</td>\n",
       "      <td>3</td>\n",
       "      <td>11.6</td>\n",
       "      <td>-1.6</td>\n",
       "      <td>2.56</td>\n",
       "    </tr>\n",
       "    <tr>\n",
       "      <th>3</th>\n",
       "      <td>12</td>\n",
       "      <td>4</td>\n",
       "      <td>12.4</td>\n",
       "      <td>-0.4</td>\n",
       "      <td>0.16</td>\n",
       "    </tr>\n",
       "    <tr>\n",
       "      <th>4</th>\n",
       "      <td>14</td>\n",
       "      <td>5</td>\n",
       "      <td>13.2</td>\n",
       "      <td>0.8</td>\n",
       "      <td>0.64</td>\n",
       "    </tr>\n",
       "  </tbody>\n",
       "</table>\n",
       "</div>"
      ],
      "text/plain": [
       "    y  x  y_pred  residual  squared_residual\n",
       "0  10  1    10.0       0.0              0.00\n",
       "1  12  2    10.8       1.2              1.44\n",
       "2  10  3    11.6      -1.6              2.56\n",
       "3  12  4    12.4      -0.4              0.16\n",
       "4  14  5    13.2       0.8              0.64"
      ]
     },
     "execution_count": 3,
     "metadata": {},
     "output_type": "execute_result"
    }
   ],
   "source": [
    "import numpy as np\n",
    "\n",
    "df['y_pred'] = model.predict(X)\n",
    "df['residual'] = df['y'] - df['y_pred']\n",
    "df['squared_residual'] = np.power(df['residual'], 2.0)\n",
    "df"
   ]
  },
  {
   "cell_type": "markdown",
   "id": "dcecd692-be3d-49f9-94ce-d7c5c6f3ec8d",
   "metadata": {},
   "source": [
    "Calculate the sum of squared residuals."
   ]
  },
  {
   "cell_type": "code",
   "execution_count": 4,
   "id": "1b674820-7dea-46f1-a9b8-dd16820a9d46",
   "metadata": {
    "execution": {
     "iopub.execute_input": "2022-01-31T21:55:52.758773Z",
     "iopub.status.busy": "2022-01-31T21:55:52.758773Z",
     "iopub.status.idle": "2022-01-31T21:55:52.773771Z",
     "shell.execute_reply": "2022-01-31T21:55:52.773771Z",
     "shell.execute_reply.started": "2022-01-31T21:55:52.758773Z"
    },
    "tags": []
   },
   "outputs": [
    {
     "data": {
      "text/plain": [
       "4.8000000000000025"
      ]
     },
     "execution_count": 4,
     "metadata": {},
     "output_type": "execute_result"
    }
   ],
   "source": [
    "r1 = df['squared_residual'].sum()\n",
    "r1"
   ]
  },
  {
   "cell_type": "markdown",
   "id": "3068d984-422a-433d-a79f-224830d674b2",
   "metadata": {},
   "source": [
    "### Increase the intercept by 20%\n",
    "\n",
    "Recalculate the sum of squared residuals and re-plot the line when the intercept is increased by 20%."
   ]
  },
  {
   "cell_type": "code",
   "execution_count": 5,
   "id": "bee7ebbb-6f02-41b9-a76b-b53ede467e0f",
   "metadata": {
    "execution": {
     "iopub.execute_input": "2022-01-31T21:55:52.775772Z",
     "iopub.status.busy": "2022-01-31T21:55:52.774774Z",
     "iopub.status.idle": "2022-01-31T21:55:52.789771Z",
     "shell.execute_reply": "2022-01-31T21:55:52.789771Z",
     "shell.execute_reply.started": "2022-01-31T21:55:52.775772Z"
    },
    "tags": []
   },
   "outputs": [
    {
     "data": {
      "text/html": [
       "<div>\n",
       "<style scoped>\n",
       "    .dataframe tbody tr th:only-of-type {\n",
       "        vertical-align: middle;\n",
       "    }\n",
       "\n",
       "    .dataframe tbody tr th {\n",
       "        vertical-align: top;\n",
       "    }\n",
       "\n",
       "    .dataframe thead th {\n",
       "        text-align: right;\n",
       "    }\n",
       "</style>\n",
       "<table border=\"1\" class=\"dataframe\">\n",
       "  <thead>\n",
       "    <tr style=\"text-align: right;\">\n",
       "      <th></th>\n",
       "      <th>y</th>\n",
       "      <th>x</th>\n",
       "      <th>y_pred</th>\n",
       "      <th>residual</th>\n",
       "      <th>squared_residual</th>\n",
       "    </tr>\n",
       "  </thead>\n",
       "  <tbody>\n",
       "    <tr>\n",
       "      <th>0</th>\n",
       "      <td>10</td>\n",
       "      <td>1</td>\n",
       "      <td>11.84</td>\n",
       "      <td>-1.84</td>\n",
       "      <td>3.3856</td>\n",
       "    </tr>\n",
       "    <tr>\n",
       "      <th>1</th>\n",
       "      <td>12</td>\n",
       "      <td>2</td>\n",
       "      <td>12.64</td>\n",
       "      <td>-0.64</td>\n",
       "      <td>0.4096</td>\n",
       "    </tr>\n",
       "    <tr>\n",
       "      <th>2</th>\n",
       "      <td>10</td>\n",
       "      <td>3</td>\n",
       "      <td>13.44</td>\n",
       "      <td>-3.44</td>\n",
       "      <td>11.8336</td>\n",
       "    </tr>\n",
       "    <tr>\n",
       "      <th>3</th>\n",
       "      <td>12</td>\n",
       "      <td>4</td>\n",
       "      <td>14.24</td>\n",
       "      <td>-2.24</td>\n",
       "      <td>5.0176</td>\n",
       "    </tr>\n",
       "    <tr>\n",
       "      <th>4</th>\n",
       "      <td>14</td>\n",
       "      <td>5</td>\n",
       "      <td>15.04</td>\n",
       "      <td>-1.04</td>\n",
       "      <td>1.0816</td>\n",
       "    </tr>\n",
       "  </tbody>\n",
       "</table>\n",
       "</div>"
      ],
      "text/plain": [
       "    y  x  y_pred  residual  squared_residual\n",
       "0  10  1   11.84     -1.84            3.3856\n",
       "1  12  2   12.64     -0.64            0.4096\n",
       "2  10  3   13.44     -3.44           11.8336\n",
       "3  12  4   14.24     -2.24            5.0176\n",
       "4  14  5   15.04     -1.04            1.0816"
      ]
     },
     "execution_count": 5,
     "metadata": {},
     "output_type": "execute_result"
    }
   ],
   "source": [
    "b = model.intercept_ + model.intercept_ * 0.2\n",
    "\n",
    "df['y_pred'] = b + model.coef_[0] * df['x']\n",
    "df['residual'] = df['y'] - df['y_pred']\n",
    "df['squared_residual'] = np.power(df['residual'], 2.0)\n",
    "df"
   ]
  },
  {
   "cell_type": "code",
   "execution_count": 6,
   "id": "f3ca39cb-bfd0-4aed-9354-e9d966be7aa3",
   "metadata": {
    "execution": {
     "iopub.execute_input": "2022-01-31T21:55:52.790774Z",
     "iopub.status.busy": "2022-01-31T21:55:52.790774Z",
     "iopub.status.idle": "2022-01-31T21:55:52.901781Z",
     "shell.execute_reply": "2022-01-31T21:55:52.901781Z",
     "shell.execute_reply.started": "2022-01-31T21:55:52.790774Z"
    },
    "tags": []
   },
   "outputs": [
    {
     "data": {
      "image/png": "[encoded data removed]",
      "text/plain": [
       "<Figure size 432x288 with 1 Axes>"
      ]
     },
     "metadata": {},
     "output_type": "display_data"
    }
   ],
   "source": [
    "ax = df.plot(kind='scatter', x='x', y='y', marker='+')\n",
    "\n",
    "x1, y1 = df.iloc[0]['x'], df.iloc[0]['y_pred']\n",
    "x2, y2 = df.iloc[-1]['x'], df.iloc[-1]['y_pred']\n",
    "\n",
    "_ = ax.axline((x1, y1), (x2, y2))\n",
    "_ = ax.set_title('Regression Plot b* = b + 0.15 b')"
   ]
  },
  {
   "cell_type": "code",
   "execution_count": 7,
   "id": "2675e7d3-9097-40ec-a5fd-1287a4cb155c",
   "metadata": {
    "execution": {
     "iopub.execute_input": "2022-01-31T21:55:52.903785Z",
     "iopub.status.busy": "2022-01-31T21:55:52.903785Z",
     "iopub.status.idle": "2022-01-31T21:55:52.917781Z",
     "shell.execute_reply": "2022-01-31T21:55:52.917781Z",
     "shell.execute_reply.started": "2022-01-31T21:55:52.903785Z"
    },
    "tags": []
   },
   "outputs": [
    {
     "data": {
      "text/plain": [
       "21.727999999999984"
      ]
     },
     "execution_count": 7,
     "metadata": {},
     "output_type": "execute_result"
    }
   ],
   "source": [
    "r2 = df['squared_residual'].sum()\n",
    "r2"
   ]
  },
  {
   "cell_type": "markdown",
   "id": "8f6fc16e-6369-47a6-a5d7-3f6c3ea25028",
   "metadata": {},
   "source": [
    "### Decrease the intercept by 20%\n",
    "\n",
    "Recalculate the sum of squared residuals and re-plot the line when the intercept is decreased by 20%."
   ]
  },
  {
   "cell_type": "code",
   "execution_count": 8,
   "id": "ed3de2d0-008f-4fd3-842f-1d5515ac9e1b",
   "metadata": {
    "execution": {
     "iopub.execute_input": "2022-01-31T21:55:52.918782Z",
     "iopub.status.busy": "2022-01-31T21:55:52.918782Z",
     "iopub.status.idle": "2022-01-31T21:55:52.933781Z",
     "shell.execute_reply": "2022-01-31T21:55:52.933781Z",
     "shell.execute_reply.started": "2022-01-31T21:55:52.918782Z"
    },
    "tags": []
   },
   "outputs": [
    {
     "data": {
      "text/html": [
       "<div>\n",
       "<style scoped>\n",
       "    .dataframe tbody tr th:only-of-type {\n",
       "        vertical-align: middle;\n",
       "    }\n",
       "\n",
       "    .dataframe tbody tr th {\n",
       "        vertical-align: top;\n",
       "    }\n",
       "\n",
       "    .dataframe thead th {\n",
       "        text-align: right;\n",
       "    }\n",
       "</style>\n",
       "<table border=\"1\" class=\"dataframe\">\n",
       "  <thead>\n",
       "    <tr style=\"text-align: right;\">\n",
       "      <th></th>\n",
       "      <th>y</th>\n",
       "      <th>x</th>\n",
       "      <th>y_pred</th>\n",
       "      <th>residual</th>\n",
       "      <th>squared_residual</th>\n",
       "    </tr>\n",
       "  </thead>\n",
       "  <tbody>\n",
       "    <tr>\n",
       "      <th>0</th>\n",
       "      <td>10</td>\n",
       "      <td>1</td>\n",
       "      <td>8.16</td>\n",
       "      <td>1.84</td>\n",
       "      <td>3.3856</td>\n",
       "    </tr>\n",
       "    <tr>\n",
       "      <th>1</th>\n",
       "      <td>12</td>\n",
       "      <td>2</td>\n",
       "      <td>8.96</td>\n",
       "      <td>3.04</td>\n",
       "      <td>9.2416</td>\n",
       "    </tr>\n",
       "    <tr>\n",
       "      <th>2</th>\n",
       "      <td>10</td>\n",
       "      <td>3</td>\n",
       "      <td>9.76</td>\n",
       "      <td>0.24</td>\n",
       "      <td>0.0576</td>\n",
       "    </tr>\n",
       "    <tr>\n",
       "      <th>3</th>\n",
       "      <td>12</td>\n",
       "      <td>4</td>\n",
       "      <td>10.56</td>\n",
       "      <td>1.44</td>\n",
       "      <td>2.0736</td>\n",
       "    </tr>\n",
       "    <tr>\n",
       "      <th>4</th>\n",
       "      <td>14</td>\n",
       "      <td>5</td>\n",
       "      <td>11.36</td>\n",
       "      <td>2.64</td>\n",
       "      <td>6.9696</td>\n",
       "    </tr>\n",
       "  </tbody>\n",
       "</table>\n",
       "</div>"
      ],
      "text/plain": [
       "    y  x  y_pred  residual  squared_residual\n",
       "0  10  1    8.16      1.84            3.3856\n",
       "1  12  2    8.96      3.04            9.2416\n",
       "2  10  3    9.76      0.24            0.0576\n",
       "3  12  4   10.56      1.44            2.0736\n",
       "4  14  5   11.36      2.64            6.9696"
      ]
     },
     "execution_count": 8,
     "metadata": {},
     "output_type": "execute_result"
    }
   ],
   "source": [
    "b = model.intercept_ - model.intercept_ * 0.2\n",
    "\n",
    "df['y_pred'] = b + model.coef_[0] * df['x']\n",
    "df['residual'] = df['y'] - df['y_pred']\n",
    "df['squared_residual'] = np.power(df['residual'], 2.0)\n",
    "df"
   ]
  },
  {
   "cell_type": "code",
   "execution_count": 9,
   "id": "58234af4-2138-4c39-aa5f-a017d420bae8",
   "metadata": {
    "execution": {
     "iopub.execute_input": "2022-01-31T21:55:52.934783Z",
     "iopub.status.busy": "2022-01-31T21:55:52.934783Z",
     "iopub.status.idle": "2022-01-31T21:55:53.029782Z",
     "shell.execute_reply": "2022-01-31T21:55:53.029782Z",
     "shell.execute_reply.started": "2022-01-31T21:55:52.934783Z"
    },
    "tags": []
   },
   "outputs": [
    {
     "data": {
      "image/png": "[encoded data removed]",
      "text/plain": [
       "<Figure size 432x288 with 1 Axes>"
      ]
     },
     "metadata": {},
     "output_type": "display_data"
    }
   ],
   "source": [
    "ax = df.plot(kind='scatter', x='x', y='y', marker='+')\n",
    "\n",
    "x1, y1 = df.iloc[0]['x'], df.iloc[0]['y_pred']\n",
    "x2, y2 = df.iloc[-1]['x'], df.iloc[-1]['y_pred']\n",
    "\n",
    "_ = ax.axline((x1, y1), (x2, y2))\n",
    "_ = ax.set_title('Regression Plot, b* = b - 0.15 * b')"
   ]
  },
  {
   "cell_type": "code",
   "execution_count": 10,
   "id": "94134393-a087-4e6c-8e6e-22fece876f07",
   "metadata": {
    "execution": {
     "iopub.execute_input": "2022-01-31T21:55:53.030781Z",
     "iopub.status.busy": "2022-01-31T21:55:53.030781Z",
     "iopub.status.idle": "2022-01-31T21:55:53.045781Z",
     "shell.execute_reply": "2022-01-31T21:55:53.045781Z",
     "shell.execute_reply.started": "2022-01-31T21:55:53.030781Z"
    },
    "tags": []
   },
   "outputs": [
    {
     "data": {
      "text/plain": [
       "21.728000000000016"
      ]
     },
     "execution_count": 10,
     "metadata": {},
     "output_type": "execute_result"
    }
   ],
   "source": [
    "r3 = df['squared_residual'].sum()\n",
    "r3"
   ]
  },
  {
   "cell_type": "markdown",
   "id": "9ee7ee43-9a66-4ee7-bc93-32eca887cb98",
   "metadata": {},
   "source": [
    "### Increase the coefficient by 20%"
   ]
  },
  {
   "cell_type": "code",
   "execution_count": 11,
   "id": "7319fc08-482d-4ccc-849c-f1a6d73164bc",
   "metadata": {
    "execution": {
     "iopub.execute_input": "2022-01-31T21:55:53.046783Z",
     "iopub.status.busy": "2022-01-31T21:55:53.046783Z",
     "iopub.status.idle": "2022-01-31T21:55:53.061782Z",
     "shell.execute_reply": "2022-01-31T21:55:53.061782Z",
     "shell.execute_reply.started": "2022-01-31T21:55:53.046783Z"
    }
   },
   "outputs": [
    {
     "data": {
      "text/html": [
       "<div>\n",
       "<style scoped>\n",
       "    .dataframe tbody tr th:only-of-type {\n",
       "        vertical-align: middle;\n",
       "    }\n",
       "\n",
       "    .dataframe tbody tr th {\n",
       "        vertical-align: top;\n",
       "    }\n",
       "\n",
       "    .dataframe thead th {\n",
       "        text-align: right;\n",
       "    }\n",
       "</style>\n",
       "<table border=\"1\" class=\"dataframe\">\n",
       "  <thead>\n",
       "    <tr style=\"text-align: right;\">\n",
       "      <th></th>\n",
       "      <th>y</th>\n",
       "      <th>x</th>\n",
       "      <th>y_pred</th>\n",
       "      <th>residual</th>\n",
       "      <th>squared_residual</th>\n",
       "    </tr>\n",
       "  </thead>\n",
       "  <tbody>\n",
       "    <tr>\n",
       "      <th>0</th>\n",
       "      <td>10</td>\n",
       "      <td>1</td>\n",
       "      <td>10.16</td>\n",
       "      <td>-0.16</td>\n",
       "      <td>0.0256</td>\n",
       "    </tr>\n",
       "    <tr>\n",
       "      <th>1</th>\n",
       "      <td>12</td>\n",
       "      <td>2</td>\n",
       "      <td>11.12</td>\n",
       "      <td>0.88</td>\n",
       "      <td>0.7744</td>\n",
       "    </tr>\n",
       "    <tr>\n",
       "      <th>2</th>\n",
       "      <td>10</td>\n",
       "      <td>3</td>\n",
       "      <td>12.08</td>\n",
       "      <td>-2.08</td>\n",
       "      <td>4.3264</td>\n",
       "    </tr>\n",
       "    <tr>\n",
       "      <th>3</th>\n",
       "      <td>12</td>\n",
       "      <td>4</td>\n",
       "      <td>13.04</td>\n",
       "      <td>-1.04</td>\n",
       "      <td>1.0816</td>\n",
       "    </tr>\n",
       "    <tr>\n",
       "      <th>4</th>\n",
       "      <td>14</td>\n",
       "      <td>5</td>\n",
       "      <td>14.00</td>\n",
       "      <td>0.00</td>\n",
       "      <td>0.0000</td>\n",
       "    </tr>\n",
       "  </tbody>\n",
       "</table>\n",
       "</div>"
      ],
      "text/plain": [
       "    y  x  y_pred  residual  squared_residual\n",
       "0  10  1   10.16     -0.16            0.0256\n",
       "1  12  2   11.12      0.88            0.7744\n",
       "2  10  3   12.08     -2.08            4.3264\n",
       "3  12  4   13.04     -1.04            1.0816\n",
       "4  14  5   14.00      0.00            0.0000"
      ]
     },
     "execution_count": 11,
     "metadata": {},
     "output_type": "execute_result"
    }
   ],
   "source": [
    "b1 = model.coef_[0] + model.coef_[0] * 0.2\n",
    "\n",
    "df['y_pred'] = model.intercept_ + b1 * df['x']\n",
    "df['residual'] = df['y'] - df['y_pred']\n",
    "df['squared_residual'] = np.power(df['residual'], 2.0)\n",
    "df"
   ]
  },
  {
   "cell_type": "code",
   "execution_count": 12,
   "id": "d66cf7c7-be51-4313-9ceb-2acb23643673",
   "metadata": {
    "execution": {
     "iopub.execute_input": "2022-01-31T21:55:53.062782Z",
     "iopub.status.busy": "2022-01-31T21:55:53.062782Z",
     "iopub.status.idle": "2022-01-31T21:55:53.171313Z",
     "shell.execute_reply": "2022-01-31T21:55:53.171313Z",
     "shell.execute_reply.started": "2022-01-31T21:55:53.062782Z"
    },
    "tags": []
   },
   "outputs": [
    {
     "data": {
      "image/png": "[encoded data removed]",
      "text/plain": [
       "<Figure size 432x288 with 1 Axes>"
      ]
     },
     "metadata": {},
     "output_type": "display_data"
    }
   ],
   "source": [
    "ax = df.plot(kind='scatter', x='x', y='y', marker='+')\n",
    "\n",
    "x1, y1 = df.iloc[0]['x'], df.iloc[0]['y_pred']\n",
    "x2, y2 = df.iloc[-1]['x'], df.iloc[-1]['y_pred']\n",
    "\n",
    "_ = ax.axline((x1, y1), (x2, y2))\n",
    "_ = ax.set_title('Regression Plot, b1* = b1 + 0.15 * b1')"
   ]
  },
  {
   "cell_type": "code",
   "execution_count": 13,
   "id": "524f2d2c-624e-4e6e-b117-05df41de4561",
   "metadata": {
    "execution": {
     "iopub.execute_input": "2022-01-31T21:55:53.172314Z",
     "iopub.status.busy": "2022-01-31T21:55:53.172314Z",
     "iopub.status.idle": "2022-01-31T21:55:53.187312Z",
     "shell.execute_reply": "2022-01-31T21:55:53.187312Z",
     "shell.execute_reply.started": "2022-01-31T21:55:53.172314Z"
    }
   },
   "outputs": [
    {
     "data": {
      "text/plain": [
       "6.207999999999992"
      ]
     },
     "execution_count": 13,
     "metadata": {},
     "output_type": "execute_result"
    }
   ],
   "source": [
    "r4 = df['squared_residual'].sum()\n",
    "r4"
   ]
  },
  {
   "cell_type": "markdown",
   "id": "b104e553-73fd-4e0c-9604-3a996301d7d5",
   "metadata": {},
   "source": [
    "### Decrease the coefficient by 20%"
   ]
  },
  {
   "cell_type": "code",
   "execution_count": 14,
   "id": "99f386c1-6e65-4c0c-992c-9e9806991bad",
   "metadata": {
    "execution": {
     "iopub.execute_input": "2022-01-31T21:55:53.188314Z",
     "iopub.status.busy": "2022-01-31T21:55:53.188314Z",
     "iopub.status.idle": "2022-01-31T21:55:53.203421Z",
     "shell.execute_reply": "2022-01-31T21:55:53.203421Z",
     "shell.execute_reply.started": "2022-01-31T21:55:53.188314Z"
    }
   },
   "outputs": [
    {
     "data": {
      "text/html": [
       "<div>\n",
       "<style scoped>\n",
       "    .dataframe tbody tr th:only-of-type {\n",
       "        vertical-align: middle;\n",
       "    }\n",
       "\n",
       "    .dataframe tbody tr th {\n",
       "        vertical-align: top;\n",
       "    }\n",
       "\n",
       "    .dataframe thead th {\n",
       "        text-align: right;\n",
       "    }\n",
       "</style>\n",
       "<table border=\"1\" class=\"dataframe\">\n",
       "  <thead>\n",
       "    <tr style=\"text-align: right;\">\n",
       "      <th></th>\n",
       "      <th>y</th>\n",
       "      <th>x</th>\n",
       "      <th>y_pred</th>\n",
       "      <th>residual</th>\n",
       "      <th>squared_residual</th>\n",
       "    </tr>\n",
       "  </thead>\n",
       "  <tbody>\n",
       "    <tr>\n",
       "      <th>0</th>\n",
       "      <td>10</td>\n",
       "      <td>1</td>\n",
       "      <td>9.84</td>\n",
       "      <td>0.16</td>\n",
       "      <td>0.0256</td>\n",
       "    </tr>\n",
       "    <tr>\n",
       "      <th>1</th>\n",
       "      <td>12</td>\n",
       "      <td>2</td>\n",
       "      <td>10.48</td>\n",
       "      <td>1.52</td>\n",
       "      <td>2.3104</td>\n",
       "    </tr>\n",
       "    <tr>\n",
       "      <th>2</th>\n",
       "      <td>10</td>\n",
       "      <td>3</td>\n",
       "      <td>11.12</td>\n",
       "      <td>-1.12</td>\n",
       "      <td>1.2544</td>\n",
       "    </tr>\n",
       "    <tr>\n",
       "      <th>3</th>\n",
       "      <td>12</td>\n",
       "      <td>4</td>\n",
       "      <td>11.76</td>\n",
       "      <td>0.24</td>\n",
       "      <td>0.0576</td>\n",
       "    </tr>\n",
       "    <tr>\n",
       "      <th>4</th>\n",
       "      <td>14</td>\n",
       "      <td>5</td>\n",
       "      <td>12.40</td>\n",
       "      <td>1.60</td>\n",
       "      <td>2.5600</td>\n",
       "    </tr>\n",
       "  </tbody>\n",
       "</table>\n",
       "</div>"
      ],
      "text/plain": [
       "    y  x  y_pred  residual  squared_residual\n",
       "0  10  1    9.84      0.16            0.0256\n",
       "1  12  2   10.48      1.52            2.3104\n",
       "2  10  3   11.12     -1.12            1.2544\n",
       "3  12  4   11.76      0.24            0.0576\n",
       "4  14  5   12.40      1.60            2.5600"
      ]
     },
     "execution_count": 14,
     "metadata": {},
     "output_type": "execute_result"
    }
   ],
   "source": [
    "b1 = model.coef_[0] - model.coef_[0] * 0.2\n",
    "\n",
    "df['y_pred'] = model.intercept_ + b1 * df['x']\n",
    "df['residual'] = df['y'] - df['y_pred']\n",
    "df['squared_residual'] = np.power(df['residual'], 2.0)\n",
    "df"
   ]
  },
  {
   "cell_type": "code",
   "execution_count": 15,
   "id": "d8074e43-cdbd-4433-92a4-b868163ed5d9",
   "metadata": {
    "execution": {
     "iopub.execute_input": "2022-01-31T21:55:53.204313Z",
     "iopub.status.busy": "2022-01-31T21:55:53.204313Z",
     "iopub.status.idle": "2022-01-31T21:55:53.297327Z",
     "shell.execute_reply": "2022-01-31T21:55:53.297327Z",
     "shell.execute_reply.started": "2022-01-31T21:55:53.204313Z"
    }
   },
   "outputs": [
    {
     "data": {
      "image/png": "[encoded data removed]",
      "text/plain": [
       "<Figure size 432x288 with 1 Axes>"
      ]
     },
     "metadata": {},
     "output_type": "display_data"
    }
   ],
   "source": [
    "ax = df.plot(kind='scatter', x='x', y='y', marker='+')\n",
    "\n",
    "x1, y1 = df.iloc[0]['x'], df.iloc[0]['y_pred']\n",
    "x2, y2 = df.iloc[-1]['x'], df.iloc[-1]['y_pred']\n",
    "\n",
    "_ = ax.axline((x1, y1), (x2, y2))\n",
    "_ = ax.set_title('Regression Plot, b1* = b1 - 0.15 * b1')"
   ]
  },
  {
   "cell_type": "code",
   "execution_count": 16,
   "id": "5c56b046-668e-40a1-a1d0-1ba534f29cf3",
   "metadata": {
    "execution": {
     "iopub.execute_input": "2022-01-31T21:55:53.298331Z",
     "iopub.status.busy": "2022-01-31T21:55:53.298331Z",
     "iopub.status.idle": "2022-01-31T21:55:53.313327Z",
     "shell.execute_reply": "2022-01-31T21:55:53.313327Z",
     "shell.execute_reply.started": "2022-01-31T21:55:53.298331Z"
    }
   },
   "outputs": [
    {
     "data": {
      "text/plain": [
       "6.208000000000007"
      ]
     },
     "execution_count": 16,
     "metadata": {},
     "output_type": "execute_result"
    }
   ],
   "source": [
    "r5 = df['squared_residual'].sum()\n",
    "r5"
   ]
  },
  {
   "cell_type": "markdown",
   "id": "fc013155-faa2-4d7c-afa8-a40dd37f3647",
   "metadata": {},
   "source": [
    "### Which of these 5 lines minimizes the sum of squared residuals and by how much?\n",
    "\n",
    "The model produced by ordinary regression (Scikit-Learn) produces the sum of squared residual that is the lowest."
   ]
  },
  {
   "cell_type": "code",
   "execution_count": 17,
   "id": "78989742-b9bc-4158-8231-be49b5ecbfde",
   "metadata": {
    "execution": {
     "iopub.execute_input": "2022-01-31T21:55:53.314328Z",
     "iopub.status.busy": "2022-01-31T21:55:53.314328Z",
     "iopub.status.idle": "2022-01-31T21:55:53.329328Z",
     "shell.execute_reply": "2022-01-31T21:55:53.329328Z",
     "shell.execute_reply.started": "2022-01-31T21:55:53.314328Z"
    },
    "tags": []
   },
   "outputs": [
    {
     "data": {
      "text/html": [
       "<div>\n",
       "<style scoped>\n",
       "    .dataframe tbody tr th:only-of-type {\n",
       "        vertical-align: middle;\n",
       "    }\n",
       "\n",
       "    .dataframe tbody tr th {\n",
       "        vertical-align: top;\n",
       "    }\n",
       "\n",
       "    .dataframe thead th {\n",
       "        text-align: right;\n",
       "    }\n",
       "</style>\n",
       "<table border=\"1\" class=\"dataframe\">\n",
       "  <thead>\n",
       "    <tr style=\"text-align: right;\">\n",
       "      <th></th>\n",
       "      <th>model</th>\n",
       "      <th>sum_of_squared_residual</th>\n",
       "    </tr>\n",
       "  </thead>\n",
       "  <tbody>\n",
       "    <tr>\n",
       "      <th>0</th>\n",
       "      <td>scikit</td>\n",
       "      <td>4.800</td>\n",
       "    </tr>\n",
       "    <tr>\n",
       "      <th>3</th>\n",
       "      <td>increase_b1</td>\n",
       "      <td>6.208</td>\n",
       "    </tr>\n",
       "    <tr>\n",
       "      <th>4</th>\n",
       "      <td>decrease_b1</td>\n",
       "      <td>6.208</td>\n",
       "    </tr>\n",
       "    <tr>\n",
       "      <th>1</th>\n",
       "      <td>increase_b</td>\n",
       "      <td>21.728</td>\n",
       "    </tr>\n",
       "    <tr>\n",
       "      <th>2</th>\n",
       "      <td>decrease_b</td>\n",
       "      <td>21.728</td>\n",
       "    </tr>\n",
       "  </tbody>\n",
       "</table>\n",
       "</div>"
      ],
      "text/plain": [
       "         model  sum_of_squared_residual\n",
       "0       scikit                    4.800\n",
       "3  increase_b1                    6.208\n",
       "4  decrease_b1                    6.208\n",
       "1   increase_b                   21.728\n",
       "2   decrease_b                   21.728"
      ]
     },
     "execution_count": 17,
     "metadata": {},
     "output_type": "execute_result"
    }
   ],
   "source": [
    "pd.DataFrame([\n",
    "    ('scikit', r1),\n",
    "    ('increase_b', r2),\n",
    "    ('decrease_b', r3),\n",
    "    ('increase_b1', r4),\n",
    "    ('decrease_b1', r5)\n",
    "], columns=['model', 'sum_of_squared_residual']).sort_values(['sum_of_squared_residual'])"
   ]
  },
  {
   "cell_type": "markdown",
   "id": "91029f49-1b20-41b7-aecb-21d76287003b",
   "metadata": {},
   "source": [
    "## Question 2"
   ]
  },
  {
   "cell_type": "markdown",
   "id": "a739972e-028c-4abe-85e9-b60c63ddf54a",
   "metadata": {},
   "source": [
    "### Step 1: clean"
   ]
  },
  {
   "cell_type": "code",
   "execution_count": 18,
   "id": "271f936c-1bab-4db0-b2b3-1a4fe7827fcc",
   "metadata": {
    "execution": {
     "iopub.execute_input": "2022-01-31T21:55:53.330328Z",
     "iopub.status.busy": "2022-01-31T21:55:53.330328Z",
     "iopub.status.idle": "2022-01-31T21:55:54.943304Z",
     "shell.execute_reply": "2022-01-31T21:55:54.942593Z",
     "shell.execute_reply.started": "2022-01-31T21:55:53.330328Z"
    },
    "tags": []
   },
   "outputs": [
    {
     "data": {
      "text/plain": [
       "(39139, 540)"
      ]
     },
     "execution_count": 18,
     "metadata": {},
     "output_type": "execute_result"
    }
   ],
   "source": [
    "df = pd.read_csv('MFH cost Jan 2018.csv', low_memory=False)\n",
    "df.shape"
   ]
  },
  {
   "cell_type": "code",
   "execution_count": 19,
   "id": "e99779f7-1f1a-4239-b724-000c1785a232",
   "metadata": {
    "execution": {
     "iopub.execute_input": "2022-01-31T21:55:54.943593Z",
     "iopub.status.busy": "2022-01-31T21:55:54.943593Z",
     "iopub.status.idle": "2022-01-31T21:55:55.494601Z",
     "shell.execute_reply": "2022-01-31T21:55:55.494601Z",
     "shell.execute_reply.started": "2022-01-31T21:55:54.943593Z"
    },
    "tags": []
   },
   "outputs": [
    {
     "data": {
      "text/plain": [
       "(39139, 540)"
      ]
     },
     "execution_count": 19,
     "metadata": {},
     "output_type": "execute_result"
    }
   ],
   "source": [
    "df = df.drop_duplicates()\n",
    "df.shape"
   ]
  },
  {
   "cell_type": "code",
   "execution_count": 20,
   "id": "e6533f3f-a4e4-42dd-8958-5033db5cc408",
   "metadata": {
    "execution": {
     "iopub.execute_input": "2022-01-31T21:55:55.495600Z",
     "iopub.status.busy": "2022-01-31T21:55:55.495600Z",
     "iopub.status.idle": "2022-01-31T21:55:55.510599Z",
     "shell.execute_reply": "2022-01-31T21:55:55.510599Z",
     "shell.execute_reply.started": "2022-01-31T21:55:55.495600Z"
    },
    "tags": []
   },
   "outputs": [
    {
     "data": {
      "text/plain": [
       "age             0.320243\n",
       "dayssurvived    0.603388\n",
       "dtype: float64"
      ]
     },
     "execution_count": 20,
     "metadata": {},
     "output_type": "execute_result"
    }
   ],
   "source": [
    "df[['age', 'dayssurvived']].isna().sum() / df.shape[0]"
   ]
  },
  {
   "cell_type": "markdown",
   "id": "80573064-209e-49f5-b25e-4bd39a311b8f",
   "metadata": {},
   "source": [
    "### Step 2: describe univariate statistical properties"
   ]
  },
  {
   "cell_type": "code",
   "execution_count": 21,
   "id": "95ad63b5-b65d-4bc1-974e-e156d0f80b14",
   "metadata": {
    "execution": {
     "iopub.execute_input": "2022-01-31T21:55:55.511600Z",
     "iopub.status.busy": "2022-01-31T21:55:55.511600Z",
     "iopub.status.idle": "2022-01-31T21:55:55.541712Z",
     "shell.execute_reply": "2022-01-31T21:55:55.541712Z",
     "shell.execute_reply.started": "2022-01-31T21:55:55.511600Z"
    },
    "tags": []
   },
   "outputs": [
    {
     "data": {
      "text/html": [
       "<div>\n",
       "<style scoped>\n",
       "    .dataframe tbody tr th:only-of-type {\n",
       "        vertical-align: middle;\n",
       "    }\n",
       "\n",
       "    .dataframe tbody tr th {\n",
       "        vertical-align: top;\n",
       "    }\n",
       "\n",
       "    .dataframe thead th {\n",
       "        text-align: right;\n",
       "    }\n",
       "</style>\n",
       "<table border=\"1\" class=\"dataframe\">\n",
       "  <thead>\n",
       "    <tr style=\"text-align: right;\">\n",
       "      <th></th>\n",
       "      <th>age</th>\n",
       "      <th>dayssurvived</th>\n",
       "      <th>Daily All Cost</th>\n",
       "    </tr>\n",
       "  </thead>\n",
       "  <tbody>\n",
       "    <tr>\n",
       "      <th>count</th>\n",
       "      <td>26605.000000</td>\n",
       "      <td>15523.000000</td>\n",
       "      <td>39139.000000</td>\n",
       "    </tr>\n",
       "    <tr>\n",
       "      <th>mean</th>\n",
       "      <td>72.159895</td>\n",
       "      <td>1398.196289</td>\n",
       "      <td>250.493208</td>\n",
       "    </tr>\n",
       "    <tr>\n",
       "      <th>std</th>\n",
       "      <td>12.403902</td>\n",
       "      <td>969.020255</td>\n",
       "      <td>325.002145</td>\n",
       "    </tr>\n",
       "    <tr>\n",
       "      <th>min</th>\n",
       "      <td>22.000000</td>\n",
       "      <td>14.000000</td>\n",
       "      <td>0.000000</td>\n",
       "    </tr>\n",
       "    <tr>\n",
       "      <th>25%</th>\n",
       "      <td>63.000000</td>\n",
       "      <td>687.000000</td>\n",
       "      <td>85.837450</td>\n",
       "    </tr>\n",
       "    <tr>\n",
       "      <th>50%</th>\n",
       "      <td>73.000000</td>\n",
       "      <td>1107.000000</td>\n",
       "      <td>180.140400</td>\n",
       "    </tr>\n",
       "    <tr>\n",
       "      <th>75%</th>\n",
       "      <td>83.000000</td>\n",
       "      <td>1830.500000</td>\n",
       "      <td>299.267589</td>\n",
       "    </tr>\n",
       "    <tr>\n",
       "      <th>max</th>\n",
       "      <td>105.000000</td>\n",
       "      <td>6210.000000</td>\n",
       "      <td>12210.619010</td>\n",
       "    </tr>\n",
       "  </tbody>\n",
       "</table>\n",
       "</div>"
      ],
      "text/plain": [
       "                age  dayssurvived  Daily All Cost\n",
       "count  26605.000000  15523.000000    39139.000000\n",
       "mean      72.159895   1398.196289      250.493208\n",
       "std       12.403902    969.020255      325.002145\n",
       "min       22.000000     14.000000        0.000000\n",
       "25%       63.000000    687.000000       85.837450\n",
       "50%       73.000000   1107.000000      180.140400\n",
       "75%       83.000000   1830.500000      299.267589\n",
       "max      105.000000   6210.000000    12210.619010"
      ]
     },
     "execution_count": 21,
     "metadata": {},
     "output_type": "execute_result"
    }
   ],
   "source": [
    "df[['age', 'gender', 'dayssurvived', 'Daily All Cost']].describe()"
   ]
  },
  {
   "cell_type": "markdown",
   "id": "052c308a-0740-4051-b581-7ef6e7814d7d",
   "metadata": {},
   "source": [
    "Check for nullness or data missingness."
   ]
  },
  {
   "cell_type": "code",
   "execution_count": 22,
   "id": "70bed315-01f5-491f-bcc0-093b6637e551",
   "metadata": {
    "execution": {
     "iopub.execute_input": "2022-01-31T21:55:55.542715Z",
     "iopub.status.busy": "2022-01-31T21:55:55.542715Z",
     "iopub.status.idle": "2022-01-31T21:55:55.556701Z",
     "shell.execute_reply": "2022-01-31T21:55:55.556701Z",
     "shell.execute_reply.started": "2022-01-31T21:55:55.542715Z"
    }
   },
   "outputs": [
    {
     "data": {
      "text/plain": [
       "age               0.320243\n",
       "gender            0.320167\n",
       "dayssurvived      0.603388\n",
       "Daily All Cost    0.000000\n",
       "dtype: float64"
      ]
     },
     "execution_count": 22,
     "metadata": {},
     "output_type": "execute_result"
    }
   ],
   "source": [
    "df[['age', 'gender', 'dayssurvived', 'Daily All Cost']].isna().sum() / df.shape[0]"
   ]
  },
  {
   "cell_type": "markdown",
   "id": "2af97cf5-12db-4710-a5c8-599bae8801cd",
   "metadata": {},
   "source": [
    "### Step 3: check if cost is normal"
   ]
  },
  {
   "cell_type": "code",
   "execution_count": 23,
   "id": "21bd3823-0665-4290-b1d4-21dee0ab0f81",
   "metadata": {
    "execution": {
     "iopub.execute_input": "2022-01-31T21:55:55.557703Z",
     "iopub.status.busy": "2022-01-31T21:55:55.557703Z",
     "iopub.status.idle": "2022-01-31T21:55:57.299536Z",
     "shell.execute_reply": "2022-01-31T21:55:57.299536Z",
     "shell.execute_reply.started": "2022-01-31T21:55:55.557703Z"
    },
    "tags": []
   },
   "outputs": [
    {
     "data": {
      "image/png": "[encoded data removed]",
      "text/plain": [
       "<Figure size 432x288 with 1 Axes>"
      ]
     },
     "metadata": {},
     "output_type": "display_data"
    }
   ],
   "source": [
    "s = df.dropna(subset=['Daily All Cost'])['Daily All Cost']\n",
    "s = s[s > 0]\n",
    "_ = s.plot(kind='kde')"
   ]
  },
  {
   "cell_type": "markdown",
   "id": "af8c1ea0-c587-4b2e-bc0e-1f9f306e83b6",
   "metadata": {},
   "source": [
    "Do a log transform."
   ]
  },
  {
   "cell_type": "code",
   "execution_count": 24,
   "id": "f8cb4d5b-757a-4616-b775-64b4c329a781",
   "metadata": {
    "execution": {
     "iopub.execute_input": "2022-01-31T21:55:57.300538Z",
     "iopub.status.busy": "2022-01-31T21:55:57.300538Z",
     "iopub.status.idle": "2022-01-31T21:55:58.533556Z",
     "shell.execute_reply": "2022-01-31T21:55:58.533556Z",
     "shell.execute_reply.started": "2022-01-31T21:55:57.300538Z"
    },
    "tags": []
   },
   "outputs": [
    {
     "data": {
      "image/png": "[encoded data removed]",
      "text/plain": [
       "<Figure size 432x288 with 1 Axes>"
      ]
     },
     "metadata": {},
     "output_type": "display_data"
    }
   ],
   "source": [
    "s = df.dropna(subset=['Daily All Cost'])['Daily All Cost']\n",
    "s = s[s > 0]\n",
    "s = np.log(s)\n",
    "_ = s.plot(kind='kde')"
   ]
  },
  {
   "cell_type": "markdown",
   "id": "de5e6d63-c633-4005-ada8-c08ed0e39d14",
   "metadata": {},
   "source": [
    "### Step 4: age vs cost"
   ]
  },
  {
   "cell_type": "code",
   "execution_count": 25,
   "id": "3c74fc67-c3a5-4310-a612-78f88f3f5d22",
   "metadata": {
    "execution": {
     "iopub.execute_input": "2022-01-31T21:55:58.536557Z",
     "iopub.status.busy": "2022-01-31T21:55:58.536557Z",
     "iopub.status.idle": "2022-01-31T21:55:58.850068Z",
     "shell.execute_reply": "2022-01-31T21:55:58.850068Z",
     "shell.execute_reply.started": "2022-01-31T21:55:58.536557Z"
    },
    "tags": []
   },
   "outputs": [
    {
     "data": {
      "image/png": "[encoded data removed]",
      "text/plain": [
       "<Figure size 432x288 with 1 Axes>"
      ]
     },
     "metadata": {},
     "output_type": "display_data"
    }
   ],
   "source": [
    "ax = df.plot(kind='scatter', x='age', y='Daily All Cost')\n",
    "_ = ax.set_title('Age vs Cost')"
   ]
  },
  {
   "cell_type": "markdown",
   "id": "14f21206-d83e-4068-a317-4ccc16323e32",
   "metadata": {},
   "source": [
    "### Step 5: cost ~ age + gender\n",
    "\n",
    "Check impact of age and gender on cost."
   ]
  },
  {
   "cell_type": "code",
   "execution_count": 26,
   "id": "20826a99-4121-4ecb-bfc5-7f9d186f3ff8",
   "metadata": {
    "execution": {
     "iopub.execute_input": "2022-01-31T21:55:58.852069Z",
     "iopub.status.busy": "2022-01-31T21:55:58.851068Z",
     "iopub.status.idle": "2022-01-31T21:55:58.866068Z",
     "shell.execute_reply": "2022-01-31T21:55:58.866068Z",
     "shell.execute_reply.started": "2022-01-31T21:55:58.852069Z"
    },
    "tags": []
   },
   "outputs": [
    {
     "data": {
      "text/plain": [
       "M    25583\n",
       "F     1025\n",
       "Name: gender, dtype: int64"
      ]
     },
     "execution_count": 26,
     "metadata": {},
     "output_type": "execute_result"
    }
   ],
   "source": [
    "df['gender'].value_counts()"
   ]
  },
  {
   "cell_type": "code",
   "execution_count": 27,
   "id": "2e1e4e77-d267-47f9-925d-a1ed04c56f0c",
   "metadata": {
    "execution": {
     "iopub.execute_input": "2022-01-31T21:55:58.867069Z",
     "iopub.status.busy": "2022-01-31T21:55:58.867069Z",
     "iopub.status.idle": "2022-01-31T21:55:58.977068Z",
     "shell.execute_reply": "2022-01-31T21:55:58.977068Z",
     "shell.execute_reply.started": "2022-01-31T21:55:58.867069Z"
    },
    "tags": []
   },
   "outputs": [
    {
     "data": {
      "text/plain": [
       "((26605, 2), (26605,))"
      ]
     },
     "execution_count": 27,
     "metadata": {},
     "output_type": "execute_result"
    }
   ],
   "source": [
    "X = df.dropna(subset=['age', 'gender', 'Daily All Cost'])\n",
    "X = X[X['Daily All Cost'] > 0]\n",
    "X['gender'] = X['gender'].apply(lambda v: 1 if v == 'M' else 0)\n",
    "X, y = X[['age', 'gender']], X['Daily All Cost']\n",
    "\n",
    "X.shape, y.shape"
   ]
  },
  {
   "cell_type": "code",
   "execution_count": 28,
   "id": "b09d2526-368c-4fd1-8da7-9b3a740b3150",
   "metadata": {
    "execution": {
     "iopub.execute_input": "2022-01-31T21:55:58.978069Z",
     "iopub.status.busy": "2022-01-31T21:55:58.978069Z",
     "iopub.status.idle": "2022-01-31T21:55:58.993067Z",
     "shell.execute_reply": "2022-01-31T21:55:58.993067Z",
     "shell.execute_reply.started": "2022-01-31T21:55:58.978069Z"
    },
    "tags": []
   },
   "outputs": [
    {
     "data": {
      "text/plain": [
       "(264.3420036647272, array([0.12883604, 0.63987923]))"
      ]
     },
     "execution_count": 28,
     "metadata": {},
     "output_type": "execute_result"
    }
   ],
   "source": [
    "model = LinearRegression()\n",
    "model.fit(X, y)\n",
    "\n",
    "model.intercept_, model.coef_"
   ]
  },
  {
   "cell_type": "code",
   "execution_count": 29,
   "id": "748b4fb2-206a-47e2-8137-aacb4e581af4",
   "metadata": {
    "execution": {
     "iopub.execute_input": "2022-01-31T21:55:58.994068Z",
     "iopub.status.busy": "2022-01-31T21:55:58.994068Z",
     "iopub.status.idle": "2022-01-31T21:55:59.009067Z",
     "shell.execute_reply": "2022-01-31T21:55:59.009067Z",
     "shell.execute_reply.started": "2022-01-31T21:55:58.994068Z"
    },
    "tags": []
   },
   "outputs": [
    {
     "data": {
      "text/plain": [
       "(2.242432612920009e-05, 0.004735433045583063)"
      ]
     },
     "execution_count": 29,
     "metadata": {},
     "output_type": "execute_result"
    }
   ],
   "source": [
    "from sklearn.metrics import r2_score, explained_variance_score\n",
    "\n",
    "r2_score(y, model.predict(X)), np.sqrt(r2_score(y, model.predict(X)))"
   ]
  },
  {
   "cell_type": "markdown",
   "id": "936a81ac-9542-4bc0-b119-7cea5248e9b5",
   "metadata": {},
   "source": [
    "### Step 6: cost ~ survival\n",
    "\n",
    "Check impact of survival on cost."
   ]
  },
  {
   "cell_type": "code",
   "execution_count": 30,
   "id": "52e2ac8a-e353-4d00-826e-c0aad3c6dd9b",
   "metadata": {
    "execution": {
     "iopub.execute_input": "2022-01-31T21:55:59.010069Z",
     "iopub.status.busy": "2022-01-31T21:55:59.010069Z",
     "iopub.status.idle": "2022-01-31T21:55:59.073067Z",
     "shell.execute_reply": "2022-01-31T21:55:59.073067Z",
     "shell.execute_reply.started": "2022-01-31T21:55:59.010069Z"
    }
   },
   "outputs": [
    {
     "data": {
      "text/plain": [
       "((15523, 1), (15523,))"
      ]
     },
     "execution_count": 30,
     "metadata": {},
     "output_type": "execute_result"
    }
   ],
   "source": [
    "X = df.dropna(subset=['dayssurvived', 'Daily All Cost'])\n",
    "X = X[X['Daily All Cost'] > 0]\n",
    "X, y = X[['dayssurvived']], X['Daily All Cost']\n",
    "\n",
    "X.shape, y.shape"
   ]
  },
  {
   "cell_type": "code",
   "execution_count": 31,
   "id": "129fdf3d-be38-46bd-8dbc-5d1c2ab0738e",
   "metadata": {
    "execution": {
     "iopub.execute_input": "2022-01-31T21:55:59.074067Z",
     "iopub.status.busy": "2022-01-31T21:55:59.074067Z",
     "iopub.status.idle": "2022-01-31T21:55:59.089067Z",
     "shell.execute_reply": "2022-01-31T21:55:59.089067Z",
     "shell.execute_reply.started": "2022-01-31T21:55:59.074067Z"
    }
   },
   "outputs": [
    {
     "data": {
      "text/plain": [
       "(282.0917926741384, array([-0.00540544]))"
      ]
     },
     "execution_count": 31,
     "metadata": {},
     "output_type": "execute_result"
    }
   ],
   "source": [
    "model = LinearRegression()\n",
    "model.fit(X, y)\n",
    "\n",
    "model.intercept_, model.coef_"
   ]
  },
  {
   "cell_type": "code",
   "execution_count": 32,
   "id": "2d81b849-699c-49d3-9e66-9ed06bf4599c",
   "metadata": {
    "execution": {
     "iopub.execute_input": "2022-01-31T21:55:59.090068Z",
     "iopub.status.busy": "2022-01-31T21:55:59.090068Z",
     "iopub.status.idle": "2022-01-31T21:55:59.105067Z",
     "shell.execute_reply": "2022-01-31T21:55:59.105067Z",
     "shell.execute_reply.started": "2022-01-31T21:55:59.090068Z"
    }
   },
   "outputs": [
    {
     "data": {
      "text/plain": [
       "(0.0002115531865428677, 0.014544868048314076)"
      ]
     },
     "execution_count": 32,
     "metadata": {},
     "output_type": "execute_result"
    }
   ],
   "source": [
    "r2_score(y, model.predict(X)), np.sqrt(r2_score(y, model.predict(X)))"
   ]
  },
  {
   "cell_type": "markdown",
   "id": "151d32d7-733d-40f2-bab4-e097b5e46463",
   "metadata": {},
   "source": [
    "### Step 7: cost ~ .\n",
    "\n",
    "Regress cost on all other variables."
   ]
  },
  {
   "cell_type": "code",
   "execution_count": 33,
   "id": "b115b9bc-9072-4043-93bb-60ad6f6a70db",
   "metadata": {
    "execution": {
     "iopub.execute_input": "2022-01-31T21:55:59.106070Z",
     "iopub.status.busy": "2022-01-31T21:55:59.106070Z",
     "iopub.status.idle": "2022-01-31T21:55:59.152721Z",
     "shell.execute_reply": "2022-01-31T21:55:59.152721Z",
     "shell.execute_reply.started": "2022-01-31T21:55:59.106070Z"
    },
    "tags": []
   },
   "outputs": [
    {
     "data": {
      "text/plain": [
       "((13747, 16), (13747,))"
      ]
     },
     "execution_count": 33,
     "metadata": {},
     "output_type": "execute_result"
    }
   ],
   "source": [
    "def is_valid_col(name):\n",
    "    if name in ['Row_ID', 'Unnamed: 37', 'scrssn', 'cohort', 'Daily_In_Org', 'Daily_Out_Org', 'DaysFollowedInOrg', 'DaysFollowedOutOrg']:\n",
    "        return False\n",
    "    if name.startswith('ccs'):\n",
    "        return False\n",
    "    if name.endswith('_365') or name.endswith('_30'):\n",
    "        return False\n",
    "    return True\n",
    "\n",
    "X = df[[c for c in df.columns if is_valid_col(c)]]\n",
    "X = X.dropna()\n",
    "X['gender'] = X['gender'].apply(lambda g: 1 if g == 'M' else 0)\n",
    "X['race_black'] = X['race'].apply(lambda r: 1 if r == 'B' else 0)\n",
    "X['race_asian'] = X['race'].apply(lambda r: 1 if r == 'A' else 0)\n",
    "X = X.drop(columns=['race'])\n",
    "X, y = X[[c for c in X.columns if c != 'Daily All Cost']], X['Daily All Cost']\n",
    "\n",
    "X.shape, y.shape"
   ]
  },
  {
   "cell_type": "code",
   "execution_count": 34,
   "id": "4a7d45ea-49d1-4cc0-80b3-fe99ec5bab80",
   "metadata": {
    "execution": {
     "iopub.execute_input": "2022-01-31T21:55:59.153725Z",
     "iopub.status.busy": "2022-01-31T21:55:59.153725Z",
     "iopub.status.idle": "2022-01-31T21:55:59.276725Z",
     "shell.execute_reply": "2022-01-31T21:55:59.276725Z",
     "shell.execute_reply.started": "2022-01-31T21:55:59.153725Z"
    },
    "tags": []
   },
   "outputs": [
    {
     "data": {
      "image/png": "[encoded data removed]",
      "text/plain": [
       "<Figure size 864x288 with 1 Axes>"
      ]
     },
     "metadata": {},
     "output_type": "display_data"
    }
   ],
   "source": [
    "model = LinearRegression()\n",
    "model.fit(X, y)\n",
    "\n",
    "s = pd.Series(model.coef_, index=X.columns)\n",
    "_ = s.plot(kind='bar', figsize=(12, 4), title='Coefficients')"
   ]
  },
  {
   "cell_type": "markdown",
   "id": "b017857f-bc69-435b-9af3-3c2e846a8e7a",
   "metadata": {},
   "source": [
    "### Step 8: plot residuals"
   ]
  },
  {
   "cell_type": "code",
   "execution_count": 35,
   "id": "eb620b4b-46f2-4007-a434-77eea79179c8",
   "metadata": {
    "execution": {
     "iopub.execute_input": "2022-01-31T21:55:59.277727Z",
     "iopub.status.busy": "2022-01-31T21:55:59.277727Z",
     "iopub.status.idle": "2022-01-31T21:55:59.435724Z",
     "shell.execute_reply": "2022-01-31T21:55:59.435724Z",
     "shell.execute_reply.started": "2022-01-31T21:55:59.277727Z"
    },
    "tags": []
   },
   "outputs": [
    {
     "data": {
      "image/png": "[encoded data removed]",
      "text/plain": [
       "<Figure size 432x288 with 1 Axes>"
      ]
     },
     "metadata": {},
     "output_type": "display_data"
    }
   ],
   "source": [
    "s = y - model.predict(X)\n",
    "s = s[s > 0]\n",
    "s = np.log(s)\n",
    "_ = s.plot(kind='kde', title='Residual Plot')"
   ]
  },
  {
   "cell_type": "markdown",
   "id": "7a4a8eb7-2523-4c15-bd1c-c21c654475c3",
   "metadata": {},
   "source": [
    "Using the Anderson-Darling test for normal distribution. If p < $\\alpha=0.05$, then the results mean non-normal."
   ]
  },
  {
   "cell_type": "code",
   "execution_count": 36,
   "id": "75f9b5a9-9d43-4006-96b0-504bb011d3c1",
   "metadata": {
    "execution": {
     "iopub.execute_input": "2022-01-31T21:55:59.436726Z",
     "iopub.status.busy": "2022-01-31T21:55:59.436726Z",
     "iopub.status.idle": "2022-01-31T21:55:59.483724Z",
     "shell.execute_reply": "2022-01-31T21:55:59.483724Z",
     "shell.execute_reply.started": "2022-01-31T21:55:59.436726Z"
    },
    "tags": []
   },
   "outputs": [
    {
     "data": {
      "text/plain": [
       "0.0"
      ]
     },
     "execution_count": 36,
     "metadata": {},
     "output_type": "execute_result"
    }
   ],
   "source": [
    "from statsmodels.stats.diagnostic import normal_ad\n",
    "\n",
    "_, p_value = normal_ad(s)\n",
    "p_value"
   ]
  },
  {
   "cell_type": "markdown",
   "id": "4d800699-63b6-4bbc-8c7b-653b2820ce81",
   "metadata": {},
   "source": [
    "### Step 9: compute R^2"
   ]
  },
  {
   "cell_type": "code",
   "execution_count": 37,
   "id": "d7e3540e-afe6-4e9a-a30e-36c3a1bf77cb",
   "metadata": {
    "execution": {
     "iopub.execute_input": "2022-01-31T21:55:59.484724Z",
     "iopub.status.busy": "2022-01-31T21:55:59.484724Z",
     "iopub.status.idle": "2022-01-31T21:55:59.498724Z",
     "shell.execute_reply": "2022-01-31T21:55:59.498724Z",
     "shell.execute_reply.started": "2022-01-31T21:55:59.484724Z"
    },
    "tags": []
   },
   "outputs": [
    {
     "data": {
      "text/plain": [
       "0.020959596864369434"
      ]
     },
     "execution_count": 37,
     "metadata": {},
     "output_type": "execute_result"
    }
   ],
   "source": [
    "r2_score(y, model.predict(X))"
   ]
  },
  {
   "cell_type": "markdown",
   "id": "5c898322-df6e-45f1-ae8d-f1769bfc22ce",
   "metadata": {},
   "source": [
    "### Step 10: top 10 predictors"
   ]
  },
  {
   "cell_type": "code",
   "execution_count": 38,
   "id": "c575704e-2818-4037-81c3-db4f65b79493",
   "metadata": {
    "execution": {
     "iopub.execute_input": "2022-01-31T21:55:59.499724Z",
     "iopub.status.busy": "2022-01-31T21:55:59.499724Z",
     "iopub.status.idle": "2022-01-31T21:55:59.513724Z",
     "shell.execute_reply": "2022-01-31T21:55:59.513724Z",
     "shell.execute_reply.started": "2022-01-31T21:55:59.499724Z"
    },
    "tags": []
   },
   "outputs": [
    {
     "data": {
      "text/plain": [
       "10110    9.382847\n",
       "7488     8.947514\n",
       "18820    8.895615\n",
       "22632    8.809463\n",
       "11447    8.624106\n",
       "21842    8.547479\n",
       "6151     8.522604\n",
       "13603    8.515961\n",
       "12962    8.363580\n",
       "10538    8.361604\n",
       "Name: Daily All Cost, dtype: float64"
      ]
     },
     "execution_count": 38,
     "metadata": {},
     "output_type": "execute_result"
    }
   ],
   "source": [
    "np.abs(s).sort_values(ascending=False)[0:10]"
   ]
  },
  {
   "cell_type": "markdown",
   "id": "bb331192-345c-4564-97a4-f2358c336ada",
   "metadata": {},
   "source": [
    "### Step 11: does MFH contribute to cost of care?"
   ]
  },
  {
   "cell_type": "markdown",
   "id": "bfb188aa-61df-4286-98e3-3a5aba68c219",
   "metadata": {},
   "source": [
    "Yes. Why?"
   ]
  },
  {
   "cell_type": "markdown",
   "id": "11c091c5-a5f8-4912-adaa-20a4aa498eb1",
   "metadata": {},
   "source": [
    "## Question 3"
   ]
  },
  {
   "cell_type": "code",
   "execution_count": 39,
   "id": "82b55bd4-8449-496e-80bc-f1ac92d8c603",
   "metadata": {
    "execution": {
     "iopub.execute_input": "2022-01-31T21:55:59.514726Z",
     "iopub.status.busy": "2022-01-31T21:55:59.514726Z",
     "iopub.status.idle": "2022-01-31T21:55:59.783790Z",
     "shell.execute_reply": "2022-01-31T21:55:59.783790Z",
     "shell.execute_reply.started": "2022-01-31T21:55:59.514726Z"
    }
   },
   "outputs": [
    {
     "data": {
      "text/plain": [
       "(33, 5)"
      ]
     },
     "execution_count": 39,
     "metadata": {},
     "output_type": "execute_result"
    }
   ],
   "source": [
    "df = pd.read_excel('High Cost Users.xlsx')\n",
    "df.shape"
   ]
  },
  {
   "cell_type": "code",
   "execution_count": 40,
   "id": "44a21df1-d687-4f77-8e44-ba1d0a012f37",
   "metadata": {
    "execution": {
     "iopub.execute_input": "2022-01-31T21:55:59.784787Z",
     "iopub.status.busy": "2022-01-31T21:55:59.784787Z",
     "iopub.status.idle": "2022-01-31T21:55:59.799602Z",
     "shell.execute_reply": "2022-01-31T21:55:59.799602Z",
     "shell.execute_reply.started": "2022-01-31T21:55:59.784787Z"
    },
    "tags": []
   },
   "outputs": [
    {
     "data": {
      "text/plain": [
       "((33, 3), (33,))"
      ]
     },
     "execution_count": 40,
     "metadata": {},
     "output_type": "execute_result"
    }
   ],
   "source": [
    "X = df[['Male', 'Over 65 Years', 'High Cost User']]\n",
    "y = df['Cost']\n",
    "\n",
    "X.shape, y.shape"
   ]
  },
  {
   "cell_type": "code",
   "execution_count": 41,
   "id": "af43e966-6a84-4235-956a-5deb938a6d45",
   "metadata": {
    "execution": {
     "iopub.execute_input": "2022-01-31T21:55:59.800600Z",
     "iopub.status.busy": "2022-01-31T21:55:59.800600Z",
     "iopub.status.idle": "2022-01-31T21:55:59.815600Z",
     "shell.execute_reply": "2022-01-31T21:55:59.815600Z",
     "shell.execute_reply.started": "2022-01-31T21:55:59.800600Z"
    },
    "tags": []
   },
   "outputs": [
    {
     "data": {
      "text/plain": [
       "(-6420.003088115038, array([ 9881.80591782, 11644.75980574, 12625.33537389]))"
      ]
     },
     "execution_count": 41,
     "metadata": {},
     "output_type": "execute_result"
    }
   ],
   "source": [
    "model = LinearRegression()\n",
    "model.fit(X, y)\n",
    "\n",
    "model.intercept_, model.coef_"
   ]
  },
  {
   "cell_type": "code",
   "execution_count": 42,
   "id": "27f183b2-045a-4930-bf3b-8b480e368322",
   "metadata": {
    "execution": {
     "iopub.execute_input": "2022-01-31T21:55:59.816600Z",
     "iopub.status.busy": "2022-01-31T21:55:59.816600Z",
     "iopub.status.idle": "2022-01-31T21:55:59.831609Z",
     "shell.execute_reply": "2022-01-31T21:55:59.831609Z",
     "shell.execute_reply.started": "2022-01-31T21:55:59.816600Z"
    }
   },
   "outputs": [
    {
     "data": {
      "text/plain": [
       "0.840486063379756"
      ]
     },
     "execution_count": 42,
     "metadata": {},
     "output_type": "execute_result"
    }
   ],
   "source": [
    "r2_score(y, model.predict(X))"
   ]
  },
  {
   "cell_type": "markdown",
   "id": "a9184814-c709-4a05-bfb6-ac51f974fd8e",
   "metadata": {},
   "source": [
    "## Question 4"
   ]
  },
  {
   "cell_type": "markdown",
   "id": "62c924ca-4b47-4a7a-a906-bac99e5fe7ea",
   "metadata": {},
   "source": [
    "If X1 and X2 are significant predictors of Y, X3 and X4 are not, and no interactions are significant; then what is the Markov Blanket for Y?  How is the concept of Markov Blanket related to multi-collinearity? "
   ]
  },
  {
   "cell_type": "code",
   "execution_count": null,
   "id": "b2c89563-c2a3-43b6-891c-93660fd32a12",
   "metadata": {},
   "outputs": [],
   "source": []
  },
  {
   "cell_type": "markdown",
   "id": "69a0a2e9-81c5-46e3-950a-a3f9ad6784f5",
   "metadata": {},
   "source": [
    "Suppose X2 occurs after Y and X1 occurs prior to Y, what is a Markov Blanket that separates variables that are irrelevant and could possibly be causes of Y.  Keep in mind that a cause is something that occurs prior to effect, has a significant association with the effect, has a mechanism leading from cause to effect, and if cause is removed then the effect is less likely to occur, Cetris Peribus. "
   ]
  },
  {
   "cell_type": "code",
   "execution_count": null,
   "id": "ac42f5cb-1c71-4eff-ab81-a6df7ae617c9",
   "metadata": {},
   "outputs": [],
   "source": []
  }
 ],
 "metadata": {
  "kernelspec": {
   "display_name": "Python 3",
   "language": "python",
   "name": "python3"
  },
  "language_info": {
   "codemirror_mode": {
    "name": "ipython",
    "version": 3
   },
   "file_extension": ".py",
   "mimetype": "text/x-python",
   "name": "python",
   "nbconvert_exporter": "python",
   "pygments_lexer": "ipython3",
   "version": "3.8.5"
  },
  "widgets": {
   "application/vnd.jupyter.widget-state+json": {
    "state": {},
    "version_major": 2,
    "version_minor": 0
   }
  }
 },
 "nbformat": 4,
 "nbformat_minor": 5
}
