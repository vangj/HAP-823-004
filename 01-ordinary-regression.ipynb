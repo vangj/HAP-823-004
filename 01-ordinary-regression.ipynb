{
 "cells": [
  {
   "cell_type": "markdown",
   "id": "91029f49-1b20-41b7-aecb-21d76287003b",
   "metadata": {},
   "source": [
    "# Question 2"
   ]
  },
  {
   "cell_type": "markdown",
   "id": "a739972e-028c-4abe-85e9-b60c63ddf54a",
   "metadata": {},
   "source": [
    "## Load data"
   ]
  },
  {
   "cell_type": "code",
   "execution_count": 2,
   "id": "271f936c-1bab-4db0-b2b3-1a4fe7827fcc",
   "metadata": {
    "execution": {
     "iopub.execute_input": "2022-01-27T21:11:21.414028Z",
     "iopub.status.busy": "2022-01-27T21:11:21.414028Z",
     "iopub.status.idle": "2022-01-27T21:11:24.812323Z",
     "shell.execute_reply": "2022-01-27T21:11:24.812323Z",
     "shell.execute_reply.started": "2022-01-27T21:11:21.414028Z"
    },
    "tags": []
   },
   "outputs": [],
   "source": [
    "import pandas as pd\n",
    "\n",
    "df = pd.read_csv('MFH cost Jan 2018.csv', low_memory=False)"
   ]
  },
  {
   "cell_type": "code",
   "execution_count": 3,
   "id": "aa2ac70e-d521-409e-a8b4-40010370c684",
   "metadata": {
    "execution": {
     "iopub.execute_input": "2022-01-27T21:11:27.683645Z",
     "iopub.status.busy": "2022-01-27T21:11:27.683645Z",
     "iopub.status.idle": "2022-01-27T21:11:27.703648Z",
     "shell.execute_reply": "2022-01-27T21:11:27.702647Z",
     "shell.execute_reply.started": "2022-01-27T21:11:27.683645Z"
    }
   },
   "outputs": [
    {
     "data": {
      "text/plain": [
       "(39139, 540)"
      ]
     },
     "execution_count": 3,
     "metadata": {},
     "output_type": "execute_result"
    }
   ],
   "source": [
    "df.shape"
   ]
  },
  {
   "cell_type": "code",
   "execution_count": 52,
   "id": "2766cfda-1fa6-421c-a7f5-47463b0048f8",
   "metadata": {
    "execution": {
     "iopub.execute_input": "2022-01-27T23:14:03.613489Z",
     "iopub.status.busy": "2022-01-27T23:14:03.613489Z",
     "iopub.status.idle": "2022-01-27T23:14:03.623493Z",
     "shell.execute_reply": "2022-01-27T23:14:03.623493Z",
     "shell.execute_reply.started": "2022-01-27T23:14:03.613489Z"
    },
    "tags": []
   },
   "outputs": [],
   "source": [
    "# ', '.join(sorted(df.columns))"
   ]
  },
  {
   "cell_type": "raw",
   "id": "eb2df20b-4df8-4f20-90f5-ff60ee9d94b5",
   "metadata": {
    "execution": {
     "iopub.execute_input": "2022-01-27T21:12:40.957140Z",
     "iopub.status.busy": "2022-01-27T21:12:40.957140Z",
     "iopub.status.idle": "2022-01-27T21:12:41.508511Z",
     "shell.execute_reply": "2022-01-27T21:12:41.508511Z",
     "shell.execute_reply.started": "2022-01-27T21:12:40.957140Z"
    }
   },
   "source": [
    "df.drop_duplicates().shape"
   ]
  },
  {
   "cell_type": "code",
   "execution_count": 14,
   "id": "e6533f3f-a4e4-42dd-8958-5033db5cc408",
   "metadata": {
    "execution": {
     "iopub.execute_input": "2022-01-27T21:16:55.856648Z",
     "iopub.status.busy": "2022-01-27T21:16:55.856648Z",
     "iopub.status.idle": "2022-01-27T21:16:55.876648Z",
     "shell.execute_reply": "2022-01-27T21:16:55.876648Z",
     "shell.execute_reply.started": "2022-01-27T21:16:55.856648Z"
    }
   },
   "outputs": [
    {
     "data": {
      "text/plain": [
       "age             0.320243\n",
       "dayssurvived    0.603388\n",
       "dtype: float64"
      ]
     },
     "execution_count": 14,
     "metadata": {},
     "output_type": "execute_result"
    }
   ],
   "source": [
    "df[['age', 'dayssurvived']].isna().sum() / df.shape[0]"
   ]
  },
  {
   "cell_type": "markdown",
   "id": "80573064-209e-49f5-b25e-4bd39a311b8f",
   "metadata": {},
   "source": [
    "## Step 2"
   ]
  },
  {
   "cell_type": "code",
   "execution_count": 20,
   "id": "95ad63b5-b65d-4bc1-974e-e156d0f80b14",
   "metadata": {
    "execution": {
     "iopub.execute_input": "2022-01-27T21:19:24.649344Z",
     "iopub.status.busy": "2022-01-27T21:19:24.649344Z",
     "iopub.status.idle": "2022-01-27T21:19:24.677345Z",
     "shell.execute_reply": "2022-01-27T21:19:24.677345Z",
     "shell.execute_reply.started": "2022-01-27T21:19:24.649344Z"
    },
    "tags": []
   },
   "outputs": [
    {
     "data": {
      "text/html": [
       "<div>\n",
       "<style scoped>\n",
       "    .dataframe tbody tr th:only-of-type {\n",
       "        vertical-align: middle;\n",
       "    }\n",
       "\n",
       "    .dataframe tbody tr th {\n",
       "        vertical-align: top;\n",
       "    }\n",
       "\n",
       "    .dataframe thead th {\n",
       "        text-align: right;\n",
       "    }\n",
       "</style>\n",
       "<table border=\"1\" class=\"dataframe\">\n",
       "  <thead>\n",
       "    <tr style=\"text-align: right;\">\n",
       "      <th></th>\n",
       "      <th>age</th>\n",
       "      <th>dayssurvived</th>\n",
       "      <th>Daily All Cost</th>\n",
       "    </tr>\n",
       "  </thead>\n",
       "  <tbody>\n",
       "    <tr>\n",
       "      <th>count</th>\n",
       "      <td>26605.000000</td>\n",
       "      <td>15523.000000</td>\n",
       "      <td>39139.000000</td>\n",
       "    </tr>\n",
       "    <tr>\n",
       "      <th>mean</th>\n",
       "      <td>72.159895</td>\n",
       "      <td>1398.196289</td>\n",
       "      <td>250.493208</td>\n",
       "    </tr>\n",
       "    <tr>\n",
       "      <th>std</th>\n",
       "      <td>12.403902</td>\n",
       "      <td>969.020255</td>\n",
       "      <td>325.002145</td>\n",
       "    </tr>\n",
       "    <tr>\n",
       "      <th>min</th>\n",
       "      <td>22.000000</td>\n",
       "      <td>14.000000</td>\n",
       "      <td>0.000000</td>\n",
       "    </tr>\n",
       "    <tr>\n",
       "      <th>25%</th>\n",
       "      <td>63.000000</td>\n",
       "      <td>687.000000</td>\n",
       "      <td>85.837450</td>\n",
       "    </tr>\n",
       "    <tr>\n",
       "      <th>50%</th>\n",
       "      <td>73.000000</td>\n",
       "      <td>1107.000000</td>\n",
       "      <td>180.140400</td>\n",
       "    </tr>\n",
       "    <tr>\n",
       "      <th>75%</th>\n",
       "      <td>83.000000</td>\n",
       "      <td>1830.500000</td>\n",
       "      <td>299.267589</td>\n",
       "    </tr>\n",
       "    <tr>\n",
       "      <th>max</th>\n",
       "      <td>105.000000</td>\n",
       "      <td>6210.000000</td>\n",
       "      <td>12210.619010</td>\n",
       "    </tr>\n",
       "  </tbody>\n",
       "</table>\n",
       "</div>"
      ],
      "text/plain": [
       "                age  dayssurvived  Daily All Cost\n",
       "count  26605.000000  15523.000000    39139.000000\n",
       "mean      72.159895   1398.196289      250.493208\n",
       "std       12.403902    969.020255      325.002145\n",
       "min       22.000000     14.000000        0.000000\n",
       "25%       63.000000    687.000000       85.837450\n",
       "50%       73.000000   1107.000000      180.140400\n",
       "75%       83.000000   1830.500000      299.267589\n",
       "max      105.000000   6210.000000    12210.619010"
      ]
     },
     "execution_count": 20,
     "metadata": {},
     "output_type": "execute_result"
    }
   ],
   "source": [
    "df[['age', 'gender', 'dayssurvived', 'Daily All Cost']].describe()"
   ]
  },
  {
   "cell_type": "code",
   "execution_count": 21,
   "id": "70bed315-01f5-491f-bcc0-093b6637e551",
   "metadata": {
    "execution": {
     "iopub.execute_input": "2022-01-27T21:19:50.808246Z",
     "iopub.status.busy": "2022-01-27T21:19:50.807244Z",
     "iopub.status.idle": "2022-01-27T21:19:50.830245Z",
     "shell.execute_reply": "2022-01-27T21:19:50.830245Z",
     "shell.execute_reply.started": "2022-01-27T21:19:50.808246Z"
    }
   },
   "outputs": [
    {
     "data": {
      "text/plain": [
       "age               0.320243\n",
       "gender            0.320167\n",
       "dayssurvived      0.603388\n",
       "Daily All Cost    0.000000\n",
       "dtype: float64"
      ]
     },
     "execution_count": 21,
     "metadata": {},
     "output_type": "execute_result"
    }
   ],
   "source": [
    "df[['age', 'gender', 'dayssurvived', 'Daily All Cost']].isna().sum() / df.shape[0]"
   ]
  },
  {
   "cell_type": "markdown",
   "id": "2af97cf5-12db-4710-a5c8-599bae8801cd",
   "metadata": {},
   "source": [
    "## Step 3"
   ]
  },
  {
   "cell_type": "code",
   "execution_count": 50,
   "id": "21bd3823-0665-4290-b1d4-21dee0ab0f81",
   "metadata": {
    "execution": {
     "iopub.execute_input": "2022-01-27T22:07:09.094968Z",
     "iopub.status.busy": "2022-01-27T22:07:09.093966Z",
     "iopub.status.idle": "2022-01-27T22:07:11.012491Z",
     "shell.execute_reply": "2022-01-27T22:07:11.012491Z",
     "shell.execute_reply.started": "2022-01-27T22:07:09.094968Z"
    }
   },
   "outputs": [
    {
     "data": {
      "text/plain": [
       "<AxesSubplot:ylabel='Density'>"
      ]
     },
     "execution_count": 50,
     "metadata": {},
     "output_type": "execute_result"
    },
    {
     "data": {
      "image/png": "[encoded data removed]",
      "text/plain": [
       "<Figure size 432x288 with 1 Axes>"
      ]
     },
     "metadata": {
      "needs_background": "light"
     },
     "output_type": "display_data"
    }
   ],
   "source": [
    "s = df.dropna(subset=['Daily All Cost'])['Daily All Cost']\n",
    "s = s[s > 0]\n",
    "s.plot(kind='kde')"
   ]
  },
  {
   "cell_type": "code",
   "execution_count": 31,
   "id": "f8cb4d5b-757a-4616-b775-64b4c329a781",
   "metadata": {
    "execution": {
     "iopub.execute_input": "2022-01-27T21:23:28.377007Z",
     "iopub.status.busy": "2022-01-27T21:23:28.377007Z",
     "iopub.status.idle": "2022-01-27T21:23:29.670524Z",
     "shell.execute_reply": "2022-01-27T21:23:29.670524Z",
     "shell.execute_reply.started": "2022-01-27T21:23:28.377007Z"
    },
    "tags": []
   },
   "outputs": [
    {
     "data": {
      "text/plain": [
       "<AxesSubplot:ylabel='Density'>"
      ]
     },
     "execution_count": 31,
     "metadata": {},
     "output_type": "execute_result"
    },
    {
     "data": {
      "image/png": "[encoded data removed]",
      "text/plain": [
       "<Figure size 432x288 with 1 Axes>"
      ]
     },
     "metadata": {
      "needs_background": "light"
     },
     "output_type": "display_data"
    }
   ],
   "source": [
    "import numpy as np\n",
    "\n",
    "s = df.dropna(subset=['Daily All Cost'])['Daily All Cost']\n",
    "s = s[s > 0]\n",
    "s = np.log(s)\n",
    "s.plot(kind='kde')"
   ]
  },
  {
   "cell_type": "markdown",
   "id": "de5e6d63-c633-4005-ada8-c08ed0e39d14",
   "metadata": {},
   "source": [
    "## Step 4"
   ]
  },
  {
   "cell_type": "code",
   "execution_count": 32,
   "id": "3c74fc67-c3a5-4310-a612-78f88f3f5d22",
   "metadata": {
    "execution": {
     "iopub.execute_input": "2022-01-27T21:24:19.957190Z",
     "iopub.status.busy": "2022-01-27T21:24:19.956190Z",
     "iopub.status.idle": "2022-01-27T21:24:20.351877Z",
     "shell.execute_reply": "2022-01-27T21:24:20.351877Z",
     "shell.execute_reply.started": "2022-01-27T21:24:19.957190Z"
    }
   },
   "outputs": [
    {
     "data": {
      "text/plain": [
       "<AxesSubplot:xlabel='age', ylabel='Daily All Cost'>"
      ]
     },
     "execution_count": 32,
     "metadata": {},
     "output_type": "execute_result"
    },
    {
     "data": {
      "image/png": "[encoded data removed]",
      "text/plain": [
       "<Figure size 432x288 with 1 Axes>"
      ]
     },
     "metadata": {
      "needs_background": "light"
     },
     "output_type": "display_data"
    }
   ],
   "source": [
    "df.plot(kind='scatter', x='age', y='Daily All Cost')"
   ]
  },
  {
   "cell_type": "markdown",
   "id": "14f21206-d83e-4068-a317-4ccc16323e32",
   "metadata": {},
   "source": [
    "## Step 5"
   ]
  },
  {
   "cell_type": "code",
   "execution_count": 37,
   "id": "20826a99-4121-4ecb-bfc5-7f9d186f3ff8",
   "metadata": {
    "execution": {
     "iopub.execute_input": "2022-01-27T21:28:20.690149Z",
     "iopub.status.busy": "2022-01-27T21:28:20.690149Z",
     "iopub.status.idle": "2022-01-27T21:28:20.701153Z",
     "shell.execute_reply": "2022-01-27T21:28:20.701153Z",
     "shell.execute_reply.started": "2022-01-27T21:28:20.690149Z"
    }
   },
   "outputs": [
    {
     "data": {
      "text/plain": [
       "M    25583\n",
       "F     1025\n",
       "Name: gender, dtype: int64"
      ]
     },
     "execution_count": 37,
     "metadata": {},
     "output_type": "execute_result"
    }
   ],
   "source": [
    "df['gender'].value_counts()"
   ]
  },
  {
   "cell_type": "code",
   "execution_count": 40,
   "id": "2e1e4e77-d267-47f9-925d-a1ed04c56f0c",
   "metadata": {
    "execution": {
     "iopub.execute_input": "2022-01-27T21:29:00.663135Z",
     "iopub.status.busy": "2022-01-27T21:29:00.663135Z",
     "iopub.status.idle": "2022-01-27T21:29:00.794698Z",
     "shell.execute_reply": "2022-01-27T21:29:00.793694Z",
     "shell.execute_reply.started": "2022-01-27T21:29:00.663135Z"
    },
    "tags": []
   },
   "outputs": [
    {
     "data": {
      "text/plain": [
       "((26605, 2), (26605,))"
      ]
     },
     "execution_count": 40,
     "metadata": {},
     "output_type": "execute_result"
    }
   ],
   "source": [
    "X = df.dropna(subset=['age', 'gender', 'Daily All Cost'])\n",
    "X = X[X['Daily All Cost'] > 0]\n",
    "X['gender'] = X['gender'].apply(lambda v: 1 if v == 'M' else 0)\n",
    "X, y = X[['age', 'gender']], X['Daily All Cost']\n",
    "\n",
    "X.shape, y.shape"
   ]
  },
  {
   "cell_type": "code",
   "execution_count": 41,
   "id": "b09d2526-368c-4fd1-8da7-9b3a740b3150",
   "metadata": {
    "execution": {
     "iopub.execute_input": "2022-01-27T21:29:02.011177Z",
     "iopub.status.busy": "2022-01-27T21:29:02.011177Z",
     "iopub.status.idle": "2022-01-27T21:29:02.026179Z",
     "shell.execute_reply": "2022-01-27T21:29:02.026179Z",
     "shell.execute_reply.started": "2022-01-27T21:29:02.011177Z"
    },
    "tags": []
   },
   "outputs": [
    {
     "data": {
      "text/plain": [
       "(264.3420036647272, array([0.12883604, 0.63987923]))"
      ]
     },
     "execution_count": 41,
     "metadata": {},
     "output_type": "execute_result"
    }
   ],
   "source": [
    "from sklearn.linear_model import LinearRegression\n",
    "\n",
    "model = LinearRegression()\n",
    "model.fit(X, y)\n",
    "\n",
    "model.intercept_, model.coef_"
   ]
  },
  {
   "cell_type": "code",
   "execution_count": 48,
   "id": "748b4fb2-206a-47e2-8137-aacb4e581af4",
   "metadata": {
    "execution": {
     "iopub.execute_input": "2022-01-27T21:34:38.873518Z",
     "iopub.status.busy": "2022-01-27T21:34:38.873518Z",
     "iopub.status.idle": "2022-01-27T21:34:38.888516Z",
     "shell.execute_reply": "2022-01-27T21:34:38.888516Z",
     "shell.execute_reply.started": "2022-01-27T21:34:38.873518Z"
    },
    "tags": []
   },
   "outputs": [
    {
     "data": {
      "text/plain": [
       "(2.242432612920009e-05, 0.004735433045583063)"
      ]
     },
     "execution_count": 48,
     "metadata": {},
     "output_type": "execute_result"
    }
   ],
   "source": [
    "from sklearn.metrics import r2_score, explained_variance_score\n",
    "\n",
    "r2_score(y, model.predict(X)), np.sqrt(r2_score(y, model.predict(X)))"
   ]
  },
  {
   "cell_type": "code",
   "execution_count": null,
   "id": "f23915fb-b3ac-4133-a02b-fe99ecf95c24",
   "metadata": {},
   "outputs": [],
   "source": []
  }
 ],
 "metadata": {
  "kernelspec": {
   "display_name": "Python 3",
   "language": "python",
   "name": "python3"
  },
  "language_info": {
   "codemirror_mode": {
    "name": "ipython",
    "version": 3
   },
   "file_extension": ".py",
   "mimetype": "text/x-python",
   "name": "python",
   "nbconvert_exporter": "python",
   "pygments_lexer": "ipython3",
   "version": "3.8.5"
  },
  "widgets": {
   "application/vnd.jupyter.widget-state+json": {
    "state": {},
    "version_major": 2,
    "version_minor": 0
   }
  }
 },
 "nbformat": 4,
 "nbformat_minor": 5
}
