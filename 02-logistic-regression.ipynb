{
 "cells": [
  {
   "cell_type": "markdown",
   "id": "08ccb28d-b6c6-4ff1-b058-821a3c1991a2",
   "metadata": {},
   "source": [
    "# Logistic Regression\n",
    "\n",
    "From [http://openonlinecourses.com/causalanalysis/Logistic%20Regression.asp](http://openonlinecourses.com/causalanalysis/Logistic%20Regression.asp)."
   ]
  },
  {
   "cell_type": "markdown",
   "id": "b95fba7f-95cb-4084-9572-1e5a3f7b7ba0",
   "metadata": {},
   "source": [
    "## Question 1"
   ]
  },
  {
   "cell_type": "code",
   "execution_count": 6,
   "id": "bdbc2850-ef02-4ee4-897d-0bdc56a2ea19",
   "metadata": {
    "execution": {
     "iopub.execute_input": "2022-01-31T22:00:31.591654Z",
     "iopub.status.busy": "2022-01-31T22:00:31.591654Z",
     "iopub.status.idle": "2022-01-31T22:00:31.599652Z",
     "shell.execute_reply": "2022-01-31T22:00:31.599652Z",
     "shell.execute_reply.started": "2022-01-31T22:00:31.591654Z"
    },
    "tags": []
   },
   "outputs": [
    {
     "data": {
      "text/plain": [
       "1.0986122886681098"
      ]
     },
     "execution_count": 6,
     "metadata": {},
     "output_type": "execute_result"
    }
   ],
   "source": [
    "import numpy as np\n",
    "\n",
    "np.log(0.75 / 0.25)"
   ]
  },
  {
   "cell_type": "code",
   "execution_count": 7,
   "id": "0b1173c2-40f0-4fd8-89ca-698cc2acfdf1",
   "metadata": {
    "execution": {
     "iopub.execute_input": "2022-01-31T22:00:39.967081Z",
     "iopub.status.busy": "2022-01-31T22:00:39.967081Z",
     "iopub.status.idle": "2022-01-31T22:00:39.974069Z",
     "shell.execute_reply": "2022-01-31T22:00:39.974069Z",
     "shell.execute_reply.started": "2022-01-31T22:00:39.967081Z"
    },
    "tags": []
   },
   "outputs": [
    {
     "data": {
      "text/plain": [
       "1.3862943611198906"
      ]
     },
     "execution_count": 7,
     "metadata": {},
     "output_type": "execute_result"
    }
   ],
   "source": [
    "np.log(0.8 / 0.2)"
   ]
  },
  {
   "cell_type": "markdown",
   "id": "f0311016-a950-4f26-8264-c20a3e898a96",
   "metadata": {},
   "source": [
    "## Question 2"
   ]
  },
  {
   "cell_type": "code",
   "execution_count": null,
   "id": "ab98c943-39b3-4252-8425-104044a7822d",
   "metadata": {},
   "outputs": [],
   "source": []
  }
 ],
 "metadata": {
  "kernelspec": {
   "display_name": "Python 3",
   "language": "python",
   "name": "python3"
  },
  "language_info": {
   "codemirror_mode": {
    "name": "ipython",
    "version": 3
   },
   "file_extension": ".py",
   "mimetype": "text/x-python",
   "name": "python",
   "nbconvert_exporter": "python",
   "pygments_lexer": "ipython3",
   "version": "3.8.5"
  },
  "widgets": {
   "application/vnd.jupyter.widget-state+json": {
    "state": {},
    "version_major": 2,
    "version_minor": 0
   }
  }
 },
 "nbformat": 4,
 "nbformat_minor": 5
}
