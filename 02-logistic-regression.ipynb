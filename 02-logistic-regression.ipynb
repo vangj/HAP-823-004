{
 "cells": [
  {
   "cell_type": "markdown",
   "id": "paperback-classic",
   "metadata": {},
   "source": [
    "# Logistic Regression\n",
    "\n",
    "From [http://openonlinecourses.com/causalanalysis/Logistic%20Regression.asp](http://openonlinecourses.com/causalanalysis/Logistic%20Regression.asp)."
   ]
  },
  {
   "cell_type": "markdown",
   "id": "becoming-shopper",
   "metadata": {},
   "source": [
    "## Question 1"
   ]
  },
  {
   "cell_type": "code",
   "execution_count": 1,
   "id": "persistent-nursery",
   "metadata": {
    "execution": {
     "iopub.status.idle": "2022-02-01T04:49:59.810732Z",
     "shell.execute_reply": "2022-02-01T04:49:59.810328Z",
     "shell.execute_reply.started": "2022-02-01T04:49:59.757539Z"
    },
    "tags": []
   },
   "outputs": [
    {
     "data": {
      "text/plain": [
       "1.0986122886681098"
      ]
     },
     "execution_count": 1,
     "metadata": {},
     "output_type": "execute_result"
    }
   ],
   "source": [
    "import numpy as np\n",
    "\n",
    "np.log(0.75 / 0.25)"
   ]
  },
  {
   "cell_type": "code",
   "execution_count": 2,
   "id": "southern-heart",
   "metadata": {
    "execution": {
     "iopub.execute_input": "2022-02-01T04:49:59.811645Z",
     "iopub.status.busy": "2022-02-01T04:49:59.811480Z",
     "iopub.status.idle": "2022-02-01T04:49:59.814717Z",
     "shell.execute_reply": "2022-02-01T04:49:59.814265Z",
     "shell.execute_reply.started": "2022-02-01T04:49:59.811624Z"
    },
    "tags": []
   },
   "outputs": [
    {
     "data": {
      "text/plain": [
       "1.3862943611198906"
      ]
     },
     "execution_count": 2,
     "metadata": {},
     "output_type": "execute_result"
    }
   ],
   "source": [
    "np.log(0.8 / 0.2)"
   ]
  },
  {
   "cell_type": "markdown",
   "id": "further-pharmaceutical",
   "metadata": {},
   "source": [
    "## Question 2"
   ]
  },
  {
   "cell_type": "code",
   "execution_count": 3,
   "id": "universal-shoot",
   "metadata": {
    "execution": {
     "iopub.execute_input": "2022-02-01T04:49:59.815959Z",
     "iopub.status.busy": "2022-02-01T04:49:59.815798Z",
     "iopub.status.idle": "2022-02-01T04:49:59.945778Z",
     "shell.execute_reply": "2022-02-01T04:49:59.945308Z",
     "shell.execute_reply.started": "2022-02-01T04:49:59.815945Z"
    }
   },
   "outputs": [
    {
     "data": {
      "text/plain": [
       "(26585, 15)"
      ]
     },
     "execution_count": 3,
     "metadata": {},
     "output_type": "execute_result"
    }
   ],
   "source": [
    "import pandas as pd\n",
    "\n",
    "df = pd.read_csv('MFH.csv')\n",
    "df.shape"
   ]
  },
  {
   "cell_type": "code",
   "execution_count": 4,
   "id": "unlikely-violence",
   "metadata": {
    "execution": {
     "iopub.execute_input": "2022-02-01T04:49:59.946822Z",
     "iopub.status.busy": "2022-02-01T04:49:59.946657Z",
     "iopub.status.idle": "2022-02-01T04:49:59.960181Z",
     "shell.execute_reply": "2022-02-01T04:49:59.959714Z",
     "shell.execute_reply.started": "2022-02-01T04:49:59.946801Z"
    }
   },
   "outputs": [
    {
     "data": {
      "text/html": [
       "<div>\n",
       "<style scoped>\n",
       "    .dataframe tbody tr th:only-of-type {\n",
       "        vertical-align: middle;\n",
       "    }\n",
       "\n",
       "    .dataframe tbody tr th {\n",
       "        vertical-align: top;\n",
       "    }\n",
       "\n",
       "    .dataframe thead th {\n",
       "        text-align: right;\n",
       "    }\n",
       "</style>\n",
       "<table border=\"1\" class=\"dataframe\">\n",
       "  <thead>\n",
       "    <tr style=\"text-align: right;\">\n",
       "      <th></th>\n",
       "      <th>MFH</th>\n",
       "      <th>death6m</th>\n",
       "      <th>bathing_365</th>\n",
       "      <th>bladder_365</th>\n",
       "      <th>bowelincontinence_365</th>\n",
       "      <th>dressing_365</th>\n",
       "      <th>eating_365</th>\n",
       "      <th>grooming_365</th>\n",
       "      <th>toileting_365</th>\n",
       "      <th>transferring_365</th>\n",
       "      <th>walking_365</th>\n",
       "      <th>gender</th>\n",
       "      <th>race</th>\n",
       "      <th>age</th>\n",
       "      <th>ID</th>\n",
       "    </tr>\n",
       "  </thead>\n",
       "  <tbody>\n",
       "    <tr>\n",
       "      <th>0</th>\n",
       "      <td>1</td>\n",
       "      <td>0</td>\n",
       "      <td>0.78</td>\n",
       "      <td>0.48</td>\n",
       "      <td>0.58</td>\n",
       "      <td>0.75</td>\n",
       "      <td>0.56</td>\n",
       "      <td>0.720000</td>\n",
       "      <td>0.68</td>\n",
       "      <td>0.68</td>\n",
       "      <td>0.77</td>\n",
       "      <td>M</td>\n",
       "      <td>B</td>\n",
       "      <td>88.0</td>\n",
       "      <td>1</td>\n",
       "    </tr>\n",
       "    <tr>\n",
       "      <th>1</th>\n",
       "      <td>1</td>\n",
       "      <td>0</td>\n",
       "      <td>0.52</td>\n",
       "      <td>0.40</td>\n",
       "      <td>0.41</td>\n",
       "      <td>0.58</td>\n",
       "      <td>0.44</td>\n",
       "      <td>0.466667</td>\n",
       "      <td>0.62</td>\n",
       "      <td>0.51</td>\n",
       "      <td>0.49</td>\n",
       "      <td>M</td>\n",
       "      <td>W</td>\n",
       "      <td>64.0</td>\n",
       "      <td>2</td>\n",
       "    </tr>\n",
       "    <tr>\n",
       "      <th>2</th>\n",
       "      <td>1</td>\n",
       "      <td>0</td>\n",
       "      <td>0.65</td>\n",
       "      <td>0.46</td>\n",
       "      <td>0.48</td>\n",
       "      <td>0.67</td>\n",
       "      <td>0.56</td>\n",
       "      <td>0.610000</td>\n",
       "      <td>0.70</td>\n",
       "      <td>0.51</td>\n",
       "      <td>0.83</td>\n",
       "      <td>M</td>\n",
       "      <td>B</td>\n",
       "      <td>71.0</td>\n",
       "      <td>3</td>\n",
       "    </tr>\n",
       "    <tr>\n",
       "      <th>3</th>\n",
       "      <td>1</td>\n",
       "      <td>0</td>\n",
       "      <td>0.59</td>\n",
       "      <td>0.50</td>\n",
       "      <td>0.60</td>\n",
       "      <td>0.63</td>\n",
       "      <td>0.65</td>\n",
       "      <td>0.550000</td>\n",
       "      <td>0.64</td>\n",
       "      <td>0.47</td>\n",
       "      <td>0.60</td>\n",
       "      <td>M</td>\n",
       "      <td>W</td>\n",
       "      <td>71.0</td>\n",
       "      <td>4</td>\n",
       "    </tr>\n",
       "    <tr>\n",
       "      <th>4</th>\n",
       "      <td>1</td>\n",
       "      <td>0</td>\n",
       "      <td>0.55</td>\n",
       "      <td>0.52</td>\n",
       "      <td>0.46</td>\n",
       "      <td>0.58</td>\n",
       "      <td>0.48</td>\n",
       "      <td>0.640000</td>\n",
       "      <td>0.53</td>\n",
       "      <td>0.50</td>\n",
       "      <td>0.51</td>\n",
       "      <td>M</td>\n",
       "      <td>B</td>\n",
       "      <td>81.0</td>\n",
       "      <td>5</td>\n",
       "    </tr>\n",
       "  </tbody>\n",
       "</table>\n",
       "</div>"
      ],
      "text/plain": [
       "   MFH  death6m  bathing_365  bladder_365  bowelincontinence_365  \\\n",
       "0    1        0         0.78         0.48                   0.58   \n",
       "1    1        0         0.52         0.40                   0.41   \n",
       "2    1        0         0.65         0.46                   0.48   \n",
       "3    1        0         0.59         0.50                   0.60   \n",
       "4    1        0         0.55         0.52                   0.46   \n",
       "\n",
       "   dressing_365  eating_365  grooming_365  toileting_365  transferring_365  \\\n",
       "0          0.75        0.56      0.720000           0.68              0.68   \n",
       "1          0.58        0.44      0.466667           0.62              0.51   \n",
       "2          0.67        0.56      0.610000           0.70              0.51   \n",
       "3          0.63        0.65      0.550000           0.64              0.47   \n",
       "4          0.58        0.48      0.640000           0.53              0.50   \n",
       "\n",
       "   walking_365 gender race   age  ID  \n",
       "0         0.77      M    B  88.0   1  \n",
       "1         0.49      M    W  64.0   2  \n",
       "2         0.83      M    B  71.0   3  \n",
       "3         0.60      M    W  71.0   4  \n",
       "4         0.51      M    B  81.0   5  "
      ]
     },
     "execution_count": 4,
     "metadata": {},
     "output_type": "execute_result"
    }
   ],
   "source": [
    "df.head()"
   ]
  },
  {
   "cell_type": "markdown",
   "id": "juvenile-entrance",
   "metadata": {},
   "source": [
    "### Step 1: clean the data"
   ]
  },
  {
   "cell_type": "code",
   "execution_count": 5,
   "id": "cardiac-quantity",
   "metadata": {
    "execution": {
     "iopub.execute_input": "2022-02-01T04:49:59.961038Z",
     "iopub.status.busy": "2022-02-01T04:49:59.960894Z",
     "iopub.status.idle": "2022-02-01T04:50:00.009757Z",
     "shell.execute_reply": "2022-02-01T04:50:00.009394Z",
     "shell.execute_reply.started": "2022-02-01T04:49:59.961023Z"
    }
   },
   "outputs": [
    {
     "data": {
      "text/plain": [
       "(26585, 16)"
      ]
     },
     "execution_count": 5,
     "metadata": {},
     "output_type": "execute_result"
    }
   ],
   "source": [
    "import math\n",
    "\n",
    "df['race_black'] = df['race'].apply(lambda r: 1 if r == 'B' else 0)\n",
    "df['race_asian'] = df['race'].apply(lambda r: 1 if r == 'A' else 0)\n",
    "df['race'] = df['race'].apply(lambda r: 1 if r == 'W' else 0)\n",
    "df['gender'] = df['gender'].apply(lambda g: 1 if g == 'M' else 0)\n",
    "df['age'] = df['age'].apply(lambda a: int(math.ceil(a / 10.0)) * 10 if pd.notna(a) else np.nan)\n",
    "df.index = df['ID']\n",
    "df = df.drop(columns=['ID'])\n",
    "df.shape"
   ]
  },
  {
   "cell_type": "code",
   "execution_count": 6,
   "id": "finished-russia",
   "metadata": {
    "execution": {
     "iopub.execute_input": "2022-02-01T04:50:00.010396Z",
     "iopub.status.busy": "2022-02-01T04:50:00.010291Z",
     "iopub.status.idle": "2022-02-01T04:50:00.021316Z",
     "shell.execute_reply": "2022-02-01T04:50:00.020912Z",
     "shell.execute_reply.started": "2022-02-01T04:50:00.010383Z"
    }
   },
   "outputs": [
    {
     "data": {
      "text/html": [
       "<div>\n",
       "<style scoped>\n",
       "    .dataframe tbody tr th:only-of-type {\n",
       "        vertical-align: middle;\n",
       "    }\n",
       "\n",
       "    .dataframe tbody tr th {\n",
       "        vertical-align: top;\n",
       "    }\n",
       "\n",
       "    .dataframe thead th {\n",
       "        text-align: right;\n",
       "    }\n",
       "</style>\n",
       "<table border=\"1\" class=\"dataframe\">\n",
       "  <thead>\n",
       "    <tr style=\"text-align: right;\">\n",
       "      <th></th>\n",
       "      <th>MFH</th>\n",
       "      <th>death6m</th>\n",
       "      <th>bathing_365</th>\n",
       "      <th>bladder_365</th>\n",
       "      <th>bowelincontinence_365</th>\n",
       "      <th>dressing_365</th>\n",
       "      <th>eating_365</th>\n",
       "      <th>grooming_365</th>\n",
       "      <th>toileting_365</th>\n",
       "      <th>transferring_365</th>\n",
       "      <th>walking_365</th>\n",
       "      <th>gender</th>\n",
       "      <th>race</th>\n",
       "      <th>age</th>\n",
       "      <th>race_black</th>\n",
       "      <th>race_asian</th>\n",
       "    </tr>\n",
       "    <tr>\n",
       "      <th>ID</th>\n",
       "      <th></th>\n",
       "      <th></th>\n",
       "      <th></th>\n",
       "      <th></th>\n",
       "      <th></th>\n",
       "      <th></th>\n",
       "      <th></th>\n",
       "      <th></th>\n",
       "      <th></th>\n",
       "      <th></th>\n",
       "      <th></th>\n",
       "      <th></th>\n",
       "      <th></th>\n",
       "      <th></th>\n",
       "      <th></th>\n",
       "      <th></th>\n",
       "    </tr>\n",
       "  </thead>\n",
       "  <tbody>\n",
       "    <tr>\n",
       "      <th>1</th>\n",
       "      <td>1</td>\n",
       "      <td>0</td>\n",
       "      <td>0.78</td>\n",
       "      <td>0.48</td>\n",
       "      <td>0.58</td>\n",
       "      <td>0.75</td>\n",
       "      <td>0.56</td>\n",
       "      <td>0.720000</td>\n",
       "      <td>0.68</td>\n",
       "      <td>0.68</td>\n",
       "      <td>0.77</td>\n",
       "      <td>1</td>\n",
       "      <td>0</td>\n",
       "      <td>90.0</td>\n",
       "      <td>1</td>\n",
       "      <td>0</td>\n",
       "    </tr>\n",
       "    <tr>\n",
       "      <th>2</th>\n",
       "      <td>1</td>\n",
       "      <td>0</td>\n",
       "      <td>0.52</td>\n",
       "      <td>0.40</td>\n",
       "      <td>0.41</td>\n",
       "      <td>0.58</td>\n",
       "      <td>0.44</td>\n",
       "      <td>0.466667</td>\n",
       "      <td>0.62</td>\n",
       "      <td>0.51</td>\n",
       "      <td>0.49</td>\n",
       "      <td>1</td>\n",
       "      <td>1</td>\n",
       "      <td>70.0</td>\n",
       "      <td>0</td>\n",
       "      <td>0</td>\n",
       "    </tr>\n",
       "    <tr>\n",
       "      <th>3</th>\n",
       "      <td>1</td>\n",
       "      <td>0</td>\n",
       "      <td>0.65</td>\n",
       "      <td>0.46</td>\n",
       "      <td>0.48</td>\n",
       "      <td>0.67</td>\n",
       "      <td>0.56</td>\n",
       "      <td>0.610000</td>\n",
       "      <td>0.70</td>\n",
       "      <td>0.51</td>\n",
       "      <td>0.83</td>\n",
       "      <td>1</td>\n",
       "      <td>0</td>\n",
       "      <td>80.0</td>\n",
       "      <td>1</td>\n",
       "      <td>0</td>\n",
       "    </tr>\n",
       "    <tr>\n",
       "      <th>4</th>\n",
       "      <td>1</td>\n",
       "      <td>0</td>\n",
       "      <td>0.59</td>\n",
       "      <td>0.50</td>\n",
       "      <td>0.60</td>\n",
       "      <td>0.63</td>\n",
       "      <td>0.65</td>\n",
       "      <td>0.550000</td>\n",
       "      <td>0.64</td>\n",
       "      <td>0.47</td>\n",
       "      <td>0.60</td>\n",
       "      <td>1</td>\n",
       "      <td>1</td>\n",
       "      <td>80.0</td>\n",
       "      <td>0</td>\n",
       "      <td>0</td>\n",
       "    </tr>\n",
       "    <tr>\n",
       "      <th>5</th>\n",
       "      <td>1</td>\n",
       "      <td>0</td>\n",
       "      <td>0.55</td>\n",
       "      <td>0.52</td>\n",
       "      <td>0.46</td>\n",
       "      <td>0.58</td>\n",
       "      <td>0.48</td>\n",
       "      <td>0.640000</td>\n",
       "      <td>0.53</td>\n",
       "      <td>0.50</td>\n",
       "      <td>0.51</td>\n",
       "      <td>1</td>\n",
       "      <td>0</td>\n",
       "      <td>90.0</td>\n",
       "      <td>1</td>\n",
       "      <td>0</td>\n",
       "    </tr>\n",
       "  </tbody>\n",
       "</table>\n",
       "</div>"
      ],
      "text/plain": [
       "    MFH  death6m  bathing_365  bladder_365  bowelincontinence_365  \\\n",
       "ID                                                                  \n",
       "1     1        0         0.78         0.48                   0.58   \n",
       "2     1        0         0.52         0.40                   0.41   \n",
       "3     1        0         0.65         0.46                   0.48   \n",
       "4     1        0         0.59         0.50                   0.60   \n",
       "5     1        0         0.55         0.52                   0.46   \n",
       "\n",
       "    dressing_365  eating_365  grooming_365  toileting_365  transferring_365  \\\n",
       "ID                                                                            \n",
       "1           0.75        0.56      0.720000           0.68              0.68   \n",
       "2           0.58        0.44      0.466667           0.62              0.51   \n",
       "3           0.67        0.56      0.610000           0.70              0.51   \n",
       "4           0.63        0.65      0.550000           0.64              0.47   \n",
       "5           0.58        0.48      0.640000           0.53              0.50   \n",
       "\n",
       "    walking_365  gender  race   age  race_black  race_asian  \n",
       "ID                                                           \n",
       "1          0.77       1     0  90.0           1           0  \n",
       "2          0.49       1     1  70.0           0           0  \n",
       "3          0.83       1     0  80.0           1           0  \n",
       "4          0.60       1     1  80.0           0           0  \n",
       "5          0.51       1     0  90.0           1           0  "
      ]
     },
     "execution_count": 6,
     "metadata": {},
     "output_type": "execute_result"
    }
   ],
   "source": [
    "df.head()"
   ]
  },
  {
   "cell_type": "markdown",
   "id": "external-carroll",
   "metadata": {},
   "source": [
    "### Step 2: Group the data by MFH,  disabilities, binary race variables, gender, and decades.  Call each combination a stratum."
   ]
  },
  {
   "cell_type": "code",
   "execution_count": 7,
   "id": "rental-surge",
   "metadata": {
    "execution": {
     "iopub.execute_input": "2022-02-01T04:50:00.021980Z",
     "iopub.status.busy": "2022-02-01T04:50:00.021838Z",
     "iopub.status.idle": "2022-02-01T04:50:00.068966Z",
     "shell.execute_reply": "2022-02-01T04:50:00.068578Z",
     "shell.execute_reply.started": "2022-02-01T04:50:00.021964Z"
    }
   },
   "outputs": [
    {
     "data": {
      "text/html": [
       "<div>\n",
       "<style scoped>\n",
       "    .dataframe tbody tr th:only-of-type {\n",
       "        vertical-align: middle;\n",
       "    }\n",
       "\n",
       "    .dataframe tbody tr th {\n",
       "        vertical-align: top;\n",
       "    }\n",
       "\n",
       "    .dataframe thead th {\n",
       "        text-align: right;\n",
       "    }\n",
       "</style>\n",
       "<table border=\"1\" class=\"dataframe\">\n",
       "  <thead>\n",
       "    <tr style=\"text-align: right;\">\n",
       "      <th></th>\n",
       "      <th></th>\n",
       "      <th></th>\n",
       "      <th></th>\n",
       "      <th>sum</th>\n",
       "      <th>count</th>\n",
       "    </tr>\n",
       "    <tr>\n",
       "      <th>MFH</th>\n",
       "      <th>age</th>\n",
       "      <th>race</th>\n",
       "      <th>gender</th>\n",
       "      <th></th>\n",
       "      <th></th>\n",
       "    </tr>\n",
       "  </thead>\n",
       "  <tbody>\n",
       "    <tr>\n",
       "      <th rowspan=\"33\" valign=\"top\">0</th>\n",
       "      <th rowspan=\"4\" valign=\"top\">30.0</th>\n",
       "      <th rowspan=\"2\" valign=\"top\">0</th>\n",
       "      <th>0</th>\n",
       "      <td>0</td>\n",
       "      <td>3</td>\n",
       "    </tr>\n",
       "    <tr>\n",
       "      <th>1</th>\n",
       "      <td>0</td>\n",
       "      <td>7</td>\n",
       "    </tr>\n",
       "    <tr>\n",
       "      <th rowspan=\"2\" valign=\"top\">1</th>\n",
       "      <th>0</th>\n",
       "      <td>0</td>\n",
       "      <td>3</td>\n",
       "    </tr>\n",
       "    <tr>\n",
       "      <th>1</th>\n",
       "      <td>0</td>\n",
       "      <td>16</td>\n",
       "    </tr>\n",
       "    <tr>\n",
       "      <th rowspan=\"4\" valign=\"top\">40.0</th>\n",
       "      <th rowspan=\"2\" valign=\"top\">0</th>\n",
       "      <th>0</th>\n",
       "      <td>0</td>\n",
       "      <td>8</td>\n",
       "    </tr>\n",
       "    <tr>\n",
       "      <th>1</th>\n",
       "      <td>0</td>\n",
       "      <td>38</td>\n",
       "    </tr>\n",
       "    <tr>\n",
       "      <th rowspan=\"2\" valign=\"top\">1</th>\n",
       "      <th>0</th>\n",
       "      <td>0</td>\n",
       "      <td>16</td>\n",
       "    </tr>\n",
       "    <tr>\n",
       "      <th>1</th>\n",
       "      <td>0</td>\n",
       "      <td>62</td>\n",
       "    </tr>\n",
       "    <tr>\n",
       "      <th rowspan=\"4\" valign=\"top\">50.0</th>\n",
       "      <th rowspan=\"2\" valign=\"top\">0</th>\n",
       "      <th>0</th>\n",
       "      <td>0</td>\n",
       "      <td>34</td>\n",
       "    </tr>\n",
       "    <tr>\n",
       "      <th>1</th>\n",
       "      <td>0</td>\n",
       "      <td>222</td>\n",
       "    </tr>\n",
       "    <tr>\n",
       "      <th rowspan=\"2\" valign=\"top\">1</th>\n",
       "      <th>0</th>\n",
       "      <td>0</td>\n",
       "      <td>65</td>\n",
       "    </tr>\n",
       "    <tr>\n",
       "      <th>1</th>\n",
       "      <td>0</td>\n",
       "      <td>469</td>\n",
       "    </tr>\n",
       "    <tr>\n",
       "      <th rowspan=\"4\" valign=\"top\">60.0</th>\n",
       "      <th rowspan=\"2\" valign=\"top\">0</th>\n",
       "      <th>0</th>\n",
       "      <td>0</td>\n",
       "      <td>75</td>\n",
       "    </tr>\n",
       "    <tr>\n",
       "      <th>1</th>\n",
       "      <td>0</td>\n",
       "      <td>1059</td>\n",
       "    </tr>\n",
       "    <tr>\n",
       "      <th rowspan=\"2\" valign=\"top\">1</th>\n",
       "      <th>0</th>\n",
       "      <td>0</td>\n",
       "      <td>174</td>\n",
       "    </tr>\n",
       "    <tr>\n",
       "      <th>1</th>\n",
       "      <td>0</td>\n",
       "      <td>2458</td>\n",
       "    </tr>\n",
       "    <tr>\n",
       "      <th rowspan=\"4\" valign=\"top\">70.0</th>\n",
       "      <th rowspan=\"2\" valign=\"top\">0</th>\n",
       "      <th>0</th>\n",
       "      <td>0</td>\n",
       "      <td>37</td>\n",
       "    </tr>\n",
       "    <tr>\n",
       "      <th>1</th>\n",
       "      <td>0</td>\n",
       "      <td>1775</td>\n",
       "    </tr>\n",
       "    <tr>\n",
       "      <th rowspan=\"2\" valign=\"top\">1</th>\n",
       "      <th>0</th>\n",
       "      <td>0</td>\n",
       "      <td>153</td>\n",
       "    </tr>\n",
       "    <tr>\n",
       "      <th>1</th>\n",
       "      <td>9</td>\n",
       "      <td>3988</td>\n",
       "    </tr>\n",
       "    <tr>\n",
       "      <th rowspan=\"4\" valign=\"top\">80.0</th>\n",
       "      <th rowspan=\"2\" valign=\"top\">0</th>\n",
       "      <th>0</th>\n",
       "      <td>0</td>\n",
       "      <td>21</td>\n",
       "    </tr>\n",
       "    <tr>\n",
       "      <th>1</th>\n",
       "      <td>1</td>\n",
       "      <td>1349</td>\n",
       "    </tr>\n",
       "    <tr>\n",
       "      <th rowspan=\"2\" valign=\"top\">1</th>\n",
       "      <th>0</th>\n",
       "      <td>0</td>\n",
       "      <td>117</td>\n",
       "    </tr>\n",
       "    <tr>\n",
       "      <th>1</th>\n",
       "      <td>15</td>\n",
       "      <td>4155</td>\n",
       "    </tr>\n",
       "    <tr>\n",
       "      <th rowspan=\"4\" valign=\"top\">90.0</th>\n",
       "      <th rowspan=\"2\" valign=\"top\">0</th>\n",
       "      <th>0</th>\n",
       "      <td>0</td>\n",
       "      <td>19</td>\n",
       "    </tr>\n",
       "    <tr>\n",
       "      <th>1</th>\n",
       "      <td>0</td>\n",
       "      <td>1378</td>\n",
       "    </tr>\n",
       "    <tr>\n",
       "      <th rowspan=\"2\" valign=\"top\">1</th>\n",
       "      <th>0</th>\n",
       "      <td>0</td>\n",
       "      <td>116</td>\n",
       "    </tr>\n",
       "    <tr>\n",
       "      <th>1</th>\n",
       "      <td>10</td>\n",
       "      <td>4874</td>\n",
       "    </tr>\n",
       "    <tr>\n",
       "      <th rowspan=\"4\" valign=\"top\">100.0</th>\n",
       "      <th rowspan=\"2\" valign=\"top\">0</th>\n",
       "      <th>0</th>\n",
       "      <td>0</td>\n",
       "      <td>5</td>\n",
       "    </tr>\n",
       "    <tr>\n",
       "      <th>1</th>\n",
       "      <td>0</td>\n",
       "      <td>188</td>\n",
       "    </tr>\n",
       "    <tr>\n",
       "      <th rowspan=\"2\" valign=\"top\">1</th>\n",
       "      <th>0</th>\n",
       "      <td>0</td>\n",
       "      <td>30</td>\n",
       "    </tr>\n",
       "    <tr>\n",
       "      <th>1</th>\n",
       "      <td>0</td>\n",
       "      <td>712</td>\n",
       "    </tr>\n",
       "    <tr>\n",
       "      <th>110.0</th>\n",
       "      <th>1</th>\n",
       "      <th>1</th>\n",
       "      <td>0</td>\n",
       "      <td>5</td>\n",
       "    </tr>\n",
       "    <tr>\n",
       "      <th rowspan=\"25\" valign=\"top\">1</th>\n",
       "      <th>40.0</th>\n",
       "      <th>1</th>\n",
       "      <th>1</th>\n",
       "      <td>0</td>\n",
       "      <td>9</td>\n",
       "    </tr>\n",
       "    <tr>\n",
       "      <th rowspan=\"4\" valign=\"top\">50.0</th>\n",
       "      <th rowspan=\"2\" valign=\"top\">0</th>\n",
       "      <th>0</th>\n",
       "      <td>0</td>\n",
       "      <td>2</td>\n",
       "    </tr>\n",
       "    <tr>\n",
       "      <th>1</th>\n",
       "      <td>0</td>\n",
       "      <td>7</td>\n",
       "    </tr>\n",
       "    <tr>\n",
       "      <th rowspan=\"2\" valign=\"top\">1</th>\n",
       "      <th>0</th>\n",
       "      <td>0</td>\n",
       "      <td>1</td>\n",
       "    </tr>\n",
       "    <tr>\n",
       "      <th>1</th>\n",
       "      <td>0</td>\n",
       "      <td>32</td>\n",
       "    </tr>\n",
       "    <tr>\n",
       "      <th rowspan=\"4\" valign=\"top\">60.0</th>\n",
       "      <th rowspan=\"2\" valign=\"top\">0</th>\n",
       "      <th>0</th>\n",
       "      <td>0</td>\n",
       "      <td>1</td>\n",
       "    </tr>\n",
       "    <tr>\n",
       "      <th>1</th>\n",
       "      <td>0</td>\n",
       "      <td>130</td>\n",
       "    </tr>\n",
       "    <tr>\n",
       "      <th rowspan=\"2\" valign=\"top\">1</th>\n",
       "      <th>0</th>\n",
       "      <td>0</td>\n",
       "      <td>38</td>\n",
       "    </tr>\n",
       "    <tr>\n",
       "      <th>1</th>\n",
       "      <td>0</td>\n",
       "      <td>202</td>\n",
       "    </tr>\n",
       "    <tr>\n",
       "      <th rowspan=\"4\" valign=\"top\">70.0</th>\n",
       "      <th rowspan=\"2\" valign=\"top\">0</th>\n",
       "      <th>0</th>\n",
       "      <td>0</td>\n",
       "      <td>17</td>\n",
       "    </tr>\n",
       "    <tr>\n",
       "      <th>1</th>\n",
       "      <td>0</td>\n",
       "      <td>221</td>\n",
       "    </tr>\n",
       "    <tr>\n",
       "      <th rowspan=\"2\" valign=\"top\">1</th>\n",
       "      <th>0</th>\n",
       "      <td>0</td>\n",
       "      <td>36</td>\n",
       "    </tr>\n",
       "    <tr>\n",
       "      <th>1</th>\n",
       "      <td>16</td>\n",
       "      <td>740</td>\n",
       "    </tr>\n",
       "    <tr>\n",
       "      <th rowspan=\"4\" valign=\"top\">80.0</th>\n",
       "      <th rowspan=\"2\" valign=\"top\">0</th>\n",
       "      <th>0</th>\n",
       "      <td>0</td>\n",
       "      <td>1</td>\n",
       "    </tr>\n",
       "    <tr>\n",
       "      <th>1</th>\n",
       "      <td>0</td>\n",
       "      <td>131</td>\n",
       "    </tr>\n",
       "    <tr>\n",
       "      <th rowspan=\"2\" valign=\"top\">1</th>\n",
       "      <th>0</th>\n",
       "      <td>0</td>\n",
       "      <td>26</td>\n",
       "    </tr>\n",
       "    <tr>\n",
       "      <th>1</th>\n",
       "      <td>8</td>\n",
       "      <td>345</td>\n",
       "    </tr>\n",
       "    <tr>\n",
       "      <th rowspan=\"4\" valign=\"top\">90.0</th>\n",
       "      <th rowspan=\"2\" valign=\"top\">0</th>\n",
       "      <th>0</th>\n",
       "      <td>0</td>\n",
       "      <td>6</td>\n",
       "    </tr>\n",
       "    <tr>\n",
       "      <th>1</th>\n",
       "      <td>16</td>\n",
       "      <td>223</td>\n",
       "    </tr>\n",
       "    <tr>\n",
       "      <th rowspan=\"2\" valign=\"top\">1</th>\n",
       "      <th>0</th>\n",
       "      <td>0</td>\n",
       "      <td>16</td>\n",
       "    </tr>\n",
       "    <tr>\n",
       "      <th>1</th>\n",
       "      <td>8</td>\n",
       "      <td>551</td>\n",
       "    </tr>\n",
       "    <tr>\n",
       "      <th rowspan=\"3\" valign=\"top\">100.0</th>\n",
       "      <th>0</th>\n",
       "      <th>1</th>\n",
       "      <td>0</td>\n",
       "      <td>80</td>\n",
       "    </tr>\n",
       "    <tr>\n",
       "      <th rowspan=\"2\" valign=\"top\">1</th>\n",
       "      <th>0</th>\n",
       "      <td>0</td>\n",
       "      <td>5</td>\n",
       "    </tr>\n",
       "    <tr>\n",
       "      <th>1</th>\n",
       "      <td>24</td>\n",
       "      <td>130</td>\n",
       "    </tr>\n",
       "    <tr>\n",
       "      <th>110.0</th>\n",
       "      <th>0</th>\n",
       "      <th>1</th>\n",
       "      <td>0</td>\n",
       "      <td>1</td>\n",
       "    </tr>\n",
       "  </tbody>\n",
       "</table>\n",
       "</div>"
      ],
      "text/plain": [
       "                       sum  count\n",
       "MFH age   race gender            \n",
       "0   30.0  0    0         0      3\n",
       "               1         0      7\n",
       "          1    0         0      3\n",
       "               1         0     16\n",
       "    40.0  0    0         0      8\n",
       "               1         0     38\n",
       "          1    0         0     16\n",
       "               1         0     62\n",
       "    50.0  0    0         0     34\n",
       "               1         0    222\n",
       "          1    0         0     65\n",
       "               1         0    469\n",
       "    60.0  0    0         0     75\n",
       "               1         0   1059\n",
       "          1    0         0    174\n",
       "               1         0   2458\n",
       "    70.0  0    0         0     37\n",
       "               1         0   1775\n",
       "          1    0         0    153\n",
       "               1         9   3988\n",
       "    80.0  0    0         0     21\n",
       "               1         1   1349\n",
       "          1    0         0    117\n",
       "               1        15   4155\n",
       "    90.0  0    0         0     19\n",
       "               1         0   1378\n",
       "          1    0         0    116\n",
       "               1        10   4874\n",
       "    100.0 0    0         0      5\n",
       "               1         0    188\n",
       "          1    0         0     30\n",
       "               1         0    712\n",
       "    110.0 1    1         0      5\n",
       "1   40.0  1    1         0      9\n",
       "    50.0  0    0         0      2\n",
       "               1         0      7\n",
       "          1    0         0      1\n",
       "               1         0     32\n",
       "    60.0  0    0         0      1\n",
       "               1         0    130\n",
       "          1    0         0     38\n",
       "               1         0    202\n",
       "    70.0  0    0         0     17\n",
       "               1         0    221\n",
       "          1    0         0     36\n",
       "               1        16    740\n",
       "    80.0  0    0         0      1\n",
       "               1         0    131\n",
       "          1    0         0     26\n",
       "               1         8    345\n",
       "    90.0  0    0         0      6\n",
       "               1        16    223\n",
       "          1    0         0     16\n",
       "               1         8    551\n",
       "    100.0 0    1         0     80\n",
       "          1    0         0      5\n",
       "               1        24    130\n",
       "    110.0 0    1         0      1"
      ]
     },
     "execution_count": 7,
     "metadata": {},
     "output_type": "execute_result"
    }
   ],
   "source": [
    "strata_df = df.groupby(['MFH', 'age', 'race', 'gender']).agg(['sum', 'count'])[['death6m']].droplevel(0, axis=1)\n",
    "strata_df"
   ]
  },
  {
   "cell_type": "markdown",
   "id": "ordinary-cancellation",
   "metadata": {},
   "source": [
    "### Step 3: Calculate the probability of survival in each strata.  "
   ]
  },
  {
   "cell_type": "code",
   "execution_count": 8,
   "id": "recreational-funeral",
   "metadata": {
    "execution": {
     "iopub.execute_input": "2022-02-01T04:50:00.069577Z",
     "iopub.status.busy": "2022-02-01T04:50:00.069453Z",
     "iopub.status.idle": "2022-02-01T04:50:00.085605Z",
     "shell.execute_reply": "2022-02-01T04:50:00.085291Z",
     "shell.execute_reply.started": "2022-02-01T04:50:00.069562Z"
    }
   },
   "outputs": [
    {
     "data": {
      "text/html": [
       "<div>\n",
       "<style scoped>\n",
       "    .dataframe tbody tr th:only-of-type {\n",
       "        vertical-align: middle;\n",
       "    }\n",
       "\n",
       "    .dataframe tbody tr th {\n",
       "        vertical-align: top;\n",
       "    }\n",
       "\n",
       "    .dataframe thead th {\n",
       "        text-align: right;\n",
       "    }\n",
       "</style>\n",
       "<table border=\"1\" class=\"dataframe\">\n",
       "  <thead>\n",
       "    <tr style=\"text-align: right;\">\n",
       "      <th></th>\n",
       "      <th></th>\n",
       "      <th></th>\n",
       "      <th></th>\n",
       "      <th>sum</th>\n",
       "      <th>count</th>\n",
       "      <th>p_survival</th>\n",
       "    </tr>\n",
       "    <tr>\n",
       "      <th>MFH</th>\n",
       "      <th>age</th>\n",
       "      <th>race</th>\n",
       "      <th>gender</th>\n",
       "      <th></th>\n",
       "      <th></th>\n",
       "      <th></th>\n",
       "    </tr>\n",
       "  </thead>\n",
       "  <tbody>\n",
       "    <tr>\n",
       "      <th rowspan=\"33\" valign=\"top\">0</th>\n",
       "      <th rowspan=\"4\" valign=\"top\">30.0</th>\n",
       "      <th rowspan=\"2\" valign=\"top\">0</th>\n",
       "      <th>0</th>\n",
       "      <td>0</td>\n",
       "      <td>3</td>\n",
       "      <td>1.000000</td>\n",
       "    </tr>\n",
       "    <tr>\n",
       "      <th>1</th>\n",
       "      <td>0</td>\n",
       "      <td>7</td>\n",
       "      <td>1.000000</td>\n",
       "    </tr>\n",
       "    <tr>\n",
       "      <th rowspan=\"2\" valign=\"top\">1</th>\n",
       "      <th>0</th>\n",
       "      <td>0</td>\n",
       "      <td>3</td>\n",
       "      <td>1.000000</td>\n",
       "    </tr>\n",
       "    <tr>\n",
       "      <th>1</th>\n",
       "      <td>0</td>\n",
       "      <td>16</td>\n",
       "      <td>1.000000</td>\n",
       "    </tr>\n",
       "    <tr>\n",
       "      <th rowspan=\"4\" valign=\"top\">40.0</th>\n",
       "      <th rowspan=\"2\" valign=\"top\">0</th>\n",
       "      <th>0</th>\n",
       "      <td>0</td>\n",
       "      <td>8</td>\n",
       "      <td>1.000000</td>\n",
       "    </tr>\n",
       "    <tr>\n",
       "      <th>1</th>\n",
       "      <td>0</td>\n",
       "      <td>38</td>\n",
       "      <td>1.000000</td>\n",
       "    </tr>\n",
       "    <tr>\n",
       "      <th rowspan=\"2\" valign=\"top\">1</th>\n",
       "      <th>0</th>\n",
       "      <td>0</td>\n",
       "      <td>16</td>\n",
       "      <td>1.000000</td>\n",
       "    </tr>\n",
       "    <tr>\n",
       "      <th>1</th>\n",
       "      <td>0</td>\n",
       "      <td>62</td>\n",
       "      <td>1.000000</td>\n",
       "    </tr>\n",
       "    <tr>\n",
       "      <th rowspan=\"4\" valign=\"top\">50.0</th>\n",
       "      <th rowspan=\"2\" valign=\"top\">0</th>\n",
       "      <th>0</th>\n",
       "      <td>0</td>\n",
       "      <td>34</td>\n",
       "      <td>1.000000</td>\n",
       "    </tr>\n",
       "    <tr>\n",
       "      <th>1</th>\n",
       "      <td>0</td>\n",
       "      <td>222</td>\n",
       "      <td>1.000000</td>\n",
       "    </tr>\n",
       "    <tr>\n",
       "      <th rowspan=\"2\" valign=\"top\">1</th>\n",
       "      <th>0</th>\n",
       "      <td>0</td>\n",
       "      <td>65</td>\n",
       "      <td>1.000000</td>\n",
       "    </tr>\n",
       "    <tr>\n",
       "      <th>1</th>\n",
       "      <td>0</td>\n",
       "      <td>469</td>\n",
       "      <td>1.000000</td>\n",
       "    </tr>\n",
       "    <tr>\n",
       "      <th rowspan=\"4\" valign=\"top\">60.0</th>\n",
       "      <th rowspan=\"2\" valign=\"top\">0</th>\n",
       "      <th>0</th>\n",
       "      <td>0</td>\n",
       "      <td>75</td>\n",
       "      <td>1.000000</td>\n",
       "    </tr>\n",
       "    <tr>\n",
       "      <th>1</th>\n",
       "      <td>0</td>\n",
       "      <td>1059</td>\n",
       "      <td>1.000000</td>\n",
       "    </tr>\n",
       "    <tr>\n",
       "      <th rowspan=\"2\" valign=\"top\">1</th>\n",
       "      <th>0</th>\n",
       "      <td>0</td>\n",
       "      <td>174</td>\n",
       "      <td>1.000000</td>\n",
       "    </tr>\n",
       "    <tr>\n",
       "      <th>1</th>\n",
       "      <td>0</td>\n",
       "      <td>2458</td>\n",
       "      <td>1.000000</td>\n",
       "    </tr>\n",
       "    <tr>\n",
       "      <th rowspan=\"4\" valign=\"top\">70.0</th>\n",
       "      <th rowspan=\"2\" valign=\"top\">0</th>\n",
       "      <th>0</th>\n",
       "      <td>0</td>\n",
       "      <td>37</td>\n",
       "      <td>1.000000</td>\n",
       "    </tr>\n",
       "    <tr>\n",
       "      <th>1</th>\n",
       "      <td>0</td>\n",
       "      <td>1775</td>\n",
       "      <td>1.000000</td>\n",
       "    </tr>\n",
       "    <tr>\n",
       "      <th rowspan=\"2\" valign=\"top\">1</th>\n",
       "      <th>0</th>\n",
       "      <td>0</td>\n",
       "      <td>153</td>\n",
       "      <td>1.000000</td>\n",
       "    </tr>\n",
       "    <tr>\n",
       "      <th>1</th>\n",
       "      <td>9</td>\n",
       "      <td>3988</td>\n",
       "      <td>0.997743</td>\n",
       "    </tr>\n",
       "    <tr>\n",
       "      <th rowspan=\"4\" valign=\"top\">80.0</th>\n",
       "      <th rowspan=\"2\" valign=\"top\">0</th>\n",
       "      <th>0</th>\n",
       "      <td>0</td>\n",
       "      <td>21</td>\n",
       "      <td>1.000000</td>\n",
       "    </tr>\n",
       "    <tr>\n",
       "      <th>1</th>\n",
       "      <td>1</td>\n",
       "      <td>1349</td>\n",
       "      <td>0.999259</td>\n",
       "    </tr>\n",
       "    <tr>\n",
       "      <th rowspan=\"2\" valign=\"top\">1</th>\n",
       "      <th>0</th>\n",
       "      <td>0</td>\n",
       "      <td>117</td>\n",
       "      <td>1.000000</td>\n",
       "    </tr>\n",
       "    <tr>\n",
       "      <th>1</th>\n",
       "      <td>15</td>\n",
       "      <td>4155</td>\n",
       "      <td>0.996390</td>\n",
       "    </tr>\n",
       "    <tr>\n",
       "      <th rowspan=\"4\" valign=\"top\">90.0</th>\n",
       "      <th rowspan=\"2\" valign=\"top\">0</th>\n",
       "      <th>0</th>\n",
       "      <td>0</td>\n",
       "      <td>19</td>\n",
       "      <td>1.000000</td>\n",
       "    </tr>\n",
       "    <tr>\n",
       "      <th>1</th>\n",
       "      <td>0</td>\n",
       "      <td>1378</td>\n",
       "      <td>1.000000</td>\n",
       "    </tr>\n",
       "    <tr>\n",
       "      <th rowspan=\"2\" valign=\"top\">1</th>\n",
       "      <th>0</th>\n",
       "      <td>0</td>\n",
       "      <td>116</td>\n",
       "      <td>1.000000</td>\n",
       "    </tr>\n",
       "    <tr>\n",
       "      <th>1</th>\n",
       "      <td>10</td>\n",
       "      <td>4874</td>\n",
       "      <td>0.997948</td>\n",
       "    </tr>\n",
       "    <tr>\n",
       "      <th rowspan=\"4\" valign=\"top\">100.0</th>\n",
       "      <th rowspan=\"2\" valign=\"top\">0</th>\n",
       "      <th>0</th>\n",
       "      <td>0</td>\n",
       "      <td>5</td>\n",
       "      <td>1.000000</td>\n",
       "    </tr>\n",
       "    <tr>\n",
       "      <th>1</th>\n",
       "      <td>0</td>\n",
       "      <td>188</td>\n",
       "      <td>1.000000</td>\n",
       "    </tr>\n",
       "    <tr>\n",
       "      <th rowspan=\"2\" valign=\"top\">1</th>\n",
       "      <th>0</th>\n",
       "      <td>0</td>\n",
       "      <td>30</td>\n",
       "      <td>1.000000</td>\n",
       "    </tr>\n",
       "    <tr>\n",
       "      <th>1</th>\n",
       "      <td>0</td>\n",
       "      <td>712</td>\n",
       "      <td>1.000000</td>\n",
       "    </tr>\n",
       "    <tr>\n",
       "      <th>110.0</th>\n",
       "      <th>1</th>\n",
       "      <th>1</th>\n",
       "      <td>0</td>\n",
       "      <td>5</td>\n",
       "      <td>1.000000</td>\n",
       "    </tr>\n",
       "    <tr>\n",
       "      <th rowspan=\"25\" valign=\"top\">1</th>\n",
       "      <th>40.0</th>\n",
       "      <th>1</th>\n",
       "      <th>1</th>\n",
       "      <td>0</td>\n",
       "      <td>9</td>\n",
       "      <td>1.000000</td>\n",
       "    </tr>\n",
       "    <tr>\n",
       "      <th rowspan=\"4\" valign=\"top\">50.0</th>\n",
       "      <th rowspan=\"2\" valign=\"top\">0</th>\n",
       "      <th>0</th>\n",
       "      <td>0</td>\n",
       "      <td>2</td>\n",
       "      <td>1.000000</td>\n",
       "    </tr>\n",
       "    <tr>\n",
       "      <th>1</th>\n",
       "      <td>0</td>\n",
       "      <td>7</td>\n",
       "      <td>1.000000</td>\n",
       "    </tr>\n",
       "    <tr>\n",
       "      <th rowspan=\"2\" valign=\"top\">1</th>\n",
       "      <th>0</th>\n",
       "      <td>0</td>\n",
       "      <td>1</td>\n",
       "      <td>1.000000</td>\n",
       "    </tr>\n",
       "    <tr>\n",
       "      <th>1</th>\n",
       "      <td>0</td>\n",
       "      <td>32</td>\n",
       "      <td>1.000000</td>\n",
       "    </tr>\n",
       "    <tr>\n",
       "      <th rowspan=\"4\" valign=\"top\">60.0</th>\n",
       "      <th rowspan=\"2\" valign=\"top\">0</th>\n",
       "      <th>0</th>\n",
       "      <td>0</td>\n",
       "      <td>1</td>\n",
       "      <td>1.000000</td>\n",
       "    </tr>\n",
       "    <tr>\n",
       "      <th>1</th>\n",
       "      <td>0</td>\n",
       "      <td>130</td>\n",
       "      <td>1.000000</td>\n",
       "    </tr>\n",
       "    <tr>\n",
       "      <th rowspan=\"2\" valign=\"top\">1</th>\n",
       "      <th>0</th>\n",
       "      <td>0</td>\n",
       "      <td>38</td>\n",
       "      <td>1.000000</td>\n",
       "    </tr>\n",
       "    <tr>\n",
       "      <th>1</th>\n",
       "      <td>0</td>\n",
       "      <td>202</td>\n",
       "      <td>1.000000</td>\n",
       "    </tr>\n",
       "    <tr>\n",
       "      <th rowspan=\"4\" valign=\"top\">70.0</th>\n",
       "      <th rowspan=\"2\" valign=\"top\">0</th>\n",
       "      <th>0</th>\n",
       "      <td>0</td>\n",
       "      <td>17</td>\n",
       "      <td>1.000000</td>\n",
       "    </tr>\n",
       "    <tr>\n",
       "      <th>1</th>\n",
       "      <td>0</td>\n",
       "      <td>221</td>\n",
       "      <td>1.000000</td>\n",
       "    </tr>\n",
       "    <tr>\n",
       "      <th rowspan=\"2\" valign=\"top\">1</th>\n",
       "      <th>0</th>\n",
       "      <td>0</td>\n",
       "      <td>36</td>\n",
       "      <td>1.000000</td>\n",
       "    </tr>\n",
       "    <tr>\n",
       "      <th>1</th>\n",
       "      <td>16</td>\n",
       "      <td>740</td>\n",
       "      <td>0.978378</td>\n",
       "    </tr>\n",
       "    <tr>\n",
       "      <th rowspan=\"4\" valign=\"top\">80.0</th>\n",
       "      <th rowspan=\"2\" valign=\"top\">0</th>\n",
       "      <th>0</th>\n",
       "      <td>0</td>\n",
       "      <td>1</td>\n",
       "      <td>1.000000</td>\n",
       "    </tr>\n",
       "    <tr>\n",
       "      <th>1</th>\n",
       "      <td>0</td>\n",
       "      <td>131</td>\n",
       "      <td>1.000000</td>\n",
       "    </tr>\n",
       "    <tr>\n",
       "      <th rowspan=\"2\" valign=\"top\">1</th>\n",
       "      <th>0</th>\n",
       "      <td>0</td>\n",
       "      <td>26</td>\n",
       "      <td>1.000000</td>\n",
       "    </tr>\n",
       "    <tr>\n",
       "      <th>1</th>\n",
       "      <td>8</td>\n",
       "      <td>345</td>\n",
       "      <td>0.976812</td>\n",
       "    </tr>\n",
       "    <tr>\n",
       "      <th rowspan=\"4\" valign=\"top\">90.0</th>\n",
       "      <th rowspan=\"2\" valign=\"top\">0</th>\n",
       "      <th>0</th>\n",
       "      <td>0</td>\n",
       "      <td>6</td>\n",
       "      <td>1.000000</td>\n",
       "    </tr>\n",
       "    <tr>\n",
       "      <th>1</th>\n",
       "      <td>16</td>\n",
       "      <td>223</td>\n",
       "      <td>0.928251</td>\n",
       "    </tr>\n",
       "    <tr>\n",
       "      <th rowspan=\"2\" valign=\"top\">1</th>\n",
       "      <th>0</th>\n",
       "      <td>0</td>\n",
       "      <td>16</td>\n",
       "      <td>1.000000</td>\n",
       "    </tr>\n",
       "    <tr>\n",
       "      <th>1</th>\n",
       "      <td>8</td>\n",
       "      <td>551</td>\n",
       "      <td>0.985481</td>\n",
       "    </tr>\n",
       "    <tr>\n",
       "      <th rowspan=\"3\" valign=\"top\">100.0</th>\n",
       "      <th>0</th>\n",
       "      <th>1</th>\n",
       "      <td>0</td>\n",
       "      <td>80</td>\n",
       "      <td>1.000000</td>\n",
       "    </tr>\n",
       "    <tr>\n",
       "      <th rowspan=\"2\" valign=\"top\">1</th>\n",
       "      <th>0</th>\n",
       "      <td>0</td>\n",
       "      <td>5</td>\n",
       "      <td>1.000000</td>\n",
       "    </tr>\n",
       "    <tr>\n",
       "      <th>1</th>\n",
       "      <td>24</td>\n",
       "      <td>130</td>\n",
       "      <td>0.815385</td>\n",
       "    </tr>\n",
       "    <tr>\n",
       "      <th>110.0</th>\n",
       "      <th>0</th>\n",
       "      <th>1</th>\n",
       "      <td>0</td>\n",
       "      <td>1</td>\n",
       "      <td>1.000000</td>\n",
       "    </tr>\n",
       "  </tbody>\n",
       "</table>\n",
       "</div>"
      ],
      "text/plain": [
       "                       sum  count  p_survival\n",
       "MFH age   race gender                        \n",
       "0   30.0  0    0         0      3    1.000000\n",
       "               1         0      7    1.000000\n",
       "          1    0         0      3    1.000000\n",
       "               1         0     16    1.000000\n",
       "    40.0  0    0         0      8    1.000000\n",
       "               1         0     38    1.000000\n",
       "          1    0         0     16    1.000000\n",
       "               1         0     62    1.000000\n",
       "    50.0  0    0         0     34    1.000000\n",
       "               1         0    222    1.000000\n",
       "          1    0         0     65    1.000000\n",
       "               1         0    469    1.000000\n",
       "    60.0  0    0         0     75    1.000000\n",
       "               1         0   1059    1.000000\n",
       "          1    0         0    174    1.000000\n",
       "               1         0   2458    1.000000\n",
       "    70.0  0    0         0     37    1.000000\n",
       "               1         0   1775    1.000000\n",
       "          1    0         0    153    1.000000\n",
       "               1         9   3988    0.997743\n",
       "    80.0  0    0         0     21    1.000000\n",
       "               1         1   1349    0.999259\n",
       "          1    0         0    117    1.000000\n",
       "               1        15   4155    0.996390\n",
       "    90.0  0    0         0     19    1.000000\n",
       "               1         0   1378    1.000000\n",
       "          1    0         0    116    1.000000\n",
       "               1        10   4874    0.997948\n",
       "    100.0 0    0         0      5    1.000000\n",
       "               1         0    188    1.000000\n",
       "          1    0         0     30    1.000000\n",
       "               1         0    712    1.000000\n",
       "    110.0 1    1         0      5    1.000000\n",
       "1   40.0  1    1         0      9    1.000000\n",
       "    50.0  0    0         0      2    1.000000\n",
       "               1         0      7    1.000000\n",
       "          1    0         0      1    1.000000\n",
       "               1         0     32    1.000000\n",
       "    60.0  0    0         0      1    1.000000\n",
       "               1         0    130    1.000000\n",
       "          1    0         0     38    1.000000\n",
       "               1         0    202    1.000000\n",
       "    70.0  0    0         0     17    1.000000\n",
       "               1         0    221    1.000000\n",
       "          1    0         0     36    1.000000\n",
       "               1        16    740    0.978378\n",
       "    80.0  0    0         0      1    1.000000\n",
       "               1         0    131    1.000000\n",
       "          1    0         0     26    1.000000\n",
       "               1         8    345    0.976812\n",
       "    90.0  0    0         0      6    1.000000\n",
       "               1        16    223    0.928251\n",
       "          1    0         0     16    1.000000\n",
       "               1         8    551    0.985481\n",
       "    100.0 0    1         0     80    1.000000\n",
       "          1    0         0      5    1.000000\n",
       "               1        24    130    0.815385\n",
       "    110.0 0    1         0      1    1.000000"
      ]
     },
     "execution_count": 8,
     "metadata": {},
     "output_type": "execute_result"
    }
   ],
   "source": [
    "strata_df['p_survival'] = 1 - strata_df['sum'] / strata_df['count']\n",
    "strata_df"
   ]
  },
  {
   "cell_type": "markdown",
   "id": "accompanied-nowhere",
   "metadata": {},
   "source": [
    "### Step 4: Create a regression model to explain the relationship among the variables and survival. "
   ]
  },
  {
   "cell_type": "code",
   "execution_count": 9,
   "id": "pointed-mumbai",
   "metadata": {
    "execution": {
     "iopub.execute_input": "2022-02-01T04:50:00.087721Z",
     "iopub.status.busy": "2022-02-01T04:50:00.087601Z",
     "iopub.status.idle": "2022-02-01T04:50:00.096357Z",
     "shell.execute_reply": "2022-02-01T04:50:00.095929Z",
     "shell.execute_reply.started": "2022-02-01T04:50:00.087701Z"
    }
   },
   "outputs": [
    {
     "data": {
      "text/plain": [
       "((26582, 14), (26582,))"
      ]
     },
     "execution_count": 9,
     "metadata": {},
     "output_type": "execute_result"
    }
   ],
   "source": [
    "X = df.dropna()\n",
    "X, y = X[[c for c in df.columns if c not in ['death6m', 'race']]], X['death6m']\n",
    "\n",
    "X.shape, y.shape"
   ]
  },
  {
   "cell_type": "code",
   "execution_count": 10,
   "id": "separated-american",
   "metadata": {
    "execution": {
     "iopub.execute_input": "2022-02-01T04:50:00.096921Z",
     "iopub.status.busy": "2022-02-01T04:50:00.096812Z",
     "iopub.status.idle": "2022-02-01T04:50:00.593033Z",
     "shell.execute_reply": "2022-02-01T04:50:00.592644Z",
     "shell.execute_reply.started": "2022-02-01T04:50:00.096907Z"
    }
   },
   "outputs": [
    {
     "data": {
      "text/plain": [
       "(-11.443082734937468,\n",
       " array([ 2.7211841 ,  0.68155885, -1.70847285,  0.82988134, -0.45723334,\n",
       "        -0.29805954,  0.54809379, -0.56572414, -0.77668465, -0.81084873,\n",
       "         1.19314863,  0.06323784, -0.12850235, -0.98576755]))"
      ]
     },
     "execution_count": 10,
     "metadata": {},
     "output_type": "execute_result"
    }
   ],
   "source": [
    "from sklearn.linear_model import LogisticRegression\n",
    "\n",
    "model = LogisticRegression(max_iter=10_000)\n",
    "model.fit(X, y)\n",
    "\n",
    "model.intercept_[0], model.coef_[0]"
   ]
  },
  {
   "cell_type": "code",
   "execution_count": 11,
   "id": "brief-photograph",
   "metadata": {
    "execution": {
     "iopub.execute_input": "2022-02-01T04:50:00.593774Z",
     "iopub.status.busy": "2022-02-01T04:50:00.593636Z",
     "iopub.status.idle": "2022-02-01T04:50:00.880835Z",
     "shell.execute_reply": "2022-02-01T04:50:00.880400Z",
     "shell.execute_reply.started": "2022-02-01T04:50:00.593756Z"
    }
   },
   "outputs": [
    {
     "data": {
      "image/png": "[encoded data removed]",
      "text/plain": [
       "<Figure size 720x288 with 1 Axes>"
      ]
     },
     "metadata": {},
     "output_type": "display_data"
    }
   ],
   "source": [
    "import matplotlib.pyplot as plt\n",
    "\n",
    "plt.style.use('ggplot')\n",
    "\n",
    "s = pd.Series([model.intercept_[0]] + list(model.coef_[0]), index=['intercept'] + list(X.columns))\n",
    "_ = s.plot(kind='bar', title='Coefficients', figsize=(10, 4))"
   ]
  },
  {
   "cell_type": "markdown",
   "id": "qualified-temperature",
   "metadata": {},
   "source": [
    "### Step 5: Explain the probability of survival for a strata with the highest probability of survival.  "
   ]
  },
  {
   "cell_type": "code",
   "execution_count": 12,
   "id": "finished-showcase",
   "metadata": {
    "execution": {
     "iopub.execute_input": "2022-02-01T04:50:00.881392Z",
     "iopub.status.busy": "2022-02-01T04:50:00.881281Z",
     "iopub.status.idle": "2022-02-01T04:50:00.887617Z",
     "shell.execute_reply": "2022-02-01T04:50:00.887137Z",
     "shell.execute_reply.started": "2022-02-01T04:50:00.881378Z"
    }
   },
   "outputs": [
    {
     "data": {
      "text/html": [
       "<div>\n",
       "<style scoped>\n",
       "    .dataframe tbody tr th:only-of-type {\n",
       "        vertical-align: middle;\n",
       "    }\n",
       "\n",
       "    .dataframe tbody tr th {\n",
       "        vertical-align: top;\n",
       "    }\n",
       "\n",
       "    .dataframe thead th {\n",
       "        text-align: right;\n",
       "    }\n",
       "</style>\n",
       "<table border=\"1\" class=\"dataframe\">\n",
       "  <thead>\n",
       "    <tr style=\"text-align: right;\">\n",
       "      <th></th>\n",
       "      <th></th>\n",
       "      <th></th>\n",
       "      <th></th>\n",
       "      <th>sum</th>\n",
       "      <th>count</th>\n",
       "      <th>p_survival</th>\n",
       "    </tr>\n",
       "    <tr>\n",
       "      <th>MFH</th>\n",
       "      <th>age</th>\n",
       "      <th>race</th>\n",
       "      <th>gender</th>\n",
       "      <th></th>\n",
       "      <th></th>\n",
       "      <th></th>\n",
       "    </tr>\n",
       "  </thead>\n",
       "  <tbody>\n",
       "    <tr>\n",
       "      <th>1</th>\n",
       "      <th>100.0</th>\n",
       "      <th>1</th>\n",
       "      <th>1</th>\n",
       "      <td>24</td>\n",
       "      <td>130</td>\n",
       "      <td>0.815385</td>\n",
       "    </tr>\n",
       "  </tbody>\n",
       "</table>\n",
       "</div>"
      ],
      "text/plain": [
       "                       sum  count  p_survival\n",
       "MFH age   race gender                        \n",
       "1   100.0 1    1        24    130    0.815385"
      ]
     },
     "execution_count": 12,
     "metadata": {},
     "output_type": "execute_result"
    }
   ],
   "source": [
    "strata_df.sort_values(['p_survival']).head(1)"
   ]
  },
  {
   "cell_type": "markdown",
   "id": "convenient-taylor",
   "metadata": {},
   "source": [
    "It's probably more interesting to look at a strata with the lowest probability of survival. MFH participation and being male have harmful effects on death within 6 months."
   ]
  },
  {
   "cell_type": "markdown",
   "id": "artificial-hypothesis",
   "metadata": {},
   "source": [
    "### Step 6: List the top 4 predictors of survival"
   ]
  },
  {
   "cell_type": "code",
   "execution_count": 13,
   "id": "integral-yacht",
   "metadata": {
    "execution": {
     "iopub.execute_input": "2022-02-01T04:50:00.888531Z",
     "iopub.status.busy": "2022-02-01T04:50:00.888353Z",
     "iopub.status.idle": "2022-02-01T04:50:00.903030Z",
     "shell.execute_reply": "2022-02-01T04:50:00.902703Z",
     "shell.execute_reply.started": "2022-02-01T04:50:00.888507Z"
    }
   },
   "outputs": [
    {
     "data": {
      "text/plain": [
       "race_asian     0.985768\n",
       "gender         1.193149\n",
       "bladder_365    1.708473\n",
       "MFH            2.721184\n",
       "dtype: float64"
      ]
     },
     "execution_count": 13,
     "metadata": {},
     "output_type": "execute_result"
    }
   ],
   "source": [
    "s = pd.Series(model.coef_[0], index=X.columns)\n",
    "\n",
    "np.abs(s).sort_values().tail(4)"
   ]
  },
  {
   "cell_type": "markdown",
   "id": "bound-premises",
   "metadata": {},
   "source": [
    "### Step 7: Describe, in English, if the MFH program contributes to survival. "
   ]
  },
  {
   "cell_type": "code",
   "execution_count": null,
   "id": "controlled-adapter",
   "metadata": {},
   "outputs": [],
   "source": []
  },
  {
   "cell_type": "markdown",
   "id": "exceptional-likelihood",
   "metadata": {},
   "source": [
    "## Question 3"
   ]
  },
  {
   "cell_type": "code",
   "execution_count": 15,
   "id": "infectious-badge",
   "metadata": {
    "execution": {
     "iopub.execute_input": "2022-02-01T04:51:02.651751Z",
     "iopub.status.busy": "2022-02-01T04:51:02.651613Z",
     "iopub.status.idle": "2022-02-01T04:51:03.597767Z",
     "shell.execute_reply": "2022-02-01T04:51:03.597371Z",
     "shell.execute_reply.started": "2022-02-01T04:51:02.651737Z"
    }
   },
   "outputs": [
    {
     "data": {
      "text/plain": [
       "(6657, 11)"
      ]
     },
     "execution_count": 15,
     "metadata": {},
     "output_type": "execute_result"
    }
   ],
   "source": [
    "df = pd.read_excel('Expected LOS in 10 Diseases.xlsx')\n",
    "df.shape"
   ]
  },
  {
   "cell_type": "code",
   "execution_count": 16,
   "id": "prostate-junior",
   "metadata": {
    "execution": {
     "iopub.execute_input": "2022-02-01T04:51:06.387389Z",
     "iopub.status.busy": "2022-02-01T04:51:06.386792Z",
     "iopub.status.idle": "2022-02-01T04:51:06.411879Z",
     "shell.execute_reply": "2022-02-01T04:51:06.411161Z",
     "shell.execute_reply.started": "2022-02-01T04:51:06.387322Z"
    }
   },
   "outputs": [
    {
     "data": {
      "text/html": [
       "<div>\n",
       "<style scoped>\n",
       "    .dataframe tbody tr th:only-of-type {\n",
       "        vertical-align: middle;\n",
       "    }\n",
       "\n",
       "    .dataframe tbody tr th {\n",
       "        vertical-align: top;\n",
       "    }\n",
       "\n",
       "    .dataframe thead th {\n",
       "        text-align: right;\n",
       "    }\n",
       "</style>\n",
       "<table border=\"1\" class=\"dataframe\">\n",
       "  <thead>\n",
       "    <tr style=\"text-align: right;\">\n",
       "      <th></th>\n",
       "      <th>Hypertension</th>\n",
       "      <th>Anemia</th>\n",
       "      <th>Diabetes</th>\n",
       "      <th>HIV</th>\n",
       "      <th>Stomach Cancer</th>\n",
       "      <th>Lung Cancer</th>\n",
       "      <th>Myocardial Infarction</th>\n",
       "      <th>Heart Failure</th>\n",
       "      <th>Metastetic Cancer</th>\n",
       "      <th>Cared for by Dr Smith</th>\n",
       "      <th>LOS</th>\n",
       "    </tr>\n",
       "  </thead>\n",
       "  <tbody>\n",
       "    <tr>\n",
       "      <th>0</th>\n",
       "      <td>0</td>\n",
       "      <td>0</td>\n",
       "      <td>0</td>\n",
       "      <td>0</td>\n",
       "      <td>0</td>\n",
       "      <td>0</td>\n",
       "      <td>0</td>\n",
       "      <td>0</td>\n",
       "      <td>0</td>\n",
       "      <td>0</td>\n",
       "      <td>3</td>\n",
       "    </tr>\n",
       "    <tr>\n",
       "      <th>1</th>\n",
       "      <td>1</td>\n",
       "      <td>0</td>\n",
       "      <td>0</td>\n",
       "      <td>0</td>\n",
       "      <td>0</td>\n",
       "      <td>0</td>\n",
       "      <td>0</td>\n",
       "      <td>0</td>\n",
       "      <td>0</td>\n",
       "      <td>0</td>\n",
       "      <td>4</td>\n",
       "    </tr>\n",
       "    <tr>\n",
       "      <th>2</th>\n",
       "      <td>0</td>\n",
       "      <td>0</td>\n",
       "      <td>0</td>\n",
       "      <td>0</td>\n",
       "      <td>0</td>\n",
       "      <td>0</td>\n",
       "      <td>0</td>\n",
       "      <td>0</td>\n",
       "      <td>0</td>\n",
       "      <td>1</td>\n",
       "      <td>6</td>\n",
       "    </tr>\n",
       "    <tr>\n",
       "      <th>3</th>\n",
       "      <td>1</td>\n",
       "      <td>0</td>\n",
       "      <td>0</td>\n",
       "      <td>0</td>\n",
       "      <td>0</td>\n",
       "      <td>0</td>\n",
       "      <td>0</td>\n",
       "      <td>0</td>\n",
       "      <td>0</td>\n",
       "      <td>1</td>\n",
       "      <td>6</td>\n",
       "    </tr>\n",
       "    <tr>\n",
       "      <th>4</th>\n",
       "      <td>0</td>\n",
       "      <td>1</td>\n",
       "      <td>0</td>\n",
       "      <td>0</td>\n",
       "      <td>0</td>\n",
       "      <td>0</td>\n",
       "      <td>0</td>\n",
       "      <td>0</td>\n",
       "      <td>0</td>\n",
       "      <td>0</td>\n",
       "      <td>3</td>\n",
       "    </tr>\n",
       "  </tbody>\n",
       "</table>\n",
       "</div>"
      ],
      "text/plain": [
       "   Hypertension  Anemia  Diabetes  HIV  Stomach Cancer  Lung Cancer  \\\n",
       "0             0       0         0    0               0            0   \n",
       "1             1       0         0    0               0            0   \n",
       "2             0       0         0    0               0            0   \n",
       "3             1       0         0    0               0            0   \n",
       "4             0       1         0    0               0            0   \n",
       "\n",
       "   Myocardial Infarction  Heart Failure  Metastetic Cancer  \\\n",
       "0                      0              0                  0   \n",
       "1                      0              0                  0   \n",
       "2                      0              0                  0   \n",
       "3                      0              0                  0   \n",
       "4                      0              0                  0   \n",
       "\n",
       "   Cared for by Dr Smith  LOS  \n",
       "0                      0    3  \n",
       "1                      0    4  \n",
       "2                      1    6  \n",
       "3                      1    6  \n",
       "4                      0    3  "
      ]
     },
     "execution_count": 16,
     "metadata": {},
     "output_type": "execute_result"
    }
   ],
   "source": [
    "df.head()"
   ]
  },
  {
   "cell_type": "markdown",
   "id": "parental-overhead",
   "metadata": {},
   "source": [
    "### Does Dr. Smith see a different set of patients than his peer group? \n",
    "\n",
    "Dr. Smith seems to see patients with smaller probability of hearth failure and metastatic cancer, as well as shorter average LOS."
   ]
  },
  {
   "cell_type": "code",
   "execution_count": 24,
   "id": "coordinate-roulette",
   "metadata": {
    "execution": {
     "iopub.execute_input": "2022-02-01T04:56:09.827231Z",
     "iopub.status.busy": "2022-02-01T04:56:09.827013Z",
     "iopub.status.idle": "2022-02-01T04:56:09.983947Z",
     "shell.execute_reply": "2022-02-01T04:56:09.983532Z",
     "shell.execute_reply.started": "2022-02-01T04:56:09.827206Z"
    }
   },
   "outputs": [
    {
     "data": {
      "image/png": "[encoded data removed]",
      "text/plain": [
       "<Figure size 720x288 with 1 Axes>"
      ]
     },
     "metadata": {},
     "output_type": "display_data"
    }
   ],
   "source": [
    "_ = pd.DataFrame({\n",
    "    'other': df[df['Cared for by Dr Smith'] == 0][[c for c in df if c != 'Cared for by Dr Smith']].mean(),\n",
    "    'dr_smith': df[df['Cared for by Dr Smith'] == 1][[c for c in df if c != 'Cared for by Dr Smith']].mean()\n",
    "}).plot(kind='bar', figsize=(10, 4), title='Mean of Diagnoses, Dr. Smith vs Other')"
   ]
  },
  {
   "cell_type": "markdown",
   "id": "exceptional-development",
   "metadata": {},
   "source": [
    "### In particular, what is the probability of patients being seen by Dr. Smith."
   ]
  },
  {
   "cell_type": "code",
   "execution_count": 26,
   "id": "emerging-nancy",
   "metadata": {
    "execution": {
     "iopub.execute_input": "2022-02-01T04:57:37.167757Z",
     "iopub.status.busy": "2022-02-01T04:57:37.167406Z",
     "iopub.status.idle": "2022-02-01T04:57:37.175637Z",
     "shell.execute_reply": "2022-02-01T04:57:37.174836Z",
     "shell.execute_reply.started": "2022-02-01T04:57:37.167717Z"
    }
   },
   "outputs": [
    {
     "data": {
      "text/plain": [
       "1    0.601923\n",
       "0    0.398077\n",
       "Name: Cared for by Dr Smith, dtype: float64"
      ]
     },
     "execution_count": 26,
     "metadata": {},
     "output_type": "execute_result"
    }
   ],
   "source": [
    "df['Cared for by Dr Smith'].value_counts() / df.shape[0]"
   ]
  },
  {
   "cell_type": "code",
   "execution_count": 32,
   "id": "alien-binary",
   "metadata": {
    "execution": {
     "iopub.execute_input": "2022-02-01T04:59:29.145788Z",
     "iopub.status.busy": "2022-02-01T04:59:29.145208Z",
     "iopub.status.idle": "2022-02-01T04:59:29.226480Z",
     "shell.execute_reply": "2022-02-01T04:59:29.226035Z",
     "shell.execute_reply.started": "2022-02-01T04:59:29.145720Z"
    }
   },
   "outputs": [
    {
     "data": {
      "image/png": "[encoded data removed]",
      "text/plain": [
       "<Figure size 432x288 with 1 Axes>"
      ]
     },
     "metadata": {},
     "output_type": "display_data"
    }
   ],
   "source": [
    "s = (df['Cared for by Dr Smith'].value_counts() / df.shape[0]).sort_values()\n",
    "s.index = ['other', 'dr_smith']\n",
    "ax = s.plot(kind='bar', title='Probability of being seen by Dr. Smith')"
   ]
  },
  {
   "cell_type": "markdown",
   "id": "latest-johnson",
   "metadata": {},
   "source": [
    "### Regress the choice of provider on the 9 diagnoses provided."
   ]
  },
  {
   "cell_type": "code",
   "execution_count": 35,
   "id": "beneficial-floor",
   "metadata": {
    "execution": {
     "iopub.execute_input": "2022-02-01T05:00:36.849103Z",
     "iopub.status.busy": "2022-02-01T05:00:36.848821Z",
     "iopub.status.idle": "2022-02-01T05:00:36.857148Z",
     "shell.execute_reply": "2022-02-01T05:00:36.856587Z",
     "shell.execute_reply.started": "2022-02-01T05:00:36.849073Z"
    }
   },
   "outputs": [
    {
     "data": {
      "text/plain": [
       "((6657, 10), (6657,))"
      ]
     },
     "execution_count": 35,
     "metadata": {},
     "output_type": "execute_result"
    }
   ],
   "source": [
    "X = df.dropna()\n",
    "X, y = X[[c for c in X.columns if c != 'Cared for by Dr Smith']], X['Cared for by Dr Smith']\n",
    "\n",
    "X.shape, y.shape"
   ]
  },
  {
   "cell_type": "code",
   "execution_count": 36,
   "id": "adverse-marsh",
   "metadata": {
    "execution": {
     "iopub.execute_input": "2022-02-01T05:00:51.273494Z",
     "iopub.status.busy": "2022-02-01T05:00:51.272873Z",
     "iopub.status.idle": "2022-02-01T05:00:51.289477Z",
     "shell.execute_reply": "2022-02-01T05:00:51.288971Z",
     "shell.execute_reply.started": "2022-02-01T05:00:51.273426Z"
    }
   },
   "outputs": [
    {
     "data": {
      "text/plain": [
       "(0.9358835452959025,\n",
       " array([ 0.00571707, -0.01010148,  0.00090886,  0.01242404,  0.01320936,\n",
       "        -0.01516287, -0.08402105, -0.52431467, -0.52274763, -0.01538519]))"
      ]
     },
     "execution_count": 36,
     "metadata": {},
     "output_type": "execute_result"
    }
   ],
   "source": [
    "model = LogisticRegression(max_iter=10_000)\n",
    "model.fit(X, y)\n",
    "\n",
    "model.intercept_[0], model.coef_[0]"
   ]
  },
  {
   "cell_type": "code",
   "execution_count": 37,
   "id": "liquid-million",
   "metadata": {
    "execution": {
     "iopub.execute_input": "2022-02-01T05:01:08.883828Z",
     "iopub.status.busy": "2022-02-01T05:01:08.883256Z",
     "iopub.status.idle": "2022-02-01T05:01:08.996959Z",
     "shell.execute_reply": "2022-02-01T05:01:08.996586Z",
     "shell.execute_reply.started": "2022-02-01T05:01:08.883762Z"
    }
   },
   "outputs": [
    {
     "data": {
      "image/png": "[encoded data removed]",
      "text/plain": [
       "<Figure size 720x288 with 1 Axes>"
      ]
     },
     "metadata": {},
     "output_type": "display_data"
    }
   ],
   "source": [
    "s = pd.Series([model.intercept_[0]] + list(model.coef_[0]), index=['intercept'] + list(X.columns))\n",
    "_ = s.plot(kind='bar', title='Coefficients', figsize=(10, 4))"
   ]
  },
  {
   "cell_type": "markdown",
   "id": "mysterious-profession",
   "metadata": {},
   "source": [
    "## Question 4"
   ]
  },
  {
   "cell_type": "code",
   "execution_count": 142,
   "id": "reverse-undergraduate",
   "metadata": {
    "execution": {
     "iopub.execute_input": "2022-02-01T06:53:26.595900Z",
     "iopub.status.busy": "2022-02-01T06:53:26.595480Z",
     "iopub.status.idle": "2022-02-01T06:53:29.374314Z",
     "shell.execute_reply": "2022-02-01T06:53:29.373586Z",
     "shell.execute_reply.started": "2022-02-01T06:53:26.595851Z"
    }
   },
   "outputs": [
    {
     "data": {
      "text/plain": [
       "(1306401, 17)"
      ]
     },
     "execution_count": 142,
     "metadata": {},
     "output_type": "execute_result"
    }
   ],
   "source": [
    "fields = [\n",
    "    'ID', 'age', 'gender', 'num_assessments', \n",
    "    'num_days_followed', 'days_since_first_assessment', \n",
    "    'days_to_last_assessment', 'eat', 'transfer', 'groom', \n",
    "    'toilet', 'bathe', 'walk', 'dress', 'bowel', \n",
    "    'urine', 'is_dead', 'assessment_number'\n",
    "]\n",
    "\n",
    "df = pd.read_csv('Assessments.txt', sep='\\t', names=fields)\n",
    "df.index = pd.MultiIndex.from_tuples([(i, idx) for i, idx in enumerate(df['ID'])], names=['row', 'ID'])\n",
    "df['gender'] = df['gender'].apply(lambda g: 1 if 'M' == g else 0)\n",
    "df = df.drop(columns=['ID'])\n",
    "df = df[df['age'] > 0]\n",
    "df['age'] = df['age'].apply(lambda a: int(math.ceil(a / 10.0)) * 10 if pd.notna(a) else np.nan)\n",
    "\n",
    "df.shape"
   ]
  },
  {
   "cell_type": "code",
   "execution_count": 143,
   "id": "unlikely-pleasure",
   "metadata": {
    "execution": {
     "iopub.execute_input": "2022-02-01T06:53:30.495902Z",
     "iopub.status.busy": "2022-02-01T06:53:30.495766Z",
     "iopub.status.idle": "2022-02-01T06:53:30.504555Z",
     "shell.execute_reply": "2022-02-01T06:53:30.504037Z",
     "shell.execute_reply.started": "2022-02-01T06:53:30.495888Z"
    }
   },
   "outputs": [
    {
     "data": {
      "text/html": [
       "<div>\n",
       "<style scoped>\n",
       "    .dataframe tbody tr th:only-of-type {\n",
       "        vertical-align: middle;\n",
       "    }\n",
       "\n",
       "    .dataframe tbody tr th {\n",
       "        vertical-align: top;\n",
       "    }\n",
       "\n",
       "    .dataframe thead th {\n",
       "        text-align: right;\n",
       "    }\n",
       "</style>\n",
       "<table border=\"1\" class=\"dataframe\">\n",
       "  <thead>\n",
       "    <tr style=\"text-align: right;\">\n",
       "      <th></th>\n",
       "      <th></th>\n",
       "      <th>age</th>\n",
       "      <th>gender</th>\n",
       "      <th>num_assessments</th>\n",
       "      <th>num_days_followed</th>\n",
       "      <th>days_since_first_assessment</th>\n",
       "      <th>days_to_last_assessment</th>\n",
       "      <th>eat</th>\n",
       "      <th>transfer</th>\n",
       "      <th>groom</th>\n",
       "      <th>toilet</th>\n",
       "      <th>bathe</th>\n",
       "      <th>walk</th>\n",
       "      <th>dress</th>\n",
       "      <th>bowel</th>\n",
       "      <th>urine</th>\n",
       "      <th>is_dead</th>\n",
       "      <th>assessment_number</th>\n",
       "    </tr>\n",
       "    <tr>\n",
       "      <th>row</th>\n",
       "      <th>ID</th>\n",
       "      <th></th>\n",
       "      <th></th>\n",
       "      <th></th>\n",
       "      <th></th>\n",
       "      <th></th>\n",
       "      <th></th>\n",
       "      <th></th>\n",
       "      <th></th>\n",
       "      <th></th>\n",
       "      <th></th>\n",
       "      <th></th>\n",
       "      <th></th>\n",
       "      <th></th>\n",
       "      <th></th>\n",
       "      <th></th>\n",
       "      <th></th>\n",
       "      <th></th>\n",
       "    </tr>\n",
       "  </thead>\n",
       "  <tbody>\n",
       "    <tr>\n",
       "      <th>0</th>\n",
       "      <th>1</th>\n",
       "      <td>70</td>\n",
       "      <td>1</td>\n",
       "      <td>9</td>\n",
       "      <td>915</td>\n",
       "      <td>0</td>\n",
       "      <td>915</td>\n",
       "      <td>0</td>\n",
       "      <td>0</td>\n",
       "      <td>0</td>\n",
       "      <td>0</td>\n",
       "      <td>0</td>\n",
       "      <td>1</td>\n",
       "      <td>0</td>\n",
       "      <td>0</td>\n",
       "      <td>0</td>\n",
       "      <td>0</td>\n",
       "      <td>1</td>\n",
       "    </tr>\n",
       "    <tr>\n",
       "      <th>1</th>\n",
       "      <th>1</th>\n",
       "      <td>70</td>\n",
       "      <td>1</td>\n",
       "      <td>9</td>\n",
       "      <td>915</td>\n",
       "      <td>7</td>\n",
       "      <td>908</td>\n",
       "      <td>0</td>\n",
       "      <td>0</td>\n",
       "      <td>0</td>\n",
       "      <td>0</td>\n",
       "      <td>0</td>\n",
       "      <td>1</td>\n",
       "      <td>0</td>\n",
       "      <td>0</td>\n",
       "      <td>0</td>\n",
       "      <td>0</td>\n",
       "      <td>2</td>\n",
       "    </tr>\n",
       "    <tr>\n",
       "      <th>2</th>\n",
       "      <th>1</th>\n",
       "      <td>70</td>\n",
       "      <td>1</td>\n",
       "      <td>9</td>\n",
       "      <td>915</td>\n",
       "      <td>18</td>\n",
       "      <td>897</td>\n",
       "      <td>0</td>\n",
       "      <td>0</td>\n",
       "      <td>0</td>\n",
       "      <td>0</td>\n",
       "      <td>0</td>\n",
       "      <td>1</td>\n",
       "      <td>0</td>\n",
       "      <td>0</td>\n",
       "      <td>0</td>\n",
       "      <td>0</td>\n",
       "      <td>3</td>\n",
       "    </tr>\n",
       "    <tr>\n",
       "      <th>3</th>\n",
       "      <th>1</th>\n",
       "      <td>70</td>\n",
       "      <td>1</td>\n",
       "      <td>9</td>\n",
       "      <td>915</td>\n",
       "      <td>238</td>\n",
       "      <td>677</td>\n",
       "      <td>0</td>\n",
       "      <td>0</td>\n",
       "      <td>0</td>\n",
       "      <td>0</td>\n",
       "      <td>0</td>\n",
       "      <td>1</td>\n",
       "      <td>0</td>\n",
       "      <td>0</td>\n",
       "      <td>0</td>\n",
       "      <td>0</td>\n",
       "      <td>4</td>\n",
       "    </tr>\n",
       "    <tr>\n",
       "      <th>4</th>\n",
       "      <th>1</th>\n",
       "      <td>70</td>\n",
       "      <td>1</td>\n",
       "      <td>9</td>\n",
       "      <td>915</td>\n",
       "      <td>311</td>\n",
       "      <td>604</td>\n",
       "      <td>0</td>\n",
       "      <td>0</td>\n",
       "      <td>0</td>\n",
       "      <td>0</td>\n",
       "      <td>0</td>\n",
       "      <td>1</td>\n",
       "      <td>0</td>\n",
       "      <td>0</td>\n",
       "      <td>0</td>\n",
       "      <td>0</td>\n",
       "      <td>5</td>\n",
       "    </tr>\n",
       "  </tbody>\n",
       "</table>\n",
       "</div>"
      ],
      "text/plain": [
       "        age  gender  num_assessments  num_days_followed  \\\n",
       "row ID                                                    \n",
       "0   1    70       1                9                915   \n",
       "1   1    70       1                9                915   \n",
       "2   1    70       1                9                915   \n",
       "3   1    70       1                9                915   \n",
       "4   1    70       1                9                915   \n",
       "\n",
       "        days_since_first_assessment  days_to_last_assessment  eat  transfer  \\\n",
       "row ID                                                                        \n",
       "0   1                             0                      915    0         0   \n",
       "1   1                             7                      908    0         0   \n",
       "2   1                            18                      897    0         0   \n",
       "3   1                           238                      677    0         0   \n",
       "4   1                           311                      604    0         0   \n",
       "\n",
       "        groom  toilet  bathe  walk  dress  bowel  urine  is_dead  \\\n",
       "row ID                                                             \n",
       "0   1       0       0      0     1      0      0      0        0   \n",
       "1   1       0       0      0     1      0      0      0        0   \n",
       "2   1       0       0      0     1      0      0      0        0   \n",
       "3   1       0       0      0     1      0      0      0        0   \n",
       "4   1       0       0      0     1      0      0      0        0   \n",
       "\n",
       "        assessment_number  \n",
       "row ID                     \n",
       "0   1                   1  \n",
       "1   1                   2  \n",
       "2   1                   3  \n",
       "3   1                   4  \n",
       "4   1                   5  "
      ]
     },
     "execution_count": 143,
     "metadata": {},
     "output_type": "execute_result"
    }
   ],
   "source": [
    "df.head()"
   ]
  },
  {
   "cell_type": "markdown",
   "id": "welsh-founder",
   "metadata": {},
   "source": [
    "### Step 1: Read the data, making sure all entries are numbers."
   ]
  },
  {
   "cell_type": "code",
   "execution_count": 144,
   "id": "retained-owner",
   "metadata": {
    "execution": {
     "iopub.execute_input": "2022-02-01T06:53:31.465091Z",
     "iopub.status.busy": "2022-02-01T06:53:31.464930Z",
     "iopub.status.idle": "2022-02-01T06:53:31.468645Z",
     "shell.execute_reply": "2022-02-01T06:53:31.468155Z",
     "shell.execute_reply.started": "2022-02-01T06:53:31.465064Z"
    }
   },
   "outputs": [
    {
     "data": {
      "text/plain": [
       "age                            int64\n",
       "gender                         int64\n",
       "num_assessments                int64\n",
       "num_days_followed              int64\n",
       "days_since_first_assessment    int64\n",
       "days_to_last_assessment        int64\n",
       "eat                            int64\n",
       "transfer                       int64\n",
       "groom                          int64\n",
       "toilet                         int64\n",
       "bathe                          int64\n",
       "walk                           int64\n",
       "dress                          int64\n",
       "bowel                          int64\n",
       "urine                          int64\n",
       "is_dead                        int64\n",
       "assessment_number              int64\n",
       "dtype: object"
      ]
     },
     "execution_count": 144,
     "metadata": {},
     "output_type": "execute_result"
    }
   ],
   "source": [
    "df.dtypes"
   ]
  },
  {
   "cell_type": "markdown",
   "id": "great-broad",
   "metadata": {},
   "source": [
    "### Step 2: Clean the data, removing impossible situations"
   ]
  },
  {
   "cell_type": "code",
   "execution_count": null,
   "id": "opening-australian",
   "metadata": {},
   "outputs": [],
   "source": []
  },
  {
   "cell_type": "markdown",
   "id": "nearby-animation",
   "metadata": {},
   "source": [
    "### Step 3: Remove irrelevant cases"
   ]
  },
  {
   "cell_type": "code",
   "execution_count": 145,
   "id": "minimal-python",
   "metadata": {
    "execution": {
     "iopub.execute_input": "2022-02-01T06:53:34.669355Z",
     "iopub.status.busy": "2022-02-01T06:53:34.669193Z",
     "iopub.status.idle": "2022-02-01T06:53:34.768620Z",
     "shell.execute_reply": "2022-02-01T06:53:34.768190Z",
     "shell.execute_reply.started": "2022-02-01T06:53:34.669341Z"
    }
   },
   "outputs": [
    {
     "data": {
      "text/plain": [
       "254725"
      ]
     },
     "execution_count": 145,
     "metadata": {},
     "output_type": "execute_result"
    }
   ],
   "source": [
    "s = df.groupby(['ID']).agg('count')[['age']].rename(columns={'age': 'n'})['n']\n",
    "s = s[s > 1]\n",
    "ids = set(s.index)\n",
    "\n",
    "len(ids)"
   ]
  },
  {
   "cell_type": "code",
   "execution_count": 146,
   "id": "diagnostic-sucking",
   "metadata": {
    "execution": {
     "iopub.execute_input": "2022-02-01T06:53:35.617061Z",
     "iopub.status.busy": "2022-02-01T06:53:35.616916Z",
     "iopub.status.idle": "2022-02-01T06:53:35.723624Z",
     "shell.execute_reply": "2022-02-01T06:53:35.723223Z",
     "shell.execute_reply.started": "2022-02-01T06:53:35.617045Z"
    }
   },
   "outputs": [
    {
     "data": {
      "text/plain": [
       "(1306401, 17)"
      ]
     },
     "execution_count": 146,
     "metadata": {},
     "output_type": "execute_result"
    }
   ],
   "source": [
    "df = df[df.index.isin(ids, level=1)]\n",
    "df.shape"
   ]
  },
  {
   "cell_type": "markdown",
   "id": "described-bouquet",
   "metadata": {},
   "source": [
    "### Step 4: For each assessment, remove all assessments that are more than 6 months older."
   ]
  },
  {
   "cell_type": "code",
   "execution_count": 147,
   "id": "little-employer",
   "metadata": {
    "execution": {
     "iopub.execute_input": "2022-02-01T06:53:37.380250Z",
     "iopub.status.busy": "2022-02-01T06:53:37.379659Z",
     "iopub.status.idle": "2022-02-01T06:53:37.583984Z",
     "shell.execute_reply": "2022-02-01T06:53:37.583561Z",
     "shell.execute_reply.started": "2022-02-01T06:53:37.380157Z"
    }
   },
   "outputs": [
    {
     "data": {
      "text/plain": [
       "(677990, 17)"
      ]
     },
     "execution_count": 147,
     "metadata": {},
     "output_type": "execute_result"
    }
   ],
   "source": [
    "is_valid_row = lambda d: d <= 30.437 * 6\n",
    "\n",
    "df = df[df['days_since_first_assessment'].apply(is_valid_row)]\n",
    "df.shape"
   ]
  },
  {
   "cell_type": "markdown",
   "id": "sixth-standard",
   "metadata": {
    "execution": {
     "iopub.execute_input": "2022-02-01T06:07:05.751562Z",
     "iopub.status.busy": "2022-02-01T06:07:05.751416Z",
     "iopub.status.idle": "2022-02-01T06:07:05.759689Z",
     "shell.execute_reply": "2022-02-01T06:07:05.759233Z",
     "shell.execute_reply.started": "2022-02-01T06:07:05.751547Z"
    }
   },
   "source": [
    "### Step 5: Organize age at current admission into a binary variable above or below the average age at current assessment"
   ]
  },
  {
   "cell_type": "code",
   "execution_count": 148,
   "id": "fatty-graph",
   "metadata": {
    "execution": {
     "iopub.execute_input": "2022-02-01T06:53:41.145145Z",
     "iopub.status.busy": "2022-02-01T06:53:41.144574Z",
     "iopub.status.idle": "2022-02-01T06:53:41.292362Z",
     "shell.execute_reply": "2022-02-01T06:53:41.291948Z",
     "shell.execute_reply.started": "2022-02-01T06:53:41.145079Z"
    }
   },
   "outputs": [],
   "source": [
    "avg_age = df['age'].mean()\n",
    "df['age_at_admission'] = df['age'].apply(lambda a: 1 if a > avg_age else 0)"
   ]
  },
  {
   "cell_type": "code",
   "execution_count": 149,
   "id": "under-regular",
   "metadata": {
    "execution": {
     "iopub.execute_input": "2022-02-01T06:53:41.786943Z",
     "iopub.status.busy": "2022-02-01T06:53:41.786796Z",
     "iopub.status.idle": "2022-02-01T06:53:41.795786Z",
     "shell.execute_reply": "2022-02-01T06:53:41.795426Z",
     "shell.execute_reply.started": "2022-02-01T06:53:41.786928Z"
    }
   },
   "outputs": [
    {
     "data": {
      "text/html": [
       "<div>\n",
       "<style scoped>\n",
       "    .dataframe tbody tr th:only-of-type {\n",
       "        vertical-align: middle;\n",
       "    }\n",
       "\n",
       "    .dataframe tbody tr th {\n",
       "        vertical-align: top;\n",
       "    }\n",
       "\n",
       "    .dataframe thead th {\n",
       "        text-align: right;\n",
       "    }\n",
       "</style>\n",
       "<table border=\"1\" class=\"dataframe\">\n",
       "  <thead>\n",
       "    <tr style=\"text-align: right;\">\n",
       "      <th></th>\n",
       "      <th></th>\n",
       "      <th>age</th>\n",
       "      <th>gender</th>\n",
       "      <th>num_assessments</th>\n",
       "      <th>num_days_followed</th>\n",
       "      <th>days_since_first_assessment</th>\n",
       "      <th>days_to_last_assessment</th>\n",
       "      <th>eat</th>\n",
       "      <th>transfer</th>\n",
       "      <th>groom</th>\n",
       "      <th>toilet</th>\n",
       "      <th>bathe</th>\n",
       "      <th>walk</th>\n",
       "      <th>dress</th>\n",
       "      <th>bowel</th>\n",
       "      <th>urine</th>\n",
       "      <th>is_dead</th>\n",
       "      <th>assessment_number</th>\n",
       "      <th>age_at_admission</th>\n",
       "    </tr>\n",
       "    <tr>\n",
       "      <th>row</th>\n",
       "      <th>ID</th>\n",
       "      <th></th>\n",
       "      <th></th>\n",
       "      <th></th>\n",
       "      <th></th>\n",
       "      <th></th>\n",
       "      <th></th>\n",
       "      <th></th>\n",
       "      <th></th>\n",
       "      <th></th>\n",
       "      <th></th>\n",
       "      <th></th>\n",
       "      <th></th>\n",
       "      <th></th>\n",
       "      <th></th>\n",
       "      <th></th>\n",
       "      <th></th>\n",
       "      <th></th>\n",
       "      <th></th>\n",
       "    </tr>\n",
       "  </thead>\n",
       "  <tbody>\n",
       "    <tr>\n",
       "      <th>0</th>\n",
       "      <th>1</th>\n",
       "      <td>70</td>\n",
       "      <td>1</td>\n",
       "      <td>9</td>\n",
       "      <td>915</td>\n",
       "      <td>0</td>\n",
       "      <td>915</td>\n",
       "      <td>0</td>\n",
       "      <td>0</td>\n",
       "      <td>0</td>\n",
       "      <td>0</td>\n",
       "      <td>0</td>\n",
       "      <td>1</td>\n",
       "      <td>0</td>\n",
       "      <td>0</td>\n",
       "      <td>0</td>\n",
       "      <td>0</td>\n",
       "      <td>1</td>\n",
       "      <td>0</td>\n",
       "    </tr>\n",
       "    <tr>\n",
       "      <th>1</th>\n",
       "      <th>1</th>\n",
       "      <td>70</td>\n",
       "      <td>1</td>\n",
       "      <td>9</td>\n",
       "      <td>915</td>\n",
       "      <td>7</td>\n",
       "      <td>908</td>\n",
       "      <td>0</td>\n",
       "      <td>0</td>\n",
       "      <td>0</td>\n",
       "      <td>0</td>\n",
       "      <td>0</td>\n",
       "      <td>1</td>\n",
       "      <td>0</td>\n",
       "      <td>0</td>\n",
       "      <td>0</td>\n",
       "      <td>0</td>\n",
       "      <td>2</td>\n",
       "      <td>0</td>\n",
       "    </tr>\n",
       "    <tr>\n",
       "      <th>2</th>\n",
       "      <th>1</th>\n",
       "      <td>70</td>\n",
       "      <td>1</td>\n",
       "      <td>9</td>\n",
       "      <td>915</td>\n",
       "      <td>18</td>\n",
       "      <td>897</td>\n",
       "      <td>0</td>\n",
       "      <td>0</td>\n",
       "      <td>0</td>\n",
       "      <td>0</td>\n",
       "      <td>0</td>\n",
       "      <td>1</td>\n",
       "      <td>0</td>\n",
       "      <td>0</td>\n",
       "      <td>0</td>\n",
       "      <td>0</td>\n",
       "      <td>3</td>\n",
       "      <td>0</td>\n",
       "    </tr>\n",
       "    <tr>\n",
       "      <th>9</th>\n",
       "      <th>10</th>\n",
       "      <td>60</td>\n",
       "      <td>1</td>\n",
       "      <td>4</td>\n",
       "      <td>235</td>\n",
       "      <td>0</td>\n",
       "      <td>235</td>\n",
       "      <td>0</td>\n",
       "      <td>0</td>\n",
       "      <td>0</td>\n",
       "      <td>0</td>\n",
       "      <td>0</td>\n",
       "      <td>0</td>\n",
       "      <td>0</td>\n",
       "      <td>0</td>\n",
       "      <td>0</td>\n",
       "      <td>0</td>\n",
       "      <td>1</td>\n",
       "      <td>0</td>\n",
       "    </tr>\n",
       "    <tr>\n",
       "      <th>10</th>\n",
       "      <th>10</th>\n",
       "      <td>60</td>\n",
       "      <td>1</td>\n",
       "      <td>4</td>\n",
       "      <td>235</td>\n",
       "      <td>74</td>\n",
       "      <td>161</td>\n",
       "      <td>0</td>\n",
       "      <td>0</td>\n",
       "      <td>0</td>\n",
       "      <td>0</td>\n",
       "      <td>0</td>\n",
       "      <td>0</td>\n",
       "      <td>0</td>\n",
       "      <td>0</td>\n",
       "      <td>0</td>\n",
       "      <td>0</td>\n",
       "      <td>2</td>\n",
       "      <td>0</td>\n",
       "    </tr>\n",
       "  </tbody>\n",
       "</table>\n",
       "</div>"
      ],
      "text/plain": [
       "        age  gender  num_assessments  num_days_followed  \\\n",
       "row ID                                                    \n",
       "0   1    70       1                9                915   \n",
       "1   1    70       1                9                915   \n",
       "2   1    70       1                9                915   \n",
       "9   10   60       1                4                235   \n",
       "10  10   60       1                4                235   \n",
       "\n",
       "        days_since_first_assessment  days_to_last_assessment  eat  transfer  \\\n",
       "row ID                                                                        \n",
       "0   1                             0                      915    0         0   \n",
       "1   1                             7                      908    0         0   \n",
       "2   1                            18                      897    0         0   \n",
       "9   10                            0                      235    0         0   \n",
       "10  10                           74                      161    0         0   \n",
       "\n",
       "        groom  toilet  bathe  walk  dress  bowel  urine  is_dead  \\\n",
       "row ID                                                             \n",
       "0   1       0       0      0     1      0      0      0        0   \n",
       "1   1       0       0      0     1      0      0      0        0   \n",
       "2   1       0       0      0     1      0      0      0        0   \n",
       "9   10      0       0      0     0      0      0      0        0   \n",
       "10  10      0       0      0     0      0      0      0        0   \n",
       "\n",
       "        assessment_number  age_at_admission  \n",
       "row ID                                       \n",
       "0   1                   1                 0  \n",
       "1   1                   2                 0  \n",
       "2   1                   3                 0  \n",
       "9   10                  1                 0  \n",
       "10  10                  2                 0  "
      ]
     },
     "execution_count": 149,
     "metadata": {},
     "output_type": "execute_result"
    }
   ],
   "source": [
    "df.head()"
   ]
  },
  {
   "cell_type": "markdown",
   "id": "ongoing-cliff",
   "metadata": {},
   "source": [
    "### Step 6: Calculate a new variable for each assessment that checks if the person would have an eating in the next 6 months. "
   ]
  },
  {
   "cell_type": "code",
   "execution_count": null,
   "id": "coordinate-horizon",
   "metadata": {},
   "outputs": [],
   "source": [
    "def has_eating6m(i, r):\n",
    "    days_since_first_assessment = r['days_since_first_assessment']\n",
    "    \n",
    "    row, idx = i\n",
    "    d = df[df.index.isin([idx], level=1)].sort_values(['days_since_first_assessment'])\n",
    "    d = d[d.index.get_level_values('row') > row]\n",
    "    if d.shape[0] < 1:\n",
    "        return 0\n",
    "    \n",
    "    d['time'] = d['days_since_first_assessment'] - days_since_first_assessment\n",
    "    d['within6m'] = d['time'].apply(lambda t: t <= 30.437 * 6)\n",
    "    d = d[d['within6m'] == True]\n",
    "    if d.shape[0] < 1:\n",
    "        return 0\n",
    "    \n",
    "    d = d[d['eat'] == 1]\n",
    "    if d.shape[0] < 1:\n",
    "        return 0\n",
    "        \n",
    "    return 1\n",
    "    \n",
    "df['eating6m'] = [has_eating6m(i, r) for i, r in df.iterrows()]"
   ]
  },
  {
   "cell_type": "code",
   "execution_count": null,
   "id": "secure-award",
   "metadata": {},
   "outputs": [],
   "source": [
    "df.shape"
   ]
  },
  {
   "cell_type": "code",
   "execution_count": null,
   "id": "wired-constitution",
   "metadata": {},
   "outputs": [],
   "source": [
    "df.head()"
   ]
  },
  {
   "cell_type": "markdown",
   "id": "lucky-fellow",
   "metadata": {},
   "source": [
    "### Step 7: Group the data based on current disabilities, gender, and age.  Count the number of residents who died within 6 months of assessment for combination of disabilities, gender and age. "
   ]
  },
  {
   "cell_type": "code",
   "execution_count": 157,
   "id": "imposed-torture",
   "metadata": {
    "execution": {
     "iopub.execute_input": "2022-02-01T06:59:50.450273Z",
     "iopub.status.busy": "2022-02-01T06:59:50.449943Z",
     "iopub.status.idle": "2022-02-01T06:59:50.533169Z",
     "shell.execute_reply": "2022-02-01T06:59:50.532715Z",
     "shell.execute_reply.started": "2022-02-01T06:59:50.450236Z"
    }
   },
   "outputs": [
    {
     "data": {
      "text/plain": [
       "age  gender\n",
       "10   0             0\n",
       "     1             5\n",
       "20   0             1\n",
       "     1             6\n",
       "30   0             7\n",
       "     1            31\n",
       "40   0            14\n",
       "     1           106\n",
       "50   0            91\n",
       "     1          1239\n",
       "60   0           285\n",
       "     1          9092\n",
       "70   0           264\n",
       "     1         14984\n",
       "80   0           318\n",
       "     1         21414\n",
       "90   0           495\n",
       "     1         21778\n",
       "100  0            99\n",
       "     1          2895\n",
       "110  0             4\n",
       "     1            34\n",
       "Name: is_dead, dtype: int64"
      ]
     },
     "execution_count": 157,
     "metadata": {},
     "output_type": "execute_result"
    }
   ],
   "source": [
    "df.groupby(['age', 'gender']).agg('sum')['is_dead']"
   ]
  },
  {
   "cell_type": "markdown",
   "id": "annoying-economy",
   "metadata": {},
   "source": [
    "### Step 8: Use ordinary regression to regress the Logit of odds of dying on various current disabilities, age, gender, and pair wise interactions of these variables."
   ]
  },
  {
   "cell_type": "code",
   "execution_count": 154,
   "id": "stainless-nepal",
   "metadata": {
    "execution": {
     "iopub.execute_input": "2022-02-01T06:58:15.637477Z",
     "iopub.status.busy": "2022-02-01T06:58:15.636908Z",
     "iopub.status.idle": "2022-02-01T06:58:15.653363Z",
     "shell.execute_reply": "2022-02-01T06:58:15.653053Z",
     "shell.execute_reply.started": "2022-02-01T06:58:15.637414Z"
    }
   },
   "outputs": [
    {
     "data": {
      "text/plain": [
       "((677990, 11), (677990,))"
      ]
     },
     "execution_count": 154,
     "metadata": {},
     "output_type": "execute_result"
    }
   ],
   "source": [
    "exclude = [\n",
    "    'is_dead', 'assessment_number', 'age_at_admission',\n",
    "    'num_assessments',\n",
    "    'num_days_followed',\n",
    "    'days_since_first_assessment',\n",
    "    'days_to_last_assessment'\n",
    "]\n",
    "X = df[[c for c in df.columns if c not in exclude]]\n",
    "y = df['is_dead']\n",
    "\n",
    "X.shape, y.shape"
   ]
  },
  {
   "cell_type": "code",
   "execution_count": 155,
   "id": "blind-brunei",
   "metadata": {
    "execution": {
     "iopub.execute_input": "2022-02-01T06:58:42.116226Z",
     "iopub.status.busy": "2022-02-01T06:58:42.116063Z",
     "iopub.status.idle": "2022-02-01T06:58:44.333237Z",
     "shell.execute_reply": "2022-02-01T06:58:44.332736Z",
     "shell.execute_reply.started": "2022-02-01T06:58:42.116184Z"
    }
   },
   "outputs": [
    {
     "data": {
      "text/plain": [
       "(-5.275865194143612,\n",
       " array([ 0.06023654,  0.17356623, -5.80366529, -1.70320604, -7.05977293,\n",
       "        -4.39979383, -8.84228763, -7.07590138, -4.23445929, -3.02565372,\n",
       "        -4.59205156]))"
      ]
     },
     "execution_count": 155,
     "metadata": {},
     "output_type": "execute_result"
    }
   ],
   "source": [
    "model = LogisticRegression(max_iter=10_000)\n",
    "model.fit(X, y)\n",
    "\n",
    "model.intercept_[0], model.coef_[0]"
   ]
  },
  {
   "cell_type": "code",
   "execution_count": 156,
   "id": "wired-communication",
   "metadata": {
    "execution": {
     "iopub.execute_input": "2022-02-01T06:58:54.451252Z",
     "iopub.status.busy": "2022-02-01T06:58:54.450661Z",
     "iopub.status.idle": "2022-02-01T06:58:54.563278Z",
     "shell.execute_reply": "2022-02-01T06:58:54.562810Z",
     "shell.execute_reply.started": "2022-02-01T06:58:54.451185Z"
    }
   },
   "outputs": [
    {
     "data": {
      "image/png": "[encoded data removed]",
      "text/plain": [
       "<Figure size 720x288 with 1 Axes>"
      ]
     },
     "metadata": {},
     "output_type": "display_data"
    }
   ],
   "source": [
    "s = pd.Series([model.intercept_[0]] + list(model.coef_[0]), index=['intercept'] + list(X.columns))\n",
    "_ = s.plot(kind='bar', title='Coefficients', figsize=(10, 4))"
   ]
  },
  {
   "cell_type": "markdown",
   "id": "regulated-korea",
   "metadata": {},
   "source": [
    "### Step 9: Identify what is the Markov Blanket of feeding disability in 6 months.  "
   ]
  },
  {
   "cell_type": "code",
   "execution_count": 174,
   "id": "aquatic-welcome",
   "metadata": {
    "execution": {
     "iopub.execute_input": "2022-02-01T07:06:27.575957Z",
     "iopub.status.busy": "2022-02-01T07:06:27.575393Z",
     "iopub.status.idle": "2022-02-01T07:06:27.592081Z",
     "shell.execute_reply": "2022-02-01T07:06:27.591683Z",
     "shell.execute_reply.started": "2022-02-01T07:06:27.575892Z"
    }
   },
   "outputs": [
    {
     "data": {
      "text/plain": [
       "((677990, 10), (677990,))"
      ]
     },
     "execution_count": 174,
     "metadata": {},
     "output_type": "execute_result"
    }
   ],
   "source": [
    "exclude = [\n",
    "    'is_dead', 'assessment_number', 'age_at_admission',\n",
    "    'num_assessments',\n",
    "    'num_days_followed',\n",
    "    'days_since_first_assessment',\n",
    "    'days_to_last_assessment',\n",
    "    'eat'\n",
    "]\n",
    "X = df[[c for c in df.columns if c not in exclude]]\n",
    "y = df['eat']\n",
    "\n",
    "X.shape, y.shape"
   ]
  },
  {
   "cell_type": "code",
   "execution_count": 176,
   "id": "czech-wound",
   "metadata": {
    "execution": {
     "iopub.execute_input": "2022-02-01T07:07:09.183984Z",
     "iopub.status.busy": "2022-02-01T07:07:09.183842Z",
     "iopub.status.idle": "2022-02-01T07:07:31.711147Z",
     "shell.execute_reply": "2022-02-01T07:07:31.710673Z",
     "shell.execute_reply.started": "2022-02-01T07:07:09.183969Z"
    }
   },
   "outputs": [
    {
     "data": {
      "text/plain": [
       "(-4.587234291991979,\n",
       " array([-0.00465351,  0.14012549,  1.34143126,  0.8148122 ,  0.8834447 ,\n",
       "        -0.06799627,  0.15142027,  1.29378715,  1.00762508,  0.00224882]))"
      ]
     },
     "execution_count": 176,
     "metadata": {},
     "output_type": "execute_result"
    }
   ],
   "source": [
    "model = LogisticRegression(penalty='l1', C=0.5, solver='saga', max_iter=10_000)\n",
    "model.fit(X, y)\n",
    "\n",
    "model.intercept_[0], model.coef_[0]"
   ]
  },
  {
   "cell_type": "code",
   "execution_count": 177,
   "id": "nervous-tourist",
   "metadata": {
    "execution": {
     "iopub.execute_input": "2022-02-01T07:07:53.039220Z",
     "iopub.status.busy": "2022-02-01T07:07:53.038896Z",
     "iopub.status.idle": "2022-02-01T07:07:53.152362Z",
     "shell.execute_reply": "2022-02-01T07:07:53.151787Z",
     "shell.execute_reply.started": "2022-02-01T07:07:53.039183Z"
    }
   },
   "outputs": [
    {
     "data": {
      "image/png": "[encoded data removed]",
      "text/plain": [
       "<Figure size 720x288 with 1 Axes>"
      ]
     },
     "metadata": {},
     "output_type": "display_data"
    }
   ],
   "source": [
    "s = pd.Series([model.intercept_[0]] + list(model.coef_[0]), index=['intercept'] + list(X.columns))\n",
    "_ = s.plot(kind='bar', title='Coefficients', figsize=(10, 4))"
   ]
  },
  {
   "cell_type": "markdown",
   "id": "prospective-protest",
   "metadata": {},
   "source": [
    "## Question 5\n",
    "\n",
    "Repeat question 4 but now predict 6 month likelihood of first occurrence of walking disorders instead of death."
   ]
  },
  {
   "cell_type": "code",
   "execution_count": null,
   "id": "metallic-sensitivity",
   "metadata": {},
   "outputs": [],
   "source": []
  }
 ],
 "metadata": {
  "kernelspec": {
   "display_name": "Python 3",
   "language": "python",
   "name": "python3"
  },
  "language_info": {
   "codemirror_mode": {
    "name": "ipython",
    "version": 3
   },
   "file_extension": ".py",
   "mimetype": "text/x-python",
   "name": "python",
   "nbconvert_exporter": "python",
   "pygments_lexer": "ipython3",
   "version": "3.8.5"
  },
  "widgets": {
   "application/vnd.jupyter.widget-state+json": {
    "state": {},
    "version_major": 2,
    "version_minor": 0
   }
  }
 },
 "nbformat": 4,
 "nbformat_minor": 5
}
