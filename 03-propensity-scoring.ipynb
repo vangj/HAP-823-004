{
 "cells": [
  {
   "cell_type": "markdown",
   "id": "c6f53638-73c2-4887-99a4-ac80673637a3",
   "metadata": {},
   "source": [
    "# Propensity Scoring\n",
    "\n",
    "From [http://openonlinecourses.com/causalanalysis/Propensity%20Scoring.asp](http://openonlinecourses.com/causalanalysis/Propensity%20Scoring.asp)."
   ]
  },
  {
   "cell_type": "markdown",
   "id": "20f4f539-84e0-4c49-b8a8-faf57a4ff153",
   "metadata": {},
   "source": [
    "## Question 1"
   ]
  },
  {
   "cell_type": "code",
   "execution_count": 1,
   "id": "42aa1cd5-5b67-4823-8306-d239f031e2ed",
   "metadata": {},
   "outputs": [
    {
     "data": {
      "text/plain": [
       "(6657, 11)"
      ]
     },
     "execution_count": 1,
     "metadata": {},
     "output_type": "execute_result"
    }
   ],
   "source": [
    "import pandas as pd\n",
    "\n",
    "df = pd.read_excel('Expected LOS in 10 Diseases.xlsx')\n",
    "df.shape"
   ]
  },
  {
   "cell_type": "markdown",
   "id": "fcb080b1-38df-4285-b55b-ddcd36ee15d8",
   "metadata": {},
   "source": [
    "Balance the data by propensity to seek care from Dr. Smith.  This involve first predicting probability of a patient type utilizing services of Dr. Smith; then weighting the data inversely proportional to the probability of using Dr. Smith.  Note that patients cared for by Dr. Smith and by his peer group will have a different set of weights.  The net results of weights is that patients cared for by Dr. Smith and his peer will have the same rate of various diseases."
   ]
  },
  {
   "cell_type": "code",
   "execution_count": 2,
   "id": "8c166bf8-19c9-4c7b-9daf-ec76976574b3",
   "metadata": {},
   "outputs": [
    {
     "data": {
      "text/plain": [
       "((6657, 9), (6657,))"
      ]
     },
     "execution_count": 2,
     "metadata": {},
     "output_type": "execute_result"
    }
   ],
   "source": [
    "X = df.dropna()\n",
    "X, y = X[[c for c in X.columns if c not in ['Cared for by Dr Smith', 'LOS']]], X['Cared for by Dr Smith']\n",
    "\n",
    "X.shape, y.shape"
   ]
  },
  {
   "cell_type": "code",
   "execution_count": 3,
   "id": "fa197804-9e75-4f13-b3d7-81455f39835d",
   "metadata": {},
   "outputs": [
    {
     "data": {
      "text/plain": [
       "(0.8773204607812382,\n",
       " array([ 0.00411923, -0.0091996 , -0.00089115,  0.01316132,  0.01316132,\n",
       "        -0.0143746 , -0.08469029, -0.52473351, -0.52473351]))"
      ]
     },
     "execution_count": 3,
     "metadata": {},
     "output_type": "execute_result"
    }
   ],
   "source": [
    "from sklearn.linear_model import LogisticRegression\n",
    "\n",
    "model = LogisticRegression(max_iter=10_000)\n",
    "model.fit(X, y)\n",
    "\n",
    "model.intercept_[0], model.coef_[0]"
   ]
  },
  {
   "cell_type": "code",
   "execution_count": 4,
   "id": "9aded39e-33cd-4433-ace2-52bf80dafa42",
   "metadata": {},
   "outputs": [
    {
     "data": {
      "text/plain": [
       "(6657,)"
      ]
     },
     "execution_count": 4,
     "metadata": {},
     "output_type": "execute_result"
    }
   ],
   "source": [
    "y_pred = model.predict_proba(X)[:,1]\n",
    "y_pred.shape"
   ]
  },
  {
   "cell_type": "code",
   "execution_count": 5,
   "id": "ffb1aa6e-74d9-465b-a386-b2cd287d11fe",
   "metadata": {},
   "outputs": [
    {
     "data": {
      "text/plain": [
       "((6657, 2), (4007, 1), (2650, 1))"
      ]
     },
     "execution_count": 5,
     "metadata": {},
     "output_type": "execute_result"
    }
   ],
   "source": [
    "Y = pd.DataFrame({'y_true': y, 'y_pred': y_pred})\n",
    "Y_1 = Y[Y['y_true'] == 1][['y_pred']]\n",
    "Y_0 = Y[Y['y_true'] == 0][['y_pred']]\n",
    "\n",
    "Y.shape, Y_1.shape, Y_0.shape"
   ]
  },
  {
   "cell_type": "code",
   "execution_count": 6,
   "id": "1c6916c8-200c-4f5b-9410-b36d3264984f",
   "metadata": {},
   "outputs": [
    {
     "data": {
      "text/plain": [
       "NearestNeighbors()"
      ]
     },
     "execution_count": 6,
     "metadata": {},
     "output_type": "execute_result"
    }
   ],
   "source": [
    "from sklearn.neighbors import NearestNeighbors\n",
    "\n",
    "nn = NearestNeighbors()\n",
    "nn.fit(Y_1)"
   ]
  },
  {
   "cell_type": "code",
   "execution_count": 7,
   "id": "751ca9d4-335d-4b18-a162-bd45f92b1e43",
   "metadata": {},
   "outputs": [
    {
     "data": {
      "text/plain": [
       "(2650, 2)"
      ]
     },
     "execution_count": 7,
     "metadata": {},
     "output_type": "execute_result"
    }
   ],
   "source": [
    "def get_y0_iloc(i):\n",
    "    return Y_0.iloc[i:i+1].index[0]\n",
    "\n",
    "def get_y1_iloc(i):\n",
    "    return Y_1.iloc[i:i+1].index[0]\n",
    "\n",
    "def get_y1_ilocs(indices):\n",
    "    return [get_y1_iloc(i) for i in indices]\n",
    "    \n",
    "neighbors = nn.kneighbors(Y_0, return_distance=False)\n",
    "seen = {}\n",
    "pairs = []\n",
    "for i, neighs in enumerate(neighbors):\n",
    "    y_0 = get_y0_iloc(i)\n",
    "    ilocs = [j for j in get_y1_ilocs(neighs) if j not in seen]\n",
    "    if len(ilocs) > 0:\n",
    "        y_1 = ilocs[0]\n",
    "    else:\n",
    "        y_1 = get_y1_ilocs(neighs)[0]\n",
    "    tup = y_0, y_1\n",
    "    pairs.append(tup)\n",
    "    \n",
    "pair_df = pd.DataFrame(pairs, columns=['y_0', 'y_1'])\n",
    "pair_df.shape"
   ]
  },
  {
   "cell_type": "code",
   "execution_count": 8,
   "id": "1bcbd731-c90c-4bc6-8bfb-8081fac1c21c",
   "metadata": {},
   "outputs": [
    {
     "data": {
      "text/plain": [
       "Hypertension             0.500000\n",
       "Anemia                   0.499623\n",
       "Diabetes                 0.499623\n",
       "HIV                      0.498868\n",
       "Stomach Cancer           0.498868\n",
       "Lung Cancer              0.495094\n",
       "Myocardial Infarction    0.492830\n",
       "Heart Failure            0.483019\n",
       "Metastetic Cancer        0.483019\n",
       "dtype: float64"
      ]
     },
     "execution_count": 8,
     "metadata": {},
     "output_type": "execute_result"
    }
   ],
   "source": [
    "X.iloc[pair_df['y_0']].mean()"
   ]
  },
  {
   "cell_type": "code",
   "execution_count": 9,
   "id": "9222083d-eb42-4d92-a76c-ac073f840e3d",
   "metadata": {},
   "outputs": [
    {
     "data": {
      "text/plain": [
       "Hypertension             0.500000\n",
       "Anemia                   0.499623\n",
       "Diabetes                 0.499623\n",
       "HIV                      0.497358\n",
       "Stomach Cancer           0.500377\n",
       "Lung Cancer              0.495094\n",
       "Myocardial Infarction    0.492830\n",
       "Heart Failure            0.477358\n",
       "Metastetic Cancer        0.488679\n",
       "dtype: float64"
      ]
     },
     "execution_count": 9,
     "metadata": {},
     "output_type": "execute_result"
    }
   ],
   "source": [
    "X.iloc[pair_df['y_1']].mean()"
   ]
  },
  {
   "cell_type": "markdown",
   "id": "15ee5495-ec68-4351-8601-c947ed4ea251",
   "metadata": {},
   "source": [
    "### (a) Graphically show that the weighting procedure you followed results in same set of patients treated by either Dr. Smith or his peer."
   ]
  },
  {
   "cell_type": "code",
   "execution_count": 10,
   "id": "62264f76-c400-4491-99c5-3cc221edb9d6",
   "metadata": {},
   "outputs": [
    {
     "data": {
      "image/png": "[encoded data removed]",
      "text/plain": [
       "<Figure size 864x288 with 1 Axes>"
      ]
     },
     "metadata": {},
     "output_type": "display_data"
    }
   ],
   "source": [
    "import matplotlib.pyplot as plt\n",
    "\n",
    "plt.style.use('ggplot')\n",
    "\n",
    "_ = pd.DataFrame({\n",
    "    'other': X.iloc[pair_df['y_0']].mean(),\n",
    "    'dr_smith': X.iloc[pair_df['y_1']].mean()\n",
    "}).plot(kind='bar', figsize=(12, 4), title='Mean of Diagnoses, Dr. Smith vs Other')"
   ]
  },
  {
   "cell_type": "markdown",
   "id": "59acce9d-3330-4b0c-bbde-35a50e297e7e",
   "metadata": {},
   "source": [
    "### (b) Report the unconfounded impact of Dr. Smith on length of stay."
   ]
  },
  {
   "cell_type": "code",
   "execution_count": 11,
   "id": "321e5dfa-6126-4d70-9b31-122a8f572132",
   "metadata": {},
   "outputs": [
    {
     "data": {
      "text/plain": [
       "(3.960754716981132, 3.9381132075471696)"
      ]
     },
     "execution_count": 11,
     "metadata": {},
     "output_type": "execute_result"
    }
   ],
   "source": [
    "df.iloc[pair_df['y_0']]['LOS'].mean(), df.iloc[pair_df['y_1']]['LOS'].mean()"
   ]
  },
  {
   "cell_type": "code",
   "execution_count": 12,
   "id": "c8e8fb62-82ec-406e-94fb-d520eb572379",
   "metadata": {},
   "outputs": [
    {
     "data": {
      "text/plain": [
       "-0.02264150943396226"
      ]
     },
     "execution_count": 12,
     "metadata": {},
     "output_type": "execute_result"
    }
   ],
   "source": [
    "df.iloc[pair_df['y_1']]['LOS'].mean() - df.iloc[pair_df['y_0']]['LOS'].mean()"
   ]
  },
  {
   "cell_type": "code",
   "execution_count": 13,
   "id": "dadf616e-2871-4a48-83fe-ad4304560a6b",
   "metadata": {},
   "outputs": [
    {
     "data": {
      "text/html": [
       "<div>\n",
       "<style scoped>\n",
       "    .dataframe tbody tr th:only-of-type {\n",
       "        vertical-align: middle;\n",
       "    }\n",
       "\n",
       "    .dataframe tbody tr th {\n",
       "        vertical-align: top;\n",
       "    }\n",
       "\n",
       "    .dataframe thead th {\n",
       "        text-align: right;\n",
       "    }\n",
       "</style>\n",
       "<table border=\"1\" class=\"dataframe\">\n",
       "  <thead>\n",
       "    <tr style=\"text-align: right;\">\n",
       "      <th></th>\n",
       "      <th>y_0</th>\n",
       "      <th>y_1</th>\n",
       "      <th>y_0_LOS</th>\n",
       "      <th>y_1_LOS</th>\n",
       "      <th>diff</th>\n",
       "    </tr>\n",
       "  </thead>\n",
       "  <tbody>\n",
       "    <tr>\n",
       "      <th>0</th>\n",
       "      <td>0</td>\n",
       "      <td>5406</td>\n",
       "      <td>3</td>\n",
       "      <td>4</td>\n",
       "      <td>1</td>\n",
       "    </tr>\n",
       "    <tr>\n",
       "      <th>1</th>\n",
       "      <td>1</td>\n",
       "      <td>5407</td>\n",
       "      <td>4</td>\n",
       "      <td>7</td>\n",
       "      <td>3</td>\n",
       "    </tr>\n",
       "    <tr>\n",
       "      <th>2</th>\n",
       "      <td>4</td>\n",
       "      <td>5408</td>\n",
       "      <td>3</td>\n",
       "      <td>2</td>\n",
       "      <td>-1</td>\n",
       "    </tr>\n",
       "    <tr>\n",
       "      <th>3</th>\n",
       "      <td>5</td>\n",
       "      <td>2055</td>\n",
       "      <td>6</td>\n",
       "      <td>6</td>\n",
       "      <td>0</td>\n",
       "    </tr>\n",
       "    <tr>\n",
       "      <th>4</th>\n",
       "      <td>8</td>\n",
       "      <td>1034</td>\n",
       "      <td>6</td>\n",
       "      <td>1</td>\n",
       "      <td>-5</td>\n",
       "    </tr>\n",
       "    <tr>\n",
       "      <th>...</th>\n",
       "      <td>...</td>\n",
       "      <td>...</td>\n",
       "      <td>...</td>\n",
       "      <td>...</td>\n",
       "      <td>...</td>\n",
       "    </tr>\n",
       "    <tr>\n",
       "      <th>2645</th>\n",
       "      <td>5289</td>\n",
       "      <td>6103</td>\n",
       "      <td>3</td>\n",
       "      <td>4</td>\n",
       "      <td>1</td>\n",
       "    </tr>\n",
       "    <tr>\n",
       "      <th>2646</th>\n",
       "      <td>5292</td>\n",
       "      <td>6653</td>\n",
       "      <td>6</td>\n",
       "      <td>2</td>\n",
       "      <td>-4</td>\n",
       "    </tr>\n",
       "    <tr>\n",
       "      <th>2647</th>\n",
       "      <td>5293</td>\n",
       "      <td>6646</td>\n",
       "      <td>5</td>\n",
       "      <td>2</td>\n",
       "      <td>-3</td>\n",
       "    </tr>\n",
       "    <tr>\n",
       "      <th>2648</th>\n",
       "      <td>5296</td>\n",
       "      <td>6228</td>\n",
       "      <td>5</td>\n",
       "      <td>1</td>\n",
       "      <td>-4</td>\n",
       "    </tr>\n",
       "    <tr>\n",
       "      <th>2649</th>\n",
       "      <td>5297</td>\n",
       "      <td>6656</td>\n",
       "      <td>3</td>\n",
       "      <td>4</td>\n",
       "      <td>1</td>\n",
       "    </tr>\n",
       "  </tbody>\n",
       "</table>\n",
       "<p>2650 rows × 5 columns</p>\n",
       "</div>"
      ],
      "text/plain": [
       "       y_0   y_1  y_0_LOS  y_1_LOS  diff\n",
       "0        0  5406        3        4     1\n",
       "1        1  5407        4        7     3\n",
       "2        4  5408        3        2    -1\n",
       "3        5  2055        6        6     0\n",
       "4        8  1034        6        1    -5\n",
       "...    ...   ...      ...      ...   ...\n",
       "2645  5289  6103        3        4     1\n",
       "2646  5292  6653        6        2    -4\n",
       "2647  5293  6646        5        2    -3\n",
       "2648  5296  6228        5        1    -4\n",
       "2649  5297  6656        3        4     1\n",
       "\n",
       "[2650 rows x 5 columns]"
      ]
     },
     "execution_count": 13,
     "metadata": {},
     "output_type": "execute_result"
    }
   ],
   "source": [
    "pair_df['y_0_LOS'] = pair_df['y_0'].apply(lambda i: df.iloc[i]['LOS'])\n",
    "pair_df['y_1_LOS'] = pair_df['y_1'].apply(lambda i: df.iloc[i]['LOS'])\n",
    "pair_df['diff'] = pair_df['y_1_LOS'] - pair_df['y_0_LOS']\n",
    "\n",
    "pair_df"
   ]
  },
  {
   "cell_type": "code",
   "execution_count": 14,
   "id": "72e9dbdb-bc81-42af-ad04-cbf2b00eb561",
   "metadata": {},
   "outputs": [
    {
     "data": {
      "text/plain": [
       "-0.022641509433962263"
      ]
     },
     "execution_count": 14,
     "metadata": {},
     "output_type": "execute_result"
    }
   ],
   "source": [
    "pair_df['diff'].mean()"
   ]
  },
  {
   "cell_type": "markdown",
   "id": "37288ae5-ca80-4228-a195-009dc5fcbab2",
   "metadata": {},
   "source": [
    "## Question 2"
   ]
  },
  {
   "cell_type": "code",
   "execution_count": 15,
   "id": "67a94bd7-2633-442b-8975-af944159b3c6",
   "metadata": {},
   "outputs": [
    {
     "data": {
      "text/plain": [
       "(100000, 37)"
      ]
     },
     "execution_count": 15,
     "metadata": {},
     "output_type": "execute_result"
    }
   ],
   "source": [
    "df = pd.read_csv('StomachCancer.csv', index_col=0).reset_index(drop=True)\n",
    "df.shape"
   ]
  },
  {
   "cell_type": "code",
   "execution_count": 16,
   "id": "0b363752-45dd-4e76-bdce-865ae1904636",
   "metadata": {},
   "outputs": [
    {
     "data": {
      "text/html": [
       "<div>\n",
       "<style scoped>\n",
       "    .dataframe tbody tr th:only-of-type {\n",
       "        vertical-align: middle;\n",
       "    }\n",
       "\n",
       "    .dataframe tbody tr th {\n",
       "        vertical-align: top;\n",
       "    }\n",
       "\n",
       "    .dataframe thead th {\n",
       "        text-align: right;\n",
       "    }\n",
       "</style>\n",
       "<table border=\"1\" class=\"dataframe\">\n",
       "  <thead>\n",
       "    <tr style=\"text-align: right;\">\n",
       "      <th></th>\n",
       "      <th>Cancer</th>\n",
       "      <th>I305.1</th>\n",
       "      <th>I309.81</th>\n",
       "      <th>I311.</th>\n",
       "      <th>IE849.7</th>\n",
       "      <th>I150.9</th>\n",
       "      <th>I276.1</th>\n",
       "      <th>I276.8</th>\n",
       "      <th>I530.81</th>\n",
       "      <th>I263.9</th>\n",
       "      <th>...</th>\n",
       "      <th>I244.9</th>\n",
       "      <th>I414.01</th>\n",
       "      <th>I599.0</th>\n",
       "      <th>I414.00</th>\n",
       "      <th>I585.9</th>\n",
       "      <th>I600.00</th>\n",
       "      <th>I428.0</th>\n",
       "      <th>I427.31</th>\n",
       "      <th>I403.90</th>\n",
       "      <th>Dead</th>\n",
       "    </tr>\n",
       "  </thead>\n",
       "  <tbody>\n",
       "    <tr>\n",
       "      <th>0</th>\n",
       "      <td>0</td>\n",
       "      <td>0</td>\n",
       "      <td>0</td>\n",
       "      <td>0</td>\n",
       "      <td>0</td>\n",
       "      <td>0</td>\n",
       "      <td>0</td>\n",
       "      <td>0</td>\n",
       "      <td>0</td>\n",
       "      <td>0</td>\n",
       "      <td>...</td>\n",
       "      <td>0</td>\n",
       "      <td>0</td>\n",
       "      <td>0</td>\n",
       "      <td>0</td>\n",
       "      <td>0</td>\n",
       "      <td>0</td>\n",
       "      <td>0</td>\n",
       "      <td>0</td>\n",
       "      <td>0</td>\n",
       "      <td>0</td>\n",
       "    </tr>\n",
       "    <tr>\n",
       "      <th>1</th>\n",
       "      <td>0</td>\n",
       "      <td>0</td>\n",
       "      <td>0</td>\n",
       "      <td>1</td>\n",
       "      <td>0</td>\n",
       "      <td>0</td>\n",
       "      <td>0</td>\n",
       "      <td>0</td>\n",
       "      <td>0</td>\n",
       "      <td>0</td>\n",
       "      <td>...</td>\n",
       "      <td>0</td>\n",
       "      <td>0</td>\n",
       "      <td>0</td>\n",
       "      <td>0</td>\n",
       "      <td>0</td>\n",
       "      <td>0</td>\n",
       "      <td>0</td>\n",
       "      <td>0</td>\n",
       "      <td>0</td>\n",
       "      <td>0</td>\n",
       "    </tr>\n",
       "    <tr>\n",
       "      <th>2</th>\n",
       "      <td>0</td>\n",
       "      <td>0</td>\n",
       "      <td>0</td>\n",
       "      <td>0</td>\n",
       "      <td>0</td>\n",
       "      <td>0</td>\n",
       "      <td>0</td>\n",
       "      <td>0</td>\n",
       "      <td>0</td>\n",
       "      <td>0</td>\n",
       "      <td>...</td>\n",
       "      <td>0</td>\n",
       "      <td>0</td>\n",
       "      <td>0</td>\n",
       "      <td>0</td>\n",
       "      <td>0</td>\n",
       "      <td>0</td>\n",
       "      <td>0</td>\n",
       "      <td>0</td>\n",
       "      <td>0</td>\n",
       "      <td>0</td>\n",
       "    </tr>\n",
       "    <tr>\n",
       "      <th>3</th>\n",
       "      <td>0</td>\n",
       "      <td>0</td>\n",
       "      <td>0</td>\n",
       "      <td>0</td>\n",
       "      <td>0</td>\n",
       "      <td>0</td>\n",
       "      <td>0</td>\n",
       "      <td>0</td>\n",
       "      <td>0</td>\n",
       "      <td>0</td>\n",
       "      <td>...</td>\n",
       "      <td>0</td>\n",
       "      <td>0</td>\n",
       "      <td>0</td>\n",
       "      <td>0</td>\n",
       "      <td>0</td>\n",
       "      <td>0</td>\n",
       "      <td>0</td>\n",
       "      <td>0</td>\n",
       "      <td>0</td>\n",
       "      <td>0</td>\n",
       "    </tr>\n",
       "    <tr>\n",
       "      <th>4</th>\n",
       "      <td>0</td>\n",
       "      <td>1</td>\n",
       "      <td>0</td>\n",
       "      <td>0</td>\n",
       "      <td>0</td>\n",
       "      <td>0</td>\n",
       "      <td>0</td>\n",
       "      <td>0</td>\n",
       "      <td>0</td>\n",
       "      <td>0</td>\n",
       "      <td>...</td>\n",
       "      <td>0</td>\n",
       "      <td>1</td>\n",
       "      <td>0</td>\n",
       "      <td>0</td>\n",
       "      <td>0</td>\n",
       "      <td>0</td>\n",
       "      <td>0</td>\n",
       "      <td>0</td>\n",
       "      <td>0</td>\n",
       "      <td>0</td>\n",
       "    </tr>\n",
       "  </tbody>\n",
       "</table>\n",
       "<p>5 rows × 37 columns</p>\n",
       "</div>"
      ],
      "text/plain": [
       "   Cancer  I305.1  I309.81  I311.  IE849.7  I150.9  I276.1  I276.8  I530.81  \\\n",
       "0       0       0        0      0        0       0       0       0        0   \n",
       "1       0       0        0      1        0       0       0       0        0   \n",
       "2       0       0        0      0        0       0       0       0        0   \n",
       "3       0       0        0      0        0       0       0       0        0   \n",
       "4       0       1        0      0        0       0       0       0        0   \n",
       "\n",
       "   I263.9  ...  I244.9  I414.01  I599.0  I414.00  I585.9  I600.00  I428.0  \\\n",
       "0       0  ...       0        0       0        0       0        0       0   \n",
       "1       0  ...       0        0       0        0       0        0       0   \n",
       "2       0  ...       0        0       0        0       0        0       0   \n",
       "3       0  ...       0        0       0        0       0        0       0   \n",
       "4       0  ...       0        1       0        0       0        0       0   \n",
       "\n",
       "   I427.31  I403.90  Dead  \n",
       "0        0        0     0  \n",
       "1        0        0     0  \n",
       "2        0        0     0  \n",
       "3        0        0     0  \n",
       "4        0        0     0  \n",
       "\n",
       "[5 rows x 37 columns]"
      ]
     },
     "execution_count": 16,
     "metadata": {},
     "output_type": "execute_result"
    }
   ],
   "source": [
    "df.head()"
   ]
  },
  {
   "cell_type": "markdown",
   "id": "41e09239-cf9c-498a-bc97-a02233c8e121",
   "metadata": {},
   "source": [
    "### 1. Using logistic regression, calculate the propensity to have cancer.  "
   ]
  },
  {
   "cell_type": "code",
   "execution_count": 17,
   "id": "d0d16936-e96e-45ee-ade9-c7a0318647a5",
   "metadata": {},
   "outputs": [
    {
     "data": {
      "text/plain": [
       "((100000, 35), (100000,))"
      ]
     },
     "execution_count": 17,
     "metadata": {},
     "output_type": "execute_result"
    }
   ],
   "source": [
    "X = df.dropna()\n",
    "X, y = X[[c for c in X.columns if c not in ['Cancer', 'Dead']]], X['Cancer']\n",
    "\n",
    "X.shape, y.shape"
   ]
  },
  {
   "cell_type": "code",
   "execution_count": 18,
   "id": "45cb08d4-81bb-4617-967a-55809480c625",
   "metadata": {},
   "outputs": [
    {
     "data": {
      "text/plain": [
       "(-6.352516774020059,\n",
       " array([-0.51379627, -0.99071863, -0.11565726,  0.51431978,  1.92861808,\n",
       "        -0.50159173,  0.23416255,  0.30413644,  0.87534745,  0.40272049,\n",
       "         0.18343113,  0.72823824,  0.10525224,  1.2438989 , -0.19073216,\n",
       "        -0.32511728,  0.99409465, -0.0665818 , -0.01958849, -0.11171967,\n",
       "        -0.6613992 , -0.15020208,  2.32804079,  0.89566458, -0.49826725,\n",
       "         0.08052194,  0.1955976 ,  0.26834448, -0.4246738 ,  0.01381369,\n",
       "         0.86250309,  0.01666058, -0.37410434,  0.44974668, -0.64256317]))"
      ]
     },
     "execution_count": 18,
     "metadata": {},
     "output_type": "execute_result"
    }
   ],
   "source": [
    "model = LogisticRegression(max_iter=10_000)\n",
    "model.fit(X, y)\n",
    "\n",
    "model.intercept_[0], model.coef_[0]"
   ]
  },
  {
   "cell_type": "code",
   "execution_count": 19,
   "id": "108ab2fa-eb55-461e-a889-e5318c98ed8f",
   "metadata": {},
   "outputs": [
    {
     "data": {
      "image/png": "[encoded data removed]",
      "text/plain": [
       "<Figure size 1080x288 with 1 Axes>"
      ]
     },
     "metadata": {},
     "output_type": "display_data"
    }
   ],
   "source": [
    "s1 = pd.Series(model.coef_[0], index=X.columns)\n",
    "_ = s1.plot(kind='bar', figsize=(15, 4), title='Logistic Regression Coefficients, cancer ~ diagnoses')"
   ]
  },
  {
   "cell_type": "code",
   "execution_count": 20,
   "id": "e242cd15-73af-474c-97c1-65b6193589c4",
   "metadata": {},
   "outputs": [
    {
     "data": {
      "text/plain": [
       "((100000,), (100000, 2), (207, 1), (99793, 1))"
      ]
     },
     "execution_count": 20,
     "metadata": {},
     "output_type": "execute_result"
    }
   ],
   "source": [
    "y_pred = model.predict_proba(X)[:,1]\n",
    "\n",
    "Y = pd.DataFrame({'y_true': y, 'y_pred': y_pred})\n",
    "Y_1 = Y[Y['y_true'] == 1][['y_pred']]\n",
    "Y_0 = Y[Y['y_true'] == 0][['y_pred']]\n",
    "\n",
    "y_pred.shape, Y.shape, Y_1.shape, Y_0.shape"
   ]
  },
  {
   "cell_type": "code",
   "execution_count": 21,
   "id": "6fceab94-e428-4869-8944-70d69479bd0d",
   "metadata": {},
   "outputs": [
    {
     "data": {
      "text/plain": [
       "NearestNeighbors()"
      ]
     },
     "execution_count": 21,
     "metadata": {},
     "output_type": "execute_result"
    }
   ],
   "source": [
    "nn = NearestNeighbors()\n",
    "nn.fit(Y_0)"
   ]
  },
  {
   "cell_type": "code",
   "execution_count": 22,
   "id": "fb431096-8264-4548-b689-a7be5d4aca65",
   "metadata": {},
   "outputs": [
    {
     "data": {
      "text/plain": [
       "(207, 2)"
      ]
     },
     "execution_count": 22,
     "metadata": {},
     "output_type": "execute_result"
    }
   ],
   "source": [
    "def get_y0_iloc(i):\n",
    "    return Y_0.iloc[i:i+1].index[0]\n",
    "\n",
    "def get_y1_iloc(i):\n",
    "    return Y_1.iloc[i:i+1].index[0]\n",
    "\n",
    "def get_y0_ilocs(indices):\n",
    "    return [get_y0_iloc(i) for i in indices]\n",
    "    \n",
    "neighbors = nn.kneighbors(Y_1, return_distance=False)\n",
    "seen = {}\n",
    "pairs = []\n",
    "for i, neighs in enumerate(neighbors):\n",
    "    y_1 = get_y1_iloc(i)\n",
    "    ilocs = [j for j in get_y0_ilocs(neighs) if j not in seen]\n",
    "    if len(ilocs) > 0:\n",
    "        y_0 = ilocs[0]\n",
    "    else:\n",
    "        y_0 = get_y1_ilocs(neighs)[0]\n",
    "    tup = y_0, y_1\n",
    "    pairs.append(tup)\n",
    "    \n",
    "pair_df = pd.DataFrame(pairs, columns=['y_0', 'y_1'])\n",
    "pair_df.shape"
   ]
  },
  {
   "cell_type": "code",
   "execution_count": 23,
   "id": "67dbc6e4-1602-48bf-9559-e046b859c485",
   "metadata": {},
   "outputs": [
    {
     "data": {
      "image/png": "[encoded data removed]",
      "text/plain": [
       "<Figure size 864x288 with 1 Axes>"
      ]
     },
     "metadata": {},
     "output_type": "display_data"
    }
   ],
   "source": [
    "plt.style.use('ggplot')\n",
    "\n",
    "_ = pd.DataFrame({\n",
    "    'not_cancer': X.iloc[pair_df['y_0']].mean(),\n",
    "    'cancer': X.iloc[pair_df['y_1']].mean()\n",
    "}).plot(kind='bar', figsize=(12, 4), title='Mean of Diagnoses, Dr. Smith vs Other')"
   ]
  },
  {
   "cell_type": "code",
   "execution_count": 24,
   "id": "e2f04d65-5e0b-4281-84e8-3d72dc90a80f",
   "metadata": {},
   "outputs": [
    {
     "data": {
      "text/plain": [
       "0.28502415458937197"
      ]
     },
     "execution_count": 24,
     "metadata": {},
     "output_type": "execute_result"
    }
   ],
   "source": [
    "pair_df['y_0_dead'] = pair_df['y_0'].apply(lambda i: df.iloc[i]['Dead'])\n",
    "pair_df['y_1_dead'] = pair_df['y_1'].apply(lambda i: df.iloc[i]['Dead'])\n",
    "pair_df['diff'] = pair_df['y_1_dead'] - pair_df['y_0_dead']\n",
    "\n",
    "pair_df['diff'].mean()"
   ]
  },
  {
   "cell_type": "markdown",
   "id": "dd9af78a-304d-407b-9434-a3d1dbe147c3",
   "metadata": {},
   "source": [
    "### 2. Within the naturally occurring groups of diagnoses, calculate probability of cancer. "
   ]
  },
  {
   "cell_type": "code",
   "execution_count": 25,
   "id": "0f254ff3-1e55-4c90-87ac-4133afda748a",
   "metadata": {},
   "outputs": [
    {
     "data": {
      "text/html": [
       "<div>\n",
       "<style scoped>\n",
       "    .dataframe tbody tr th:only-of-type {\n",
       "        vertical-align: middle;\n",
       "    }\n",
       "\n",
       "    .dataframe tbody tr th {\n",
       "        vertical-align: top;\n",
       "    }\n",
       "\n",
       "    .dataframe thead th {\n",
       "        text-align: right;\n",
       "    }\n",
       "</style>\n",
       "<table border=\"1\" class=\"dataframe\">\n",
       "  <thead>\n",
       "    <tr style=\"text-align: right;\">\n",
       "      <th></th>\n",
       "      <th>cancer</th>\n",
       "      <th>n</th>\n",
       "      <th>p_cancer</th>\n",
       "      <th>logit</th>\n",
       "      <th>weight</th>\n",
       "    </tr>\n",
       "  </thead>\n",
       "  <tbody>\n",
       "    <tr>\n",
       "      <th>0</th>\n",
       "      <td>13</td>\n",
       "      <td>14009</td>\n",
       "      <td>0.000928</td>\n",
       "      <td>-6.981577</td>\n",
       "      <td>0.447715</td>\n",
       "    </tr>\n",
       "    <tr>\n",
       "      <th>2244</th>\n",
       "      <td>4</td>\n",
       "      <td>12</td>\n",
       "      <td>0.333333</td>\n",
       "      <td>-0.693147</td>\n",
       "      <td>0.000384</td>\n",
       "    </tr>\n",
       "    <tr>\n",
       "      <th>7070</th>\n",
       "      <td>4</td>\n",
       "      <td>775</td>\n",
       "      <td>0.005161</td>\n",
       "      <td>-5.261394</td>\n",
       "      <td>0.024768</td>\n",
       "    </tr>\n",
       "    <tr>\n",
       "      <th>7384</th>\n",
       "      <td>3</td>\n",
       "      <td>685</td>\n",
       "      <td>0.004380</td>\n",
       "      <td>-5.426417</td>\n",
       "      <td>0.021892</td>\n",
       "    </tr>\n",
       "    <tr>\n",
       "      <th>2097</th>\n",
       "      <td>3</td>\n",
       "      <td>4366</td>\n",
       "      <td>0.000687</td>\n",
       "      <td>-7.282303</td>\n",
       "      <td>0.139533</td>\n",
       "    </tr>\n",
       "    <tr>\n",
       "      <th>...</th>\n",
       "      <td>...</td>\n",
       "      <td>...</td>\n",
       "      <td>...</td>\n",
       "      <td>...</td>\n",
       "      <td>...</td>\n",
       "    </tr>\n",
       "    <tr>\n",
       "      <th>5508</th>\n",
       "      <td>1</td>\n",
       "      <td>1</td>\n",
       "      <td>1.000000</td>\n",
       "      <td>4.595120</td>\n",
       "      <td>0.000032</td>\n",
       "    </tr>\n",
       "    <tr>\n",
       "      <th>5555</th>\n",
       "      <td>1</td>\n",
       "      <td>1</td>\n",
       "      <td>1.000000</td>\n",
       "      <td>4.595120</td>\n",
       "      <td>0.000032</td>\n",
       "    </tr>\n",
       "    <tr>\n",
       "      <th>5934</th>\n",
       "      <td>1</td>\n",
       "      <td>1</td>\n",
       "      <td>1.000000</td>\n",
       "      <td>4.595120</td>\n",
       "      <td>0.000032</td>\n",
       "    </tr>\n",
       "    <tr>\n",
       "      <th>6086</th>\n",
       "      <td>1</td>\n",
       "      <td>1</td>\n",
       "      <td>1.000000</td>\n",
       "      <td>4.595120</td>\n",
       "      <td>0.000032</td>\n",
       "    </tr>\n",
       "    <tr>\n",
       "      <th>25855</th>\n",
       "      <td>1</td>\n",
       "      <td>1</td>\n",
       "      <td>1.000000</td>\n",
       "      <td>4.595120</td>\n",
       "      <td>0.000032</td>\n",
       "    </tr>\n",
       "  </tbody>\n",
       "</table>\n",
       "<p>180 rows × 5 columns</p>\n",
       "</div>"
      ],
      "text/plain": [
       "       cancer      n  p_cancer     logit    weight\n",
       "0          13  14009  0.000928 -6.981577  0.447715\n",
       "2244        4     12  0.333333 -0.693147  0.000384\n",
       "7070        4    775  0.005161 -5.261394  0.024768\n",
       "7384        3    685  0.004380 -5.426417  0.021892\n",
       "2097        3   4366  0.000687 -7.282303  0.139533\n",
       "...       ...    ...       ...       ...       ...\n",
       "5508        1      1  1.000000  4.595120  0.000032\n",
       "5555        1      1  1.000000  4.595120  0.000032\n",
       "5934        1      1  1.000000  4.595120  0.000032\n",
       "6086        1      1  1.000000  4.595120  0.000032\n",
       "25855       1      1  1.000000  4.595120  0.000032\n",
       "\n",
       "[180 rows x 5 columns]"
      ]
     },
     "execution_count": 25,
     "metadata": {},
     "output_type": "execute_result"
    }
   ],
   "source": [
    "import numpy as np\n",
    "\n",
    "diagnosis_cols = [c for c in df.columns if c.startswith('I')]\n",
    "\n",
    "prob_df = df[[c for c in df.columns if c not in ['Dead']]] \\\n",
    "    .dropna() \\\n",
    "    .groupby([c for c in df.columns if c not in ['Cancer', 'Dead']]) \\\n",
    "    .agg(['sum', 'count']) \\\n",
    "    .droplevel(0, axis=1) \\\n",
    "    .reset_index() \\\n",
    "    .rename(columns={'sum': 'cancer', 'count': 'n'}) \\\n",
    "    .query('cancer > 0') \\\n",
    "    .sort_values(['cancer'], ascending=[False])\n",
    "prob_df['p_cancer'] = prob_df['cancer'] / prob_df['n']\n",
    "prob_df['logit'] = prob_df['p_cancer'].apply(lambda p: np.log(p / (1 - p)) if p < 1.0 else np.log(0.99 / (1 - 0.99)))\n",
    "prob_df['weight'] = prob_df['n'] / prob_df['n'].sum()\n",
    "\n",
    "prob_df[list(prob_df.columns)[-5:]]"
   ]
  },
  {
   "cell_type": "code",
   "execution_count": 26,
   "id": "f6146208-a060-4602-bbab-deb73f01343f",
   "metadata": {},
   "outputs": [
    {
     "data": {
      "text/plain": [
       "(-7.029340213469109,\n",
       " array([ 0.50829167,  0.29046698,  1.05991731,  1.96675383,  3.86481627,\n",
       "         2.70415213,  2.04024259,  1.28068554,  2.14857503,  1.48124871,\n",
       "         1.72662315,  4.50785105, -0.16950004,  3.84992788,  2.462334  ,\n",
       "         0.07672188,  2.98364663,  1.39040174,  1.09666235,  2.90165022,\n",
       "        -0.45318779,  2.40590724,  4.22430548,  3.30569227,  0.9166009 ,\n",
       "         2.99463998,  2.15796569,  0.86868328, -0.05785832,  2.13067872,\n",
       "         4.2896719 ,  1.58215969,  1.89965765,  2.13228716, -1.35067072]))"
      ]
     },
     "execution_count": 26,
     "metadata": {},
     "output_type": "execute_result"
    }
   ],
   "source": [
    "from sklearn.linear_model import LinearRegression\n",
    "\n",
    "X = prob_df[diagnosis_cols]\n",
    "y = prob_df['logit']\n",
    "w = prob_df['weight']\n",
    "\n",
    "model = LinearRegression()\n",
    "model.fit(X, y, sample_weight=w)\n",
    "\n",
    "model.intercept_, model.coef_"
   ]
  },
  {
   "cell_type": "code",
   "execution_count": 27,
   "id": "815a47e5-656c-4fcb-abde-5a101007f206",
   "metadata": {},
   "outputs": [
    {
     "data": {
      "image/png": "[encoded data removed]",
      "text/plain": [
       "<Figure size 1080x288 with 1 Axes>"
      ]
     },
     "metadata": {},
     "output_type": "display_data"
    }
   ],
   "source": [
    "s2 = pd.Series(model.coef_, index=diagnosis_cols)\n",
    "_ = s2.plot(kind='bar', figsize=(15, 4), title='Regression Coefficients, logit ~ diagnoses')"
   ]
  },
  {
   "cell_type": "code",
   "execution_count": 28,
   "id": "deac93c4-d778-4573-92a5-f3af236b2048",
   "metadata": {},
   "outputs": [
    {
     "data": {
      "image/png": "[encoded data removed]",
      "text/plain": [
       "<Figure size 1080x288 with 1 Axes>"
      ]
     },
     "metadata": {},
     "output_type": "display_data"
    }
   ],
   "source": [
    "_ = pd.DataFrame({\n",
    "    'log_reg': s1,\n",
    "    'ord_reg': s2\n",
    "}).plot(kind='bar', figsize=(15, 4), title='Ordinary vs Logistic Coefficients')"
   ]
  },
  {
   "cell_type": "code",
   "execution_count": null,
   "id": "73e05977-774f-44d1-abbc-ecb7d99f6c49",
   "metadata": {},
   "outputs": [],
   "source": []
  }
 ],
 "metadata": {
  "kernelspec": {
   "display_name": "Python 3",
   "language": "python",
   "name": "python3"
  },
  "language_info": {
   "codemirror_mode": {
    "name": "ipython",
    "version": 3
   },
   "file_extension": ".py",
   "mimetype": "text/x-python",
   "name": "python",
   "nbconvert_exporter": "python",
   "pygments_lexer": "ipython3",
   "version": "3.8.8"
  }
 },
 "nbformat": 4,
 "nbformat_minor": 5
}
