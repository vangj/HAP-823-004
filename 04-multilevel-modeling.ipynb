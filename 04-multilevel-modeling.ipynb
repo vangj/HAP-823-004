{
 "cells": [
  {
   "cell_type": "markdown",
   "id": "honey-sender",
   "metadata": {},
   "source": [
    "# Multi-level Modeling\n",
    "\n",
    "From [http://openonlinecourses.com/causalanalysis/Multi%20Level%20Regression.asp](http://openonlinecourses.com/causalanalysis/Multi%20Level%20Regression.asp)."
   ]
  },
  {
   "cell_type": "markdown",
   "id": "compound-beads",
   "metadata": {},
   "source": [
    "## Question 1"
   ]
  },
  {
   "cell_type": "markdown",
   "id": "suited-equity",
   "metadata": {},
   "source": [
    "### Question 1.1"
   ]
  },
  {
   "cell_type": "markdown",
   "id": "whole-nebraska",
   "metadata": {},
   "source": [
    "Load the data."
   ]
  },
  {
   "cell_type": "code",
   "execution_count": 1,
   "id": "bulgarian-italian",
   "metadata": {},
   "outputs": [
    {
     "data": {
      "text/plain": [
       "(50, 6)"
      ]
     },
     "execution_count": 1,
     "metadata": {},
     "output_type": "execute_result"
    }
   ],
   "source": [
    "import pandas as pd\n",
    "\n",
    "df = pd.read_excel('./TraumaData.xlsx').drop(columns=['Unnamed: 0'])\n",
    "df.shape"
   ]
  },
  {
   "cell_type": "markdown",
   "id": "stainless-painting",
   "metadata": {},
   "source": [
    "Notice that `Hosp` is categorical? "
   ]
  },
  {
   "cell_type": "code",
   "execution_count": 2,
   "id": "parallel-paragraph",
   "metadata": {},
   "outputs": [
    {
     "data": {
      "text/html": [
       "<div>\n",
       "<style scoped>\n",
       "    .dataframe tbody tr th:only-of-type {\n",
       "        vertical-align: middle;\n",
       "    }\n",
       "\n",
       "    .dataframe tbody tr th {\n",
       "        vertical-align: top;\n",
       "    }\n",
       "\n",
       "    .dataframe thead th {\n",
       "        text-align: right;\n",
       "    }\n",
       "</style>\n",
       "<table border=\"1\" class=\"dataframe\">\n",
       "  <thead>\n",
       "    <tr style=\"text-align: right;\">\n",
       "      <th></th>\n",
       "      <th>Prob Survival</th>\n",
       "      <th>Severe Burn</th>\n",
       "      <th>Head Injury</th>\n",
       "      <th>65+ Years</th>\n",
       "      <th>Male</th>\n",
       "      <th>Hosp</th>\n",
       "    </tr>\n",
       "  </thead>\n",
       "  <tbody>\n",
       "    <tr>\n",
       "      <th>0</th>\n",
       "      <td>0.694551</td>\n",
       "      <td>1</td>\n",
       "      <td>1</td>\n",
       "      <td>1</td>\n",
       "      <td>1</td>\n",
       "      <td>A</td>\n",
       "    </tr>\n",
       "    <tr>\n",
       "      <th>1</th>\n",
       "      <td>0.733619</td>\n",
       "      <td>1</td>\n",
       "      <td>1</td>\n",
       "      <td>1</td>\n",
       "      <td>0</td>\n",
       "      <td>A</td>\n",
       "    </tr>\n",
       "    <tr>\n",
       "      <th>2</th>\n",
       "      <td>0.785537</td>\n",
       "      <td>1</td>\n",
       "      <td>1</td>\n",
       "      <td>0</td>\n",
       "      <td>1</td>\n",
       "      <td>A</td>\n",
       "    </tr>\n",
       "    <tr>\n",
       "      <th>3</th>\n",
       "      <td>0.818770</td>\n",
       "      <td>1</td>\n",
       "      <td>0</td>\n",
       "      <td>1</td>\n",
       "      <td>1</td>\n",
       "      <td>A</td>\n",
       "    </tr>\n",
       "    <tr>\n",
       "      <th>4</th>\n",
       "      <td>0.868275</td>\n",
       "      <td>1</td>\n",
       "      <td>0</td>\n",
       "      <td>0</td>\n",
       "      <td>1</td>\n",
       "      <td>A</td>\n",
       "    </tr>\n",
       "  </tbody>\n",
       "</table>\n",
       "</div>"
      ],
      "text/plain": [
       "   Prob Survival  Severe Burn  Head Injury  65+ Years  Male Hosp\n",
       "0       0.694551            1            1          1     1    A\n",
       "1       0.733619            1            1          1     0    A\n",
       "2       0.785537            1            1          0     1    A\n",
       "3       0.818770            1            0          1     1    A\n",
       "4       0.868275            1            0          0     1    A"
      ]
     },
     "execution_count": 2,
     "metadata": {},
     "output_type": "execute_result"
    }
   ],
   "source": [
    "df.head()"
   ]
  },
  {
   "cell_type": "markdown",
   "id": "continuous-pocket",
   "metadata": {},
   "source": [
    "We need to `one-hot encode` the hospitals from the `Hosp` column."
   ]
  },
  {
   "cell_type": "code",
   "execution_count": 3,
   "id": "amazing-links",
   "metadata": {},
   "outputs": [
    {
     "data": {
      "text/plain": [
       "(50, 5)"
      ]
     },
     "execution_count": 3,
     "metadata": {},
     "output_type": "execute_result"
    }
   ],
   "source": [
    "ohe_df = pd.get_dummies(df['Hosp'], prefix='hosp')\n",
    "ohe_df.shape"
   ]
  },
  {
   "cell_type": "code",
   "execution_count": 4,
   "id": "checked-costs",
   "metadata": {},
   "outputs": [
    {
     "data": {
      "text/html": [
       "<div>\n",
       "<style scoped>\n",
       "    .dataframe tbody tr th:only-of-type {\n",
       "        vertical-align: middle;\n",
       "    }\n",
       "\n",
       "    .dataframe tbody tr th {\n",
       "        vertical-align: top;\n",
       "    }\n",
       "\n",
       "    .dataframe thead th {\n",
       "        text-align: right;\n",
       "    }\n",
       "</style>\n",
       "<table border=\"1\" class=\"dataframe\">\n",
       "  <thead>\n",
       "    <tr style=\"text-align: right;\">\n",
       "      <th></th>\n",
       "      <th>hosp_A</th>\n",
       "      <th>hosp_B</th>\n",
       "      <th>hosp_C</th>\n",
       "      <th>hosp_D</th>\n",
       "      <th>hosp_E</th>\n",
       "    </tr>\n",
       "  </thead>\n",
       "  <tbody>\n",
       "    <tr>\n",
       "      <th>0</th>\n",
       "      <td>1</td>\n",
       "      <td>0</td>\n",
       "      <td>0</td>\n",
       "      <td>0</td>\n",
       "      <td>0</td>\n",
       "    </tr>\n",
       "    <tr>\n",
       "      <th>1</th>\n",
       "      <td>1</td>\n",
       "      <td>0</td>\n",
       "      <td>0</td>\n",
       "      <td>0</td>\n",
       "      <td>0</td>\n",
       "    </tr>\n",
       "    <tr>\n",
       "      <th>2</th>\n",
       "      <td>1</td>\n",
       "      <td>0</td>\n",
       "      <td>0</td>\n",
       "      <td>0</td>\n",
       "      <td>0</td>\n",
       "    </tr>\n",
       "    <tr>\n",
       "      <th>3</th>\n",
       "      <td>1</td>\n",
       "      <td>0</td>\n",
       "      <td>0</td>\n",
       "      <td>0</td>\n",
       "      <td>0</td>\n",
       "    </tr>\n",
       "    <tr>\n",
       "      <th>4</th>\n",
       "      <td>1</td>\n",
       "      <td>0</td>\n",
       "      <td>0</td>\n",
       "      <td>0</td>\n",
       "      <td>0</td>\n",
       "    </tr>\n",
       "  </tbody>\n",
       "</table>\n",
       "</div>"
      ],
      "text/plain": [
       "   hosp_A  hosp_B  hosp_C  hosp_D  hosp_E\n",
       "0       1       0       0       0       0\n",
       "1       1       0       0       0       0\n",
       "2       1       0       0       0       0\n",
       "3       1       0       0       0       0\n",
       "4       1       0       0       0       0"
      ]
     },
     "execution_count": 4,
     "metadata": {},
     "output_type": "execute_result"
    }
   ],
   "source": [
    "ohe_df.head()"
   ]
  },
  {
   "cell_type": "markdown",
   "id": "atlantic-roots",
   "metadata": {},
   "source": [
    "Now, join the original data to the one-hot encoded data. Notice how we drop the original categorical field `Hosp` and one of the one-hot encoded fields `hosp_A`."
   ]
  },
  {
   "cell_type": "code",
   "execution_count": 5,
   "id": "aware-metadata",
   "metadata": {},
   "outputs": [
    {
     "data": {
      "text/plain": [
       "(50, 9)"
      ]
     },
     "execution_count": 5,
     "metadata": {},
     "output_type": "execute_result"
    }
   ],
   "source": [
    "df = df.join(ohe_df).drop(columns=['Hosp', 'hosp_A'])\n",
    "df.shape"
   ]
  },
  {
   "cell_type": "code",
   "execution_count": 6,
   "id": "convertible-colon",
   "metadata": {},
   "outputs": [
    {
     "data": {
      "text/html": [
       "<div>\n",
       "<style scoped>\n",
       "    .dataframe tbody tr th:only-of-type {\n",
       "        vertical-align: middle;\n",
       "    }\n",
       "\n",
       "    .dataframe tbody tr th {\n",
       "        vertical-align: top;\n",
       "    }\n",
       "\n",
       "    .dataframe thead th {\n",
       "        text-align: right;\n",
       "    }\n",
       "</style>\n",
       "<table border=\"1\" class=\"dataframe\">\n",
       "  <thead>\n",
       "    <tr style=\"text-align: right;\">\n",
       "      <th></th>\n",
       "      <th>Prob Survival</th>\n",
       "      <th>Severe Burn</th>\n",
       "      <th>Head Injury</th>\n",
       "      <th>65+ Years</th>\n",
       "      <th>Male</th>\n",
       "      <th>hosp_B</th>\n",
       "      <th>hosp_C</th>\n",
       "      <th>hosp_D</th>\n",
       "      <th>hosp_E</th>\n",
       "    </tr>\n",
       "  </thead>\n",
       "  <tbody>\n",
       "    <tr>\n",
       "      <th>0</th>\n",
       "      <td>0.694551</td>\n",
       "      <td>1</td>\n",
       "      <td>1</td>\n",
       "      <td>1</td>\n",
       "      <td>1</td>\n",
       "      <td>0</td>\n",
       "      <td>0</td>\n",
       "      <td>0</td>\n",
       "      <td>0</td>\n",
       "    </tr>\n",
       "    <tr>\n",
       "      <th>1</th>\n",
       "      <td>0.733619</td>\n",
       "      <td>1</td>\n",
       "      <td>1</td>\n",
       "      <td>1</td>\n",
       "      <td>0</td>\n",
       "      <td>0</td>\n",
       "      <td>0</td>\n",
       "      <td>0</td>\n",
       "      <td>0</td>\n",
       "    </tr>\n",
       "    <tr>\n",
       "      <th>2</th>\n",
       "      <td>0.785537</td>\n",
       "      <td>1</td>\n",
       "      <td>1</td>\n",
       "      <td>0</td>\n",
       "      <td>1</td>\n",
       "      <td>0</td>\n",
       "      <td>0</td>\n",
       "      <td>0</td>\n",
       "      <td>0</td>\n",
       "    </tr>\n",
       "    <tr>\n",
       "      <th>3</th>\n",
       "      <td>0.818770</td>\n",
       "      <td>1</td>\n",
       "      <td>0</td>\n",
       "      <td>1</td>\n",
       "      <td>1</td>\n",
       "      <td>0</td>\n",
       "      <td>0</td>\n",
       "      <td>0</td>\n",
       "      <td>0</td>\n",
       "    </tr>\n",
       "    <tr>\n",
       "      <th>4</th>\n",
       "      <td>0.868275</td>\n",
       "      <td>1</td>\n",
       "      <td>0</td>\n",
       "      <td>0</td>\n",
       "      <td>1</td>\n",
       "      <td>0</td>\n",
       "      <td>0</td>\n",
       "      <td>0</td>\n",
       "      <td>0</td>\n",
       "    </tr>\n",
       "  </tbody>\n",
       "</table>\n",
       "</div>"
      ],
      "text/plain": [
       "   Prob Survival  Severe Burn  Head Injury  65+ Years  Male  hosp_B  hosp_C  \\\n",
       "0       0.694551            1            1          1     1       0       0   \n",
       "1       0.733619            1            1          1     0       0       0   \n",
       "2       0.785537            1            1          0     1       0       0   \n",
       "3       0.818770            1            0          1     1       0       0   \n",
       "4       0.868275            1            0          0     1       0       0   \n",
       "\n",
       "   hosp_D  hosp_E  \n",
       "0       0       0  \n",
       "1       0       0  \n",
       "2       0       0  \n",
       "3       0       0  \n",
       "4       0       0  "
      ]
     },
     "execution_count": 6,
     "metadata": {},
     "output_type": "execute_result"
    }
   ],
   "source": [
    "df.head()"
   ]
  },
  {
   "cell_type": "markdown",
   "id": "spiritual-concept",
   "metadata": {},
   "source": [
    "Let's pull out our design matrix `X` and response variable `y` from the dataframe."
   ]
  },
  {
   "cell_type": "code",
   "execution_count": 7,
   "id": "precious-humidity",
   "metadata": {},
   "outputs": [
    {
     "data": {
      "text/plain": [
       "((50, 8), (50,))"
      ]
     },
     "execution_count": 7,
     "metadata": {},
     "output_type": "execute_result"
    }
   ],
   "source": [
    "X, y = df[[c for c in df.columns if c!= 'Prob Survival']], df['Prob Survival']\n",
    "\n",
    "X.shape, y.shape"
   ]
  },
  {
   "cell_type": "markdown",
   "id": "million-expense",
   "metadata": {},
   "source": [
    "Now, perform regression."
   ]
  },
  {
   "cell_type": "code",
   "execution_count": 8,
   "id": "excellent-wings",
   "metadata": {},
   "outputs": [
    {
     "data": {
      "text/plain": [
       "(1.1621835879267253,\n",
       " array([-0.24542462, -0.18178176, -0.10929294, -0.02670298, -0.11793209,\n",
       "        -0.22613064, -0.27645   , -0.34113592]))"
      ]
     },
     "execution_count": 8,
     "metadata": {},
     "output_type": "execute_result"
    }
   ],
   "source": [
    "from sklearn.linear_model import LinearRegression\n",
    "\n",
    "m1 = LinearRegression()\n",
    "m1.fit(X, y)\n",
    "\n",
    "m1.intercept_, m1.coef_"
   ]
  },
  {
   "cell_type": "markdown",
   "id": "informative-replacement",
   "metadata": {},
   "source": [
    "We can align the variable names with the coefficients."
   ]
  },
  {
   "cell_type": "code",
   "execution_count": 9,
   "id": "fuzzy-ensemble",
   "metadata": {},
   "outputs": [
    {
     "data": {
      "text/plain": [
       "Severe Burn   -0.245425\n",
       "Head Injury   -0.181782\n",
       "65+ Years     -0.109293\n",
       "Male          -0.026703\n",
       "hosp_B        -0.117932\n",
       "hosp_C        -0.226131\n",
       "hosp_D        -0.276450\n",
       "hosp_E        -0.341136\n",
       "dtype: float64"
      ]
     },
     "execution_count": 9,
     "metadata": {},
     "output_type": "execute_result"
    }
   ],
   "source": [
    "coefficients = pd.Series(m1.coef_, X.columns)\n",
    "coefficients"
   ]
  },
  {
   "cell_type": "markdown",
   "id": "expected-biography",
   "metadata": {},
   "source": [
    "### Question 1.2"
   ]
  },
  {
   "cell_type": "code",
   "execution_count": 10,
   "id": "sustained-qualification",
   "metadata": {},
   "outputs": [
    {
     "data": {
      "text/plain": [
       "(5, 3)"
      ]
     },
     "execution_count": 10,
     "metadata": {},
     "output_type": "execute_result"
    }
   ],
   "source": [
    "hosp_df = pd.DataFrame({\n",
    "    'tertiary_center': [1, 1, 0, 0, 0],\n",
    "    'burn_center': [0, 1, 0, 0, 0],\n",
    "    'y': [0] + list(m1.intercept_ - coefficients[4:])\n",
    "}, index=['A', 'B', 'C', 'D', 'E'])\n",
    "\n",
    "hosp_df.shape"
   ]
  },
  {
   "cell_type": "code",
   "execution_count": 11,
   "id": "divine-above",
   "metadata": {},
   "outputs": [
    {
     "data": {
      "text/html": [
       "<div>\n",
       "<style scoped>\n",
       "    .dataframe tbody tr th:only-of-type {\n",
       "        vertical-align: middle;\n",
       "    }\n",
       "\n",
       "    .dataframe tbody tr th {\n",
       "        vertical-align: top;\n",
       "    }\n",
       "\n",
       "    .dataframe thead th {\n",
       "        text-align: right;\n",
       "    }\n",
       "</style>\n",
       "<table border=\"1\" class=\"dataframe\">\n",
       "  <thead>\n",
       "    <tr style=\"text-align: right;\">\n",
       "      <th></th>\n",
       "      <th>tertiary_center</th>\n",
       "      <th>burn_center</th>\n",
       "      <th>y</th>\n",
       "    </tr>\n",
       "  </thead>\n",
       "  <tbody>\n",
       "    <tr>\n",
       "      <th>A</th>\n",
       "      <td>1</td>\n",
       "      <td>0</td>\n",
       "      <td>0.000000</td>\n",
       "    </tr>\n",
       "    <tr>\n",
       "      <th>B</th>\n",
       "      <td>1</td>\n",
       "      <td>1</td>\n",
       "      <td>1.280116</td>\n",
       "    </tr>\n",
       "    <tr>\n",
       "      <th>C</th>\n",
       "      <td>0</td>\n",
       "      <td>0</td>\n",
       "      <td>1.388314</td>\n",
       "    </tr>\n",
       "    <tr>\n",
       "      <th>D</th>\n",
       "      <td>0</td>\n",
       "      <td>0</td>\n",
       "      <td>1.438634</td>\n",
       "    </tr>\n",
       "    <tr>\n",
       "      <th>E</th>\n",
       "      <td>0</td>\n",
       "      <td>0</td>\n",
       "      <td>1.503320</td>\n",
       "    </tr>\n",
       "  </tbody>\n",
       "</table>\n",
       "</div>"
      ],
      "text/plain": [
       "   tertiary_center  burn_center         y\n",
       "A                1            0  0.000000\n",
       "B                1            1  1.280116\n",
       "C                0            0  1.388314\n",
       "D                0            0  1.438634\n",
       "E                0            0  1.503320"
      ]
     },
     "execution_count": 11,
     "metadata": {},
     "output_type": "execute_result"
    }
   ],
   "source": [
    "hosp_df"
   ]
  },
  {
   "cell_type": "code",
   "execution_count": 12,
   "id": "democratic-logging",
   "metadata": {},
   "outputs": [
    {
     "data": {
      "text/plain": [
       "((5, 2), (5,))"
      ]
     },
     "execution_count": 12,
     "metadata": {},
     "output_type": "execute_result"
    }
   ],
   "source": [
    "X, y = hosp_df[['tertiary_center', 'burn_center']], hosp_df['y']\n",
    "\n",
    "X.shape, y.shape"
   ]
  },
  {
   "cell_type": "code",
   "execution_count": 13,
   "id": "consolidated-cornell",
   "metadata": {},
   "outputs": [
    {
     "data": {
      "text/plain": [
       "(1.4434224440280423, array([-1.44342244,  1.28011568]))"
      ]
     },
     "execution_count": 13,
     "metadata": {},
     "output_type": "execute_result"
    }
   ],
   "source": [
    "m2 = LinearRegression()\n",
    "m2.fit(X, y)\n",
    "\n",
    "m2.intercept_, m2.coef_"
   ]
  },
  {
   "cell_type": "markdown",
   "id": "valuable-captain",
   "metadata": {},
   "source": [
    "### Question 1.3\n",
    "\n",
    "- First regression: all hospitals reduce mortality probability.\n",
    "- Second regression: holding patient characteristics, tertiary centers reduce mortality probability and burn centers increase mortality probability"
   ]
  },
  {
   "cell_type": "markdown",
   "id": "involved-flashing",
   "metadata": {},
   "source": [
    "## Question 2"
   ]
  },
  {
   "cell_type": "markdown",
   "id": "injured-permit",
   "metadata": {},
   "source": [
    "Since the Excel file is password-protected, export it to CSV format first and then use it."
   ]
  },
  {
   "cell_type": "code",
   "execution_count": 14,
   "id": "binding-repeat",
   "metadata": {},
   "outputs": [
    {
     "data": {
      "text/plain": [
       "(829799, 45)"
      ]
     },
     "execution_count": 14,
     "metadata": {},
     "output_type": "execute_result"
    }
   ],
   "source": [
    "df = pd.read_csv('./LungCancerComorbiditesWithMedicalCenters.csv').set_index('ID')\n",
    "df.shape"
   ]
  },
  {
   "cell_type": "markdown",
   "id": "oriented-tribe",
   "metadata": {},
   "source": [
    "Take a peek at the data."
   ]
  },
  {
   "cell_type": "code",
   "execution_count": 15,
   "id": "numerous-council",
   "metadata": {},
   "outputs": [
    {
     "data": {
      "text/html": [
       "<div>\n",
       "<style scoped>\n",
       "    .dataframe tbody tr th:only-of-type {\n",
       "        vertical-align: middle;\n",
       "    }\n",
       "\n",
       "    .dataframe tbody tr th {\n",
       "        vertical-align: top;\n",
       "    }\n",
       "\n",
       "    .dataframe thead th {\n",
       "        text-align: right;\n",
       "    }\n",
       "</style>\n",
       "<table border=\"1\" class=\"dataframe\">\n",
       "  <thead>\n",
       "    <tr style=\"text-align: right;\">\n",
       "      <th></th>\n",
       "      <th>Dead in 6 Months</th>\n",
       "      <th>Medical Center</th>\n",
       "      <th>S-Days</th>\n",
       "      <th>LungCancer</th>\n",
       "      <th>I4019</th>\n",
       "      <th>I496</th>\n",
       "      <th>I2724</th>\n",
       "      <th>I3051</th>\n",
       "      <th>I486</th>\n",
       "      <th>I53081</th>\n",
       "      <th>...</th>\n",
       "      <th>I7866</th>\n",
       "      <th>I51889</th>\n",
       "      <th>I78659</th>\n",
       "      <th>I78791</th>\n",
       "      <th>IV4581</th>\n",
       "      <th>IE8490</th>\n",
       "      <th>I07054</th>\n",
       "      <th>I30390</th>\n",
       "      <th>I2875</th>\n",
       "      <th>IV4582</th>\n",
       "    </tr>\n",
       "    <tr>\n",
       "      <th>ID</th>\n",
       "      <th></th>\n",
       "      <th></th>\n",
       "      <th></th>\n",
       "      <th></th>\n",
       "      <th></th>\n",
       "      <th></th>\n",
       "      <th></th>\n",
       "      <th></th>\n",
       "      <th></th>\n",
       "      <th></th>\n",
       "      <th></th>\n",
       "      <th></th>\n",
       "      <th></th>\n",
       "      <th></th>\n",
       "      <th></th>\n",
       "      <th></th>\n",
       "      <th></th>\n",
       "      <th></th>\n",
       "      <th></th>\n",
       "      <th></th>\n",
       "      <th></th>\n",
       "    </tr>\n",
       "  </thead>\n",
       "  <tbody>\n",
       "    <tr>\n",
       "      <th>538831</th>\n",
       "      <td>0</td>\n",
       "      <td>Center1</td>\n",
       "      <td>1.333334</td>\n",
       "      <td>0</td>\n",
       "      <td>1</td>\n",
       "      <td>0</td>\n",
       "      <td>1</td>\n",
       "      <td>1</td>\n",
       "      <td>0</td>\n",
       "      <td>1</td>\n",
       "      <td>...</td>\n",
       "      <td>0</td>\n",
       "      <td>0</td>\n",
       "      <td>0</td>\n",
       "      <td>0</td>\n",
       "      <td>0</td>\n",
       "      <td>0</td>\n",
       "      <td>0</td>\n",
       "      <td>0</td>\n",
       "      <td>0</td>\n",
       "      <td>0</td>\n",
       "    </tr>\n",
       "    <tr>\n",
       "      <th>476484</th>\n",
       "      <td>0</td>\n",
       "      <td>Center 1</td>\n",
       "      <td>0.000000</td>\n",
       "      <td>0</td>\n",
       "      <td>1</td>\n",
       "      <td>0</td>\n",
       "      <td>0</td>\n",
       "      <td>0</td>\n",
       "      <td>0</td>\n",
       "      <td>1</td>\n",
       "      <td>...</td>\n",
       "      <td>0</td>\n",
       "      <td>0</td>\n",
       "      <td>0</td>\n",
       "      <td>0</td>\n",
       "      <td>0</td>\n",
       "      <td>0</td>\n",
       "      <td>0</td>\n",
       "      <td>0</td>\n",
       "      <td>0</td>\n",
       "      <td>0</td>\n",
       "    </tr>\n",
       "    <tr>\n",
       "      <th>777073</th>\n",
       "      <td>0</td>\n",
       "      <td>Center1</td>\n",
       "      <td>0.000000</td>\n",
       "      <td>0</td>\n",
       "      <td>0</td>\n",
       "      <td>0</td>\n",
       "      <td>0</td>\n",
       "      <td>0</td>\n",
       "      <td>0</td>\n",
       "      <td>0</td>\n",
       "      <td>...</td>\n",
       "      <td>0</td>\n",
       "      <td>1</td>\n",
       "      <td>0</td>\n",
       "      <td>0</td>\n",
       "      <td>0</td>\n",
       "      <td>0</td>\n",
       "      <td>0</td>\n",
       "      <td>0</td>\n",
       "      <td>0</td>\n",
       "      <td>0</td>\n",
       "    </tr>\n",
       "    <tr>\n",
       "      <th>238242</th>\n",
       "      <td>0</td>\n",
       "      <td>Center1</td>\n",
       "      <td>0.000000</td>\n",
       "      <td>0</td>\n",
       "      <td>0</td>\n",
       "      <td>0</td>\n",
       "      <td>1</td>\n",
       "      <td>0</td>\n",
       "      <td>0</td>\n",
       "      <td>0</td>\n",
       "      <td>...</td>\n",
       "      <td>0</td>\n",
       "      <td>0</td>\n",
       "      <td>0</td>\n",
       "      <td>0</td>\n",
       "      <td>0</td>\n",
       "      <td>0</td>\n",
       "      <td>0</td>\n",
       "      <td>0</td>\n",
       "      <td>0</td>\n",
       "      <td>0</td>\n",
       "    </tr>\n",
       "    <tr>\n",
       "      <th>175895</th>\n",
       "      <td>1</td>\n",
       "      <td>Center1</td>\n",
       "      <td>NaN</td>\n",
       "      <td>0</td>\n",
       "      <td>0</td>\n",
       "      <td>0</td>\n",
       "      <td>0</td>\n",
       "      <td>0</td>\n",
       "      <td>0</td>\n",
       "      <td>0</td>\n",
       "      <td>...</td>\n",
       "      <td>0</td>\n",
       "      <td>0</td>\n",
       "      <td>0</td>\n",
       "      <td>0</td>\n",
       "      <td>0</td>\n",
       "      <td>0</td>\n",
       "      <td>0</td>\n",
       "      <td>0</td>\n",
       "      <td>0</td>\n",
       "      <td>0</td>\n",
       "    </tr>\n",
       "  </tbody>\n",
       "</table>\n",
       "<p>5 rows × 45 columns</p>\n",
       "</div>"
      ],
      "text/plain": [
       "        Dead in 6 Months Medical Center    S-Days  LungCancer  I4019  I496  \\\n",
       "ID                                                                           \n",
       "538831                 0        Center1  1.333334           0      1     0   \n",
       "476484                 0       Center 1  0.000000           0      1     0   \n",
       "777073                 0        Center1  0.000000           0      0     0   \n",
       "238242                 0        Center1  0.000000           0      0     0   \n",
       "175895                 1        Center1       NaN           0      0     0   \n",
       "\n",
       "        I2724  I3051  I486  I53081  ...  I7866  I51889  I78659  I78791  \\\n",
       "ID                                  ...                                  \n",
       "538831      1      1     0       1  ...      0       0       0       0   \n",
       "476484      0      0     0       1  ...      0       0       0       0   \n",
       "777073      0      0     0       0  ...      0       1       0       0   \n",
       "238242      1      0     0       0  ...      0       0       0       0   \n",
       "175895      0      0     0       0  ...      0       0       0       0   \n",
       "\n",
       "        IV4581  IE8490  I07054  I30390  I2875  IV4582  \n",
       "ID                                                     \n",
       "538831       0       0       0       0      0       0  \n",
       "476484       0       0       0       0      0       0  \n",
       "777073       0       0       0       0      0       0  \n",
       "238242       0       0       0       0      0       0  \n",
       "175895       0       0       0       0      0       0  \n",
       "\n",
       "[5 rows x 45 columns]"
      ]
     },
     "execution_count": 15,
     "metadata": {},
     "output_type": "execute_result"
    }
   ],
   "source": [
    "df.head()"
   ]
  },
  {
   "cell_type": "markdown",
   "id": "ahead-pennsylvania",
   "metadata": {},
   "source": [
    "Check the types. Notice `Medical Center` is categorical. We will have to one-hot encode that field."
   ]
  },
  {
   "cell_type": "code",
   "execution_count": 16,
   "id": "simple-cross",
   "metadata": {},
   "outputs": [
    {
     "data": {
      "text/plain": [
       "Dead in 6 Months      int64\n",
       "Medical Center       object\n",
       "S-Days              float64\n",
       "LungCancer            int64\n",
       "I4019                 int64\n",
       "I496                  int64\n",
       "I2724                 int64\n",
       "I3051                 int64\n",
       "I486                  int64\n",
       "I53081                int64\n",
       "I41401                int64\n",
       "I2859                 int64\n",
       "I42731                int64\n",
       "I60000                int64\n",
       "I311                  int64\n",
       "I49121                int64\n",
       "I2761                 int64\n",
       "I4280                 int64\n",
       "I27651                int64\n",
       "I2768                 int64\n",
       "I5990                 int64\n",
       "I40390                int64\n",
       "IE8497                int64\n",
       "I30981                int64\n",
       "I5859                 int64\n",
       "I30000                int64\n",
       "I41400                int64\n",
       "I4439                 int64\n",
       "I2449                 int64\n",
       "I7242                 int64\n",
       "IV5861                int64\n",
       "I25000                int64\n",
       "I42789                int64\n",
       "I78820                int64\n",
       "I2809                 int64\n",
       "I7866                 int64\n",
       "I51889                int64\n",
       "I78659                int64\n",
       "I78791                int64\n",
       "IV4581                int64\n",
       "IE8490                int64\n",
       "I07054                int64\n",
       "I30390                int64\n",
       "I2875                 int64\n",
       "IV4582                int64\n",
       "dtype: object"
      ]
     },
     "execution_count": 16,
     "metadata": {},
     "output_type": "execute_result"
    }
   ],
   "source": [
    "df.dtypes"
   ]
  },
  {
   "cell_type": "markdown",
   "id": "instrumental-scheme",
   "metadata": {},
   "source": [
    "Let's actually see the distribution of values for `Medical Center`. I do not like how these values show up. Let's format these values."
   ]
  },
  {
   "cell_type": "code",
   "execution_count": 17,
   "id": "vanilla-chemical",
   "metadata": {},
   "outputs": [
    {
     "data": {
      "text/plain": [
       "Center4     189294\n",
       "Center3     120954\n",
       "Center7     118147\n",
       "Center5     113861\n",
       "Center1      96810\n",
       "Center6      95373\n",
       "Center2      95359\n",
       "Center 1         1\n",
       "Name: Medical Center, dtype: int64"
      ]
     },
     "execution_count": 17,
     "metadata": {},
     "output_type": "execute_result"
    }
   ],
   "source": [
    "df['Medical Center'].value_counts()"
   ]
  },
  {
   "cell_type": "code",
   "execution_count": 18,
   "id": "hidden-healthcare",
   "metadata": {},
   "outputs": [],
   "source": [
    "df['Medical Center'] = df['Medical Center'].apply(lambda s: s.strip().replace('Center', '').strip())"
   ]
  },
  {
   "cell_type": "markdown",
   "id": "ordered-continuity",
   "metadata": {},
   "source": [
    "I can live with these values."
   ]
  },
  {
   "cell_type": "code",
   "execution_count": 19,
   "id": "bound-seating",
   "metadata": {},
   "outputs": [
    {
     "data": {
      "text/plain": [
       "4    189294\n",
       "3    120954\n",
       "7    118147\n",
       "5    113861\n",
       "1     96811\n",
       "6     95373\n",
       "2     95359\n",
       "Name: Medical Center, dtype: int64"
      ]
     },
     "execution_count": 19,
     "metadata": {},
     "output_type": "execute_result"
    }
   ],
   "source": [
    "df['Medical Center'].value_counts()"
   ]
  },
  {
   "cell_type": "markdown",
   "id": "binary-comparison",
   "metadata": {},
   "source": [
    "One-hot encode `Medical Center`."
   ]
  },
  {
   "cell_type": "code",
   "execution_count": 20,
   "id": "middle-longer",
   "metadata": {},
   "outputs": [
    {
     "data": {
      "text/plain": [
       "(829799, 7)"
      ]
     },
     "execution_count": 20,
     "metadata": {},
     "output_type": "execute_result"
    }
   ],
   "source": [
    "ohe_df = pd.get_dummies(df['Medical Center'], prefix='medcenter')\n",
    "ohe_df.shape"
   ]
  },
  {
   "cell_type": "code",
   "execution_count": 21,
   "id": "measured-stations",
   "metadata": {},
   "outputs": [
    {
     "data": {
      "text/html": [
       "<div>\n",
       "<style scoped>\n",
       "    .dataframe tbody tr th:only-of-type {\n",
       "        vertical-align: middle;\n",
       "    }\n",
       "\n",
       "    .dataframe tbody tr th {\n",
       "        vertical-align: top;\n",
       "    }\n",
       "\n",
       "    .dataframe thead th {\n",
       "        text-align: right;\n",
       "    }\n",
       "</style>\n",
       "<table border=\"1\" class=\"dataframe\">\n",
       "  <thead>\n",
       "    <tr style=\"text-align: right;\">\n",
       "      <th></th>\n",
       "      <th>medcenter_1</th>\n",
       "      <th>medcenter_2</th>\n",
       "      <th>medcenter_3</th>\n",
       "      <th>medcenter_4</th>\n",
       "      <th>medcenter_5</th>\n",
       "      <th>medcenter_6</th>\n",
       "      <th>medcenter_7</th>\n",
       "    </tr>\n",
       "    <tr>\n",
       "      <th>ID</th>\n",
       "      <th></th>\n",
       "      <th></th>\n",
       "      <th></th>\n",
       "      <th></th>\n",
       "      <th></th>\n",
       "      <th></th>\n",
       "      <th></th>\n",
       "    </tr>\n",
       "  </thead>\n",
       "  <tbody>\n",
       "    <tr>\n",
       "      <th>538831</th>\n",
       "      <td>1</td>\n",
       "      <td>0</td>\n",
       "      <td>0</td>\n",
       "      <td>0</td>\n",
       "      <td>0</td>\n",
       "      <td>0</td>\n",
       "      <td>0</td>\n",
       "    </tr>\n",
       "    <tr>\n",
       "      <th>476484</th>\n",
       "      <td>1</td>\n",
       "      <td>0</td>\n",
       "      <td>0</td>\n",
       "      <td>0</td>\n",
       "      <td>0</td>\n",
       "      <td>0</td>\n",
       "      <td>0</td>\n",
       "    </tr>\n",
       "    <tr>\n",
       "      <th>777073</th>\n",
       "      <td>1</td>\n",
       "      <td>0</td>\n",
       "      <td>0</td>\n",
       "      <td>0</td>\n",
       "      <td>0</td>\n",
       "      <td>0</td>\n",
       "      <td>0</td>\n",
       "    </tr>\n",
       "    <tr>\n",
       "      <th>238242</th>\n",
       "      <td>1</td>\n",
       "      <td>0</td>\n",
       "      <td>0</td>\n",
       "      <td>0</td>\n",
       "      <td>0</td>\n",
       "      <td>0</td>\n",
       "      <td>0</td>\n",
       "    </tr>\n",
       "    <tr>\n",
       "      <th>175895</th>\n",
       "      <td>1</td>\n",
       "      <td>0</td>\n",
       "      <td>0</td>\n",
       "      <td>0</td>\n",
       "      <td>0</td>\n",
       "      <td>0</td>\n",
       "      <td>0</td>\n",
       "    </tr>\n",
       "  </tbody>\n",
       "</table>\n",
       "</div>"
      ],
      "text/plain": [
       "        medcenter_1  medcenter_2  medcenter_3  medcenter_4  medcenter_5  \\\n",
       "ID                                                                        \n",
       "538831            1            0            0            0            0   \n",
       "476484            1            0            0            0            0   \n",
       "777073            1            0            0            0            0   \n",
       "238242            1            0            0            0            0   \n",
       "175895            1            0            0            0            0   \n",
       "\n",
       "        medcenter_6  medcenter_7  \n",
       "ID                                \n",
       "538831            0            0  \n",
       "476484            0            0  \n",
       "777073            0            0  \n",
       "238242            0            0  \n",
       "175895            0            0  "
      ]
     },
     "execution_count": 21,
     "metadata": {},
     "output_type": "execute_result"
    }
   ],
   "source": [
    "ohe_df.head()"
   ]
  },
  {
   "cell_type": "markdown",
   "id": "relative-exception",
   "metadata": {},
   "source": [
    "Join the raw data with the one-hot encoded data. Also, notice how we drop the original column `Medical Center` and one of the one-hot encoded columns `medcenter_1`?"
   ]
  },
  {
   "cell_type": "code",
   "execution_count": 22,
   "id": "victorian-innocent",
   "metadata": {},
   "outputs": [
    {
     "data": {
      "text/plain": [
       "(829799, 50)"
      ]
     },
     "execution_count": 22,
     "metadata": {},
     "output_type": "execute_result"
    }
   ],
   "source": [
    "df = df.join(ohe_df).drop(columns=['Medical Center', 'medcenter_1'])\n",
    "df.shape"
   ]
  },
  {
   "cell_type": "code",
   "execution_count": 23,
   "id": "official-filing",
   "metadata": {},
   "outputs": [
    {
     "data": {
      "text/html": [
       "<div>\n",
       "<style scoped>\n",
       "    .dataframe tbody tr th:only-of-type {\n",
       "        vertical-align: middle;\n",
       "    }\n",
       "\n",
       "    .dataframe tbody tr th {\n",
       "        vertical-align: top;\n",
       "    }\n",
       "\n",
       "    .dataframe thead th {\n",
       "        text-align: right;\n",
       "    }\n",
       "</style>\n",
       "<table border=\"1\" class=\"dataframe\">\n",
       "  <thead>\n",
       "    <tr style=\"text-align: right;\">\n",
       "      <th></th>\n",
       "      <th>Dead in 6 Months</th>\n",
       "      <th>S-Days</th>\n",
       "      <th>LungCancer</th>\n",
       "      <th>I4019</th>\n",
       "      <th>I496</th>\n",
       "      <th>I2724</th>\n",
       "      <th>I3051</th>\n",
       "      <th>I486</th>\n",
       "      <th>I53081</th>\n",
       "      <th>I41401</th>\n",
       "      <th>...</th>\n",
       "      <th>I07054</th>\n",
       "      <th>I30390</th>\n",
       "      <th>I2875</th>\n",
       "      <th>IV4582</th>\n",
       "      <th>medcenter_2</th>\n",
       "      <th>medcenter_3</th>\n",
       "      <th>medcenter_4</th>\n",
       "      <th>medcenter_5</th>\n",
       "      <th>medcenter_6</th>\n",
       "      <th>medcenter_7</th>\n",
       "    </tr>\n",
       "    <tr>\n",
       "      <th>ID</th>\n",
       "      <th></th>\n",
       "      <th></th>\n",
       "      <th></th>\n",
       "      <th></th>\n",
       "      <th></th>\n",
       "      <th></th>\n",
       "      <th></th>\n",
       "      <th></th>\n",
       "      <th></th>\n",
       "      <th></th>\n",
       "      <th></th>\n",
       "      <th></th>\n",
       "      <th></th>\n",
       "      <th></th>\n",
       "      <th></th>\n",
       "      <th></th>\n",
       "      <th></th>\n",
       "      <th></th>\n",
       "      <th></th>\n",
       "      <th></th>\n",
       "      <th></th>\n",
       "    </tr>\n",
       "  </thead>\n",
       "  <tbody>\n",
       "    <tr>\n",
       "      <th>538831</th>\n",
       "      <td>0</td>\n",
       "      <td>1.333334</td>\n",
       "      <td>0</td>\n",
       "      <td>1</td>\n",
       "      <td>0</td>\n",
       "      <td>1</td>\n",
       "      <td>1</td>\n",
       "      <td>0</td>\n",
       "      <td>1</td>\n",
       "      <td>0</td>\n",
       "      <td>...</td>\n",
       "      <td>0</td>\n",
       "      <td>0</td>\n",
       "      <td>0</td>\n",
       "      <td>0</td>\n",
       "      <td>0</td>\n",
       "      <td>0</td>\n",
       "      <td>0</td>\n",
       "      <td>0</td>\n",
       "      <td>0</td>\n",
       "      <td>0</td>\n",
       "    </tr>\n",
       "    <tr>\n",
       "      <th>476484</th>\n",
       "      <td>0</td>\n",
       "      <td>0.000000</td>\n",
       "      <td>0</td>\n",
       "      <td>1</td>\n",
       "      <td>0</td>\n",
       "      <td>0</td>\n",
       "      <td>0</td>\n",
       "      <td>0</td>\n",
       "      <td>1</td>\n",
       "      <td>0</td>\n",
       "      <td>...</td>\n",
       "      <td>0</td>\n",
       "      <td>0</td>\n",
       "      <td>0</td>\n",
       "      <td>0</td>\n",
       "      <td>0</td>\n",
       "      <td>0</td>\n",
       "      <td>0</td>\n",
       "      <td>0</td>\n",
       "      <td>0</td>\n",
       "      <td>0</td>\n",
       "    </tr>\n",
       "    <tr>\n",
       "      <th>777073</th>\n",
       "      <td>0</td>\n",
       "      <td>0.000000</td>\n",
       "      <td>0</td>\n",
       "      <td>0</td>\n",
       "      <td>0</td>\n",
       "      <td>0</td>\n",
       "      <td>0</td>\n",
       "      <td>0</td>\n",
       "      <td>0</td>\n",
       "      <td>0</td>\n",
       "      <td>...</td>\n",
       "      <td>0</td>\n",
       "      <td>0</td>\n",
       "      <td>0</td>\n",
       "      <td>0</td>\n",
       "      <td>0</td>\n",
       "      <td>0</td>\n",
       "      <td>0</td>\n",
       "      <td>0</td>\n",
       "      <td>0</td>\n",
       "      <td>0</td>\n",
       "    </tr>\n",
       "    <tr>\n",
       "      <th>238242</th>\n",
       "      <td>0</td>\n",
       "      <td>0.000000</td>\n",
       "      <td>0</td>\n",
       "      <td>0</td>\n",
       "      <td>0</td>\n",
       "      <td>1</td>\n",
       "      <td>0</td>\n",
       "      <td>0</td>\n",
       "      <td>0</td>\n",
       "      <td>0</td>\n",
       "      <td>...</td>\n",
       "      <td>0</td>\n",
       "      <td>0</td>\n",
       "      <td>0</td>\n",
       "      <td>0</td>\n",
       "      <td>0</td>\n",
       "      <td>0</td>\n",
       "      <td>0</td>\n",
       "      <td>0</td>\n",
       "      <td>0</td>\n",
       "      <td>0</td>\n",
       "    </tr>\n",
       "    <tr>\n",
       "      <th>175895</th>\n",
       "      <td>1</td>\n",
       "      <td>NaN</td>\n",
       "      <td>0</td>\n",
       "      <td>0</td>\n",
       "      <td>0</td>\n",
       "      <td>0</td>\n",
       "      <td>0</td>\n",
       "      <td>0</td>\n",
       "      <td>0</td>\n",
       "      <td>0</td>\n",
       "      <td>...</td>\n",
       "      <td>0</td>\n",
       "      <td>0</td>\n",
       "      <td>0</td>\n",
       "      <td>0</td>\n",
       "      <td>0</td>\n",
       "      <td>0</td>\n",
       "      <td>0</td>\n",
       "      <td>0</td>\n",
       "      <td>0</td>\n",
       "      <td>0</td>\n",
       "    </tr>\n",
       "  </tbody>\n",
       "</table>\n",
       "<p>5 rows × 50 columns</p>\n",
       "</div>"
      ],
      "text/plain": [
       "        Dead in 6 Months    S-Days  LungCancer  I4019  I496  I2724  I3051  \\\n",
       "ID                                                                          \n",
       "538831                 0  1.333334           0      1     0      1      1   \n",
       "476484                 0  0.000000           0      1     0      0      0   \n",
       "777073                 0  0.000000           0      0     0      0      0   \n",
       "238242                 0  0.000000           0      0     0      1      0   \n",
       "175895                 1       NaN           0      0     0      0      0   \n",
       "\n",
       "        I486  I53081  I41401  ...  I07054  I30390  I2875  IV4582  medcenter_2  \\\n",
       "ID                            ...                                               \n",
       "538831     0       1       0  ...       0       0      0       0            0   \n",
       "476484     0       1       0  ...       0       0      0       0            0   \n",
       "777073     0       0       0  ...       0       0      0       0            0   \n",
       "238242     0       0       0  ...       0       0      0       0            0   \n",
       "175895     0       0       0  ...       0       0      0       0            0   \n",
       "\n",
       "        medcenter_3  medcenter_4  medcenter_5  medcenter_6  medcenter_7  \n",
       "ID                                                                       \n",
       "538831            0            0            0            0            0  \n",
       "476484            0            0            0            0            0  \n",
       "777073            0            0            0            0            0  \n",
       "238242            0            0            0            0            0  \n",
       "175895            0            0            0            0            0  \n",
       "\n",
       "[5 rows x 50 columns]"
      ]
     },
     "execution_count": 23,
     "metadata": {},
     "output_type": "execute_result"
    }
   ],
   "source": [
    "df.head()"
   ]
  },
  {
   "cell_type": "markdown",
   "id": "strange-labor",
   "metadata": {},
   "source": [
    "I see some null values, let's drop those too."
   ]
  },
  {
   "cell_type": "code",
   "execution_count": 24,
   "id": "interior-albany",
   "metadata": {},
   "outputs": [
    {
     "data": {
      "text/plain": [
       "(700589, 50)"
      ]
     },
     "execution_count": 24,
     "metadata": {},
     "output_type": "execute_result"
    }
   ],
   "source": [
    "df = df.dropna()\n",
    "df.shape"
   ]
  },
  {
   "cell_type": "markdown",
   "id": "consolidated-spotlight",
   "metadata": {},
   "source": [
    "Create your `X` and `y`."
   ]
  },
  {
   "cell_type": "code",
   "execution_count": 25,
   "id": "divine-momentum",
   "metadata": {},
   "outputs": [
    {
     "data": {
      "text/plain": [
       "((700589, 49), (700589,))"
      ]
     },
     "execution_count": 25,
     "metadata": {},
     "output_type": "execute_result"
    }
   ],
   "source": [
    "X, y = df[[c for c in df.columns if c != 'S-Days']], df['S-Days']\n",
    "\n",
    "X.shape, y.shape"
   ]
  },
  {
   "cell_type": "markdown",
   "id": "comparative-scheduling",
   "metadata": {},
   "source": [
    "Apply linear regression."
   ]
  },
  {
   "cell_type": "code",
   "execution_count": 26,
   "id": "invalid-sarah",
   "metadata": {},
   "outputs": [
    {
     "data": {
      "text/plain": [
       "(-0.2346861402446493,\n",
       " array([ 0.71056139, -0.68318404,  0.10749041,  0.19285794,  0.12254476,\n",
       "         0.30161609,  0.25023024,  0.25255974,  0.09059173,  0.34512468,\n",
       "         0.04303098,  0.18489607,  0.43137038,  0.21238871,  0.16642979,\n",
       "         0.17940978,  0.35198414,  0.29858265,  0.51888277,  0.07999001,\n",
       "         0.48999786,  0.30304943,  0.24558814,  0.38395177,  0.19998797,\n",
       "         0.21354118,  0.14161079,  0.38028697,  0.39644764,  0.1226767 ,\n",
       "         0.29992952,  0.24649921,  0.35576579, -0.14849044,  0.30384105,\n",
       "         0.3498786 ,  0.4199639 ,  0.04807463,  0.55396408,  0.51581564,\n",
       "         0.74957829,  0.26709767,  0.21159049,  0.00557548, -0.00075857,\n",
       "         0.00318654,  0.00202615,  0.00334539,  0.00577512]))"
      ]
     },
     "execution_count": 26,
     "metadata": {},
     "output_type": "execute_result"
    }
   ],
   "source": [
    "m1 = LinearRegression()\n",
    "m1.fit(X, y)\n",
    "\n",
    "m1.intercept_, m1.coef_"
   ]
  },
  {
   "cell_type": "markdown",
   "id": "regulation-bhutan",
   "metadata": {},
   "source": [
    "Align the field names with coefficients."
   ]
  },
  {
   "cell_type": "code",
   "execution_count": 27,
   "id": "pointed-wellington",
   "metadata": {},
   "outputs": [
    {
     "data": {
      "text/plain": [
       "Dead in 6 Months    0.710561\n",
       "LungCancer         -0.683184\n",
       "I4019               0.107490\n",
       "I496                0.192858\n",
       "I2724               0.122545\n",
       "I3051               0.301616\n",
       "I486                0.250230\n",
       "I53081              0.252560\n",
       "I41401              0.090592\n",
       "I2859               0.345125\n",
       "I42731              0.043031\n",
       "I60000              0.184896\n",
       "I311                0.431370\n",
       "I49121              0.212389\n",
       "I2761               0.166430\n",
       "I4280               0.179410\n",
       "I27651              0.351984\n",
       "I2768               0.298583\n",
       "I5990               0.518883\n",
       "I40390              0.079990\n",
       "IE8497              0.489998\n",
       "I30981              0.303049\n",
       "I5859               0.245588\n",
       "I30000              0.383952\n",
       "I41400              0.199988\n",
       "I4439               0.213541\n",
       "I2449               0.141611\n",
       "I7242               0.380287\n",
       "IV5861              0.396448\n",
       "I25000              0.122677\n",
       "I42789              0.299930\n",
       "I78820              0.246499\n",
       "I2809               0.355766\n",
       "I7866              -0.148490\n",
       "I51889              0.303841\n",
       "I78659              0.349879\n",
       "I78791              0.419964\n",
       "IV4581              0.048075\n",
       "IE8490              0.553964\n",
       "I07054              0.515816\n",
       "I30390              0.749578\n",
       "I2875               0.267098\n",
       "IV4582              0.211590\n",
       "medcenter_2         0.005575\n",
       "medcenter_3        -0.000759\n",
       "medcenter_4         0.003187\n",
       "medcenter_5         0.002026\n",
       "medcenter_6         0.003345\n",
       "medcenter_7         0.005775\n",
       "dtype: float64"
      ]
     },
     "execution_count": 27,
     "metadata": {},
     "output_type": "execute_result"
    }
   ],
   "source": [
    "s = pd.Series(m1.coef_, X.columns)\n",
    "s"
   ]
  },
  {
   "cell_type": "code",
   "execution_count": 28,
   "id": "bronze-lodge",
   "metadata": {},
   "outputs": [
    {
     "data": {
      "text/plain": [
       "(7, 3)"
      ]
     },
     "execution_count": 28,
     "metadata": {},
     "output_type": "execute_result"
    }
   ],
   "source": [
    "hosp_df = pd.DataFrame({\n",
    "    'avg_travel_distance': [50, 80, 70, 70, 80, 70, 80],\n",
    "    'pct_satisfied': [79, 82, 80, 79, 79, 83, 81],\n",
    "    'y': [0] + list(m1.intercept_ - s[43:])\n",
    "}, index=[f'Hosp{i}' for i in range(1, 8)])\n",
    "\n",
    "hosp_df.shape"
   ]
  },
  {
   "cell_type": "code",
   "execution_count": 29,
   "id": "tough-introduction",
   "metadata": {},
   "outputs": [
    {
     "data": {
      "text/html": [
       "<div>\n",
       "<style scoped>\n",
       "    .dataframe tbody tr th:only-of-type {\n",
       "        vertical-align: middle;\n",
       "    }\n",
       "\n",
       "    .dataframe tbody tr th {\n",
       "        vertical-align: top;\n",
       "    }\n",
       "\n",
       "    .dataframe thead th {\n",
       "        text-align: right;\n",
       "    }\n",
       "</style>\n",
       "<table border=\"1\" class=\"dataframe\">\n",
       "  <thead>\n",
       "    <tr style=\"text-align: right;\">\n",
       "      <th></th>\n",
       "      <th>avg_travel_distance</th>\n",
       "      <th>pct_satisfied</th>\n",
       "      <th>y</th>\n",
       "    </tr>\n",
       "  </thead>\n",
       "  <tbody>\n",
       "    <tr>\n",
       "      <th>Hosp1</th>\n",
       "      <td>50</td>\n",
       "      <td>79</td>\n",
       "      <td>0.000000</td>\n",
       "    </tr>\n",
       "    <tr>\n",
       "      <th>Hosp2</th>\n",
       "      <td>80</td>\n",
       "      <td>82</td>\n",
       "      <td>-0.240262</td>\n",
       "    </tr>\n",
       "    <tr>\n",
       "      <th>Hosp3</th>\n",
       "      <td>70</td>\n",
       "      <td>80</td>\n",
       "      <td>-0.233928</td>\n",
       "    </tr>\n",
       "    <tr>\n",
       "      <th>Hosp4</th>\n",
       "      <td>70</td>\n",
       "      <td>79</td>\n",
       "      <td>-0.237873</td>\n",
       "    </tr>\n",
       "    <tr>\n",
       "      <th>Hosp5</th>\n",
       "      <td>80</td>\n",
       "      <td>79</td>\n",
       "      <td>-0.236712</td>\n",
       "    </tr>\n",
       "    <tr>\n",
       "      <th>Hosp6</th>\n",
       "      <td>70</td>\n",
       "      <td>83</td>\n",
       "      <td>-0.238032</td>\n",
       "    </tr>\n",
       "    <tr>\n",
       "      <th>Hosp7</th>\n",
       "      <td>80</td>\n",
       "      <td>81</td>\n",
       "      <td>-0.240461</td>\n",
       "    </tr>\n",
       "  </tbody>\n",
       "</table>\n",
       "</div>"
      ],
      "text/plain": [
       "       avg_travel_distance  pct_satisfied         y\n",
       "Hosp1                   50             79  0.000000\n",
       "Hosp2                   80             82 -0.240262\n",
       "Hosp3                   70             80 -0.233928\n",
       "Hosp4                   70             79 -0.237873\n",
       "Hosp5                   80             79 -0.236712\n",
       "Hosp6                   70             83 -0.238032\n",
       "Hosp7                   80             81 -0.240461"
      ]
     },
     "execution_count": 29,
     "metadata": {},
     "output_type": "execute_result"
    }
   ],
   "source": [
    "hosp_df"
   ]
  },
  {
   "cell_type": "code",
   "execution_count": 30,
   "id": "increased-drove",
   "metadata": {},
   "outputs": [
    {
     "data": {
      "text/plain": [
       "(0.7814067077284637, array([-0.00718334, -0.00587113]))"
      ]
     },
     "execution_count": 30,
     "metadata": {},
     "output_type": "execute_result"
    }
   ],
   "source": [
    "X, y = hosp_df[['avg_travel_distance', 'pct_satisfied']], hosp_df['y']\n",
    "\n",
    "m2 = LinearRegression()\n",
    "m2.fit(X, y)\n",
    "\n",
    "m2.intercept_, m2.coef_"
   ]
  },
  {
   "cell_type": "markdown",
   "id": "respected-alias",
   "metadata": {},
   "source": [
    "What can we say?\n",
    "\n",
    "- Regression 1: All medical centers have very little influence over mortality rates (very small coefficients).\n",
    "- Regression 2: Increase in average distance travel and satisfaction have very small influence as well."
   ]
  },
  {
   "cell_type": "markdown",
   "id": "divided-sending",
   "metadata": {},
   "source": [
    "## Question 3"
   ]
  },
  {
   "cell_type": "markdown",
   "id": "wanted-parker",
   "metadata": {},
   "source": [
    "Manually construct the data."
   ]
  },
  {
   "cell_type": "code",
   "execution_count": 31,
   "id": "frequent-nepal",
   "metadata": {},
   "outputs": [],
   "source": [
    "clinician_df = pd.DataFrame({\n",
    "    'previous_mi': [1, 1, 1, 1, 1, 1, 1, 1, 1, 1, 1, 0, 0, 0, 1, 1, 1, 1, 1, 1],\n",
    "    'chf': [1, 0, 1, 1, 1, 0, 1, 0, 1, 0, 1, 1, 1, 1, 1, 1, 1, 0, 0, 1],\n",
    "    'los': [6, 5, 6, 6, 6, 5, 6, 5, 6, 5, 6, 4, 4, 4, 6, 6, 6, 5, 5, 6]\n",
    "})\n",
    "\n",
    "peer_df = pd.DataFrame({\n",
    "    'previous_mi': [1, 1, 0, 0, 0, 0, 1, 1, 1, 1, 1, 0, 0, 0, 0, 0, 0, 0, 1, 1, 1, 1, 1, 0],\n",
    "    'chf': [1, 1, 1, 0, 1, 1, 1, 1, 1, 1, 1, 0, 1, 1, 1, 1, 1, 0, 0, 1, 1, 1, 0, 1],\n",
    "    'los': [5, 5, 4, 3, 4, 4, 5, 5, 5, 5, 5, 3, 4, 4, 4, 4, 4, 3, 4, 5, 5, 5, 4, 4]\n",
    "})"
   ]
  },
  {
   "cell_type": "code",
   "execution_count": 32,
   "id": "royal-windsor",
   "metadata": {},
   "outputs": [
    {
     "data": {
      "text/html": [
       "<div>\n",
       "<style scoped>\n",
       "    .dataframe tbody tr th:only-of-type {\n",
       "        vertical-align: middle;\n",
       "    }\n",
       "\n",
       "    .dataframe tbody tr th {\n",
       "        vertical-align: top;\n",
       "    }\n",
       "\n",
       "    .dataframe thead th {\n",
       "        text-align: right;\n",
       "    }\n",
       "</style>\n",
       "<table border=\"1\" class=\"dataframe\">\n",
       "  <thead>\n",
       "    <tr style=\"text-align: right;\">\n",
       "      <th></th>\n",
       "      <th>previous_mi</th>\n",
       "      <th>chf</th>\n",
       "      <th>los</th>\n",
       "    </tr>\n",
       "  </thead>\n",
       "  <tbody>\n",
       "    <tr>\n",
       "      <th>0</th>\n",
       "      <td>1</td>\n",
       "      <td>1</td>\n",
       "      <td>6</td>\n",
       "    </tr>\n",
       "    <tr>\n",
       "      <th>1</th>\n",
       "      <td>1</td>\n",
       "      <td>0</td>\n",
       "      <td>5</td>\n",
       "    </tr>\n",
       "    <tr>\n",
       "      <th>2</th>\n",
       "      <td>1</td>\n",
       "      <td>1</td>\n",
       "      <td>6</td>\n",
       "    </tr>\n",
       "    <tr>\n",
       "      <th>3</th>\n",
       "      <td>1</td>\n",
       "      <td>1</td>\n",
       "      <td>6</td>\n",
       "    </tr>\n",
       "    <tr>\n",
       "      <th>4</th>\n",
       "      <td>1</td>\n",
       "      <td>1</td>\n",
       "      <td>6</td>\n",
       "    </tr>\n",
       "  </tbody>\n",
       "</table>\n",
       "</div>"
      ],
      "text/plain": [
       "   previous_mi  chf  los\n",
       "0            1    1    6\n",
       "1            1    0    5\n",
       "2            1    1    6\n",
       "3            1    1    6\n",
       "4            1    1    6"
      ]
     },
     "execution_count": 32,
     "metadata": {},
     "output_type": "execute_result"
    }
   ],
   "source": [
    "clinician_df.head()"
   ]
  },
  {
   "cell_type": "code",
   "execution_count": 33,
   "id": "single-connecticut",
   "metadata": {},
   "outputs": [
    {
     "data": {
      "text/html": [
       "<div>\n",
       "<style scoped>\n",
       "    .dataframe tbody tr th:only-of-type {\n",
       "        vertical-align: middle;\n",
       "    }\n",
       "\n",
       "    .dataframe tbody tr th {\n",
       "        vertical-align: top;\n",
       "    }\n",
       "\n",
       "    .dataframe thead th {\n",
       "        text-align: right;\n",
       "    }\n",
       "</style>\n",
       "<table border=\"1\" class=\"dataframe\">\n",
       "  <thead>\n",
       "    <tr style=\"text-align: right;\">\n",
       "      <th></th>\n",
       "      <th>previous_mi</th>\n",
       "      <th>chf</th>\n",
       "      <th>los</th>\n",
       "    </tr>\n",
       "  </thead>\n",
       "  <tbody>\n",
       "    <tr>\n",
       "      <th>0</th>\n",
       "      <td>1</td>\n",
       "      <td>1</td>\n",
       "      <td>5</td>\n",
       "    </tr>\n",
       "    <tr>\n",
       "      <th>1</th>\n",
       "      <td>1</td>\n",
       "      <td>1</td>\n",
       "      <td>5</td>\n",
       "    </tr>\n",
       "    <tr>\n",
       "      <th>2</th>\n",
       "      <td>0</td>\n",
       "      <td>1</td>\n",
       "      <td>4</td>\n",
       "    </tr>\n",
       "    <tr>\n",
       "      <th>3</th>\n",
       "      <td>0</td>\n",
       "      <td>0</td>\n",
       "      <td>3</td>\n",
       "    </tr>\n",
       "    <tr>\n",
       "      <th>4</th>\n",
       "      <td>0</td>\n",
       "      <td>1</td>\n",
       "      <td>4</td>\n",
       "    </tr>\n",
       "  </tbody>\n",
       "</table>\n",
       "</div>"
      ],
      "text/plain": [
       "   previous_mi  chf  los\n",
       "0            1    1    5\n",
       "1            1    1    5\n",
       "2            0    1    4\n",
       "3            0    0    3\n",
       "4            0    1    4"
      ]
     },
     "execution_count": 33,
     "metadata": {},
     "output_type": "execute_result"
    }
   ],
   "source": [
    "peer_df.head()"
   ]
  },
  {
   "cell_type": "markdown",
   "id": "industrial-newfoundland",
   "metadata": {},
   "source": [
    "Regress $y \\sim X$ for each of the data sets."
   ]
  },
  {
   "cell_type": "code",
   "execution_count": 34,
   "id": "reverse-costs",
   "metadata": {},
   "outputs": [
    {
     "data": {
      "text/plain": [
       "(3.0, array([2., 1.]))"
      ]
     },
     "execution_count": 34,
     "metadata": {},
     "output_type": "execute_result"
    }
   ],
   "source": [
    "X, y = clinician_df[['previous_mi', 'chf']], clinician_df['los']\n",
    "\n",
    "m1 = LinearRegression()\n",
    "m1.fit(X, y)\n",
    "\n",
    "m1.intercept_, m1.coef_"
   ]
  },
  {
   "cell_type": "code",
   "execution_count": 35,
   "id": "quiet-celebration",
   "metadata": {},
   "outputs": [
    {
     "data": {
      "text/plain": [
       "(3.0, array([1., 1.]))"
      ]
     },
     "execution_count": 35,
     "metadata": {},
     "output_type": "execute_result"
    }
   ],
   "source": [
    "X, y = peer_df[['previous_mi', 'chf']], peer_df['los']\n",
    "\n",
    "m2 = LinearRegression()\n",
    "m2.fit(X, y)\n",
    "\n",
    "m2.intercept_, m2.coef_"
   ]
  },
  {
   "cell_type": "markdown",
   "id": "front-specification",
   "metadata": {},
   "source": [
    "Notice that the intercepts are the same? There is no difference between the two groups."
   ]
  }
 ],
 "metadata": {
  "kernelspec": {
   "display_name": "Python 3",
   "language": "python",
   "name": "python3"
  },
  "language_info": {
   "codemirror_mode": {
    "name": "ipython",
    "version": 3
   },
   "file_extension": ".py",
   "mimetype": "text/x-python",
   "name": "python",
   "nbconvert_exporter": "python",
   "pygments_lexer": "ipython3",
   "version": "3.8.5"
  },
  "widgets": {
   "application/vnd.jupyter.widget-state+json": {
    "state": {},
    "version_major": 2,
    "version_minor": 0
   }
  }
 },
 "nbformat": 4,
 "nbformat_minor": 5
}
