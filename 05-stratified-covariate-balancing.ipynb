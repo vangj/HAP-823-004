{
 "cells": [
  {
   "cell_type": "markdown",
   "id": "235fc618-19b4-413f-9edc-aa6f9a3af520",
   "metadata": {},
   "source": [
    "# Stratified Covariate Balancing\n",
    "\n",
    "From [http://openonlinecourses.com/causalanalysis/CovariateBalancing.asp](http://openonlinecourses.com/causalanalysis/CovariateBalancing.asp)."
   ]
  },
  {
   "cell_type": "markdown",
   "id": "9f205a7c-5710-486d-be4f-807b7baf5047",
   "metadata": {},
   "source": [
    "## Load Data"
   ]
  },
  {
   "cell_type": "code",
   "execution_count": 1,
   "id": "1b33ffb9-022c-48c6-a058-ee9786099f8e",
   "metadata": {
    "execution": {
     "iopub.execute_input": "2022-02-18T18:54:14.318946Z",
     "iopub.status.busy": "2022-02-18T18:54:14.318946Z",
     "iopub.status.idle": "2022-02-18T18:54:15.909985Z",
     "shell.execute_reply": "2022-02-18T18:54:15.909985Z",
     "shell.execute_reply.started": "2022-02-18T18:54:14.318946Z"
    },
    "tags": []
   },
   "outputs": [
    {
     "data": {
      "text/plain": [
       "(6657, 11)"
      ]
     },
     "execution_count": 1,
     "metadata": {},
     "output_type": "execute_result"
    }
   ],
   "source": [
    "import pandas as pd\n",
    "\n",
    "df = pd.read_excel('./Expected LOS in 10 Diseases.xlsx')\n",
    "df = df.rename(columns={\n",
    "    'Cared for by Dr Smith': 'dr_smith'\n",
    "})\n",
    "df.shape"
   ]
  },
  {
   "cell_type": "code",
   "execution_count": 2,
   "id": "3be4068f-8dd2-402c-b021-0dbeb2079471",
   "metadata": {
    "execution": {
     "iopub.execute_input": "2022-02-18T18:54:15.910985Z",
     "iopub.status.busy": "2022-02-18T18:54:15.910985Z",
     "iopub.status.idle": "2022-02-18T18:54:15.925984Z",
     "shell.execute_reply": "2022-02-18T18:54:15.925984Z",
     "shell.execute_reply.started": "2022-02-18T18:54:15.910985Z"
    },
    "tags": []
   },
   "outputs": [
    {
     "data": {
      "text/html": [
       "<div>\n",
       "<style scoped>\n",
       "    .dataframe tbody tr th:only-of-type {\n",
       "        vertical-align: middle;\n",
       "    }\n",
       "\n",
       "    .dataframe tbody tr th {\n",
       "        vertical-align: top;\n",
       "    }\n",
       "\n",
       "    .dataframe thead th {\n",
       "        text-align: right;\n",
       "    }\n",
       "</style>\n",
       "<table border=\"1\" class=\"dataframe\">\n",
       "  <thead>\n",
       "    <tr style=\"text-align: right;\">\n",
       "      <th></th>\n",
       "      <th>Hypertension</th>\n",
       "      <th>Anemia</th>\n",
       "      <th>Diabetes</th>\n",
       "      <th>HIV</th>\n",
       "      <th>Stomach Cancer</th>\n",
       "      <th>Lung Cancer</th>\n",
       "      <th>Myocardial Infarction</th>\n",
       "      <th>Heart Failure</th>\n",
       "      <th>Metastetic Cancer</th>\n",
       "      <th>dr_smith</th>\n",
       "      <th>LOS</th>\n",
       "    </tr>\n",
       "  </thead>\n",
       "  <tbody>\n",
       "    <tr>\n",
       "      <th>0</th>\n",
       "      <td>0</td>\n",
       "      <td>0</td>\n",
       "      <td>0</td>\n",
       "      <td>0</td>\n",
       "      <td>0</td>\n",
       "      <td>0</td>\n",
       "      <td>0</td>\n",
       "      <td>0</td>\n",
       "      <td>0</td>\n",
       "      <td>0</td>\n",
       "      <td>3</td>\n",
       "    </tr>\n",
       "    <tr>\n",
       "      <th>1</th>\n",
       "      <td>1</td>\n",
       "      <td>0</td>\n",
       "      <td>0</td>\n",
       "      <td>0</td>\n",
       "      <td>0</td>\n",
       "      <td>0</td>\n",
       "      <td>0</td>\n",
       "      <td>0</td>\n",
       "      <td>0</td>\n",
       "      <td>0</td>\n",
       "      <td>4</td>\n",
       "    </tr>\n",
       "    <tr>\n",
       "      <th>2</th>\n",
       "      <td>0</td>\n",
       "      <td>0</td>\n",
       "      <td>0</td>\n",
       "      <td>0</td>\n",
       "      <td>0</td>\n",
       "      <td>0</td>\n",
       "      <td>0</td>\n",
       "      <td>0</td>\n",
       "      <td>0</td>\n",
       "      <td>1</td>\n",
       "      <td>6</td>\n",
       "    </tr>\n",
       "    <tr>\n",
       "      <th>3</th>\n",
       "      <td>1</td>\n",
       "      <td>0</td>\n",
       "      <td>0</td>\n",
       "      <td>0</td>\n",
       "      <td>0</td>\n",
       "      <td>0</td>\n",
       "      <td>0</td>\n",
       "      <td>0</td>\n",
       "      <td>0</td>\n",
       "      <td>1</td>\n",
       "      <td>6</td>\n",
       "    </tr>\n",
       "    <tr>\n",
       "      <th>4</th>\n",
       "      <td>0</td>\n",
       "      <td>1</td>\n",
       "      <td>0</td>\n",
       "      <td>0</td>\n",
       "      <td>0</td>\n",
       "      <td>0</td>\n",
       "      <td>0</td>\n",
       "      <td>0</td>\n",
       "      <td>0</td>\n",
       "      <td>0</td>\n",
       "      <td>3</td>\n",
       "    </tr>\n",
       "  </tbody>\n",
       "</table>\n",
       "</div>"
      ],
      "text/plain": [
       "   Hypertension  Anemia  Diabetes  HIV  Stomach Cancer  Lung Cancer  \\\n",
       "0             0       0         0    0               0            0   \n",
       "1             1       0         0    0               0            0   \n",
       "2             0       0         0    0               0            0   \n",
       "3             1       0         0    0               0            0   \n",
       "4             0       1         0    0               0            0   \n",
       "\n",
       "   Myocardial Infarction  Heart Failure  Metastetic Cancer  dr_smith  LOS  \n",
       "0                      0              0                  0         0    3  \n",
       "1                      0              0                  0         0    4  \n",
       "2                      0              0                  0         1    6  \n",
       "3                      0              0                  0         1    6  \n",
       "4                      0              0                  0         0    3  "
      ]
     },
     "execution_count": 2,
     "metadata": {},
     "output_type": "execute_result"
    }
   ],
   "source": [
    "df.head()"
   ]
  },
  {
   "cell_type": "markdown",
   "id": "ec36764e-634e-472f-ade0-ac4659d01d5a",
   "metadata": {},
   "source": [
    "## Question 1"
   ]
  },
  {
   "cell_type": "markdown",
   "id": "1f52c48d-2cad-4ac3-b8e1-4b0e05e187db",
   "metadata": {},
   "source": [
    "### Question 1.1\n",
    "\n",
    "Simply get the `average` (or proportion of 1's) per variable for those patients treated by Dr. Smith and those that were not. Use a bar chart plot to visualize the difference."
   ]
  },
  {
   "cell_type": "code",
   "execution_count": 3,
   "id": "a96d4b15-da12-445e-ad69-8489c62576e3",
   "metadata": {
    "execution": {
     "iopub.execute_input": "2022-02-18T18:54:15.926985Z",
     "iopub.status.busy": "2022-02-18T18:54:15.926985Z",
     "iopub.status.idle": "2022-02-18T18:54:16.323554Z",
     "shell.execute_reply": "2022-02-18T18:54:16.323554Z",
     "shell.execute_reply.started": "2022-02-18T18:54:15.926985Z"
    },
    "tags": []
   },
   "outputs": [
    {
     "data": {
      "image/png": "[encoded data removed]",
      "text/plain": [
       "<Figure size 1080x288 with 1 Axes>"
      ]
     },
     "metadata": {},
     "output_type": "display_data"
    }
   ],
   "source": [
    "import matplotlib.pyplot as plt\n",
    "\n",
    "plt.style.use('ggplot')\n",
    "\n",
    "y_col = 'dr_smith'\n",
    "X_cols = [c for c in df.columns if c != y_col]\n",
    "\n",
    "_ = pd.DataFrame({\n",
    "    'smith=0': df[df[y_col] == 0][X_cols].describe().T['mean'],\n",
    "    'smith=1': df[df[y_col] == 1][X_cols].describe().T['mean']\n",
    "}).plot(kind='bar', title='Means of Variables', figsize=(15, 4))"
   ]
  },
  {
   "cell_type": "markdown",
   "id": "9a564721-e890-4694-8a5b-c7e36bab920c",
   "metadata": {},
   "source": [
    "You may also try box plots as well."
   ]
  },
  {
   "cell_type": "code",
   "execution_count": 4,
   "id": "531292e3-ab81-4a02-adea-5c9d96d45ef4",
   "metadata": {
    "execution": {
     "iopub.execute_input": "2022-02-18T18:54:16.324554Z",
     "iopub.status.busy": "2022-02-18T18:54:16.324554Z",
     "iopub.status.idle": "2022-02-18T18:54:17.327495Z",
     "shell.execute_reply": "2022-02-18T18:54:17.327495Z",
     "shell.execute_reply.started": "2022-02-18T18:54:16.324554Z"
    },
    "tags": []
   },
   "outputs": [
    {
     "data": {
      "image/png": "[encoded data removed]",
      "text/plain": [
       "<Figure size 1080x360 with 1 Axes>"
      ]
     },
     "metadata": {},
     "output_type": "display_data"
    }
   ],
   "source": [
    "import itertools\n",
    "import seaborn as sns\n",
    "\n",
    "def to_long(r):\n",
    "    smith = 'dr_smith' if r[y_col] == 1 else 'not_dr_smith'\n",
    "    \n",
    "    return [(c, smith, r[c]) for c in df.columns if c != y_col]\n",
    "\n",
    "long_df = pd.DataFrame(itertools.chain(*df.apply(to_long, axis=1)), columns=['field', 'smith', 'value'])\n",
    "\n",
    "fig, ax = plt.subplots(figsize=(15, 5))\n",
    "_ = sns.boxplot(x='field', y='value', hue='smith', data=long_df, ax=ax)"
   ]
  },
  {
   "cell_type": "markdown",
   "id": "81c4845e-5534-4c11-b406-e5a1daced695",
   "metadata": {},
   "source": [
    "This approach will draw 3 decision trees using a Decision Classifier. The 3 decision trees are different by the `max_leaf_nodes` argument (5, 10, None). The drawings will be exported into 3 PDF files."
   ]
  },
  {
   "cell_type": "code",
   "execution_count": 5,
   "id": "50e654ae-b6fd-476e-afa7-a1268bdaf129",
   "metadata": {
    "execution": {
     "iopub.execute_input": "2022-02-18T18:54:17.328496Z",
     "iopub.status.busy": "2022-02-18T18:54:17.328496Z",
     "iopub.status.idle": "2022-02-18T18:54:18.122448Z",
     "shell.execute_reply": "2022-02-18T18:54:18.122448Z",
     "shell.execute_reply.started": "2022-02-18T18:54:17.328496Z"
    },
    "tags": []
   },
   "outputs": [],
   "source": [
    "from sklearn.tree import DecisionTreeClassifier\n",
    "import graphviz \n",
    "from sklearn.tree import export_graphviz\n",
    "\n",
    "X_cols = [c for c in df.columns if c not in ['LOS', 'dr_smith']]\n",
    "y_col = 'LOS'\n",
    "    \n",
    "def learn(max_leaf_nodes):\n",
    "    X = df[X_cols]\n",
    "    y = df[y_col]\n",
    "\n",
    "    tree = DecisionTreeClassifier(random_state=37, max_leaf_nodes=max_leaf_nodes)\n",
    "    tree.fit(X, y)\n",
    "    \n",
    "    return tree\n",
    "\n",
    "def draw(tree, file_stem='drsmith'):\n",
    "    dot_data = export_graphviz(**{\n",
    "        'decision_tree': tree, \n",
    "        'out_file': None,\n",
    "        'feature_names': X_cols,\n",
    "        'filled': True,\n",
    "        'rounded': True,\n",
    "        'special_characters': True\n",
    "    })\n",
    "    graph = graphviz.Source(dot_data) \n",
    "    graph.render(file_stem)\n",
    "    \n",
    "for max_leaf_nodes in [5, 10, None]:\n",
    "    tree = learn(max_leaf_nodes)\n",
    "    draw(tree, file_stem=f'drsmith_{str(max_leaf_nodes)}')"
   ]
  },
  {
   "cell_type": "markdown",
   "id": "655d01bd-54ba-4128-84e5-dc1b8117476f",
   "metadata": {},
   "source": [
    "### Question 1.2\n",
    "\n",
    "There's 6,657 patients, and number of strata based on combination of values for each of the variables is 512."
   ]
  },
  {
   "cell_type": "code",
   "execution_count": 6,
   "id": "133e85e7-9b22-44e7-b858-e26022a273ca",
   "metadata": {
    "execution": {
     "iopub.execute_input": "2022-02-18T18:54:18.123448Z",
     "iopub.status.busy": "2022-02-18T18:54:18.123448Z",
     "iopub.status.idle": "2022-02-18T18:54:18.138447Z",
     "shell.execute_reply": "2022-02-18T18:54:18.138447Z",
     "shell.execute_reply.started": "2022-02-18T18:54:18.123448Z"
    },
    "tags": []
   },
   "outputs": [
    {
     "data": {
      "text/plain": [
       "(512, 9)"
      ]
     },
     "execution_count": 6,
     "metadata": {},
     "output_type": "execute_result"
    }
   ],
   "source": [
    "t_col = 'dr_smith'\n",
    "o_col = 'LOS'\n",
    "X_cols = [c for c in df.columns if c not in {t_col, o_col}]\n",
    "\n",
    "strata_df = df[X_cols].dropna().drop_duplicates().reset_index(drop=True)\n",
    "strata_df.shape"
   ]
  },
  {
   "cell_type": "markdown",
   "id": "e216855d-4d19-40db-bd62-d7768787e915",
   "metadata": {},
   "source": [
    "We should only be interested in each stratum that has at least 2 samples (one for being treated and one for not being treated by Dr. Smith). For each stratum, we need filter out the ones that do NOT have samples for both patients that were and were not treated by Dr. Smith. Futhermore, length of stay (LOS) is not binary but you can `binarize` this variable into 1 and 0 where a value will be mapped to 0 if it is less than or equal to 4 and 1 otherwise. "
   ]
  },
  {
   "cell_type": "code",
   "execution_count": 7,
   "id": "7e721715-a8e8-4644-867c-d9d830d07e8b",
   "metadata": {
    "execution": {
     "iopub.execute_input": "2022-02-18T18:54:18.140450Z",
     "iopub.status.busy": "2022-02-18T18:54:18.140450Z",
     "iopub.status.idle": "2022-02-18T18:54:18.154446Z",
     "shell.execute_reply": "2022-02-18T18:54:18.154446Z",
     "shell.execute_reply.started": "2022-02-18T18:54:18.140450Z"
    },
    "tags": []
   },
   "outputs": [
    {
     "data": {
      "text/plain": [
       "1     619\n",
       "2    1247\n",
       "3    1118\n",
       "4    1070\n",
       "5     959\n",
       "6     989\n",
       "7     655\n",
       "Name: LOS, dtype: int64"
      ]
     },
     "execution_count": 7,
     "metadata": {},
     "output_type": "execute_result"
    }
   ],
   "source": [
    "df.LOS.value_counts().sort_index()"
   ]
  },
  {
   "cell_type": "code",
   "execution_count": 8,
   "id": "89fb637a-8103-47bf-a4aa-384ab8ccfa04",
   "metadata": {
    "execution": {
     "iopub.execute_input": "2022-02-18T18:54:18.155449Z",
     "iopub.status.busy": "2022-02-18T18:54:18.155449Z",
     "iopub.status.idle": "2022-02-18T18:54:23.017827Z",
     "shell.execute_reply": "2022-02-18T18:54:23.017827Z",
     "shell.execute_reply.started": "2022-02-18T18:54:18.155449Z"
    },
    "tags": []
   },
   "outputs": [],
   "source": [
    "def get_query(r):\n",
    "    query = [f'`{c}` == {r[c]}' for c in strata_df.columns if c not in {'n_samples', 'query', 'drsmith=0', 'drsmith=1'}]\n",
    "    query = ' and '.join(query)\n",
    "    return query\n",
    "\n",
    "def get_count(q, dr_smith):\n",
    "    if dr_smith is not None:\n",
    "        query = f'dr_smith == {dr_smith} and {q}'\n",
    "    else:\n",
    "        query = q\n",
    "        \n",
    "    return df.query(query).shape[0]\n",
    "\n",
    "strata_df['query'] = strata_df.apply(get_query, axis=1)\n",
    "strata_df['n_samples'] = strata_df.apply(lambda r: get_count(r['query'], None), axis=1)\n",
    "strata_df['drsmith=0'] = strata_df.apply(lambda r: get_count(r['query'], 0), axis=1)\n",
    "strata_df['drsmith=1'] = strata_df.apply(lambda r: get_count(r['query'], 1), axis=1)"
   ]
  },
  {
   "cell_type": "code",
   "execution_count": 9,
   "id": "7611501f-4792-413e-9e16-4892a826a8a7",
   "metadata": {
    "execution": {
     "iopub.execute_input": "2022-02-18T18:54:23.018829Z",
     "iopub.status.busy": "2022-02-18T18:54:23.018829Z",
     "iopub.status.idle": "2022-02-18T18:54:23.033827Z",
     "shell.execute_reply": "2022-02-18T18:54:23.033827Z",
     "shell.execute_reply.started": "2022-02-18T18:54:23.018829Z"
    },
    "tags": []
   },
   "outputs": [
    {
     "data": {
      "text/html": [
       "<div>\n",
       "<style scoped>\n",
       "    .dataframe tbody tr th:only-of-type {\n",
       "        vertical-align: middle;\n",
       "    }\n",
       "\n",
       "    .dataframe tbody tr th {\n",
       "        vertical-align: top;\n",
       "    }\n",
       "\n",
       "    .dataframe thead th {\n",
       "        text-align: right;\n",
       "    }\n",
       "</style>\n",
       "<table border=\"1\" class=\"dataframe\">\n",
       "  <thead>\n",
       "    <tr style=\"text-align: right;\">\n",
       "      <th></th>\n",
       "      <th>n_samples</th>\n",
       "      <th>drsmith=0</th>\n",
       "      <th>drsmith=1</th>\n",
       "    </tr>\n",
       "  </thead>\n",
       "  <tbody>\n",
       "    <tr>\n",
       "      <th>0</th>\n",
       "      <td>19</td>\n",
       "      <td>6</td>\n",
       "      <td>13</td>\n",
       "    </tr>\n",
       "    <tr>\n",
       "      <th>1</th>\n",
       "      <td>19</td>\n",
       "      <td>6</td>\n",
       "      <td>13</td>\n",
       "    </tr>\n",
       "    <tr>\n",
       "      <th>2</th>\n",
       "      <td>19</td>\n",
       "      <td>6</td>\n",
       "      <td>13</td>\n",
       "    </tr>\n",
       "    <tr>\n",
       "      <th>3</th>\n",
       "      <td>19</td>\n",
       "      <td>6</td>\n",
       "      <td>13</td>\n",
       "    </tr>\n",
       "    <tr>\n",
       "      <th>4</th>\n",
       "      <td>19</td>\n",
       "      <td>6</td>\n",
       "      <td>13</td>\n",
       "    </tr>\n",
       "    <tr>\n",
       "      <th>...</th>\n",
       "      <td>...</td>\n",
       "      <td>...</td>\n",
       "      <td>...</td>\n",
       "    </tr>\n",
       "    <tr>\n",
       "      <th>507</th>\n",
       "      <td>17</td>\n",
       "      <td>5</td>\n",
       "      <td>12</td>\n",
       "    </tr>\n",
       "    <tr>\n",
       "      <th>508</th>\n",
       "      <td>17</td>\n",
       "      <td>5</td>\n",
       "      <td>12</td>\n",
       "    </tr>\n",
       "    <tr>\n",
       "      <th>509</th>\n",
       "      <td>17</td>\n",
       "      <td>5</td>\n",
       "      <td>12</td>\n",
       "    </tr>\n",
       "    <tr>\n",
       "      <th>510</th>\n",
       "      <td>17</td>\n",
       "      <td>5</td>\n",
       "      <td>12</td>\n",
       "    </tr>\n",
       "    <tr>\n",
       "      <th>511</th>\n",
       "      <td>17</td>\n",
       "      <td>5</td>\n",
       "      <td>12</td>\n",
       "    </tr>\n",
       "  </tbody>\n",
       "</table>\n",
       "<p>512 rows × 3 columns</p>\n",
       "</div>"
      ],
      "text/plain": [
       "     n_samples  drsmith=0  drsmith=1\n",
       "0           19          6         13\n",
       "1           19          6         13\n",
       "2           19          6         13\n",
       "3           19          6         13\n",
       "4           19          6         13\n",
       "..         ...        ...        ...\n",
       "507         17          5         12\n",
       "508         17          5         12\n",
       "509         17          5         12\n",
       "510         17          5         12\n",
       "511         17          5         12\n",
       "\n",
       "[512 rows x 3 columns]"
      ]
     },
     "execution_count": 9,
     "metadata": {},
     "output_type": "execute_result"
    }
   ],
   "source": [
    "strata_df[['n_samples', 'drsmith=0', 'drsmith=1']]"
   ]
  },
  {
   "cell_type": "markdown",
   "id": "c2b96973-0de2-4f3d-8daa-2ac1e1ef0ee1",
   "metadata": {},
   "source": [
    "Each stratum has at least one treated and untreated sample. There is no need to remove a stratum."
   ]
  },
  {
   "cell_type": "code",
   "execution_count": 10,
   "id": "e3409230-6c56-43a5-9285-34759e02e442",
   "metadata": {
    "execution": {
     "iopub.execute_input": "2022-02-18T18:54:23.034830Z",
     "iopub.status.busy": "2022-02-18T18:54:23.034830Z",
     "iopub.status.idle": "2022-02-18T18:54:23.049827Z",
     "shell.execute_reply": "2022-02-18T18:54:23.049827Z",
     "shell.execute_reply.started": "2022-02-18T18:54:23.034830Z"
    }
   },
   "outputs": [
    {
     "data": {
      "text/plain": [
       "(512, 13)"
      ]
     },
     "execution_count": 10,
     "metadata": {},
     "output_type": "execute_result"
    }
   ],
   "source": [
    "strata_df[(strata_df['drsmith=0'] > 0) & (strata_df['drsmith=1'] > 0)].shape"
   ]
  },
  {
   "cell_type": "markdown",
   "id": "65a4670b-b94a-46ab-8caf-aa9919e5e85c",
   "metadata": {},
   "source": [
    "Let's binarize the LOS column."
   ]
  },
  {
   "cell_type": "code",
   "execution_count": 11,
   "id": "48409f2e-affc-4ce4-8001-c4bbd6e848ca",
   "metadata": {
    "execution": {
     "iopub.execute_input": "2022-02-18T18:54:23.050830Z",
     "iopub.status.busy": "2022-02-18T18:54:23.050830Z",
     "iopub.status.idle": "2022-02-18T18:54:23.065924Z",
     "shell.execute_reply": "2022-02-18T18:54:23.065924Z",
     "shell.execute_reply.started": "2022-02-18T18:54:23.050830Z"
    }
   },
   "outputs": [],
   "source": [
    "df['LOS_binary'] = df['LOS'].apply(lambda los: 1 if los > 4 else 0)"
   ]
  },
  {
   "cell_type": "markdown",
   "id": "90c19ca3-5c17-48f7-826f-c0fd0d1dead4",
   "metadata": {},
   "source": [
    "Look in the book on page 386. Let's compute a, b, c, d."
   ]
  },
  {
   "cell_type": "code",
   "execution_count": 12,
   "id": "f506e898-aa31-4eae-89b4-a94975b7afb3",
   "metadata": {
    "execution": {
     "iopub.execute_input": "2022-02-18T18:54:23.066849Z",
     "iopub.status.busy": "2022-02-18T18:54:23.066849Z",
     "iopub.status.idle": "2022-02-18T18:54:32.033740Z",
     "shell.execute_reply": "2022-02-18T18:54:32.032742Z",
     "shell.execute_reply.started": "2022-02-18T18:54:23.066849Z"
    },
    "tags": []
   },
   "outputs": [],
   "source": [
    "def get_abcd(stratum, dr_smith, los):\n",
    "    return df.query(stratum) \\\n",
    "            .query(f'dr_smith == {dr_smith} and LOS_binary == {los}') \\\n",
    "            .shape[0]\n",
    "\n",
    "strata_df['a'] = strata_df.apply(lambda r: get_abcd(r['query'], 1, 1), axis=1)\n",
    "strata_df['b'] = strata_df.apply(lambda r: get_abcd(r['query'], 1, 0), axis=1)\n",
    "strata_df['c'] = strata_df.apply(lambda r: get_abcd(r['query'], 0, 1), axis=1)\n",
    "strata_df['d'] = strata_df.apply(lambda r: get_abcd(r['query'], 0, 0), axis=1)"
   ]
  },
  {
   "cell_type": "markdown",
   "id": "6b271871-1d73-4d0d-9437-46f1c7016d07",
   "metadata": {},
   "source": [
    "Let's compute L and w."
   ]
  },
  {
   "cell_type": "code",
   "execution_count": 13,
   "id": "fb6d6d7e-18a3-49f4-a4aa-bf2c2f926156",
   "metadata": {
    "execution": {
     "iopub.execute_input": "2022-02-18T18:54:32.033740Z",
     "iopub.status.busy": "2022-02-18T18:54:32.033740Z",
     "iopub.status.idle": "2022-02-18T18:54:32.063739Z",
     "shell.execute_reply": "2022-02-18T18:54:32.063739Z",
     "shell.execute_reply.started": "2022-02-18T18:54:32.033740Z"
    },
    "tags": []
   },
   "outputs": [],
   "source": [
    "import numpy as np\n",
    "\n",
    "def get_L(r):\n",
    "    adjust = lambda v: 0.5 if v == 0 else v\n",
    "    \n",
    "    a, b, c, d = r['a'], r['b'], r['c'], r['d']\n",
    "    a, b, c, d = adjust(a), adjust(b), adjust(c), adjust(d)\n",
    "    \n",
    "    ad = a * d\n",
    "    bc = b * c\n",
    "    \n",
    "    L = np.log(ad / bc)\n",
    "    return L\n",
    "\n",
    "def get_w(r):\n",
    "    adjust = lambda v: 0.5 if v == 0 else v\n",
    "    \n",
    "    a, b, c, d = r['a'], r['b'], r['c'], r['d']\n",
    "    a, b, c, d = adjust(a), adjust(b), adjust(c), adjust(d)\n",
    "    a, b, c, d = 1/a, 1/b, 1/c, 1/d\n",
    "    \n",
    "    w = 1 / (a + b + c + d)\n",
    "    return w\n",
    "    \n",
    "\n",
    "strata_df['L'] = strata_df.apply(get_L, axis=1)\n",
    "strata_df['w'] = strata_df.apply(get_w, axis=1)"
   ]
  },
  {
   "cell_type": "markdown",
   "id": "40a65afb-ff7d-4a34-89d1-1641eb8bc929",
   "metadata": {},
   "source": [
    "Let's compute R."
   ]
  },
  {
   "cell_type": "code",
   "execution_count": 14,
   "id": "5d163ddc-84bb-404d-820d-5787e8609a8e",
   "metadata": {
    "execution": {
     "iopub.execute_input": "2022-02-18T18:54:32.064738Z",
     "iopub.status.busy": "2022-02-18T18:54:32.064738Z",
     "iopub.status.idle": "2022-02-18T18:54:32.078738Z",
     "shell.execute_reply": "2022-02-18T18:54:32.078738Z",
     "shell.execute_reply.started": "2022-02-18T18:54:32.064738Z"
    },
    "tags": []
   },
   "outputs": [
    {
     "data": {
      "text/plain": [
       "-0.05309454661776104"
      ]
     },
     "execution_count": 14,
     "metadata": {},
     "output_type": "execute_result"
    }
   ],
   "source": [
    "R = np.sum(strata_df.apply(lambda r: r['w'] * r['L'], axis=1)) / np.sum(strata_df['w'])\n",
    "R"
   ]
  },
  {
   "cell_type": "markdown",
   "id": "6d69f9c5-368b-4348-b23f-35db8d5671a6",
   "metadata": {},
   "source": [
    "### Question 1.3\n",
    "\n",
    "Let's compute the odds ratio (OR)."
   ]
  },
  {
   "cell_type": "code",
   "execution_count": 15,
   "id": "10fda67e-3ad8-4535-a5f6-58b28633f91e",
   "metadata": {
    "execution": {
     "iopub.execute_input": "2022-02-18T18:54:32.079740Z",
     "iopub.status.busy": "2022-02-18T18:54:32.079740Z",
     "iopub.status.idle": "2022-02-18T18:54:32.109813Z",
     "shell.execute_reply": "2022-02-18T18:54:32.109813Z",
     "shell.execute_reply.started": "2022-02-18T18:54:32.079740Z"
    },
    "tags": []
   },
   "outputs": [
    {
     "data": {
      "text/plain": [
       "0.9923234169660415"
      ]
     },
     "execution_count": 15,
     "metadata": {},
     "output_type": "execute_result"
    }
   ],
   "source": [
    "ad = np.sum(strata_df.apply(lambda r: (r['a'] * r['d']) / (r['a'] + r['b'] + r['c'] + r['d']), axis=1))\n",
    "bc = np.sum(strata_df.apply(lambda r: (r['b'] * r['c']) / (r['a'] + r['b'] + r['c'] + r['d']), axis=1))\n",
    "\n",
    "OR = ad / bc\n",
    "OR"
   ]
  },
  {
   "cell_type": "markdown",
   "id": "e2a2e479-327c-42ac-8258-1202a6d863f5",
   "metadata": {},
   "source": [
    "Let's compute the Chi-squared value. The Chi-squared value is 650.9 with 511 degrees of freedom, and the critical value at 95% is 564.7, and so we reject the null hypothesis.\n",
    "\n",
    "- H0 (null): Being treated by Dr. Smith is not related to the outcome (LOS)\n",
    "- H1 (alternative): Being treated by Dr. Smith is related to the outcome (LOS)"
   ]
  },
  {
   "cell_type": "code",
   "execution_count": 16,
   "id": "3fcae196-e6b0-4640-a1ae-9930837217d1",
   "metadata": {
    "execution": {
     "iopub.execute_input": "2022-02-18T18:54:32.110729Z",
     "iopub.status.busy": "2022-02-18T18:54:32.110729Z",
     "iopub.status.idle": "2022-02-18T18:54:32.125001Z",
     "shell.execute_reply": "2022-02-18T18:54:32.125001Z",
     "shell.execute_reply.started": "2022-02-18T18:54:32.110729Z"
    },
    "tags": []
   },
   "outputs": [
    {
     "data": {
      "text/plain": [
       "(650.8849990388384, 511, 0.9999744476737749, 564.6961330869116, True)"
      ]
     },
     "execution_count": 16,
     "metadata": {},
     "output_type": "execute_result"
    }
   ],
   "source": [
    "from scipy.stats import chi2, norm\n",
    "\n",
    "strata_df['chi_sq'] = strata_df.apply(lambda r: r['w'] * np.power(r['L'] - R, 2.0), axis=1)\n",
    "chi_sq = np.sum(strata_df['chi_sq'])\n",
    "dof = strata_df.shape[0] - 1\n",
    "\n",
    "# chi_sq >= critical, reject\n",
    "chi_sq, dof, chi2.cdf(chi_sq, dof), chi2.ppf(0.95, dof), chi_sq >= chi2.ppf(0.95, dof)"
   ]
  },
  {
   "cell_type": "markdown",
   "id": "60852f0a-8dde-430a-b963-4ee368ff0496",
   "metadata": {},
   "source": [
    "### Question 1.4"
   ]
  },
  {
   "cell_type": "code",
   "execution_count": 18,
   "id": "88e29c3a-52ab-4f23-b275-30e8f82786f1",
   "metadata": {
    "execution": {
     "iopub.execute_input": "2022-02-18T18:54:55.300785Z",
     "iopub.status.busy": "2022-02-18T18:54:55.300785Z",
     "iopub.status.idle": "2022-02-18T18:55:02.031832Z",
     "shell.execute_reply": "2022-02-18T18:55:02.031832Z",
     "shell.execute_reply.started": "2022-02-18T18:54:55.300785Z"
    },
    "tags": []
   },
   "outputs": [],
   "source": [
    "def get_avg_outcome(stratum, y):\n",
    "    q = f'dr_smith == {y} and {stratum}'\n",
    "    n = df.query(q)['LOS'].sum()\n",
    "    total = df.query(q).shape[0]\n",
    "    y = n / total\n",
    "    return y\n",
    "\n",
    "strata_df['Y=0'] = strata_df.apply(lambda r: get_avg_outcome(r['query'], 0), axis=1)\n",
    "strata_df['Y=1'] = strata_df.apply(lambda r: get_avg_outcome(r['query'], 1), axis=1)\n",
    "strata_df['d'] = strata_df['Y=1'] - strata_df['Y=0']"
   ]
  },
  {
   "cell_type": "code",
   "execution_count": 19,
   "id": "359094cc-78ab-44b3-b2b0-000b897f063d",
   "metadata": {
    "execution": {
     "iopub.execute_input": "2022-02-18T18:55:02.032832Z",
     "iopub.status.busy": "2022-02-18T18:55:02.032832Z",
     "iopub.status.idle": "2022-02-18T18:55:02.047832Z",
     "shell.execute_reply": "2022-02-18T18:55:02.047832Z",
     "shell.execute_reply.started": "2022-02-18T18:55:02.032832Z"
    },
    "tags": []
   },
   "outputs": [
    {
     "data": {
      "text/plain": [
       "0.012543820112179499"
      ]
     },
     "execution_count": 19,
     "metadata": {},
     "output_type": "execute_result"
    }
   ],
   "source": [
    "strata_df['d'].mean()"
   ]
  },
  {
   "cell_type": "code",
   "execution_count": null,
   "id": "738ee7d0-3ac2-4653-8bdc-d365b99a0ecb",
   "metadata": {},
   "outputs": [],
   "source": []
  }
 ],
 "metadata": {
  "kernelspec": {
   "display_name": "Python 3",
   "language": "python",
   "name": "python3"
  },
  "language_info": {
   "codemirror_mode": {
    "name": "ipython",
    "version": 3
   },
   "file_extension": ".py",
   "mimetype": "text/x-python",
   "name": "python",
   "nbconvert_exporter": "python",
   "pygments_lexer": "ipython3",
   "version": "3.8.5"
  },
  "widgets": {
   "application/vnd.jupyter.widget-state+json": {
    "state": {},
    "version_major": 2,
    "version_minor": 0
   }
  }
 },
 "nbformat": 4,
 "nbformat_minor": 5
}
