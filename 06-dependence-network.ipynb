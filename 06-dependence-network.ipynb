{
 "cells": [
  {
   "cell_type": "markdown",
   "id": "910e2fdb-f2f4-429d-9859-25a80b277183",
   "metadata": {},
   "source": [
    "# Dependence Networks\n",
    "\n",
    "From [http://openonlinecourses.com/causalanalysis/ReviewIndependence.asp](http://openonlinecourses.com/causalanalysis/ReviewIndependence.asp)."
   ]
  },
  {
   "cell_type": "markdown",
   "id": "bf0eba66-d741-46d5-8b6f-9fbb305caa65",
   "metadata": {},
   "source": [
    "## Question 1.1 complete independence\n",
    "\n",
    "We are testing if `ALL` 3 variables (MD, RN, Complaint) are completely independent."
   ]
  },
  {
   "cell_type": "markdown",
   "id": "234e85d3-0469-456b-9bab-1766b72b3106",
   "metadata": {},
   "source": [
    "Load data."
   ]
  },
  {
   "cell_type": "code",
   "execution_count": 1,
   "id": "8e9d244a-a618-4ac4-849f-fe6e588c0908",
   "metadata": {
    "execution": {
     "iopub.execute_input": "2022-03-08T16:42:35.690566Z",
     "iopub.status.busy": "2022-03-08T16:42:35.689567Z",
     "iopub.status.idle": "2022-03-08T16:42:36.012107Z",
     "shell.execute_reply": "2022-03-08T16:42:36.012107Z",
     "shell.execute_reply.started": "2022-03-08T16:42:35.690566Z"
    },
    "tags": []
   },
   "outputs": [
    {
     "data": {
      "text/html": [
       "<div>\n",
       "<style scoped>\n",
       "    .dataframe tbody tr th:only-of-type {\n",
       "        vertical-align: middle;\n",
       "    }\n",
       "\n",
       "    .dataframe tbody tr th {\n",
       "        vertical-align: top;\n",
       "    }\n",
       "\n",
       "    .dataframe thead th {\n",
       "        text-align: right;\n",
       "    }\n",
       "</style>\n",
       "<table border=\"1\" class=\"dataframe\">\n",
       "  <thead>\n",
       "    <tr style=\"text-align: right;\">\n",
       "      <th></th>\n",
       "      <th>MD</th>\n",
       "      <th>RN</th>\n",
       "      <th>Complaint</th>\n",
       "      <th>Observed</th>\n",
       "    </tr>\n",
       "  </thead>\n",
       "  <tbody>\n",
       "    <tr>\n",
       "      <th>0</th>\n",
       "      <td>George</td>\n",
       "      <td>Jim</td>\n",
       "      <td>Yes</td>\n",
       "      <td>53</td>\n",
       "    </tr>\n",
       "    <tr>\n",
       "      <th>1</th>\n",
       "      <td>George</td>\n",
       "      <td>Jim</td>\n",
       "      <td>No</td>\n",
       "      <td>424</td>\n",
       "    </tr>\n",
       "    <tr>\n",
       "      <th>2</th>\n",
       "      <td>George</td>\n",
       "      <td>Jill</td>\n",
       "      <td>Yes</td>\n",
       "      <td>11</td>\n",
       "    </tr>\n",
       "    <tr>\n",
       "      <th>3</th>\n",
       "      <td>George</td>\n",
       "      <td>Jill</td>\n",
       "      <td>No</td>\n",
       "      <td>37</td>\n",
       "    </tr>\n",
       "    <tr>\n",
       "      <th>4</th>\n",
       "      <td>Smith</td>\n",
       "      <td>Jim</td>\n",
       "      <td>Yes</td>\n",
       "      <td>0</td>\n",
       "    </tr>\n",
       "    <tr>\n",
       "      <th>5</th>\n",
       "      <td>Smith</td>\n",
       "      <td>Jim</td>\n",
       "      <td>No</td>\n",
       "      <td>18</td>\n",
       "    </tr>\n",
       "    <tr>\n",
       "      <th>6</th>\n",
       "      <td>Smith</td>\n",
       "      <td>Jill</td>\n",
       "      <td>Yes</td>\n",
       "      <td>4</td>\n",
       "    </tr>\n",
       "    <tr>\n",
       "      <th>7</th>\n",
       "      <td>Smith</td>\n",
       "      <td>Jill</td>\n",
       "      <td>No</td>\n",
       "      <td>139</td>\n",
       "    </tr>\n",
       "  </tbody>\n",
       "</table>\n",
       "</div>"
      ],
      "text/plain": [
       "       MD    RN Complaint  Observed\n",
       "0  George   Jim       Yes        53\n",
       "1  George   Jim        No       424\n",
       "2  George  Jill       Yes        11\n",
       "3  George  Jill        No        37\n",
       "4   Smith   Jim       Yes         0\n",
       "5   Smith   Jim        No        18\n",
       "6   Smith  Jill       Yes         4\n",
       "7   Smith  Jill        No       139"
      ]
     },
     "execution_count": 1,
     "metadata": {},
     "output_type": "execute_result"
    }
   ],
   "source": [
    "import pandas as pd\n",
    "\n",
    "df = pd.DataFrame({\n",
    "    'MD': ['George'] * 4 + ['Smith'] * 4,\n",
    "    'RN': ['Jim', 'Jim', 'Jill', 'Jill'] * 2,\n",
    "    'Complaint': ['Yes', 'No'] * 4,\n",
    "    'Observed': [53, 424, 11, 37, 0, 18, 4, 139]\n",
    "})\n",
    "\n",
    "df"
   ]
  },
  {
   "cell_type": "markdown",
   "id": "b7dcb436-d1fa-46ba-9f64-ee97329f8cd1",
   "metadata": {},
   "source": [
    "Compute the `expected` (here, called `Predicted`) values."
   ]
  },
  {
   "cell_type": "code",
   "execution_count": 2,
   "id": "96b796bb-63c7-4acf-a110-7c70dd460fe1",
   "metadata": {
    "execution": {
     "iopub.execute_input": "2022-03-08T16:42:36.013107Z",
     "iopub.status.busy": "2022-03-08T16:42:36.013107Z",
     "iopub.status.idle": "2022-03-08T16:42:36.044107Z",
     "shell.execute_reply": "2022-03-08T16:42:36.044107Z",
     "shell.execute_reply.started": "2022-03-08T16:42:36.013107Z"
    },
    "tags": []
   },
   "outputs": [
    {
     "data": {
      "text/html": [
       "<div>\n",
       "<style scoped>\n",
       "    .dataframe tbody tr th:only-of-type {\n",
       "        vertical-align: middle;\n",
       "    }\n",
       "\n",
       "    .dataframe tbody tr th {\n",
       "        vertical-align: top;\n",
       "    }\n",
       "\n",
       "    .dataframe thead th {\n",
       "        text-align: right;\n",
       "    }\n",
       "</style>\n",
       "<table border=\"1\" class=\"dataframe\">\n",
       "  <thead>\n",
       "    <tr style=\"text-align: right;\">\n",
       "      <th></th>\n",
       "      <th>MD</th>\n",
       "      <th>RN</th>\n",
       "      <th>Complaint</th>\n",
       "      <th>Observed</th>\n",
       "      <th>Predicted</th>\n",
       "    </tr>\n",
       "  </thead>\n",
       "  <tbody>\n",
       "    <tr>\n",
       "      <th>0</th>\n",
       "      <td>George</td>\n",
       "      <td>Jim</td>\n",
       "      <td>Yes</td>\n",
       "      <td>53</td>\n",
       "      <td>37.551318</td>\n",
       "    </tr>\n",
       "    <tr>\n",
       "      <th>1</th>\n",
       "      <td>George</td>\n",
       "      <td>Jim</td>\n",
       "      <td>No</td>\n",
       "      <td>424</td>\n",
       "      <td>341.275213</td>\n",
       "    </tr>\n",
       "    <tr>\n",
       "      <th>2</th>\n",
       "      <td>George</td>\n",
       "      <td>Jill</td>\n",
       "      <td>Yes</td>\n",
       "      <td>11</td>\n",
       "      <td>14.489498</td>\n",
       "    </tr>\n",
       "    <tr>\n",
       "      <th>3</th>\n",
       "      <td>George</td>\n",
       "      <td>Jill</td>\n",
       "      <td>No</td>\n",
       "      <td>37</td>\n",
       "      <td>131.683971</td>\n",
       "    </tr>\n",
       "    <tr>\n",
       "      <th>4</th>\n",
       "      <td>Smith</td>\n",
       "      <td>Jim</td>\n",
       "      <td>Yes</td>\n",
       "      <td>0</td>\n",
       "      <td>11.515737</td>\n",
       "    </tr>\n",
       "    <tr>\n",
       "      <th>5</th>\n",
       "      <td>Smith</td>\n",
       "      <td>Jim</td>\n",
       "      <td>No</td>\n",
       "      <td>18</td>\n",
       "      <td>104.657732</td>\n",
       "    </tr>\n",
       "    <tr>\n",
       "      <th>6</th>\n",
       "      <td>Smith</td>\n",
       "      <td>Jill</td>\n",
       "      <td>Yes</td>\n",
       "      <td>4</td>\n",
       "      <td>4.443446</td>\n",
       "    </tr>\n",
       "    <tr>\n",
       "      <th>7</th>\n",
       "      <td>Smith</td>\n",
       "      <td>Jill</td>\n",
       "      <td>No</td>\n",
       "      <td>139</td>\n",
       "      <td>40.383084</td>\n",
       "    </tr>\n",
       "  </tbody>\n",
       "</table>\n",
       "</div>"
      ],
      "text/plain": [
       "       MD    RN Complaint  Observed   Predicted\n",
       "0  George   Jim       Yes        53   37.551318\n",
       "1  George   Jim        No       424  341.275213\n",
       "2  George  Jill       Yes        11   14.489498\n",
       "3  George  Jill        No        37  131.683971\n",
       "4   Smith   Jim       Yes         0   11.515737\n",
       "5   Smith   Jim        No        18  104.657732\n",
       "6   Smith  Jill       Yes         4    4.443446\n",
       "7   Smith  Jill        No       139   40.383084"
      ]
     },
     "execution_count": 2,
     "metadata": {},
     "output_type": "execute_result"
    }
   ],
   "source": [
    "from functools import reduce\n",
    "\n",
    "def get_count(field, val):\n",
    "    return df[df[field] == val]['Observed'].sum()\n",
    "\n",
    "def get_expected(r):\n",
    "    counts = [get_count(f, r[f]) for f in ['MD', 'RN', 'Complaint']]\n",
    "    n = df['Observed'].sum()\n",
    "    expected = reduce(lambda a, b: a * b, counts) / (n * n)\n",
    "    return expected\n",
    "    \n",
    "df['Predicted'] = df.apply(get_expected, axis=1)\n",
    "df"
   ]
  },
  {
   "cell_type": "markdown",
   "id": "08d48875-daf4-4420-9c67-f83f3c6e6c87",
   "metadata": {},
   "source": [
    "Compute the $\\chi^2$ value."
   ]
  },
  {
   "cell_type": "code",
   "execution_count": 3,
   "id": "989c694f-9e89-49a1-b357-2c579a4527ee",
   "metadata": {
    "execution": {
     "iopub.execute_input": "2022-03-08T16:42:36.045106Z",
     "iopub.status.busy": "2022-03-08T16:42:36.045106Z",
     "iopub.status.idle": "2022-03-08T16:42:36.060106Z",
     "shell.execute_reply": "2022-03-08T16:42:36.060106Z",
     "shell.execute_reply.started": "2022-03-08T16:42:36.045106Z"
    },
    "tags": []
   },
   "outputs": [
    {
     "data": {
      "text/plain": [
       "419.4679873479184"
      ]
     },
     "execution_count": 3,
     "metadata": {},
     "output_type": "execute_result"
    }
   ],
   "source": [
    "import numpy as np\n",
    "\n",
    "def diff_sq(r):\n",
    "    return np.power(r['Observed'] - r['Predicted'], 2) / r['Predicted']\n",
    "\n",
    "chi_sq = df.apply(diff_sq, axis=1).sum()\n",
    "chi_sq"
   ]
  },
  {
   "cell_type": "markdown",
   "id": "9ceb40ef-4c13-41a9-92ff-9c460953f447",
   "metadata": {},
   "source": [
    "Compute the degrees of freedom."
   ]
  },
  {
   "cell_type": "code",
   "execution_count": 4,
   "id": "cad2556f-cfe2-4576-94ea-aa39db482486",
   "metadata": {
    "execution": {
     "iopub.execute_input": "2022-03-08T16:42:36.061106Z",
     "iopub.status.busy": "2022-03-08T16:42:36.061106Z",
     "iopub.status.idle": "2022-03-08T16:42:36.075848Z",
     "shell.execute_reply": "2022-03-08T16:42:36.075483Z",
     "shell.execute_reply.started": "2022-03-08T16:42:36.061106Z"
    },
    "tags": []
   },
   "outputs": [
    {
     "data": {
      "text/plain": [
       "4"
      ]
     },
     "execution_count": 4,
     "metadata": {},
     "output_type": "execute_result"
    }
   ],
   "source": [
    "def get_dof():\n",
    "    num_values = [len(df[f].unique()) for f in ['MD', 'RN', 'Complaint']]\n",
    "    IJK = reduce(lambda a, b: a * b, num_values)\n",
    "    dof = [IJK] + [-n for n in num_values] + [2]\n",
    "    \n",
    "    return sum(dof)\n",
    "\n",
    "dof = get_dof()\n",
    "dof"
   ]
  },
  {
   "cell_type": "markdown",
   "id": "7e9a4b93-5bf0-423a-b594-c512ff69d447",
   "metadata": {},
   "source": [
    "There's many ways to compute the p-value. This approach below uses the observed and expected (Predicted) values directly with the `chisquare` function."
   ]
  },
  {
   "cell_type": "code",
   "execution_count": 5,
   "id": "1ef47990-9255-4237-aec6-43800587c08e",
   "metadata": {
    "execution": {
     "iopub.execute_input": "2022-03-08T16:42:36.076850Z",
     "iopub.status.busy": "2022-03-08T16:42:36.076850Z",
     "iopub.status.idle": "2022-03-08T16:42:36.452844Z",
     "shell.execute_reply": "2022-03-08T16:42:36.452844Z",
     "shell.execute_reply.started": "2022-03-08T16:42:36.076850Z"
    },
    "tags": []
   },
   "outputs": [
    {
     "data": {
      "text/plain": [
       "Power_divergenceResult(statistic=419.4679873479184, pvalue=1.342780486250113e-90)"
      ]
     },
     "execution_count": 5,
     "metadata": {},
     "output_type": "execute_result"
    }
   ],
   "source": [
    "from scipy.stats import chisquare\n",
    "\n",
    "chisquare(df['Observed'], df['Predicted'], ddof=dof)"
   ]
  },
  {
   "cell_type": "markdown",
   "id": "b7e9829c-5dbc-4664-9970-2f5d230c2120",
   "metadata": {},
   "source": [
    "But, since we already have the $\\chi^2$ value and degrees of freedom, we can use the `chi2.cdf` function."
   ]
  },
  {
   "cell_type": "code",
   "execution_count": 6,
   "id": "b10e113f-fbe9-43cb-98e2-8e3579d047d0",
   "metadata": {
    "execution": {
     "iopub.execute_input": "2022-03-08T16:42:36.453849Z",
     "iopub.status.busy": "2022-03-08T16:42:36.453849Z",
     "iopub.status.idle": "2022-03-08T16:42:36.468845Z",
     "shell.execute_reply": "2022-03-08T16:42:36.468845Z",
     "shell.execute_reply.started": "2022-03-08T16:42:36.453849Z"
    },
    "tags": []
   },
   "outputs": [
    {
     "data": {
      "text/plain": [
       "0.0"
      ]
     },
     "execution_count": 6,
     "metadata": {},
     "output_type": "execute_result"
    }
   ],
   "source": [
    "from scipy.stats import chi2\n",
    "\n",
    "1 - chi2.cdf(chi_sq, dof)"
   ]
  },
  {
   "cell_type": "markdown",
   "id": "8648c97f-65b7-4bf4-bfa4-e583ab0f8ef4",
   "metadata": {},
   "source": [
    "## Question 1.2\n",
    "\n",
    "We are testing if two variables, `I` and `J` are independent givent a third, `K`."
   ]
  },
  {
   "cell_type": "markdown",
   "id": "3a797803-631a-4b3f-88ae-b49e1a398513",
   "metadata": {},
   "source": [
    "### Question 1.2.1 INDEP(MD, RN | Complaint)?\n",
    "\n",
    "- I = MD\n",
    "- J = RN\n",
    "- K = Complaint"
   ]
  },
  {
   "cell_type": "code",
   "execution_count": 7,
   "id": "f6df9012-e922-4471-a7c0-3623cb2adad7",
   "metadata": {
    "execution": {
     "iopub.execute_input": "2022-03-08T16:42:36.470847Z",
     "iopub.status.busy": "2022-03-08T16:42:36.470847Z",
     "iopub.status.idle": "2022-03-08T16:42:36.500845Z",
     "shell.execute_reply": "2022-03-08T16:42:36.500845Z",
     "shell.execute_reply.started": "2022-03-08T16:42:36.470847Z"
    },
    "tags": []
   },
   "outputs": [
    {
     "data": {
      "text/html": [
       "<div>\n",
       "<style scoped>\n",
       "    .dataframe tbody tr th:only-of-type {\n",
       "        vertical-align: middle;\n",
       "    }\n",
       "\n",
       "    .dataframe tbody tr th {\n",
       "        vertical-align: top;\n",
       "    }\n",
       "\n",
       "    .dataframe thead th {\n",
       "        text-align: right;\n",
       "    }\n",
       "</style>\n",
       "<table border=\"1\" class=\"dataframe\">\n",
       "  <thead>\n",
       "    <tr style=\"text-align: right;\">\n",
       "      <th></th>\n",
       "      <th>MD</th>\n",
       "      <th>RN</th>\n",
       "      <th>Complaint</th>\n",
       "      <th>Observed</th>\n",
       "      <th>Predicted</th>\n",
       "    </tr>\n",
       "  </thead>\n",
       "  <tbody>\n",
       "    <tr>\n",
       "      <th>0</th>\n",
       "      <td>George</td>\n",
       "      <td>Jim</td>\n",
       "      <td>Yes</td>\n",
       "      <td>53</td>\n",
       "      <td>47.282799</td>\n",
       "    </tr>\n",
       "    <tr>\n",
       "      <th>1</th>\n",
       "      <td>George</td>\n",
       "      <td>Jim</td>\n",
       "      <td>No</td>\n",
       "      <td>424</td>\n",
       "      <td>429.717201</td>\n",
       "    </tr>\n",
       "    <tr>\n",
       "      <th>2</th>\n",
       "      <td>George</td>\n",
       "      <td>Jill</td>\n",
       "      <td>Yes</td>\n",
       "      <td>11</td>\n",
       "      <td>4.758017</td>\n",
       "    </tr>\n",
       "    <tr>\n",
       "      <th>3</th>\n",
       "      <td>George</td>\n",
       "      <td>Jill</td>\n",
       "      <td>No</td>\n",
       "      <td>37</td>\n",
       "      <td>43.241983</td>\n",
       "    </tr>\n",
       "    <tr>\n",
       "      <th>4</th>\n",
       "      <td>Smith</td>\n",
       "      <td>Jim</td>\n",
       "      <td>Yes</td>\n",
       "      <td>0</td>\n",
       "      <td>1.784257</td>\n",
       "    </tr>\n",
       "    <tr>\n",
       "      <th>5</th>\n",
       "      <td>Smith</td>\n",
       "      <td>Jim</td>\n",
       "      <td>No</td>\n",
       "      <td>18</td>\n",
       "      <td>16.215743</td>\n",
       "    </tr>\n",
       "    <tr>\n",
       "      <th>6</th>\n",
       "      <td>Smith</td>\n",
       "      <td>Jill</td>\n",
       "      <td>Yes</td>\n",
       "      <td>4</td>\n",
       "      <td>14.174927</td>\n",
       "    </tr>\n",
       "    <tr>\n",
       "      <th>7</th>\n",
       "      <td>Smith</td>\n",
       "      <td>Jill</td>\n",
       "      <td>No</td>\n",
       "      <td>139</td>\n",
       "      <td>128.825073</td>\n",
       "    </tr>\n",
       "  </tbody>\n",
       "</table>\n",
       "</div>"
      ],
      "text/plain": [
       "       MD    RN Complaint  Observed   Predicted\n",
       "0  George   Jim       Yes        53   47.282799\n",
       "1  George   Jim        No       424  429.717201\n",
       "2  George  Jill       Yes        11    4.758017\n",
       "3  George  Jill        No        37   43.241983\n",
       "4   Smith   Jim       Yes         0    1.784257\n",
       "5   Smith   Jim        No        18   16.215743\n",
       "6   Smith  Jill       Yes         4   14.174927\n",
       "7   Smith  Jill        No       139  128.825073"
      ]
     },
     "execution_count": 7,
     "metadata": {},
     "output_type": "execute_result"
    }
   ],
   "source": [
    "def get_expected(r, i, j, k):\n",
    "    Y_ij_ = df[(df[i]==r[i]) & (df[j]==r[j])]['Observed'].sum()\n",
    "    Y___k = df[df[k]==r[k]]['Observed'].sum()\n",
    "    n = df['Observed'].sum()\n",
    "    \n",
    "    expected = Y_ij_ * Y___k / n\n",
    "    return expected\n",
    "\n",
    "df['Predicted'] = df.apply(lambda r: get_expected(r, 'MD', 'RN', 'Complaint'), axis=1)\n",
    "df"
   ]
  },
  {
   "cell_type": "code",
   "execution_count": 8,
   "id": "bb1e7394-1897-4439-9e44-b21a44cf1fd3",
   "metadata": {
    "execution": {
     "iopub.execute_input": "2022-03-08T16:42:36.502848Z",
     "iopub.status.busy": "2022-03-08T16:42:36.501847Z",
     "iopub.status.idle": "2022-03-08T16:42:36.516845Z",
     "shell.execute_reply": "2022-03-08T16:42:36.516845Z",
     "shell.execute_reply.started": "2022-03-08T16:42:36.502848Z"
    },
    "tags": []
   },
   "outputs": [
    {
     "data": {
      "text/plain": [
       "Power_divergenceResult(statistic=19.945072739172545, pvalue=0.0001742500389547796)"
      ]
     },
     "execution_count": 8,
     "metadata": {},
     "output_type": "execute_result"
    }
   ],
   "source": [
    "def get_dof(i, j, k):\n",
    "    I = len(df[i].unique())\n",
    "    J = len(df[j].unique())\n",
    "    K = len(df[k].unique())\n",
    "    IJK = I * J * K\n",
    "    \n",
    "    dof = (IJK - 1) - ((I-1) + (J-1) + (K-1))\n",
    "    \n",
    "    return dof\n",
    "\n",
    "chisquare(df['Observed'], df['Predicted'], ddof=get_dof('MD', 'RN', 'Complaint'))"
   ]
  },
  {
   "cell_type": "markdown",
   "id": "f726d877-156a-4c77-978e-86cb39e0c673",
   "metadata": {
    "execution": {
     "iopub.execute_input": "2022-03-07T23:31:32.010152Z",
     "iopub.status.busy": "2022-03-07T23:31:32.010152Z",
     "iopub.status.idle": "2022-03-07T23:31:32.020152Z",
     "shell.execute_reply": "2022-03-07T23:31:32.019154Z",
     "shell.execute_reply.started": "2022-03-07T23:31:32.010152Z"
    }
   },
   "source": [
    "### Question 1.2.2 INDEP(MD, COMPLAINT | RN)?\n",
    "\n",
    "- I = MD\n",
    "- J = Complaint\n",
    "- K = RN"
   ]
  },
  {
   "cell_type": "code",
   "execution_count": 9,
   "id": "77c32303-c4e6-475e-bdc1-4fa162911f7c",
   "metadata": {
    "execution": {
     "iopub.execute_input": "2022-03-08T16:42:36.517848Z",
     "iopub.status.busy": "2022-03-08T16:42:36.517848Z",
     "iopub.status.idle": "2022-03-08T16:42:36.547889Z",
     "shell.execute_reply": "2022-03-08T16:42:36.547889Z",
     "shell.execute_reply.started": "2022-03-08T16:42:36.517848Z"
    }
   },
   "outputs": [
    {
     "data": {
      "text/html": [
       "<div>\n",
       "<style scoped>\n",
       "    .dataframe tbody tr th:only-of-type {\n",
       "        vertical-align: middle;\n",
       "    }\n",
       "\n",
       "    .dataframe tbody tr th {\n",
       "        vertical-align: top;\n",
       "    }\n",
       "\n",
       "    .dataframe thead th {\n",
       "        text-align: right;\n",
       "    }\n",
       "</style>\n",
       "<table border=\"1\" class=\"dataframe\">\n",
       "  <thead>\n",
       "    <tr style=\"text-align: right;\">\n",
       "      <th></th>\n",
       "      <th>MD</th>\n",
       "      <th>RN</th>\n",
       "      <th>Complaint</th>\n",
       "      <th>Observed</th>\n",
       "      <th>Predicted</th>\n",
       "    </tr>\n",
       "  </thead>\n",
       "  <tbody>\n",
       "    <tr>\n",
       "      <th>0</th>\n",
       "      <td>George</td>\n",
       "      <td>Jim</td>\n",
       "      <td>Yes</td>\n",
       "      <td>53</td>\n",
       "      <td>46.180758</td>\n",
       "    </tr>\n",
       "    <tr>\n",
       "      <th>1</th>\n",
       "      <td>George</td>\n",
       "      <td>Jim</td>\n",
       "      <td>No</td>\n",
       "      <td>424</td>\n",
       "      <td>332.645773</td>\n",
       "    </tr>\n",
       "    <tr>\n",
       "      <th>2</th>\n",
       "      <td>George</td>\n",
       "      <td>Jill</td>\n",
       "      <td>Yes</td>\n",
       "      <td>11</td>\n",
       "      <td>17.819242</td>\n",
       "    </tr>\n",
       "    <tr>\n",
       "      <th>3</th>\n",
       "      <td>George</td>\n",
       "      <td>Jill</td>\n",
       "      <td>No</td>\n",
       "      <td>37</td>\n",
       "      <td>128.354227</td>\n",
       "    </tr>\n",
       "    <tr>\n",
       "      <th>4</th>\n",
       "      <td>Smith</td>\n",
       "      <td>Jim</td>\n",
       "      <td>Yes</td>\n",
       "      <td>0</td>\n",
       "      <td>2.886297</td>\n",
       "    </tr>\n",
       "    <tr>\n",
       "      <th>5</th>\n",
       "      <td>Smith</td>\n",
       "      <td>Jim</td>\n",
       "      <td>No</td>\n",
       "      <td>18</td>\n",
       "      <td>113.287172</td>\n",
       "    </tr>\n",
       "    <tr>\n",
       "      <th>6</th>\n",
       "      <td>Smith</td>\n",
       "      <td>Jill</td>\n",
       "      <td>Yes</td>\n",
       "      <td>4</td>\n",
       "      <td>1.113703</td>\n",
       "    </tr>\n",
       "    <tr>\n",
       "      <th>7</th>\n",
       "      <td>Smith</td>\n",
       "      <td>Jill</td>\n",
       "      <td>No</td>\n",
       "      <td>139</td>\n",
       "      <td>43.712828</td>\n",
       "    </tr>\n",
       "  </tbody>\n",
       "</table>\n",
       "</div>"
      ],
      "text/plain": [
       "       MD    RN Complaint  Observed   Predicted\n",
       "0  George   Jim       Yes        53   46.180758\n",
       "1  George   Jim        No       424  332.645773\n",
       "2  George  Jill       Yes        11   17.819242\n",
       "3  George  Jill        No        37  128.354227\n",
       "4   Smith   Jim       Yes         0    2.886297\n",
       "5   Smith   Jim        No        18  113.287172\n",
       "6   Smith  Jill       Yes         4    1.113703\n",
       "7   Smith  Jill        No       139   43.712828"
      ]
     },
     "execution_count": 9,
     "metadata": {},
     "output_type": "execute_result"
    }
   ],
   "source": [
    "df['Predicted'] = df.apply(lambda r: get_expected(r, 'MD', 'Complaint', 'RN'), axis=1)\n",
    "df"
   ]
  },
  {
   "cell_type": "code",
   "execution_count": 10,
   "id": "e06352a5-bea1-462f-9716-489b34c5c243",
   "metadata": {
    "execution": {
     "iopub.execute_input": "2022-03-08T16:42:36.548891Z",
     "iopub.status.busy": "2022-03-08T16:42:36.548891Z",
     "iopub.status.idle": "2022-03-08T16:42:36.563887Z",
     "shell.execute_reply": "2022-03-08T16:42:36.563887Z",
     "shell.execute_reply.started": "2022-03-08T16:42:36.548891Z"
    }
   },
   "outputs": [
    {
     "data": {
      "text/plain": [
       "Power_divergenceResult(statistic=391.950049303092, pvalue=1.2268386569229332e-84)"
      ]
     },
     "execution_count": 10,
     "metadata": {},
     "output_type": "execute_result"
    }
   ],
   "source": [
    "chisquare(df['Observed'], df['Predicted'], ddof=get_dof('MD', 'Complaint', 'RN'))"
   ]
  },
  {
   "cell_type": "markdown",
   "id": "7b1d025d-ae77-4a8c-814a-66728551e214",
   "metadata": {},
   "source": [
    "### Question 1.2.3 INDEP(RN, COMPLAINT | MD)?\n",
    "\n",
    "- I = RN\n",
    "- J = Complaint\n",
    "- K = MD"
   ]
  },
  {
   "cell_type": "code",
   "execution_count": 11,
   "id": "2baeeffe-634b-4efa-b198-ff87d46ce065",
   "metadata": {
    "execution": {
     "iopub.execute_input": "2022-03-08T16:42:36.564891Z",
     "iopub.status.busy": "2022-03-08T16:42:36.564891Z",
     "iopub.status.idle": "2022-03-08T16:42:36.594889Z",
     "shell.execute_reply": "2022-03-08T16:42:36.594889Z",
     "shell.execute_reply.started": "2022-03-08T16:42:36.564891Z"
    }
   },
   "outputs": [
    {
     "data": {
      "text/html": [
       "<div>\n",
       "<style scoped>\n",
       "    .dataframe tbody tr th:only-of-type {\n",
       "        vertical-align: middle;\n",
       "    }\n",
       "\n",
       "    .dataframe tbody tr th {\n",
       "        vertical-align: top;\n",
       "    }\n",
       "\n",
       "    .dataframe thead th {\n",
       "        text-align: right;\n",
       "    }\n",
       "</style>\n",
       "<table border=\"1\" class=\"dataframe\">\n",
       "  <thead>\n",
       "    <tr style=\"text-align: right;\">\n",
       "      <th></th>\n",
       "      <th>MD</th>\n",
       "      <th>RN</th>\n",
       "      <th>Complaint</th>\n",
       "      <th>Observed</th>\n",
       "      <th>Predicted</th>\n",
       "    </tr>\n",
       "  </thead>\n",
       "  <tbody>\n",
       "    <tr>\n",
       "      <th>0</th>\n",
       "      <td>George</td>\n",
       "      <td>Jim</td>\n",
       "      <td>Yes</td>\n",
       "      <td>53</td>\n",
       "      <td>40.561224</td>\n",
       "    </tr>\n",
       "    <tr>\n",
       "      <th>1</th>\n",
       "      <td>George</td>\n",
       "      <td>Jim</td>\n",
       "      <td>No</td>\n",
       "      <td>424</td>\n",
       "      <td>338.265306</td>\n",
       "    </tr>\n",
       "    <tr>\n",
       "      <th>2</th>\n",
       "      <td>George</td>\n",
       "      <td>Jill</td>\n",
       "      <td>Yes</td>\n",
       "      <td>11</td>\n",
       "      <td>11.479592</td>\n",
       "    </tr>\n",
       "    <tr>\n",
       "      <th>3</th>\n",
       "      <td>George</td>\n",
       "      <td>Jill</td>\n",
       "      <td>No</td>\n",
       "      <td>37</td>\n",
       "      <td>134.693878</td>\n",
       "    </tr>\n",
       "    <tr>\n",
       "      <th>4</th>\n",
       "      <td>Smith</td>\n",
       "      <td>Jim</td>\n",
       "      <td>Yes</td>\n",
       "      <td>0</td>\n",
       "      <td>12.438776</td>\n",
       "    </tr>\n",
       "    <tr>\n",
       "      <th>5</th>\n",
       "      <td>Smith</td>\n",
       "      <td>Jim</td>\n",
       "      <td>No</td>\n",
       "      <td>18</td>\n",
       "      <td>103.734694</td>\n",
       "    </tr>\n",
       "    <tr>\n",
       "      <th>6</th>\n",
       "      <td>Smith</td>\n",
       "      <td>Jill</td>\n",
       "      <td>Yes</td>\n",
       "      <td>4</td>\n",
       "      <td>3.520408</td>\n",
       "    </tr>\n",
       "    <tr>\n",
       "      <th>7</th>\n",
       "      <td>Smith</td>\n",
       "      <td>Jill</td>\n",
       "      <td>No</td>\n",
       "      <td>139</td>\n",
       "      <td>41.306122</td>\n",
       "    </tr>\n",
       "  </tbody>\n",
       "</table>\n",
       "</div>"
      ],
      "text/plain": [
       "       MD    RN Complaint  Observed   Predicted\n",
       "0  George   Jim       Yes        53   40.561224\n",
       "1  George   Jim        No       424  338.265306\n",
       "2  George  Jill       Yes        11   11.479592\n",
       "3  George  Jill        No        37  134.693878\n",
       "4   Smith   Jim       Yes         0   12.438776\n",
       "5   Smith   Jim        No        18  103.734694\n",
       "6   Smith  Jill       Yes         4    3.520408\n",
       "7   Smith  Jill        No       139   41.306122"
      ]
     },
     "execution_count": 11,
     "metadata": {},
     "output_type": "execute_result"
    }
   ],
   "source": [
    "df['Predicted'] = df.apply(lambda r: get_expected(r, 'RN', 'Complaint', 'MD'), axis=1)\n",
    "df"
   ]
  },
  {
   "cell_type": "code",
   "execution_count": 12,
   "id": "1951e13e-ee9e-42c1-a565-ae53b47fac81",
   "metadata": {
    "execution": {
     "iopub.execute_input": "2022-03-08T16:42:36.595889Z",
     "iopub.status.busy": "2022-03-08T16:42:36.595889Z",
     "iopub.status.idle": "2022-03-08T16:42:36.610393Z",
     "shell.execute_reply": "2022-03-08T16:42:36.610190Z",
     "shell.execute_reply.started": "2022-03-08T16:42:36.595889Z"
    }
   },
   "outputs": [
    {
     "data": {
      "text/plain": [
       "Power_divergenceResult(statistic=410.84182247817546, pvalue=9.923443883578908e-89)"
      ]
     },
     "execution_count": 12,
     "metadata": {},
     "output_type": "execute_result"
    }
   ],
   "source": [
    "chisquare(df['Observed'], df['Predicted'], ddof=get_dof('RN', 'Complaint', 'MD'))"
   ]
  },
  {
   "cell_type": "markdown",
   "id": "4f6beccf-40b5-4b45-a86c-a8249201e20e",
   "metadata": {},
   "source": [
    "## Question 1.3\n",
    "\n",
    "We can also use `log-linear` modeling to test for independence. This method uses counts from the contingency table as the dependent variable, `y`, and indicators (1 or 0) for the variables as the independent variables, `X`.\n",
    "\n",
    "In the model summary, pay attention to the `deviance` and `log-likelihood`; these are measures of `goodness-of-fit` (how well the model fits to the data). For deviance, a lower value is better and for log-likehood, a higher value is better."
   ]
  },
  {
   "cell_type": "code",
   "execution_count": 13,
   "id": "95d4a11a-0520-4ebc-aff0-b840039082af",
   "metadata": {
    "execution": {
     "iopub.execute_input": "2022-03-08T16:42:36.611190Z",
     "iopub.status.busy": "2022-03-08T16:42:36.611190Z",
     "iopub.status.idle": "2022-03-08T16:42:36.626564Z",
     "shell.execute_reply": "2022-03-08T16:42:36.626191Z",
     "shell.execute_reply.started": "2022-03-08T16:42:36.611190Z"
    }
   },
   "outputs": [
    {
     "data": {
      "text/html": [
       "<div>\n",
       "<style scoped>\n",
       "    .dataframe tbody tr th:only-of-type {\n",
       "        vertical-align: middle;\n",
       "    }\n",
       "\n",
       "    .dataframe tbody tr th {\n",
       "        vertical-align: top;\n",
       "    }\n",
       "\n",
       "    .dataframe thead th {\n",
       "        text-align: right;\n",
       "    }\n",
       "</style>\n",
       "<table border=\"1\" class=\"dataframe\">\n",
       "  <thead>\n",
       "    <tr style=\"text-align: right;\">\n",
       "      <th></th>\n",
       "      <th>MD</th>\n",
       "      <th>RN</th>\n",
       "      <th>Complaint</th>\n",
       "      <th>Observed</th>\n",
       "    </tr>\n",
       "  </thead>\n",
       "  <tbody>\n",
       "    <tr>\n",
       "      <th>0</th>\n",
       "      <td>0</td>\n",
       "      <td>0</td>\n",
       "      <td>1</td>\n",
       "      <td>53</td>\n",
       "    </tr>\n",
       "    <tr>\n",
       "      <th>1</th>\n",
       "      <td>0</td>\n",
       "      <td>0</td>\n",
       "      <td>0</td>\n",
       "      <td>424</td>\n",
       "    </tr>\n",
       "    <tr>\n",
       "      <th>2</th>\n",
       "      <td>0</td>\n",
       "      <td>1</td>\n",
       "      <td>1</td>\n",
       "      <td>11</td>\n",
       "    </tr>\n",
       "    <tr>\n",
       "      <th>3</th>\n",
       "      <td>0</td>\n",
       "      <td>1</td>\n",
       "      <td>0</td>\n",
       "      <td>37</td>\n",
       "    </tr>\n",
       "    <tr>\n",
       "      <th>4</th>\n",
       "      <td>1</td>\n",
       "      <td>0</td>\n",
       "      <td>1</td>\n",
       "      <td>0</td>\n",
       "    </tr>\n",
       "    <tr>\n",
       "      <th>5</th>\n",
       "      <td>1</td>\n",
       "      <td>0</td>\n",
       "      <td>0</td>\n",
       "      <td>18</td>\n",
       "    </tr>\n",
       "    <tr>\n",
       "      <th>6</th>\n",
       "      <td>1</td>\n",
       "      <td>1</td>\n",
       "      <td>1</td>\n",
       "      <td>4</td>\n",
       "    </tr>\n",
       "    <tr>\n",
       "      <th>7</th>\n",
       "      <td>1</td>\n",
       "      <td>1</td>\n",
       "      <td>0</td>\n",
       "      <td>139</td>\n",
       "    </tr>\n",
       "  </tbody>\n",
       "</table>\n",
       "</div>"
      ],
      "text/plain": [
       "   MD  RN  Complaint  Observed\n",
       "0   0   0          1        53\n",
       "1   0   0          0       424\n",
       "2   0   1          1        11\n",
       "3   0   1          0        37\n",
       "4   1   0          1         0\n",
       "5   1   0          0        18\n",
       "6   1   1          1         4\n",
       "7   1   1          0       139"
      ]
     },
     "execution_count": 13,
     "metadata": {},
     "output_type": "execute_result"
    }
   ],
   "source": [
    "df = pd.DataFrame({\n",
    "    'MD': [0] * 4 + [1] * 4,\n",
    "    'RN': [0, 0, 1, 1] * 2,\n",
    "    'Complaint': [1, 0] * 4,\n",
    "    'Observed': [53, 424, 11, 37, 0, 18, 4, 139]\n",
    "})\n",
    "\n",
    "df"
   ]
  },
  {
   "cell_type": "markdown",
   "id": "d4aaf79d-194b-4362-9cfa-f4410b5531a3",
   "metadata": {},
   "source": [
    "### Question 1.3.1 Observed ~ (RN + MD + Complaint)^2\n",
    "\n",
    "This model is called the `homogeneous model` since all pairwise interactions/assocations are included. In modeling, we start with the homogeneous model and interactively and step-wise remove interaction/assocation terms while observing the change in `goodness-of-fit`. If removing an interaction term improves the goodness-of-fit or does not impact it, then we permanently remove that term (why? we are biased towards model `parsimony`)."
   ]
  },
  {
   "cell_type": "code",
   "execution_count": 14,
   "id": "47fb17cf-9fa2-42b9-b023-b0ddf2dbc13e",
   "metadata": {
    "execution": {
     "iopub.execute_input": "2022-03-08T16:42:36.627190Z",
     "iopub.status.busy": "2022-03-08T16:42:36.627190Z",
     "iopub.status.idle": "2022-03-08T16:42:36.657190Z",
     "shell.execute_reply": "2022-03-08T16:42:36.657190Z",
     "shell.execute_reply.started": "2022-03-08T16:42:36.627190Z"
    },
    "tags": []
   },
   "outputs": [
    {
     "data": {
      "text/html": [
       "<div>\n",
       "<style scoped>\n",
       "    .dataframe tbody tr th:only-of-type {\n",
       "        vertical-align: middle;\n",
       "    }\n",
       "\n",
       "    .dataframe tbody tr th {\n",
       "        vertical-align: top;\n",
       "    }\n",
       "\n",
       "    .dataframe thead th {\n",
       "        text-align: right;\n",
       "    }\n",
       "</style>\n",
       "<table border=\"1\" class=\"dataframe\">\n",
       "  <thead>\n",
       "    <tr style=\"text-align: right;\">\n",
       "      <th></th>\n",
       "      <th>Intercept</th>\n",
       "      <th>RN</th>\n",
       "      <th>MD</th>\n",
       "      <th>Complaint</th>\n",
       "      <th>RN:MD</th>\n",
       "      <th>RN:Complaint</th>\n",
       "      <th>MD:Complaint</th>\n",
       "    </tr>\n",
       "  </thead>\n",
       "  <tbody>\n",
       "    <tr>\n",
       "      <th>0</th>\n",
       "      <td>1.0</td>\n",
       "      <td>0.0</td>\n",
       "      <td>0.0</td>\n",
       "      <td>1.0</td>\n",
       "      <td>0.0</td>\n",
       "      <td>0.0</td>\n",
       "      <td>0.0</td>\n",
       "    </tr>\n",
       "    <tr>\n",
       "      <th>1</th>\n",
       "      <td>1.0</td>\n",
       "      <td>0.0</td>\n",
       "      <td>0.0</td>\n",
       "      <td>0.0</td>\n",
       "      <td>0.0</td>\n",
       "      <td>0.0</td>\n",
       "      <td>0.0</td>\n",
       "    </tr>\n",
       "    <tr>\n",
       "      <th>2</th>\n",
       "      <td>1.0</td>\n",
       "      <td>1.0</td>\n",
       "      <td>0.0</td>\n",
       "      <td>1.0</td>\n",
       "      <td>0.0</td>\n",
       "      <td>1.0</td>\n",
       "      <td>0.0</td>\n",
       "    </tr>\n",
       "    <tr>\n",
       "      <th>3</th>\n",
       "      <td>1.0</td>\n",
       "      <td>1.0</td>\n",
       "      <td>0.0</td>\n",
       "      <td>0.0</td>\n",
       "      <td>0.0</td>\n",
       "      <td>0.0</td>\n",
       "      <td>0.0</td>\n",
       "    </tr>\n",
       "    <tr>\n",
       "      <th>4</th>\n",
       "      <td>1.0</td>\n",
       "      <td>0.0</td>\n",
       "      <td>1.0</td>\n",
       "      <td>1.0</td>\n",
       "      <td>0.0</td>\n",
       "      <td>0.0</td>\n",
       "      <td>1.0</td>\n",
       "    </tr>\n",
       "    <tr>\n",
       "      <th>5</th>\n",
       "      <td>1.0</td>\n",
       "      <td>0.0</td>\n",
       "      <td>1.0</td>\n",
       "      <td>0.0</td>\n",
       "      <td>0.0</td>\n",
       "      <td>0.0</td>\n",
       "      <td>0.0</td>\n",
       "    </tr>\n",
       "    <tr>\n",
       "      <th>6</th>\n",
       "      <td>1.0</td>\n",
       "      <td>1.0</td>\n",
       "      <td>1.0</td>\n",
       "      <td>1.0</td>\n",
       "      <td>1.0</td>\n",
       "      <td>1.0</td>\n",
       "      <td>1.0</td>\n",
       "    </tr>\n",
       "    <tr>\n",
       "      <th>7</th>\n",
       "      <td>1.0</td>\n",
       "      <td>1.0</td>\n",
       "      <td>1.0</td>\n",
       "      <td>0.0</td>\n",
       "      <td>1.0</td>\n",
       "      <td>0.0</td>\n",
       "      <td>0.0</td>\n",
       "    </tr>\n",
       "  </tbody>\n",
       "</table>\n",
       "</div>"
      ],
      "text/plain": [
       "   Intercept   RN   MD  Complaint  RN:MD  RN:Complaint  MD:Complaint\n",
       "0        1.0  0.0  0.0        1.0    0.0           0.0           0.0\n",
       "1        1.0  0.0  0.0        0.0    0.0           0.0           0.0\n",
       "2        1.0  1.0  0.0        1.0    0.0           1.0           0.0\n",
       "3        1.0  1.0  0.0        0.0    0.0           0.0           0.0\n",
       "4        1.0  0.0  1.0        1.0    0.0           0.0           1.0\n",
       "5        1.0  0.0  1.0        0.0    0.0           0.0           0.0\n",
       "6        1.0  1.0  1.0        1.0    1.0           1.0           1.0\n",
       "7        1.0  1.0  1.0        0.0    1.0           0.0           0.0"
      ]
     },
     "execution_count": 14,
     "metadata": {},
     "output_type": "execute_result"
    }
   ],
   "source": [
    "from patsy import dmatrices\n",
    "\n",
    "formula = 'Observed ~ (RN + MD + Complaint)**2'\n",
    "y, X = dmatrices(formula, df, return_type='dataframe')\n",
    "y = y.values.reshape(1, -1)[0]\n",
    "\n",
    "X"
   ]
  },
  {
   "cell_type": "code",
   "execution_count": 15,
   "id": "9d060e04-108b-4889-9623-a62f10da862d",
   "metadata": {
    "execution": {
     "iopub.execute_input": "2022-03-08T16:42:36.658191Z",
     "iopub.status.busy": "2022-03-08T16:42:36.658191Z",
     "iopub.status.idle": "2022-03-08T16:42:36.673232Z",
     "shell.execute_reply": "2022-03-08T16:42:36.673232Z",
     "shell.execute_reply.started": "2022-03-08T16:42:36.658191Z"
    },
    "tags": []
   },
   "outputs": [
    {
     "data": {
      "text/plain": [
       "array([ 53., 424.,  11.,  37.,   0.,  18.,   4., 139.])"
      ]
     },
     "execution_count": 15,
     "metadata": {},
     "output_type": "execute_result"
    }
   ],
   "source": [
    "y"
   ]
  },
  {
   "cell_type": "code",
   "execution_count": 16,
   "id": "ca0d22cd-12fa-4d2d-86da-0bef6b6c9330",
   "metadata": {
    "execution": {
     "iopub.execute_input": "2022-03-08T16:42:36.674232Z",
     "iopub.status.busy": "2022-03-08T16:42:36.674232Z",
     "iopub.status.idle": "2022-03-08T16:42:37.007924Z",
     "shell.execute_reply": "2022-03-08T16:42:37.007924Z",
     "shell.execute_reply.started": "2022-03-08T16:42:36.674232Z"
    },
    "tags": []
   },
   "outputs": [
    {
     "data": {
      "text/html": [
       "<table class=\"simpletable\">\n",
       "<caption>Generalized Linear Model Regression Results</caption>\n",
       "<tr>\n",
       "  <th>Dep. Variable:</th>           <td>y</td>        <th>  No. Observations:  </th>  <td>     8</td> \n",
       "</tr>\n",
       "<tr>\n",
       "  <th>Model:</th>                  <td>GLM</td>       <th>  Df Residuals:      </th>  <td>     1</td> \n",
       "</tr>\n",
       "<tr>\n",
       "  <th>Model Family:</th>         <td>Poisson</td>     <th>  Df Model:          </th>  <td>     6</td> \n",
       "</tr>\n",
       "<tr>\n",
       "  <th>Link Function:</th>          <td>Log</td>       <th>  Scale:             </th> <td>  1.0000</td>\n",
       "</tr>\n",
       "<tr>\n",
       "  <th>Method:</th>                <td>IRLS</td>       <th>  Log-Likelihood:    </th> <td> -19.298</td>\n",
       "</tr>\n",
       "<tr>\n",
       "  <th>Date:</th>            <td>Tue, 08 Mar 2022</td> <th>  Deviance:          </th> <td> 0.41586</td>\n",
       "</tr>\n",
       "<tr>\n",
       "  <th>Time:</th>                <td>11:42:36</td>     <th>  Pearson chi2:      </th>  <td> 0.217</td> \n",
       "</tr>\n",
       "<tr>\n",
       "  <th>No. Iterations:</th>          <td>8</td>        <th>  Pseudo R-squ. (CS):</th>  <td> 1.000</td> \n",
       "</tr>\n",
       "<tr>\n",
       "  <th>Covariance Type:</th>     <td>nonrobust</td>    <th>                     </th>     <td> </td>   \n",
       "</tr>\n",
       "</table>\n",
       "<table class=\"simpletable\">\n",
       "<tr>\n",
       "        <td></td>          <th>coef</th>     <th>std err</th>      <th>z</th>      <th>P>|z|</th>  <th>[0.025</th>    <th>0.975]</th>  \n",
       "</tr>\n",
       "<tr>\n",
       "  <th>Intercept</th>    <td>    6.0502</td> <td>    0.049</td> <td>  124.637</td> <td> 0.000</td> <td>    5.955</td> <td>    6.145</td>\n",
       "</tr>\n",
       "<tr>\n",
       "  <th>RN</th>           <td>   -2.4447</td> <td>    0.171</td> <td>  -14.264</td> <td> 0.000</td> <td>   -2.781</td> <td>   -2.109</td>\n",
       "</tr>\n",
       "<tr>\n",
       "  <th>MD</th>           <td>   -3.1709</td> <td>    0.241</td> <td>  -13.177</td> <td> 0.000</td> <td>   -3.643</td> <td>   -2.699</td>\n",
       "</tr>\n",
       "<tr>\n",
       "  <th>Complaint</th>    <td>   -2.0837</td> <td>    0.146</td> <td>  -14.306</td> <td> 0.000</td> <td>   -2.369</td> <td>   -1.798</td>\n",
       "</tr>\n",
       "<tr>\n",
       "  <th>RN:MD</th>        <td>    4.5013</td> <td>    0.302</td> <td>   14.896</td> <td> 0.000</td> <td>    3.909</td> <td>    5.094</td>\n",
       "</tr>\n",
       "<tr>\n",
       "  <th>RN:Complaint</th> <td>    0.8939</td> <td>    0.366</td> <td>    2.439</td> <td> 0.015</td> <td>    0.176</td> <td>    1.612</td>\n",
       "</tr>\n",
       "<tr>\n",
       "  <th>MD:Complaint</th> <td>   -2.4109</td> <td>    0.600</td> <td>   -4.021</td> <td> 0.000</td> <td>   -3.586</td> <td>   -1.236</td>\n",
       "</tr>\n",
       "</table>"
      ],
      "text/plain": [
       "<class 'statsmodels.iolib.summary.Summary'>\n",
       "\"\"\"\n",
       "                 Generalized Linear Model Regression Results                  \n",
       "==============================================================================\n",
       "Dep. Variable:                      y   No. Observations:                    8\n",
       "Model:                            GLM   Df Residuals:                        1\n",
       "Model Family:                 Poisson   Df Model:                            6\n",
       "Link Function:                    Log   Scale:                          1.0000\n",
       "Method:                          IRLS   Log-Likelihood:                -19.298\n",
       "Date:                Tue, 08 Mar 2022   Deviance:                      0.41586\n",
       "Time:                        11:42:36   Pearson chi2:                    0.217\n",
       "No. Iterations:                     8   Pseudo R-squ. (CS):              1.000\n",
       "Covariance Type:            nonrobust                                         \n",
       "================================================================================\n",
       "                   coef    std err          z      P>|z|      [0.025      0.975]\n",
       "--------------------------------------------------------------------------------\n",
       "Intercept        6.0502      0.049    124.637      0.000       5.955       6.145\n",
       "RN              -2.4447      0.171    -14.264      0.000      -2.781      -2.109\n",
       "MD              -3.1709      0.241    -13.177      0.000      -3.643      -2.699\n",
       "Complaint       -2.0837      0.146    -14.306      0.000      -2.369      -1.798\n",
       "RN:MD            4.5013      0.302     14.896      0.000       3.909       5.094\n",
       "RN:Complaint     0.8939      0.366      2.439      0.015       0.176       1.612\n",
       "MD:Complaint    -2.4109      0.600     -4.021      0.000      -3.586      -1.236\n",
       "================================================================================\n",
       "\"\"\""
      ]
     },
     "execution_count": 16,
     "metadata": {},
     "output_type": "execute_result"
    }
   ],
   "source": [
    "import statsmodels.api as sm\n",
    "\n",
    "poisson = sm.GLM(y, X, family=sm.families.Poisson())\n",
    "result = poisson.fit()\n",
    "result.summary()"
   ]
  },
  {
   "cell_type": "markdown",
   "id": "c01bf9df-7708-41d4-ba36-230dce38153d",
   "metadata": {},
   "source": [
    "### Question 1.3.2 Observed ~ RN + MD + Complaint + RN:Complaint + MD:Complaint\n",
    "\n",
    "We have removed the `RN:MD` interaction; this model is a worse fit (Deviance=382) than the homogenous model (Deviance=0.42)."
   ]
  },
  {
   "cell_type": "code",
   "execution_count": 17,
   "id": "c218e2cf-aa9a-47be-acf3-9bad8a8e1683",
   "metadata": {
    "execution": {
     "iopub.execute_input": "2022-03-08T16:42:37.008924Z",
     "iopub.status.busy": "2022-03-08T16:42:37.008924Z",
     "iopub.status.idle": "2022-03-08T16:42:37.023924Z",
     "shell.execute_reply": "2022-03-08T16:42:37.023924Z",
     "shell.execute_reply.started": "2022-03-08T16:42:37.008924Z"
    },
    "tags": []
   },
   "outputs": [],
   "source": [
    "formula = 'Observed ~ RN + MD + Complaint + RN:Complaint + MD:Complaint'\n",
    "y, X = dmatrices(formula, df, return_type='dataframe')\n",
    "y = y.values.reshape(1, -1)[0]"
   ]
  },
  {
   "cell_type": "code",
   "execution_count": 18,
   "id": "c14adaa7-a5d9-4100-b7b3-2ffe5f7ddd62",
   "metadata": {
    "execution": {
     "iopub.execute_input": "2022-03-08T16:42:37.024924Z",
     "iopub.status.busy": "2022-03-08T16:42:37.024924Z",
     "iopub.status.idle": "2022-03-08T16:42:37.039924Z",
     "shell.execute_reply": "2022-03-08T16:42:37.039924Z",
     "shell.execute_reply.started": "2022-03-08T16:42:37.024924Z"
    },
    "tags": []
   },
   "outputs": [
    {
     "data": {
      "text/html": [
       "<table class=\"simpletable\">\n",
       "<caption>Generalized Linear Model Regression Results</caption>\n",
       "<tr>\n",
       "  <th>Dep. Variable:</th>           <td>y</td>        <th>  No. Observations:  </th>  <td>     8</td> \n",
       "</tr>\n",
       "<tr>\n",
       "  <th>Model:</th>                  <td>GLM</td>       <th>  Df Residuals:      </th>  <td>     2</td> \n",
       "</tr>\n",
       "<tr>\n",
       "  <th>Model Family:</th>         <td>Poisson</td>     <th>  Df Model:          </th>  <td>     5</td> \n",
       "</tr>\n",
       "<tr>\n",
       "  <th>Link Function:</th>          <td>Log</td>       <th>  Scale:             </th> <td>  1.0000</td>\n",
       "</tr>\n",
       "<tr>\n",
       "  <th>Method:</th>                <td>IRLS</td>       <th>  Log-Likelihood:    </th> <td> -210.09</td>\n",
       "</tr>\n",
       "<tr>\n",
       "  <th>Date:</th>            <td>Tue, 08 Mar 2022</td> <th>  Deviance:          </th> <td>  382.00</td>\n",
       "</tr>\n",
       "<tr>\n",
       "  <th>Time:</th>                <td>11:42:37</td>     <th>  Pearson chi2:      </th>  <td>  388.</td> \n",
       "</tr>\n",
       "<tr>\n",
       "  <th>No. Iterations:</th>          <td>7</td>        <th>  Pseudo R-squ. (CS):</th>  <td> 1.000</td> \n",
       "</tr>\n",
       "<tr>\n",
       "  <th>Covariance Type:</th>     <td>nonrobust</td>    <th>                     </th>     <td> </td>   \n",
       "</tr>\n",
       "</table>\n",
       "<table class=\"simpletable\">\n",
       "<tr>\n",
       "        <td></td>          <th>coef</th>     <th>std err</th>      <th>z</th>      <th>P>|z|</th>  <th>[0.025</th>    <th>0.975]</th>  \n",
       "</tr>\n",
       "<tr>\n",
       "  <th>Intercept</th>    <td>    5.7982</td> <td>    0.053</td> <td>  109.312</td> <td> 0.000</td> <td>    5.694</td> <td>    5.902</td>\n",
       "</tr>\n",
       "<tr>\n",
       "  <th>RN</th>           <td>   -0.9208</td> <td>    0.089</td> <td>  -10.331</td> <td> 0.000</td> <td>   -1.096</td> <td>   -0.746</td>\n",
       "</tr>\n",
       "<tr>\n",
       "  <th>MD</th>           <td>   -1.0772</td> <td>    0.092</td> <td>  -11.657</td> <td> 0.000</td> <td>   -1.258</td> <td>   -0.896</td>\n",
       "</tr>\n",
       "<tr>\n",
       "  <th>Complaint</th>    <td>   -1.8886</td> <td>    0.150</td> <td>  -12.562</td> <td> 0.000</td> <td>   -2.183</td> <td>   -1.594</td>\n",
       "</tr>\n",
       "<tr>\n",
       "  <th>RN:Complaint</th> <td>   -0.3414</td> <td>    0.306</td> <td>   -1.117</td> <td> 0.264</td> <td>   -0.941</td> <td>    0.258</td>\n",
       "</tr>\n",
       "<tr>\n",
       "  <th>MD:Complaint</th> <td>   -1.6954</td> <td>    0.524</td> <td>   -3.238</td> <td> 0.001</td> <td>   -2.722</td> <td>   -0.669</td>\n",
       "</tr>\n",
       "</table>"
      ],
      "text/plain": [
       "<class 'statsmodels.iolib.summary.Summary'>\n",
       "\"\"\"\n",
       "                 Generalized Linear Model Regression Results                  \n",
       "==============================================================================\n",
       "Dep. Variable:                      y   No. Observations:                    8\n",
       "Model:                            GLM   Df Residuals:                        2\n",
       "Model Family:                 Poisson   Df Model:                            5\n",
       "Link Function:                    Log   Scale:                          1.0000\n",
       "Method:                          IRLS   Log-Likelihood:                -210.09\n",
       "Date:                Tue, 08 Mar 2022   Deviance:                       382.00\n",
       "Time:                        11:42:37   Pearson chi2:                     388.\n",
       "No. Iterations:                     7   Pseudo R-squ. (CS):              1.000\n",
       "Covariance Type:            nonrobust                                         \n",
       "================================================================================\n",
       "                   coef    std err          z      P>|z|      [0.025      0.975]\n",
       "--------------------------------------------------------------------------------\n",
       "Intercept        5.7982      0.053    109.312      0.000       5.694       5.902\n",
       "RN              -0.9208      0.089    -10.331      0.000      -1.096      -0.746\n",
       "MD              -1.0772      0.092    -11.657      0.000      -1.258      -0.896\n",
       "Complaint       -1.8886      0.150    -12.562      0.000      -2.183      -1.594\n",
       "RN:Complaint    -0.3414      0.306     -1.117      0.264      -0.941       0.258\n",
       "MD:Complaint    -1.6954      0.524     -3.238      0.001      -2.722      -0.669\n",
       "================================================================================\n",
       "\"\"\""
      ]
     },
     "execution_count": 18,
     "metadata": {},
     "output_type": "execute_result"
    }
   ],
   "source": [
    "poisson = sm.GLM(y, X, family=sm.families.Poisson())\n",
    "result = poisson.fit()\n",
    "result.summary()"
   ]
  },
  {
   "cell_type": "markdown",
   "id": "adf78452-375c-4f9c-b8bd-e172594c2a0c",
   "metadata": {},
   "source": [
    "### Question 1.3.3 Observed ~ RN + MD + Complaint + RN:MD + RN:Complaint\n",
    "\n",
    "We have removed the `Complaint:MD` term; again, this model is a worse fit than the homogenous one."
   ]
  },
  {
   "cell_type": "code",
   "execution_count": 19,
   "id": "144e1985-5e1d-441c-a6d3-0375b1dd9d41",
   "metadata": {
    "execution": {
     "iopub.execute_input": "2022-03-08T16:42:37.040924Z",
     "iopub.status.busy": "2022-03-08T16:42:37.040924Z",
     "iopub.status.idle": "2022-03-08T16:42:37.055789Z",
     "shell.execute_reply": "2022-03-08T16:42:37.055789Z",
     "shell.execute_reply.started": "2022-03-08T16:42:37.040924Z"
    },
    "tags": []
   },
   "outputs": [],
   "source": [
    "formula = 'Observed ~ RN + MD + Complaint + RN:MD + RN:Complaint'\n",
    "y, X = dmatrices(formula, df, return_type='dataframe')\n",
    "y = y.values.reshape(1, -1)[0]"
   ]
  },
  {
   "cell_type": "code",
   "execution_count": 20,
   "id": "47e98830-9f93-4dad-b1c1-98e772e67359",
   "metadata": {
    "execution": {
     "iopub.execute_input": "2022-03-08T16:42:37.056799Z",
     "iopub.status.busy": "2022-03-08T16:42:37.056799Z",
     "iopub.status.idle": "2022-03-08T16:42:37.071234Z",
     "shell.execute_reply": "2022-03-08T16:42:37.071234Z",
     "shell.execute_reply.started": "2022-03-08T16:42:37.056799Z"
    },
    "tags": []
   },
   "outputs": [
    {
     "data": {
      "text/html": [
       "<table class=\"simpletable\">\n",
       "<caption>Generalized Linear Model Regression Results</caption>\n",
       "<tr>\n",
       "  <th>Dep. Variable:</th>           <td>y</td>        <th>  No. Observations:  </th>  <td>     8</td> \n",
       "</tr>\n",
       "<tr>\n",
       "  <th>Model:</th>                  <td>GLM</td>       <th>  Df Residuals:      </th>  <td>     2</td> \n",
       "</tr>\n",
       "<tr>\n",
       "  <th>Model Family:</th>         <td>Poisson</td>     <th>  Df Model:          </th>  <td>     5</td> \n",
       "</tr>\n",
       "<tr>\n",
       "  <th>Link Function:</th>          <td>Log</td>       <th>  Scale:             </th> <td>  1.0000</td>\n",
       "</tr>\n",
       "<tr>\n",
       "  <th>Method:</th>                <td>IRLS</td>       <th>  Log-Likelihood:    </th> <td> -29.641</td>\n",
       "</tr>\n",
       "<tr>\n",
       "  <th>Date:</th>            <td>Tue, 08 Mar 2022</td> <th>  Deviance:          </th> <td>  21.101</td>\n",
       "</tr>\n",
       "<tr>\n",
       "  <th>Time:</th>                <td>11:42:37</td>     <th>  Pearson chi2:      </th>  <td>  22.3</td> \n",
       "</tr>\n",
       "<tr>\n",
       "  <th>No. Iterations:</th>          <td>6</td>        <th>  Pseudo R-squ. (CS):</th>  <td> 1.000</td> \n",
       "</tr>\n",
       "<tr>\n",
       "  <th>Covariance Type:</th>     <td>nonrobust</td>    <th>                     </th>     <td> </td>   \n",
       "</tr>\n",
       "</table>\n",
       "<table class=\"simpletable\">\n",
       "<tr>\n",
       "        <td></td>          <th>coef</th>     <th>std err</th>      <th>z</th>      <th>P>|z|</th>  <th>[0.025</th>    <th>0.975]</th>  \n",
       "</tr>\n",
       "<tr>\n",
       "  <th>Intercept</th>    <td>    6.0543</td> <td>    0.048</td> <td>  125.192</td> <td> 0.000</td> <td>    5.959</td> <td>    6.149</td>\n",
       "</tr>\n",
       "<tr>\n",
       "  <th>RN</th>           <td>   -2.2649</td> <td>    0.154</td> <td>  -14.737</td> <td> 0.000</td> <td>   -2.566</td> <td>   -1.964</td>\n",
       "</tr>\n",
       "<tr>\n",
       "  <th>MD</th>           <td>   -3.2771</td> <td>    0.240</td> <td>  -13.649</td> <td> 0.000</td> <td>   -3.748</td> <td>   -2.807</td>\n",
       "</tr>\n",
       "<tr>\n",
       "  <th>Complaint</th>    <td>   -2.1210</td> <td>    0.145</td> <td>  -14.591</td> <td> 0.000</td> <td>   -2.406</td> <td>   -1.836</td>\n",
       "</tr>\n",
       "<tr>\n",
       "  <th>RN:MD</th>        <td>    4.3688</td> <td>    0.292</td> <td>   14.943</td> <td> 0.000</td> <td>    3.796</td> <td>    4.942</td>\n",
       "</tr>\n",
       "<tr>\n",
       "  <th>RN:Complaint</th> <td>   -0.3414</td> <td>    0.306</td> <td>   -1.117</td> <td> 0.264</td> <td>   -0.941</td> <td>    0.258</td>\n",
       "</tr>\n",
       "</table>"
      ],
      "text/plain": [
       "<class 'statsmodels.iolib.summary.Summary'>\n",
       "\"\"\"\n",
       "                 Generalized Linear Model Regression Results                  \n",
       "==============================================================================\n",
       "Dep. Variable:                      y   No. Observations:                    8\n",
       "Model:                            GLM   Df Residuals:                        2\n",
       "Model Family:                 Poisson   Df Model:                            5\n",
       "Link Function:                    Log   Scale:                          1.0000\n",
       "Method:                          IRLS   Log-Likelihood:                -29.641\n",
       "Date:                Tue, 08 Mar 2022   Deviance:                       21.101\n",
       "Time:                        11:42:37   Pearson chi2:                     22.3\n",
       "No. Iterations:                     6   Pseudo R-squ. (CS):              1.000\n",
       "Covariance Type:            nonrobust                                         \n",
       "================================================================================\n",
       "                   coef    std err          z      P>|z|      [0.025      0.975]\n",
       "--------------------------------------------------------------------------------\n",
       "Intercept        6.0543      0.048    125.192      0.000       5.959       6.149\n",
       "RN              -2.2649      0.154    -14.737      0.000      -2.566      -1.964\n",
       "MD              -3.2771      0.240    -13.649      0.000      -3.748      -2.807\n",
       "Complaint       -2.1210      0.145    -14.591      0.000      -2.406      -1.836\n",
       "RN:MD            4.3688      0.292     14.943      0.000       3.796       4.942\n",
       "RN:Complaint    -0.3414      0.306     -1.117      0.264      -0.941       0.258\n",
       "================================================================================\n",
       "\"\"\""
      ]
     },
     "execution_count": 20,
     "metadata": {},
     "output_type": "execute_result"
    }
   ],
   "source": [
    "poisson = sm.GLM(y, X, family=sm.families.Poisson())\n",
    "result = poisson.fit()\n",
    "result.summary()"
   ]
  },
  {
   "cell_type": "markdown",
   "id": "f13784eb-c064-4f62-8ab2-caf281b372c8",
   "metadata": {},
   "source": [
    "### Question 1.3.4 Observed ~ RN + MD + Complaint + RN:MD + MD:Complaint\n",
    "\n",
    "We have removed the `Complaint:RN` interaction term. Notice how the deviance is the smallest one (compared to removing other interaction terms) at 5.74. Although this model has a higher deviance than the homogenous one, the increase is very small. Is it worth it to remove this interaction term to gain 1 degree of freedom (a simpler model)? "
   ]
  },
  {
   "cell_type": "code",
   "execution_count": 21,
   "id": "2ae23e2a-117b-4e0e-b43c-505f15783369",
   "metadata": {
    "execution": {
     "iopub.execute_input": "2022-03-08T16:42:37.072236Z",
     "iopub.status.busy": "2022-03-08T16:42:37.072236Z",
     "iopub.status.idle": "2022-03-08T16:42:37.086923Z",
     "shell.execute_reply": "2022-03-08T16:42:37.086923Z",
     "shell.execute_reply.started": "2022-03-08T16:42:37.072236Z"
    },
    "tags": []
   },
   "outputs": [],
   "source": [
    "formula = 'Observed ~ RN + MD + Complaint + RN:MD + MD:Complaint'\n",
    "y, X = dmatrices(formula, df, return_type='dataframe')\n",
    "y = y.values.reshape(1, -1)[0]"
   ]
  },
  {
   "cell_type": "code",
   "execution_count": 22,
   "id": "7fbfece1-00e2-432d-9ec5-e0171847a33b",
   "metadata": {
    "execution": {
     "iopub.execute_input": "2022-03-08T16:42:37.087924Z",
     "iopub.status.busy": "2022-03-08T16:42:37.087924Z",
     "iopub.status.idle": "2022-03-08T16:42:37.102923Z",
     "shell.execute_reply": "2022-03-08T16:42:37.102923Z",
     "shell.execute_reply.started": "2022-03-08T16:42:37.087924Z"
    },
    "tags": []
   },
   "outputs": [
    {
     "data": {
      "text/html": [
       "<table class=\"simpletable\">\n",
       "<caption>Generalized Linear Model Regression Results</caption>\n",
       "<tr>\n",
       "  <th>Dep. Variable:</th>           <td>y</td>        <th>  No. Observations:  </th>  <td>     8</td> \n",
       "</tr>\n",
       "<tr>\n",
       "  <th>Model:</th>                  <td>GLM</td>       <th>  Df Residuals:      </th>  <td>     2</td> \n",
       "</tr>\n",
       "<tr>\n",
       "  <th>Model Family:</th>         <td>Poisson</td>     <th>  Df Model:          </th>  <td>     5</td> \n",
       "</tr>\n",
       "<tr>\n",
       "  <th>Link Function:</th>          <td>Log</td>       <th>  Scale:             </th> <td>  1.0000</td>\n",
       "</tr>\n",
       "<tr>\n",
       "  <th>Method:</th>                <td>IRLS</td>       <th>  Log-Likelihood:    </th> <td> -21.960</td>\n",
       "</tr>\n",
       "<tr>\n",
       "  <th>Date:</th>            <td>Tue, 08 Mar 2022</td> <th>  Deviance:          </th> <td>  5.7399</td>\n",
       "</tr>\n",
       "<tr>\n",
       "  <th>Time:</th>                <td>11:42:37</td>     <th>  Pearson chi2:      </th>  <td>  6.19</td> \n",
       "</tr>\n",
       "<tr>\n",
       "  <th>No. Iterations:</th>          <td>8</td>        <th>  Pseudo R-squ. (CS):</th>  <td> 1.000</td> \n",
       "</tr>\n",
       "<tr>\n",
       "  <th>Covariance Type:</th>     <td>nonrobust</td>    <th>                     </th>     <td> </td>   \n",
       "</tr>\n",
       "</table>\n",
       "<table class=\"simpletable\">\n",
       "<tr>\n",
       "        <td></td>          <th>coef</th>     <th>std err</th>      <th>z</th>      <th>P>|z|</th>  <th>[0.025</th>    <th>0.975]</th>  \n",
       "</tr>\n",
       "<tr>\n",
       "  <th>Intercept</th>    <td>    6.0375</td> <td>    0.049</td> <td>  124.257</td> <td> 0.000</td> <td>    5.942</td> <td>    6.133</td>\n",
       "</tr>\n",
       "<tr>\n",
       "  <th>RN</th>           <td>   -2.2963</td> <td>    0.151</td> <td>  -15.165</td> <td> 0.000</td> <td>   -2.593</td> <td>   -2.000</td>\n",
       "</tr>\n",
       "<tr>\n",
       "  <th>MD</th>           <td>   -3.1723</td> <td>    0.241</td> <td>  -13.164</td> <td> 0.000</td> <td>   -3.645</td> <td>   -2.700</td>\n",
       "</tr>\n",
       "<tr>\n",
       "  <th>Complaint</th>    <td>   -1.9745</td> <td>    0.133</td> <td>  -14.802</td> <td> 0.000</td> <td>   -2.236</td> <td>   -1.713</td>\n",
       "</tr>\n",
       "<tr>\n",
       "  <th>RN:MD</th>        <td>    4.3688</td> <td>    0.292</td> <td>   14.943</td> <td> 0.000</td> <td>    3.796</td> <td>    4.942</td>\n",
       "</tr>\n",
       "<tr>\n",
       "  <th>MD:Complaint</th> <td>   -1.6954</td> <td>    0.524</td> <td>   -3.238</td> <td> 0.001</td> <td>   -2.722</td> <td>   -0.669</td>\n",
       "</tr>\n",
       "</table>"
      ],
      "text/plain": [
       "<class 'statsmodels.iolib.summary.Summary'>\n",
       "\"\"\"\n",
       "                 Generalized Linear Model Regression Results                  \n",
       "==============================================================================\n",
       "Dep. Variable:                      y   No. Observations:                    8\n",
       "Model:                            GLM   Df Residuals:                        2\n",
       "Model Family:                 Poisson   Df Model:                            5\n",
       "Link Function:                    Log   Scale:                          1.0000\n",
       "Method:                          IRLS   Log-Likelihood:                -21.960\n",
       "Date:                Tue, 08 Mar 2022   Deviance:                       5.7399\n",
       "Time:                        11:42:37   Pearson chi2:                     6.19\n",
       "No. Iterations:                     8   Pseudo R-squ. (CS):              1.000\n",
       "Covariance Type:            nonrobust                                         \n",
       "================================================================================\n",
       "                   coef    std err          z      P>|z|      [0.025      0.975]\n",
       "--------------------------------------------------------------------------------\n",
       "Intercept        6.0375      0.049    124.257      0.000       5.942       6.133\n",
       "RN              -2.2963      0.151    -15.165      0.000      -2.593      -2.000\n",
       "MD              -3.1723      0.241    -13.164      0.000      -3.645      -2.700\n",
       "Complaint       -1.9745      0.133    -14.802      0.000      -2.236      -1.713\n",
       "RN:MD            4.3688      0.292     14.943      0.000       3.796       4.942\n",
       "MD:Complaint    -1.6954      0.524     -3.238      0.001      -2.722      -0.669\n",
       "================================================================================\n",
       "\"\"\""
      ]
     },
     "execution_count": 22,
     "metadata": {},
     "output_type": "execute_result"
    }
   ],
   "source": [
    "poisson = sm.GLM(y, X, family=sm.families.Poisson())\n",
    "result = poisson.fit()\n",
    "result.summary()"
   ]
  }
 ],
 "metadata": {
  "kernelspec": {
   "display_name": "Python 3",
   "language": "python",
   "name": "python3"
  },
  "language_info": {
   "codemirror_mode": {
    "name": "ipython",
    "version": 3
   },
   "file_extension": ".py",
   "mimetype": "text/x-python",
   "name": "python",
   "nbconvert_exporter": "python",
   "pygments_lexer": "ipython3",
   "version": "3.8.5"
  },
  "widgets": {
   "application/vnd.jupyter.widget-state+json": {
    "state": {},
    "version_major": 2,
    "version_minor": 0
   }
  }
 },
 "nbformat": 4,
 "nbformat_minor": 5
}
