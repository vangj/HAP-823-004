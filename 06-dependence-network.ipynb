{
 "cells": [
  {
   "cell_type": "markdown",
   "id": "910e2fdb-f2f4-429d-9859-25a80b277183",
   "metadata": {},
   "source": [
    "# Dependence Networks\n",
    "\n",
    "From [http://openonlinecourses.com/causalanalysis/ReviewIndependence.asp](http://openonlinecourses.com/causalanalysis/ReviewIndependence.asp)."
   ]
  },
  {
   "cell_type": "markdown",
   "id": "bf0eba66-d741-46d5-8b6f-9fbb305caa65",
   "metadata": {},
   "source": [
    "## Question 1.1 complete independence"
   ]
  },
  {
   "cell_type": "markdown",
   "id": "234e85d3-0469-456b-9bab-1766b72b3106",
   "metadata": {},
   "source": [
    "Load data."
   ]
  },
  {
   "cell_type": "code",
   "execution_count": 1,
   "id": "8e9d244a-a618-4ac4-849f-fe6e588c0908",
   "metadata": {
    "execution": {
     "iopub.execute_input": "2022-03-07T23:55:44.851962Z",
     "iopub.status.busy": "2022-03-07T23:55:44.851962Z",
     "iopub.status.idle": "2022-03-07T23:55:45.160961Z",
     "shell.execute_reply": "2022-03-07T23:55:45.160961Z",
     "shell.execute_reply.started": "2022-03-07T23:55:44.851962Z"
    },
    "tags": []
   },
   "outputs": [
    {
     "data": {
      "text/html": [
       "<div>\n",
       "<style scoped>\n",
       "    .dataframe tbody tr th:only-of-type {\n",
       "        vertical-align: middle;\n",
       "    }\n",
       "\n",
       "    .dataframe tbody tr th {\n",
       "        vertical-align: top;\n",
       "    }\n",
       "\n",
       "    .dataframe thead th {\n",
       "        text-align: right;\n",
       "    }\n",
       "</style>\n",
       "<table border=\"1\" class=\"dataframe\">\n",
       "  <thead>\n",
       "    <tr style=\"text-align: right;\">\n",
       "      <th></th>\n",
       "      <th>MD</th>\n",
       "      <th>RN</th>\n",
       "      <th>Complaint</th>\n",
       "      <th>Observed</th>\n",
       "    </tr>\n",
       "  </thead>\n",
       "  <tbody>\n",
       "    <tr>\n",
       "      <th>0</th>\n",
       "      <td>George</td>\n",
       "      <td>Jim</td>\n",
       "      <td>Yes</td>\n",
       "      <td>53</td>\n",
       "    </tr>\n",
       "    <tr>\n",
       "      <th>1</th>\n",
       "      <td>George</td>\n",
       "      <td>Jim</td>\n",
       "      <td>No</td>\n",
       "      <td>424</td>\n",
       "    </tr>\n",
       "    <tr>\n",
       "      <th>2</th>\n",
       "      <td>George</td>\n",
       "      <td>Jill</td>\n",
       "      <td>Yes</td>\n",
       "      <td>11</td>\n",
       "    </tr>\n",
       "    <tr>\n",
       "      <th>3</th>\n",
       "      <td>George</td>\n",
       "      <td>Jill</td>\n",
       "      <td>No</td>\n",
       "      <td>37</td>\n",
       "    </tr>\n",
       "    <tr>\n",
       "      <th>4</th>\n",
       "      <td>Smith</td>\n",
       "      <td>Jim</td>\n",
       "      <td>Yes</td>\n",
       "      <td>0</td>\n",
       "    </tr>\n",
       "    <tr>\n",
       "      <th>5</th>\n",
       "      <td>Smith</td>\n",
       "      <td>Jim</td>\n",
       "      <td>No</td>\n",
       "      <td>18</td>\n",
       "    </tr>\n",
       "    <tr>\n",
       "      <th>6</th>\n",
       "      <td>Smith</td>\n",
       "      <td>Jill</td>\n",
       "      <td>Yes</td>\n",
       "      <td>4</td>\n",
       "    </tr>\n",
       "    <tr>\n",
       "      <th>7</th>\n",
       "      <td>Smith</td>\n",
       "      <td>Jill</td>\n",
       "      <td>No</td>\n",
       "      <td>139</td>\n",
       "    </tr>\n",
       "  </tbody>\n",
       "</table>\n",
       "</div>"
      ],
      "text/plain": [
       "       MD    RN Complaint  Observed\n",
       "0  George   Jim       Yes        53\n",
       "1  George   Jim        No       424\n",
       "2  George  Jill       Yes        11\n",
       "3  George  Jill        No        37\n",
       "4   Smith   Jim       Yes         0\n",
       "5   Smith   Jim        No        18\n",
       "6   Smith  Jill       Yes         4\n",
       "7   Smith  Jill        No       139"
      ]
     },
     "execution_count": 1,
     "metadata": {},
     "output_type": "execute_result"
    }
   ],
   "source": [
    "import pandas as pd\n",
    "\n",
    "df = pd.DataFrame({\n",
    "    'MD': ['George'] * 4 + ['Smith'] * 4,\n",
    "    'RN': ['Jim', 'Jim', 'Jill', 'Jill'] * 2,\n",
    "    'Complaint': ['Yes', 'No'] * 4,\n",
    "    'Observed': [53, 424, 11, 37, 0, 18, 4, 139]\n",
    "})\n",
    "\n",
    "df"
   ]
  },
  {
   "cell_type": "markdown",
   "id": "b7dcb436-d1fa-46ba-9f64-ee97329f8cd1",
   "metadata": {},
   "source": [
    "Compute the `expected` (here, called `Predicted`) values."
   ]
  },
  {
   "cell_type": "code",
   "execution_count": 2,
   "id": "96b796bb-63c7-4acf-a110-7c70dd460fe1",
   "metadata": {
    "execution": {
     "iopub.execute_input": "2022-03-07T23:55:45.161961Z",
     "iopub.status.busy": "2022-03-07T23:55:45.161961Z",
     "iopub.status.idle": "2022-03-07T23:55:45.192962Z",
     "shell.execute_reply": "2022-03-07T23:55:45.192962Z",
     "shell.execute_reply.started": "2022-03-07T23:55:45.161961Z"
    },
    "tags": []
   },
   "outputs": [
    {
     "data": {
      "text/html": [
       "<div>\n",
       "<style scoped>\n",
       "    .dataframe tbody tr th:only-of-type {\n",
       "        vertical-align: middle;\n",
       "    }\n",
       "\n",
       "    .dataframe tbody tr th {\n",
       "        vertical-align: top;\n",
       "    }\n",
       "\n",
       "    .dataframe thead th {\n",
       "        text-align: right;\n",
       "    }\n",
       "</style>\n",
       "<table border=\"1\" class=\"dataframe\">\n",
       "  <thead>\n",
       "    <tr style=\"text-align: right;\">\n",
       "      <th></th>\n",
       "      <th>MD</th>\n",
       "      <th>RN</th>\n",
       "      <th>Complaint</th>\n",
       "      <th>Observed</th>\n",
       "      <th>Predicted</th>\n",
       "    </tr>\n",
       "  </thead>\n",
       "  <tbody>\n",
       "    <tr>\n",
       "      <th>0</th>\n",
       "      <td>George</td>\n",
       "      <td>Jim</td>\n",
       "      <td>Yes</td>\n",
       "      <td>53</td>\n",
       "      <td>37.551318</td>\n",
       "    </tr>\n",
       "    <tr>\n",
       "      <th>1</th>\n",
       "      <td>George</td>\n",
       "      <td>Jim</td>\n",
       "      <td>No</td>\n",
       "      <td>424</td>\n",
       "      <td>341.275213</td>\n",
       "    </tr>\n",
       "    <tr>\n",
       "      <th>2</th>\n",
       "      <td>George</td>\n",
       "      <td>Jill</td>\n",
       "      <td>Yes</td>\n",
       "      <td>11</td>\n",
       "      <td>14.489498</td>\n",
       "    </tr>\n",
       "    <tr>\n",
       "      <th>3</th>\n",
       "      <td>George</td>\n",
       "      <td>Jill</td>\n",
       "      <td>No</td>\n",
       "      <td>37</td>\n",
       "      <td>131.683971</td>\n",
       "    </tr>\n",
       "    <tr>\n",
       "      <th>4</th>\n",
       "      <td>Smith</td>\n",
       "      <td>Jim</td>\n",
       "      <td>Yes</td>\n",
       "      <td>0</td>\n",
       "      <td>11.515737</td>\n",
       "    </tr>\n",
       "    <tr>\n",
       "      <th>5</th>\n",
       "      <td>Smith</td>\n",
       "      <td>Jim</td>\n",
       "      <td>No</td>\n",
       "      <td>18</td>\n",
       "      <td>104.657732</td>\n",
       "    </tr>\n",
       "    <tr>\n",
       "      <th>6</th>\n",
       "      <td>Smith</td>\n",
       "      <td>Jill</td>\n",
       "      <td>Yes</td>\n",
       "      <td>4</td>\n",
       "      <td>4.443446</td>\n",
       "    </tr>\n",
       "    <tr>\n",
       "      <th>7</th>\n",
       "      <td>Smith</td>\n",
       "      <td>Jill</td>\n",
       "      <td>No</td>\n",
       "      <td>139</td>\n",
       "      <td>40.383084</td>\n",
       "    </tr>\n",
       "  </tbody>\n",
       "</table>\n",
       "</div>"
      ],
      "text/plain": [
       "       MD    RN Complaint  Observed   Predicted\n",
       "0  George   Jim       Yes        53   37.551318\n",
       "1  George   Jim        No       424  341.275213\n",
       "2  George  Jill       Yes        11   14.489498\n",
       "3  George  Jill        No        37  131.683971\n",
       "4   Smith   Jim       Yes         0   11.515737\n",
       "5   Smith   Jim        No        18  104.657732\n",
       "6   Smith  Jill       Yes         4    4.443446\n",
       "7   Smith  Jill        No       139   40.383084"
      ]
     },
     "execution_count": 2,
     "metadata": {},
     "output_type": "execute_result"
    }
   ],
   "source": [
    "from functools import reduce\n",
    "\n",
    "def get_count(field, val):\n",
    "    return df[df[field] == val]['Observed'].sum()\n",
    "\n",
    "def get_expected(r):\n",
    "    counts = [get_count(f, r[f]) for f in ['MD', 'RN', 'Complaint']]\n",
    "    n = df['Observed'].sum()\n",
    "    expected = reduce(lambda a, b: a * b, counts) / (n * n)\n",
    "    return expected\n",
    "    \n",
    "df['Predicted'] = df.apply(get_expected, axis=1)\n",
    "df"
   ]
  },
  {
   "cell_type": "markdown",
   "id": "08d48875-daf4-4420-9c67-f83f3c6e6c87",
   "metadata": {},
   "source": [
    "Compute the $\\chi^2$ value."
   ]
  },
  {
   "cell_type": "code",
   "execution_count": 3,
   "id": "989c694f-9e89-49a1-b357-2c579a4527ee",
   "metadata": {
    "execution": {
     "iopub.execute_input": "2022-03-07T23:55:45.193962Z",
     "iopub.status.busy": "2022-03-07T23:55:45.193962Z",
     "iopub.status.idle": "2022-03-07T23:55:45.208963Z",
     "shell.execute_reply": "2022-03-07T23:55:45.208963Z",
     "shell.execute_reply.started": "2022-03-07T23:55:45.193962Z"
    },
    "tags": []
   },
   "outputs": [
    {
     "data": {
      "text/plain": [
       "419.4679873479184"
      ]
     },
     "execution_count": 3,
     "metadata": {},
     "output_type": "execute_result"
    }
   ],
   "source": [
    "import numpy as np\n",
    "\n",
    "def diff_sq(r):\n",
    "    return np.power(r['Observed'] - r['Predicted'], 2) / r['Predicted']\n",
    "\n",
    "chi_sq = df.apply(diff_sq, axis=1).sum()\n",
    "chi_sq"
   ]
  },
  {
   "cell_type": "markdown",
   "id": "9ceb40ef-4c13-41a9-92ff-9c460953f447",
   "metadata": {},
   "source": [
    "Compute the degrees of freedom."
   ]
  },
  {
   "cell_type": "code",
   "execution_count": 4,
   "id": "cad2556f-cfe2-4576-94ea-aa39db482486",
   "metadata": {
    "execution": {
     "iopub.execute_input": "2022-03-07T23:55:45.209963Z",
     "iopub.status.busy": "2022-03-07T23:55:45.209963Z",
     "iopub.status.idle": "2022-03-07T23:55:45.224479Z",
     "shell.execute_reply": "2022-03-07T23:55:45.224479Z",
     "shell.execute_reply.started": "2022-03-07T23:55:45.209963Z"
    },
    "tags": []
   },
   "outputs": [
    {
     "data": {
      "text/plain": [
       "4"
      ]
     },
     "execution_count": 4,
     "metadata": {},
     "output_type": "execute_result"
    }
   ],
   "source": [
    "def get_dof():\n",
    "    num_values = [len(df[f].unique()) for f in ['MD', 'RN', 'Complaint']]\n",
    "    IJK = reduce(lambda a, b: a * b, num_values)\n",
    "    dof = [IJK] + [-n for n in num_values] + [2]\n",
    "    \n",
    "    return sum(dof)\n",
    "\n",
    "dof = get_dof()\n",
    "dof"
   ]
  },
  {
   "cell_type": "markdown",
   "id": "7e9a4b93-5bf0-423a-b594-c512ff69d447",
   "metadata": {},
   "source": [
    "There's many ways to compute the p-value. This approach below uses the observed and expected (Predicted) values directly with the `chisquare` function."
   ]
  },
  {
   "cell_type": "code",
   "execution_count": 5,
   "id": "1ef47990-9255-4237-aec6-43800587c08e",
   "metadata": {
    "execution": {
     "iopub.execute_input": "2022-03-07T23:55:45.225478Z",
     "iopub.status.busy": "2022-03-07T23:55:45.225478Z",
     "iopub.status.idle": "2022-03-07T23:55:45.591517Z",
     "shell.execute_reply": "2022-03-07T23:55:45.591517Z",
     "shell.execute_reply.started": "2022-03-07T23:55:45.225478Z"
    },
    "tags": []
   },
   "outputs": [
    {
     "data": {
      "text/plain": [
       "Power_divergenceResult(statistic=419.4679873479184, pvalue=1.342780486250113e-90)"
      ]
     },
     "execution_count": 5,
     "metadata": {},
     "output_type": "execute_result"
    }
   ],
   "source": [
    "from scipy.stats import chisquare\n",
    "\n",
    "chisquare(df['Observed'], df['Predicted'], ddof=dof)"
   ]
  },
  {
   "cell_type": "markdown",
   "id": "b7e9829c-5dbc-4664-9970-2f5d230c2120",
   "metadata": {},
   "source": [
    "But, since we already have the $\\chi^2$ value and degrees of freedom, we can use the `chi2.cdf` function."
   ]
  },
  {
   "cell_type": "code",
   "execution_count": 6,
   "id": "b10e113f-fbe9-43cb-98e2-8e3579d047d0",
   "metadata": {
    "execution": {
     "iopub.execute_input": "2022-03-07T23:55:45.592519Z",
     "iopub.status.busy": "2022-03-07T23:55:45.592519Z",
     "iopub.status.idle": "2022-03-07T23:55:45.607536Z",
     "shell.execute_reply": "2022-03-07T23:55:45.607536Z",
     "shell.execute_reply.started": "2022-03-07T23:55:45.592519Z"
    },
    "tags": []
   },
   "outputs": [
    {
     "data": {
      "text/plain": [
       "0.0"
      ]
     },
     "execution_count": 6,
     "metadata": {},
     "output_type": "execute_result"
    }
   ],
   "source": [
    "from scipy.stats import chi2\n",
    "\n",
    "1 - chi2.cdf(chi_sq, dof)"
   ]
  },
  {
   "cell_type": "markdown",
   "id": "8648c97f-65b7-4bf4-bfa4-e583ab0f8ef4",
   "metadata": {},
   "source": [
    "## Question 1.2"
   ]
  },
  {
   "cell_type": "markdown",
   "id": "3a797803-631a-4b3f-88ae-b49e1a398513",
   "metadata": {},
   "source": [
    "### Question 1.2.1 three joint independence models\n",
    "\n",
    "- I = MD\n",
    "- J = RN\n",
    "- K = Complaint"
   ]
  },
  {
   "cell_type": "code",
   "execution_count": 7,
   "id": "f6df9012-e922-4471-a7c0-3623cb2adad7",
   "metadata": {
    "execution": {
     "iopub.execute_input": "2022-03-07T23:55:45.609537Z",
     "iopub.status.busy": "2022-03-07T23:55:45.609537Z",
     "iopub.status.idle": "2022-03-07T23:55:45.638663Z",
     "shell.execute_reply": "2022-03-07T23:55:45.638663Z",
     "shell.execute_reply.started": "2022-03-07T23:55:45.609537Z"
    },
    "tags": []
   },
   "outputs": [
    {
     "data": {
      "text/html": [
       "<div>\n",
       "<style scoped>\n",
       "    .dataframe tbody tr th:only-of-type {\n",
       "        vertical-align: middle;\n",
       "    }\n",
       "\n",
       "    .dataframe tbody tr th {\n",
       "        vertical-align: top;\n",
       "    }\n",
       "\n",
       "    .dataframe thead th {\n",
       "        text-align: right;\n",
       "    }\n",
       "</style>\n",
       "<table border=\"1\" class=\"dataframe\">\n",
       "  <thead>\n",
       "    <tr style=\"text-align: right;\">\n",
       "      <th></th>\n",
       "      <th>MD</th>\n",
       "      <th>RN</th>\n",
       "      <th>Complaint</th>\n",
       "      <th>Observed</th>\n",
       "      <th>Predicted</th>\n",
       "    </tr>\n",
       "  </thead>\n",
       "  <tbody>\n",
       "    <tr>\n",
       "      <th>0</th>\n",
       "      <td>George</td>\n",
       "      <td>Jim</td>\n",
       "      <td>Yes</td>\n",
       "      <td>53</td>\n",
       "      <td>47.282799</td>\n",
       "    </tr>\n",
       "    <tr>\n",
       "      <th>1</th>\n",
       "      <td>George</td>\n",
       "      <td>Jim</td>\n",
       "      <td>No</td>\n",
       "      <td>424</td>\n",
       "      <td>429.717201</td>\n",
       "    </tr>\n",
       "    <tr>\n",
       "      <th>2</th>\n",
       "      <td>George</td>\n",
       "      <td>Jill</td>\n",
       "      <td>Yes</td>\n",
       "      <td>11</td>\n",
       "      <td>4.758017</td>\n",
       "    </tr>\n",
       "    <tr>\n",
       "      <th>3</th>\n",
       "      <td>George</td>\n",
       "      <td>Jill</td>\n",
       "      <td>No</td>\n",
       "      <td>37</td>\n",
       "      <td>43.241983</td>\n",
       "    </tr>\n",
       "    <tr>\n",
       "      <th>4</th>\n",
       "      <td>Smith</td>\n",
       "      <td>Jim</td>\n",
       "      <td>Yes</td>\n",
       "      <td>0</td>\n",
       "      <td>1.784257</td>\n",
       "    </tr>\n",
       "    <tr>\n",
       "      <th>5</th>\n",
       "      <td>Smith</td>\n",
       "      <td>Jim</td>\n",
       "      <td>No</td>\n",
       "      <td>18</td>\n",
       "      <td>16.215743</td>\n",
       "    </tr>\n",
       "    <tr>\n",
       "      <th>6</th>\n",
       "      <td>Smith</td>\n",
       "      <td>Jill</td>\n",
       "      <td>Yes</td>\n",
       "      <td>4</td>\n",
       "      <td>14.174927</td>\n",
       "    </tr>\n",
       "    <tr>\n",
       "      <th>7</th>\n",
       "      <td>Smith</td>\n",
       "      <td>Jill</td>\n",
       "      <td>No</td>\n",
       "      <td>139</td>\n",
       "      <td>128.825073</td>\n",
       "    </tr>\n",
       "  </tbody>\n",
       "</table>\n",
       "</div>"
      ],
      "text/plain": [
       "       MD    RN Complaint  Observed   Predicted\n",
       "0  George   Jim       Yes        53   47.282799\n",
       "1  George   Jim        No       424  429.717201\n",
       "2  George  Jill       Yes        11    4.758017\n",
       "3  George  Jill        No        37   43.241983\n",
       "4   Smith   Jim       Yes         0    1.784257\n",
       "5   Smith   Jim        No        18   16.215743\n",
       "6   Smith  Jill       Yes         4   14.174927\n",
       "7   Smith  Jill        No       139  128.825073"
      ]
     },
     "execution_count": 7,
     "metadata": {},
     "output_type": "execute_result"
    }
   ],
   "source": [
    "def get_expected(r, i, j, k):\n",
    "    Y_ij_ = df[(df[i]==r[i]) & (df[j]==r[j])]['Observed'].sum()\n",
    "    Y___k = df[df[k]==r[k]]['Observed'].sum()\n",
    "    n = df['Observed'].sum()\n",
    "    \n",
    "    expected = Y_ij_ * Y___k / n\n",
    "    return expected\n",
    "\n",
    "df['Predicted'] = df.apply(lambda r: get_expected(r, 'MD', 'RN', 'Complaint'), axis=1)\n",
    "df"
   ]
  },
  {
   "cell_type": "code",
   "execution_count": 8,
   "id": "bb1e7394-1897-4439-9e44-b21a44cf1fd3",
   "metadata": {
    "execution": {
     "iopub.execute_input": "2022-03-07T23:55:45.640846Z",
     "iopub.status.busy": "2022-03-07T23:55:45.640655Z",
     "iopub.status.idle": "2022-03-07T23:55:45.654031Z",
     "shell.execute_reply": "2022-03-07T23:55:45.654031Z",
     "shell.execute_reply.started": "2022-03-07T23:55:45.640655Z"
    },
    "tags": []
   },
   "outputs": [
    {
     "data": {
      "text/plain": [
       "Power_divergenceResult(statistic=19.945072739172545, pvalue=0.0001742500389547796)"
      ]
     },
     "execution_count": 8,
     "metadata": {},
     "output_type": "execute_result"
    }
   ],
   "source": [
    "def get_dof(i, j, k):\n",
    "    I = len(df[i].unique())\n",
    "    J = len(df[j].unique())\n",
    "    K = len(df[k].unique())\n",
    "    IJK = I * J * K\n",
    "    \n",
    "    dof = (IJK - 1) - ((I-1) + (J-1) + (K-1))\n",
    "    \n",
    "    return dof\n",
    "\n",
    "chisquare(df['Observed'], df['Predicted'], ddof=get_dof('MD', 'RN', 'Complaint'))"
   ]
  },
  {
   "cell_type": "markdown",
   "id": "f726d877-156a-4c77-978e-86cb39e0c673",
   "metadata": {
    "execution": {
     "iopub.execute_input": "2022-03-07T23:31:32.010152Z",
     "iopub.status.busy": "2022-03-07T23:31:32.010152Z",
     "iopub.status.idle": "2022-03-07T23:31:32.020152Z",
     "shell.execute_reply": "2022-03-07T23:31:32.019154Z",
     "shell.execute_reply.started": "2022-03-07T23:31:32.010152Z"
    }
   },
   "source": [
    "### Question 1.2.2 three joint independence models\n",
    "\n",
    "- I = MD\n",
    "- J = Complaint\n",
    "- K = RN"
   ]
  },
  {
   "cell_type": "code",
   "execution_count": 9,
   "id": "77c32303-c4e6-475e-bdc1-4fa162911f7c",
   "metadata": {
    "execution": {
     "iopub.execute_input": "2022-03-07T23:55:45.655034Z",
     "iopub.status.busy": "2022-03-07T23:55:45.655034Z",
     "iopub.status.idle": "2022-03-07T23:55:45.685173Z",
     "shell.execute_reply": "2022-03-07T23:55:45.685173Z",
     "shell.execute_reply.started": "2022-03-07T23:55:45.655034Z"
    }
   },
   "outputs": [
    {
     "data": {
      "text/html": [
       "<div>\n",
       "<style scoped>\n",
       "    .dataframe tbody tr th:only-of-type {\n",
       "        vertical-align: middle;\n",
       "    }\n",
       "\n",
       "    .dataframe tbody tr th {\n",
       "        vertical-align: top;\n",
       "    }\n",
       "\n",
       "    .dataframe thead th {\n",
       "        text-align: right;\n",
       "    }\n",
       "</style>\n",
       "<table border=\"1\" class=\"dataframe\">\n",
       "  <thead>\n",
       "    <tr style=\"text-align: right;\">\n",
       "      <th></th>\n",
       "      <th>MD</th>\n",
       "      <th>RN</th>\n",
       "      <th>Complaint</th>\n",
       "      <th>Observed</th>\n",
       "      <th>Predicted</th>\n",
       "    </tr>\n",
       "  </thead>\n",
       "  <tbody>\n",
       "    <tr>\n",
       "      <th>0</th>\n",
       "      <td>George</td>\n",
       "      <td>Jim</td>\n",
       "      <td>Yes</td>\n",
       "      <td>53</td>\n",
       "      <td>46.180758</td>\n",
       "    </tr>\n",
       "    <tr>\n",
       "      <th>1</th>\n",
       "      <td>George</td>\n",
       "      <td>Jim</td>\n",
       "      <td>No</td>\n",
       "      <td>424</td>\n",
       "      <td>332.645773</td>\n",
       "    </tr>\n",
       "    <tr>\n",
       "      <th>2</th>\n",
       "      <td>George</td>\n",
       "      <td>Jill</td>\n",
       "      <td>Yes</td>\n",
       "      <td>11</td>\n",
       "      <td>17.819242</td>\n",
       "    </tr>\n",
       "    <tr>\n",
       "      <th>3</th>\n",
       "      <td>George</td>\n",
       "      <td>Jill</td>\n",
       "      <td>No</td>\n",
       "      <td>37</td>\n",
       "      <td>128.354227</td>\n",
       "    </tr>\n",
       "    <tr>\n",
       "      <th>4</th>\n",
       "      <td>Smith</td>\n",
       "      <td>Jim</td>\n",
       "      <td>Yes</td>\n",
       "      <td>0</td>\n",
       "      <td>2.886297</td>\n",
       "    </tr>\n",
       "    <tr>\n",
       "      <th>5</th>\n",
       "      <td>Smith</td>\n",
       "      <td>Jim</td>\n",
       "      <td>No</td>\n",
       "      <td>18</td>\n",
       "      <td>113.287172</td>\n",
       "    </tr>\n",
       "    <tr>\n",
       "      <th>6</th>\n",
       "      <td>Smith</td>\n",
       "      <td>Jill</td>\n",
       "      <td>Yes</td>\n",
       "      <td>4</td>\n",
       "      <td>1.113703</td>\n",
       "    </tr>\n",
       "    <tr>\n",
       "      <th>7</th>\n",
       "      <td>Smith</td>\n",
       "      <td>Jill</td>\n",
       "      <td>No</td>\n",
       "      <td>139</td>\n",
       "      <td>43.712828</td>\n",
       "    </tr>\n",
       "  </tbody>\n",
       "</table>\n",
       "</div>"
      ],
      "text/plain": [
       "       MD    RN Complaint  Observed   Predicted\n",
       "0  George   Jim       Yes        53   46.180758\n",
       "1  George   Jim        No       424  332.645773\n",
       "2  George  Jill       Yes        11   17.819242\n",
       "3  George  Jill        No        37  128.354227\n",
       "4   Smith   Jim       Yes         0    2.886297\n",
       "5   Smith   Jim        No        18  113.287172\n",
       "6   Smith  Jill       Yes         4    1.113703\n",
       "7   Smith  Jill        No       139   43.712828"
      ]
     },
     "execution_count": 9,
     "metadata": {},
     "output_type": "execute_result"
    }
   ],
   "source": [
    "df['Predicted'] = df.apply(lambda r: get_expected(r, 'MD', 'Complaint', 'RN'), axis=1)\n",
    "df"
   ]
  },
  {
   "cell_type": "code",
   "execution_count": 10,
   "id": "e06352a5-bea1-462f-9716-489b34c5c243",
   "metadata": {
    "execution": {
     "iopub.execute_input": "2022-03-07T23:55:45.686061Z",
     "iopub.status.busy": "2022-03-07T23:55:45.686061Z",
     "iopub.status.idle": "2022-03-07T23:55:45.701060Z",
     "shell.execute_reply": "2022-03-07T23:55:45.701060Z",
     "shell.execute_reply.started": "2022-03-07T23:55:45.686061Z"
    }
   },
   "outputs": [
    {
     "data": {
      "text/plain": [
       "Power_divergenceResult(statistic=391.950049303092, pvalue=1.2268386569229332e-84)"
      ]
     },
     "execution_count": 10,
     "metadata": {},
     "output_type": "execute_result"
    }
   ],
   "source": [
    "chisquare(df['Observed'], df['Predicted'], ddof=get_dof('MD', 'Complaint', 'RN'))"
   ]
  },
  {
   "cell_type": "markdown",
   "id": "7b1d025d-ae77-4a8c-814a-66728551e214",
   "metadata": {},
   "source": [
    "### Question 1.2.3 three joint independence models\n",
    "\n",
    "- I = RN\n",
    "- J = Complaint\n",
    "- K = MD"
   ]
  },
  {
   "cell_type": "code",
   "execution_count": 11,
   "id": "2baeeffe-634b-4efa-b198-ff87d46ce065",
   "metadata": {
    "execution": {
     "iopub.execute_input": "2022-03-07T23:55:45.702064Z",
     "iopub.status.busy": "2022-03-07T23:55:45.702064Z",
     "iopub.status.idle": "2022-03-07T23:55:45.733061Z",
     "shell.execute_reply": "2022-03-07T23:55:45.733061Z",
     "shell.execute_reply.started": "2022-03-07T23:55:45.702064Z"
    }
   },
   "outputs": [
    {
     "data": {
      "text/html": [
       "<div>\n",
       "<style scoped>\n",
       "    .dataframe tbody tr th:only-of-type {\n",
       "        vertical-align: middle;\n",
       "    }\n",
       "\n",
       "    .dataframe tbody tr th {\n",
       "        vertical-align: top;\n",
       "    }\n",
       "\n",
       "    .dataframe thead th {\n",
       "        text-align: right;\n",
       "    }\n",
       "</style>\n",
       "<table border=\"1\" class=\"dataframe\">\n",
       "  <thead>\n",
       "    <tr style=\"text-align: right;\">\n",
       "      <th></th>\n",
       "      <th>MD</th>\n",
       "      <th>RN</th>\n",
       "      <th>Complaint</th>\n",
       "      <th>Observed</th>\n",
       "      <th>Predicted</th>\n",
       "    </tr>\n",
       "  </thead>\n",
       "  <tbody>\n",
       "    <tr>\n",
       "      <th>0</th>\n",
       "      <td>George</td>\n",
       "      <td>Jim</td>\n",
       "      <td>Yes</td>\n",
       "      <td>53</td>\n",
       "      <td>40.561224</td>\n",
       "    </tr>\n",
       "    <tr>\n",
       "      <th>1</th>\n",
       "      <td>George</td>\n",
       "      <td>Jim</td>\n",
       "      <td>No</td>\n",
       "      <td>424</td>\n",
       "      <td>338.265306</td>\n",
       "    </tr>\n",
       "    <tr>\n",
       "      <th>2</th>\n",
       "      <td>George</td>\n",
       "      <td>Jill</td>\n",
       "      <td>Yes</td>\n",
       "      <td>11</td>\n",
       "      <td>11.479592</td>\n",
       "    </tr>\n",
       "    <tr>\n",
       "      <th>3</th>\n",
       "      <td>George</td>\n",
       "      <td>Jill</td>\n",
       "      <td>No</td>\n",
       "      <td>37</td>\n",
       "      <td>134.693878</td>\n",
       "    </tr>\n",
       "    <tr>\n",
       "      <th>4</th>\n",
       "      <td>Smith</td>\n",
       "      <td>Jim</td>\n",
       "      <td>Yes</td>\n",
       "      <td>0</td>\n",
       "      <td>12.438776</td>\n",
       "    </tr>\n",
       "    <tr>\n",
       "      <th>5</th>\n",
       "      <td>Smith</td>\n",
       "      <td>Jim</td>\n",
       "      <td>No</td>\n",
       "      <td>18</td>\n",
       "      <td>103.734694</td>\n",
       "    </tr>\n",
       "    <tr>\n",
       "      <th>6</th>\n",
       "      <td>Smith</td>\n",
       "      <td>Jill</td>\n",
       "      <td>Yes</td>\n",
       "      <td>4</td>\n",
       "      <td>3.520408</td>\n",
       "    </tr>\n",
       "    <tr>\n",
       "      <th>7</th>\n",
       "      <td>Smith</td>\n",
       "      <td>Jill</td>\n",
       "      <td>No</td>\n",
       "      <td>139</td>\n",
       "      <td>41.306122</td>\n",
       "    </tr>\n",
       "  </tbody>\n",
       "</table>\n",
       "</div>"
      ],
      "text/plain": [
       "       MD    RN Complaint  Observed   Predicted\n",
       "0  George   Jim       Yes        53   40.561224\n",
       "1  George   Jim        No       424  338.265306\n",
       "2  George  Jill       Yes        11   11.479592\n",
       "3  George  Jill        No        37  134.693878\n",
       "4   Smith   Jim       Yes         0   12.438776\n",
       "5   Smith   Jim        No        18  103.734694\n",
       "6   Smith  Jill       Yes         4    3.520408\n",
       "7   Smith  Jill        No       139   41.306122"
      ]
     },
     "execution_count": 11,
     "metadata": {},
     "output_type": "execute_result"
    }
   ],
   "source": [
    "df['Predicted'] = df.apply(lambda r: get_expected(r, 'RN', 'Complaint', 'MD'), axis=1)\n",
    "df"
   ]
  },
  {
   "cell_type": "code",
   "execution_count": 12,
   "id": "1951e13e-ee9e-42c1-a565-ae53b47fac81",
   "metadata": {
    "execution": {
     "iopub.execute_input": "2022-03-07T23:55:45.734061Z",
     "iopub.status.busy": "2022-03-07T23:55:45.734061Z",
     "iopub.status.idle": "2022-03-07T23:55:45.749061Z",
     "shell.execute_reply": "2022-03-07T23:55:45.749061Z",
     "shell.execute_reply.started": "2022-03-07T23:55:45.734061Z"
    }
   },
   "outputs": [
    {
     "data": {
      "text/plain": [
       "Power_divergenceResult(statistic=410.84182247817546, pvalue=9.923443883578908e-89)"
      ]
     },
     "execution_count": 12,
     "metadata": {},
     "output_type": "execute_result"
    }
   ],
   "source": [
    "chisquare(df['Observed'], df['Predicted'], ddof=get_dof('RN', 'Complaint', 'MD'))"
   ]
  },
  {
   "cell_type": "markdown",
   "id": "4f6beccf-40b5-4b45-a86c-a8249201e20e",
   "metadata": {},
   "source": [
    "## Question 1.3"
   ]
  },
  {
   "cell_type": "code",
   "execution_count": 13,
   "id": "95d4a11a-0520-4ebc-aff0-b840039082af",
   "metadata": {
    "execution": {
     "iopub.execute_input": "2022-03-07T23:55:45.750062Z",
     "iopub.status.busy": "2022-03-07T23:55:45.750062Z",
     "iopub.status.idle": "2022-03-07T23:55:45.765060Z",
     "shell.execute_reply": "2022-03-07T23:55:45.765060Z",
     "shell.execute_reply.started": "2022-03-07T23:55:45.750062Z"
    }
   },
   "outputs": [
    {
     "data": {
      "text/html": [
       "<div>\n",
       "<style scoped>\n",
       "    .dataframe tbody tr th:only-of-type {\n",
       "        vertical-align: middle;\n",
       "    }\n",
       "\n",
       "    .dataframe tbody tr th {\n",
       "        vertical-align: top;\n",
       "    }\n",
       "\n",
       "    .dataframe thead th {\n",
       "        text-align: right;\n",
       "    }\n",
       "</style>\n",
       "<table border=\"1\" class=\"dataframe\">\n",
       "  <thead>\n",
       "    <tr style=\"text-align: right;\">\n",
       "      <th></th>\n",
       "      <th>MD</th>\n",
       "      <th>RN</th>\n",
       "      <th>Complaint</th>\n",
       "      <th>Observed</th>\n",
       "    </tr>\n",
       "  </thead>\n",
       "  <tbody>\n",
       "    <tr>\n",
       "      <th>0</th>\n",
       "      <td>0</td>\n",
       "      <td>0</td>\n",
       "      <td>1</td>\n",
       "      <td>53</td>\n",
       "    </tr>\n",
       "    <tr>\n",
       "      <th>1</th>\n",
       "      <td>0</td>\n",
       "      <td>0</td>\n",
       "      <td>0</td>\n",
       "      <td>424</td>\n",
       "    </tr>\n",
       "    <tr>\n",
       "      <th>2</th>\n",
       "      <td>0</td>\n",
       "      <td>1</td>\n",
       "      <td>1</td>\n",
       "      <td>11</td>\n",
       "    </tr>\n",
       "    <tr>\n",
       "      <th>3</th>\n",
       "      <td>0</td>\n",
       "      <td>1</td>\n",
       "      <td>0</td>\n",
       "      <td>37</td>\n",
       "    </tr>\n",
       "    <tr>\n",
       "      <th>4</th>\n",
       "      <td>1</td>\n",
       "      <td>0</td>\n",
       "      <td>1</td>\n",
       "      <td>0</td>\n",
       "    </tr>\n",
       "    <tr>\n",
       "      <th>5</th>\n",
       "      <td>1</td>\n",
       "      <td>0</td>\n",
       "      <td>0</td>\n",
       "      <td>18</td>\n",
       "    </tr>\n",
       "    <tr>\n",
       "      <th>6</th>\n",
       "      <td>1</td>\n",
       "      <td>1</td>\n",
       "      <td>1</td>\n",
       "      <td>4</td>\n",
       "    </tr>\n",
       "    <tr>\n",
       "      <th>7</th>\n",
       "      <td>1</td>\n",
       "      <td>1</td>\n",
       "      <td>0</td>\n",
       "      <td>139</td>\n",
       "    </tr>\n",
       "  </tbody>\n",
       "</table>\n",
       "</div>"
      ],
      "text/plain": [
       "   MD  RN  Complaint  Observed\n",
       "0   0   0          1        53\n",
       "1   0   0          0       424\n",
       "2   0   1          1        11\n",
       "3   0   1          0        37\n",
       "4   1   0          1         0\n",
       "5   1   0          0        18\n",
       "6   1   1          1         4\n",
       "7   1   1          0       139"
      ]
     },
     "execution_count": 13,
     "metadata": {},
     "output_type": "execute_result"
    }
   ],
   "source": [
    "df = pd.DataFrame({\n",
    "    'MD': [0] * 4 + [1] * 4,\n",
    "    'RN': [0, 0, 1, 1] * 2,\n",
    "    'Complaint': [1, 0] * 4,\n",
    "    'Observed': [53, 424, 11, 37, 0, 18, 4, 139]\n",
    "})\n",
    "\n",
    "df"
   ]
  },
  {
   "cell_type": "markdown",
   "id": "d4aaf79d-194b-4362-9cfa-f4410b5531a3",
   "metadata": {},
   "source": [
    "### Question 1.3.1 Observed ~ (RN + MD + Complaint)^2"
   ]
  },
  {
   "cell_type": "code",
   "execution_count": 14,
   "id": "47fb17cf-9fa2-42b9-b023-b0ddf2dbc13e",
   "metadata": {
    "execution": {
     "iopub.execute_input": "2022-03-07T23:55:45.766061Z",
     "iopub.status.busy": "2022-03-07T23:55:45.766061Z",
     "iopub.status.idle": "2022-03-07T23:55:45.796060Z",
     "shell.execute_reply": "2022-03-07T23:55:45.796060Z",
     "shell.execute_reply.started": "2022-03-07T23:55:45.766061Z"
    },
    "tags": []
   },
   "outputs": [
    {
     "data": {
      "text/html": [
       "<div>\n",
       "<style scoped>\n",
       "    .dataframe tbody tr th:only-of-type {\n",
       "        vertical-align: middle;\n",
       "    }\n",
       "\n",
       "    .dataframe tbody tr th {\n",
       "        vertical-align: top;\n",
       "    }\n",
       "\n",
       "    .dataframe thead th {\n",
       "        text-align: right;\n",
       "    }\n",
       "</style>\n",
       "<table border=\"1\" class=\"dataframe\">\n",
       "  <thead>\n",
       "    <tr style=\"text-align: right;\">\n",
       "      <th></th>\n",
       "      <th>RN</th>\n",
       "      <th>MD</th>\n",
       "      <th>Complaint</th>\n",
       "      <th>RN:MD</th>\n",
       "      <th>RN:Complaint</th>\n",
       "      <th>MD:Complaint</th>\n",
       "    </tr>\n",
       "  </thead>\n",
       "  <tbody>\n",
       "    <tr>\n",
       "      <th>0</th>\n",
       "      <td>0.0</td>\n",
       "      <td>0.0</td>\n",
       "      <td>1.0</td>\n",
       "      <td>0.0</td>\n",
       "      <td>0.0</td>\n",
       "      <td>0.0</td>\n",
       "    </tr>\n",
       "    <tr>\n",
       "      <th>1</th>\n",
       "      <td>0.0</td>\n",
       "      <td>0.0</td>\n",
       "      <td>0.0</td>\n",
       "      <td>0.0</td>\n",
       "      <td>0.0</td>\n",
       "      <td>0.0</td>\n",
       "    </tr>\n",
       "    <tr>\n",
       "      <th>2</th>\n",
       "      <td>1.0</td>\n",
       "      <td>0.0</td>\n",
       "      <td>1.0</td>\n",
       "      <td>0.0</td>\n",
       "      <td>1.0</td>\n",
       "      <td>0.0</td>\n",
       "    </tr>\n",
       "    <tr>\n",
       "      <th>3</th>\n",
       "      <td>1.0</td>\n",
       "      <td>0.0</td>\n",
       "      <td>0.0</td>\n",
       "      <td>0.0</td>\n",
       "      <td>0.0</td>\n",
       "      <td>0.0</td>\n",
       "    </tr>\n",
       "    <tr>\n",
       "      <th>4</th>\n",
       "      <td>0.0</td>\n",
       "      <td>1.0</td>\n",
       "      <td>1.0</td>\n",
       "      <td>0.0</td>\n",
       "      <td>0.0</td>\n",
       "      <td>1.0</td>\n",
       "    </tr>\n",
       "    <tr>\n",
       "      <th>5</th>\n",
       "      <td>0.0</td>\n",
       "      <td>1.0</td>\n",
       "      <td>0.0</td>\n",
       "      <td>0.0</td>\n",
       "      <td>0.0</td>\n",
       "      <td>0.0</td>\n",
       "    </tr>\n",
       "    <tr>\n",
       "      <th>6</th>\n",
       "      <td>1.0</td>\n",
       "      <td>1.0</td>\n",
       "      <td>1.0</td>\n",
       "      <td>1.0</td>\n",
       "      <td>1.0</td>\n",
       "      <td>1.0</td>\n",
       "    </tr>\n",
       "    <tr>\n",
       "      <th>7</th>\n",
       "      <td>1.0</td>\n",
       "      <td>1.0</td>\n",
       "      <td>0.0</td>\n",
       "      <td>1.0</td>\n",
       "      <td>0.0</td>\n",
       "      <td>0.0</td>\n",
       "    </tr>\n",
       "  </tbody>\n",
       "</table>\n",
       "</div>"
      ],
      "text/plain": [
       "    RN   MD  Complaint  RN:MD  RN:Complaint  MD:Complaint\n",
       "0  0.0  0.0        1.0    0.0           0.0           0.0\n",
       "1  0.0  0.0        0.0    0.0           0.0           0.0\n",
       "2  1.0  0.0        1.0    0.0           1.0           0.0\n",
       "3  1.0  0.0        0.0    0.0           0.0           0.0\n",
       "4  0.0  1.0        1.0    0.0           0.0           1.0\n",
       "5  0.0  1.0        0.0    0.0           0.0           0.0\n",
       "6  1.0  1.0        1.0    1.0           1.0           1.0\n",
       "7  1.0  1.0        0.0    1.0           0.0           0.0"
      ]
     },
     "execution_count": 14,
     "metadata": {},
     "output_type": "execute_result"
    }
   ],
   "source": [
    "from patsy import dmatrices\n",
    "\n",
    "formula = 'Observed ~ (RN + MD + Complaint)**2 - 1'\n",
    "y, X = dmatrices(formula, df, return_type='dataframe')\n",
    "y = y.values.reshape(1, -1)[0]\n",
    "\n",
    "X"
   ]
  },
  {
   "cell_type": "code",
   "execution_count": 15,
   "id": "9d060e04-108b-4889-9623-a62f10da862d",
   "metadata": {
    "execution": {
     "iopub.execute_input": "2022-03-07T23:55:45.797063Z",
     "iopub.status.busy": "2022-03-07T23:55:45.797063Z",
     "iopub.status.idle": "2022-03-07T23:55:45.811340Z",
     "shell.execute_reply": "2022-03-07T23:55:45.811340Z",
     "shell.execute_reply.started": "2022-03-07T23:55:45.797063Z"
    },
    "tags": []
   },
   "outputs": [
    {
     "data": {
      "text/plain": [
       "array([ 53., 424.,  11.,  37.,   0.,  18.,   4., 139.])"
      ]
     },
     "execution_count": 15,
     "metadata": {},
     "output_type": "execute_result"
    }
   ],
   "source": [
    "y"
   ]
  },
  {
   "cell_type": "code",
   "execution_count": 16,
   "id": "f593be9c-20ed-4ef8-b58b-f77265ff4491",
   "metadata": {
    "execution": {
     "iopub.execute_input": "2022-03-07T23:55:45.812341Z",
     "iopub.status.busy": "2022-03-07T23:55:45.812341Z",
     "iopub.status.idle": "2022-03-07T23:55:45.937340Z",
     "shell.execute_reply": "2022-03-07T23:55:45.937340Z",
     "shell.execute_reply.started": "2022-03-07T23:55:45.812341Z"
    },
    "tags": []
   },
   "outputs": [
    {
     "data": {
      "text/plain": [
       "intercept       5.903406\n",
       "RN             -1.637902\n",
       "MD             -1.990005\n",
       "Complaint      -1.778614\n",
       "RN:MD           2.479976\n",
       "RN:Complaint   -0.210420\n",
       "MD:Complaint   -0.828974\n",
       "dtype: float64"
      ]
     },
     "execution_count": 16,
     "metadata": {},
     "output_type": "execute_result"
    }
   ],
   "source": [
    "from sklearn.linear_model import PoissonRegressor\n",
    "\n",
    "model = PoissonRegressor()\n",
    "model.fit(X, y)\n",
    "\n",
    "pd.concat([\n",
    "    pd.Series(model.intercept_, ['intercept']), \n",
    "    pd.Series(model.coef_, X.columns)\n",
    "])"
   ]
  },
  {
   "cell_type": "markdown",
   "id": "c01bf9df-7708-41d4-ba36-230dce38153d",
   "metadata": {},
   "source": [
    "### Question 1.3.1 Observed ~ RN + MD + Complaint + RN:Complaint + MD:Complaint"
   ]
  },
  {
   "cell_type": "code",
   "execution_count": 17,
   "id": "c218e2cf-aa9a-47be-acf3-9bad8a8e1683",
   "metadata": {
    "execution": {
     "iopub.execute_input": "2022-03-07T23:55:45.938340Z",
     "iopub.status.busy": "2022-03-07T23:55:45.938340Z",
     "iopub.status.idle": "2022-03-07T23:55:45.953340Z",
     "shell.execute_reply": "2022-03-07T23:55:45.953340Z",
     "shell.execute_reply.started": "2022-03-07T23:55:45.938340Z"
    },
    "tags": []
   },
   "outputs": [],
   "source": [
    "formula = 'Observed ~ RN + MD + Complaint + RN:Complaint + MD:Complaint - 1'\n",
    "y, X = dmatrices(formula, df, return_type='dataframe')\n",
    "y = y.values.reshape(1, -1)[0]"
   ]
  },
  {
   "cell_type": "code",
   "execution_count": 18,
   "id": "c14adaa7-a5d9-4100-b7b3-2ffe5f7ddd62",
   "metadata": {
    "execution": {
     "iopub.execute_input": "2022-03-07T23:55:45.954341Z",
     "iopub.status.busy": "2022-03-07T23:55:45.954341Z",
     "iopub.status.idle": "2022-03-07T23:55:45.969340Z",
     "shell.execute_reply": "2022-03-07T23:55:45.969340Z",
     "shell.execute_reply.started": "2022-03-07T23:55:45.954341Z"
    },
    "tags": []
   },
   "outputs": [
    {
     "data": {
      "text/plain": [
       "intercept       5.746485\n",
       "RN             -0.859370\n",
       "MD             -1.033980\n",
       "Complaint      -1.733682\n",
       "RN:Complaint   -0.395496\n",
       "MD:Complaint   -0.850060\n",
       "dtype: float64"
      ]
     },
     "execution_count": 18,
     "metadata": {},
     "output_type": "execute_result"
    }
   ],
   "source": [
    "model = PoissonRegressor()\n",
    "model.fit(X, y)\n",
    "\n",
    "pd.concat([\n",
    "    pd.Series(model.intercept_, ['intercept']), \n",
    "    pd.Series(model.coef_, X.columns)\n",
    "])"
   ]
  },
  {
   "cell_type": "markdown",
   "id": "adf78452-375c-4f9c-b8bd-e172594c2a0c",
   "metadata": {},
   "source": [
    "### Question 1.3.1 Observed ~ RN + MD + Complaint + RN:MD + RN:Complaint"
   ]
  },
  {
   "cell_type": "code",
   "execution_count": 19,
   "id": "144e1985-5e1d-441c-a6d3-0375b1dd9d41",
   "metadata": {
    "execution": {
     "iopub.execute_input": "2022-03-07T23:55:45.970340Z",
     "iopub.status.busy": "2022-03-07T23:55:45.970340Z",
     "iopub.status.idle": "2022-03-07T23:55:45.985340Z",
     "shell.execute_reply": "2022-03-07T23:55:45.985340Z",
     "shell.execute_reply.started": "2022-03-07T23:55:45.970340Z"
    }
   },
   "outputs": [],
   "source": [
    "formula = 'Observed ~ RN + MD + Complaint + RN:MD + RN:Complaint - 1'\n",
    "y, X = dmatrices(formula, df, return_type='dataframe')\n",
    "y = y.values.reshape(1, -1)[0]"
   ]
  },
  {
   "cell_type": "code",
   "execution_count": 20,
   "id": "47e98830-9f93-4dad-b1c1-98e772e67359",
   "metadata": {
    "execution": {
     "iopub.execute_input": "2022-03-07T23:55:45.986342Z",
     "iopub.status.busy": "2022-03-07T23:55:45.986342Z",
     "iopub.status.idle": "2022-03-07T23:55:46.001383Z",
     "shell.execute_reply": "2022-03-07T23:55:46.001383Z",
     "shell.execute_reply.started": "2022-03-07T23:55:45.986342Z"
    }
   },
   "outputs": [
    {
     "data": {
      "text/plain": [
       "intercept       5.914860\n",
       "RN             -1.617797\n",
       "MD             -2.062572\n",
       "Complaint      -1.868571\n",
       "RN:MD           2.483688\n",
       "RN:Complaint   -0.436754\n",
       "dtype: float64"
      ]
     },
     "execution_count": 20,
     "metadata": {},
     "output_type": "execute_result"
    }
   ],
   "source": [
    "model = PoissonRegressor()\n",
    "model.fit(X, y)\n",
    "\n",
    "pd.concat([\n",
    "    pd.Series(model.intercept_, ['intercept']), \n",
    "    pd.Series(model.coef_, X.columns)\n",
    "])"
   ]
  },
  {
   "cell_type": "markdown",
   "id": "f13784eb-c064-4f62-8ab2-caf281b372c8",
   "metadata": {},
   "source": [
    "### Question 1.3.1 Observed ~ RN + MD + Complaint + RN:MD + MD:Complaint"
   ]
  },
  {
   "cell_type": "code",
   "execution_count": 21,
   "id": "2ae23e2a-117b-4e0e-b43c-505f15783369",
   "metadata": {
    "execution": {
     "iopub.execute_input": "2022-03-07T23:55:46.002389Z",
     "iopub.status.busy": "2022-03-07T23:55:46.002389Z",
     "iopub.status.idle": "2022-03-07T23:55:46.017249Z",
     "shell.execute_reply": "2022-03-07T23:55:46.017249Z",
     "shell.execute_reply.started": "2022-03-07T23:55:46.002389Z"
    }
   },
   "outputs": [],
   "source": [
    "formula = 'Observed ~ RN + MD + Complaint + RN:MD + MD:Complaint - 1'\n",
    "y, X = dmatrices(formula, df, return_type='dataframe')\n",
    "y = y.values.reshape(1, -1)[0]"
   ]
  },
  {
   "cell_type": "code",
   "execution_count": 22,
   "id": "7fbfece1-00e2-432d-9ec5-e0171847a33b",
   "metadata": {
    "execution": {
     "iopub.execute_input": "2022-03-07T23:55:46.018246Z",
     "iopub.status.busy": "2022-03-07T23:55:46.018246Z",
     "iopub.status.idle": "2022-03-07T23:55:46.032161Z",
     "shell.execute_reply": "2022-03-07T23:55:46.032161Z",
     "shell.execute_reply.started": "2022-03-07T23:55:46.018246Z"
    },
    "tags": []
   },
   "outputs": [
    {
     "data": {
      "text/plain": [
       "intercept       5.907780\n",
       "RN             -1.661851\n",
       "MD             -1.987179\n",
       "Complaint      -1.813348\n",
       "RN:MD           2.489249\n",
       "MD:Complaint   -0.889178\n",
       "dtype: float64"
      ]
     },
     "execution_count": 22,
     "metadata": {},
     "output_type": "execute_result"
    }
   ],
   "source": [
    "model = PoissonRegressor()\n",
    "model.fit(X, y)\n",
    "\n",
    "pd.concat([\n",
    "    pd.Series(model.intercept_, ['intercept']), \n",
    "    pd.Series(model.coef_, X.columns)\n",
    "])"
   ]
  },
  {
   "cell_type": "code",
   "execution_count": null,
   "id": "70b5ee21-13f0-48d6-892d-83dcac55f601",
   "metadata": {},
   "outputs": [],
   "source": []
  }
 ],
 "metadata": {
  "kernelspec": {
   "display_name": "Python 3",
   "language": "python",
   "name": "python3"
  },
  "language_info": {
   "codemirror_mode": {
    "name": "ipython",
    "version": 3
   },
   "file_extension": ".py",
   "mimetype": "text/x-python",
   "name": "python",
   "nbconvert_exporter": "python",
   "pygments_lexer": "ipython3",
   "version": "3.8.5"
  },
  "widgets": {
   "application/vnd.jupyter.widget-state+json": {
    "state": {},
    "version_major": 2,
    "version_minor": 0
   }
  }
 },
 "nbformat": 4,
 "nbformat_minor": 5
}
