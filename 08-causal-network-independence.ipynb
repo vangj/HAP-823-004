{
 "cells": [
  {
   "cell_type": "markdown",
   "id": "a3824ece-56df-4df2-b6e2-41c8f46a3b4c",
   "metadata": {},
   "source": [
    "# Causal Networks, Independence\n",
    "\n",
    "From [http://openonlinecourses.com/causalanalysis/CausalNetworks.asp](http://openonlinecourses.com/causalanalysis/CausalNetworks.asp)."
   ]
  },
  {
   "cell_type": "markdown",
   "id": "fbaba255-f728-4824-83f7-b4cc110f8517",
   "metadata": {},
   "source": [
    "## Question 1\n",
    "\n",
    "Draw networks based on the following independence assumptions."
   ]
  },
  {
   "cell_type": "markdown",
   "id": "4bbb54f3-4c3b-4d8c-ba59-4d53bf55e50b",
   "metadata": {},
   "source": [
    "### Question 1.1 I(X, Y)"
   ]
  },
  {
   "cell_type": "code",
   "execution_count": 1,
   "id": "3dbb4840-53b1-4bb0-8337-769638c4b4fe",
   "metadata": {
    "execution": {
     "iopub.execute_input": "2022-03-26T15:14:47.602896Z",
     "iopub.status.busy": "2022-03-26T15:14:47.602896Z",
     "iopub.status.idle": "2022-03-26T15:14:48.100913Z",
     "shell.execute_reply": "2022-03-26T15:14:48.100913Z",
     "shell.execute_reply.started": "2022-03-26T15:14:47.602896Z"
    },
    "tags": []
   },
   "outputs": [
    {
     "data": {
      "image/png": "[encoded data removed]",
      "text/plain": [
       "<Figure size 360x216 with 1 Axes>"
      ]
     },
     "metadata": {},
     "output_type": "display_data"
    }
   ],
   "source": [
    "import networkx as nx\n",
    "import matplotlib.pyplot as plt\n",
    "\n",
    "plt.style.use('seaborn')\n",
    "\n",
    "def draw_graph(ax, nodes, edges):\n",
    "    g = nx.DiGraph()\n",
    "    \n",
    "    for n in nodes:\n",
    "        g.add_node(n)\n",
    "    \n",
    "    for u, v in edges:\n",
    "        g.add_edge(u, v)\n",
    "    \n",
    "    nx.draw(**{\n",
    "        'G': g,\n",
    "        'ax': ax,\n",
    "        'pos': nx.spring_layout(g),\n",
    "        'with_labels': True,\n",
    "        'node_color': 'r'\n",
    "    })\n",
    "    \n",
    "fig, ax = plt.subplots(figsize=(5, 3))\n",
    "draw_graph(ax, ['X', 'Y', 'Z'], [])"
   ]
  },
  {
   "cell_type": "markdown",
   "id": "19cebb3b-5fb7-4566-8869-84ecf0b3a7af",
   "metadata": {},
   "source": [
    "### Question 1.2 I(X, Y), Not I(X,Y|Z)"
   ]
  },
  {
   "cell_type": "code",
   "execution_count": 2,
   "id": "59286aa6-f9ce-440a-9196-7e1986375b69",
   "metadata": {
    "execution": {
     "iopub.execute_input": "2022-03-26T15:14:48.101909Z",
     "iopub.status.busy": "2022-03-26T15:14:48.101909Z",
     "iopub.status.idle": "2022-03-26T15:14:48.164922Z",
     "shell.execute_reply": "2022-03-26T15:14:48.164922Z",
     "shell.execute_reply.started": "2022-03-26T15:14:48.101909Z"
    },
    "tags": []
   },
   "outputs": [
    {
     "data": {
      "image/png": "[encoded data removed]",
      "text/plain": [
       "<Figure size 360x216 with 1 Axes>"
      ]
     },
     "metadata": {},
     "output_type": "display_data"
    }
   ],
   "source": [
    "fig, ax = plt.subplots(figsize=(5, 3))\n",
    "draw_graph(ax, ['X', 'Y', 'Z'], [('X', 'Z'), ('Y', 'Z')])"
   ]
  },
  {
   "cell_type": "markdown",
   "id": "20cd5bd2-8fb4-4fe6-b80e-4a02e01133e4",
   "metadata": {},
   "source": [
    "### Question 1.3 I(X, Y), I(X,Y|Z), Y measured last"
   ]
  },
  {
   "cell_type": "code",
   "execution_count": 3,
   "id": "c280f31a-7bf9-4436-9440-c55ab9f1be3e",
   "metadata": {
    "execution": {
     "iopub.execute_input": "2022-03-26T15:14:48.165921Z",
     "iopub.status.busy": "2022-03-26T15:14:48.165921Z",
     "iopub.status.idle": "2022-03-26T15:14:48.228919Z",
     "shell.execute_reply": "2022-03-26T15:14:48.228919Z",
     "shell.execute_reply.started": "2022-03-26T15:14:48.165921Z"
    }
   },
   "outputs": [
    {
     "data": {
      "image/png": "[encoded data removed]",
      "text/plain": [
       "<Figure size 360x216 with 1 Axes>"
      ]
     },
     "metadata": {},
     "output_type": "display_data"
    }
   ],
   "source": [
    "fig, ax = plt.subplots(figsize=(5, 3))\n",
    "draw_graph(ax, ['X', 'Y', 'Z'], [('X', 'Z'), ('Z', 'Y')])"
   ]
  },
  {
   "cell_type": "markdown",
   "id": "e616f89e-0f8a-4f5c-ad53-454cbe0d2089",
   "metadata": {},
   "source": [
    "### Question 1.4 I(X, Y), I(X,Y|Z), I({X,Y}, W | Z), W measured last"
   ]
  },
  {
   "cell_type": "code",
   "execution_count": 4,
   "id": "14c984db-ea7b-48bd-907f-044f0be925f1",
   "metadata": {
    "execution": {
     "iopub.execute_input": "2022-03-26T15:14:48.229917Z",
     "iopub.status.busy": "2022-03-26T15:14:48.229917Z",
     "iopub.status.idle": "2022-03-26T15:14:48.306917Z",
     "shell.execute_reply": "2022-03-26T15:14:48.306917Z",
     "shell.execute_reply.started": "2022-03-26T15:14:48.229917Z"
    }
   },
   "outputs": [
    {
     "data": {
      "image/png": "[encoded data removed]",
      "text/plain": [
       "<Figure size 360x216 with 1 Axes>"
      ]
     },
     "metadata": {},
     "output_type": "display_data"
    }
   ],
   "source": [
    "fig, ax = plt.subplots(figsize=(5, 3))\n",
    "draw_graph(ax, ['X', 'Y', 'Z', 'W'], [('X', 'Z'), ('Y', 'Z'), ('Z', 'W')])"
   ]
  },
  {
   "cell_type": "markdown",
   "id": "e5035295-5c63-425a-a24e-f884b8480175",
   "metadata": {},
   "source": [
    "### Question 1.5 I(X,Y), I(Z,W), and X measured before Z and Y measured before W\n",
    "\n",
    "Try this on your own."
   ]
  },
  {
   "cell_type": "code",
   "execution_count": null,
   "id": "c4f9d11f-ec12-46ae-85e1-cba17fae6760",
   "metadata": {},
   "outputs": [],
   "source": []
  },
  {
   "cell_type": "markdown",
   "id": "65691eb7-c1ea-4ebc-a9d4-7d7c3ad45048",
   "metadata": {},
   "source": [
    "## Question 3"
   ]
  },
  {
   "cell_type": "markdown",
   "id": "c1b332bb-d5cc-4e1a-8980-53304505b8d9",
   "metadata": {},
   "source": [
    "## Build the network"
   ]
  },
  {
   "cell_type": "code",
   "execution_count": 5,
   "id": "bdc84f17-ab54-4946-9bad-839e60dadbaf",
   "metadata": {
    "execution": {
     "iopub.execute_input": "2022-03-26T15:14:48.307920Z",
     "iopub.status.busy": "2022-03-26T15:14:48.307920Z",
     "iopub.status.idle": "2022-03-26T15:14:48.701562Z",
     "shell.execute_reply": "2022-03-26T15:14:48.701562Z",
     "shell.execute_reply.started": "2022-03-26T15:14:48.307920Z"
    },
    "tags": []
   },
   "outputs": [],
   "source": [
    "from pybbn.graph.dag import Bbn\n",
    "from pybbn.graph.edge import Edge, EdgeType\n",
    "from pybbn.graph.node import BbnNode\n",
    "from pybbn.graph.variable import Variable\n",
    "from pybbn.pptc.inferencecontroller import InferenceController\n",
    "from pybbn.generator.bbngenerator import convert_for_drawing\n",
    "\n",
    "s = BbnNode(Variable(0, 'Severity', ['severe', 'not_severe']), [0.4, 0.6])\n",
    "d = BbnNode(Variable(1, 'DNR', ['yes', 'no']), [0.1, 0.9])\n",
    "t = BbnNode(Variable(2, 'Treatment', ['yes', 'no']), [0.1, 0.9, 0.3, 0.7, 0.2, 0.8, 0.4, 0.6])\n",
    "o = BbnNode(Variable(3, 'Outcome', ['negative', 'positive']), [0.8, 0.2, 0.9, 0.1, 0.6, 0.4, 0.7, 0.3])\n",
    "\n",
    "bbn = Bbn() \\\n",
    "    .add_node(s) \\\n",
    "    .add_node(d) \\\n",
    "    .add_node(t) \\\n",
    "    .add_node(o) \\\n",
    "    .add_edge(Edge(s, t, EdgeType.DIRECTED)) \\\n",
    "    .add_edge(Edge(d, t, EdgeType.DIRECTED)) \\\n",
    "    .add_edge(Edge(s, o, EdgeType.DIRECTED)) \\\n",
    "    .add_edge(Edge(t, o, EdgeType.DIRECTED))"
   ]
  },
  {
   "cell_type": "markdown",
   "id": "07a86542-9a4d-4058-952d-ab62ededfc18",
   "metadata": {},
   "source": [
    "### Draw the network"
   ]
  },
  {
   "cell_type": "code",
   "execution_count": 6,
   "id": "e77b397a-89c8-4828-b58e-2be836c70936",
   "metadata": {
    "execution": {
     "iopub.execute_input": "2022-03-26T15:14:48.702563Z",
     "iopub.status.busy": "2022-03-26T15:14:48.702563Z",
     "iopub.status.idle": "2022-03-26T15:14:48.781562Z",
     "shell.execute_reply": "2022-03-26T15:14:48.781562Z",
     "shell.execute_reply.started": "2022-03-26T15:14:48.702563Z"
    },
    "tags": []
   },
   "outputs": [
    {
     "data": {
      "image/png": "[encoded data removed]",
      "text/plain": [
       "<Figure size 360x360 with 1 Axes>"
      ]
     },
     "metadata": {},
     "output_type": "display_data"
    }
   ],
   "source": [
    "g = convert_for_drawing(bbn)\n",
    "\n",
    "fig, ax = plt.subplots(figsize=(5, 5))\n",
    "\n",
    "nx.draw(**{\n",
    "    'G': g,\n",
    "    'ax': ax,\n",
    "    'pos': nx.spring_layout(g),\n",
    "    'with_labels': True,\n",
    "    'labels': {n.variable.id: n.variable.name for n in [s, d, t, o]},\n",
    "    'node_color': 'r'\n",
    "})"
   ]
  },
  {
   "cell_type": "markdown",
   "id": "b393d54d-9468-453d-a57b-2e0334caf344",
   "metadata": {},
   "source": [
    "### Perform inference with evidence"
   ]
  },
  {
   "cell_type": "code",
   "execution_count": 7,
   "id": "eb00565b-4f55-478b-a214-413dfefeb1f2",
   "metadata": {
    "execution": {
     "iopub.execute_input": "2022-03-26T15:14:48.783563Z",
     "iopub.status.busy": "2022-03-26T15:14:48.782567Z",
     "iopub.status.idle": "2022-03-26T15:14:48.797562Z",
     "shell.execute_reply": "2022-03-26T15:14:48.797562Z",
     "shell.execute_reply.started": "2022-03-26T15:14:48.783563Z"
    },
    "tags": []
   },
   "outputs": [
    {
     "name": "stdout",
     "output_type": "stream",
     "text": [
      "Severity : severe=1.00000, not_severe=0.00000\n",
      "Treatment : yes=0.10000, no=0.90000\n",
      "DNR : yes=1.00000, no=0.00000\n",
      "Outcome : negative=0.89000, positive=0.11000\n"
     ]
    }
   ],
   "source": [
    "from pybbn.graph.jointree import EvidenceBuilder\n",
    "\n",
    "join_tree = InferenceController.apply(bbn)\n",
    "\n",
    "ev1 = EvidenceBuilder() \\\n",
    "        .with_node(join_tree.get_bbn_node_by_name('Severity')) \\\n",
    "        .with_evidence('severe', 1.0) \\\n",
    "        .build()\n",
    "ev2 = EvidenceBuilder() \\\n",
    "        .with_node(join_tree.get_bbn_node_by_name('DNR')) \\\n",
    "        .with_evidence('yes', 1.0) \\\n",
    "        .build()\n",
    "evidences = [ev1, ev2]\n",
    "\n",
    "join_tree.update_evidences(evidences);\n",
    "\n",
    "for node, posteriors in join_tree.get_posteriors().items():\n",
    "    p = ', '.join([f'{val}={prob:.5f}' for val, prob in posteriors.items()])\n",
    "    print(f'{node} : {p}')"
   ]
  },
  {
   "cell_type": "code",
   "execution_count": null,
   "id": "1fe9dc04-a5d2-48a4-9457-3757f9908143",
   "metadata": {},
   "outputs": [],
   "source": []
  }
 ],
 "metadata": {
  "kernelspec": {
   "display_name": "Python 3",
   "language": "python",
   "name": "python3"
  },
  "language_info": {
   "codemirror_mode": {
    "name": "ipython",
    "version": 3
   },
   "file_extension": ".py",
   "mimetype": "text/x-python",
   "name": "python",
   "nbconvert_exporter": "python",
   "pygments_lexer": "ipython3",
   "version": "3.8.5"
  },
  "widgets": {
   "application/vnd.jupyter.widget-state+json": {
    "state": {},
    "version_major": 2,
    "version_minor": 0
   }
  }
 },
 "nbformat": 4,
 "nbformat_minor": 5
}
