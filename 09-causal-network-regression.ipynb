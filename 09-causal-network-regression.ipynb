{
 "cells": [
  {
   "cell_type": "markdown",
   "id": "alleged-diana",
   "metadata": {},
   "source": [
    "# Causal Networks (Regression)\n",
    "\n",
    "Taken from [http://openonlinecourses.com/causalanalysis/CausalNetworksLASSORegression.asp](http://openonlinecourses.com/causalanalysis/CausalNetworksLASSORegression.asp)."
   ]
  },
  {
   "cell_type": "markdown",
   "id": "brave-therapist",
   "metadata": {},
   "source": [
    "## Question 1\n",
    "\n",
    "- $H \\sim \\mathrm{DME}^* + \\mathrm{CL}^* + P^*$\n",
    "- $\\mathrm{LTH} \\sim H^* + P^* + \\mathrm{DME} + \\mathrm{CL}$\n",
    "- $\\mathrm{RF} \\sim H^* + P^* + \\mathrm{DME} + \\mathrm{CL}$\n",
    "- $\\mathrm{SNF} \\sim H^* + P^* + \\mathrm{DME} + \\mathrm{CL}$\n",
    "- $\\mathrm{HHA} \\sim P^* + H + \\mathrm{DME} + \\mathrm{CL}$\n",
    "- $\\mathrm{HOS} \\sim H^* + \\mathrm{LTH}^* + \\mathrm{DME} + \\mathrm{CL} + \\mathrm{P} + \\mathrm{PBD} + \\mathrm{RF} + \\mathrm{SNF} + \\mathrm{HHA}$\n",
    "- $\\mathrm{HO} \\sim \\mathrm{LTH}^* + \\mathrm{PBD}^* + \\mathrm{DME} + \\mathrm{CL} + \\mathrm{P} + H + \\mathrm{RF} + \\mathrm{SNF} + \\mathrm{HHA}$\n",
    "- $\\mathrm{OT} \\sim \\mathrm{LTH}^* + \\mathrm{PBD}^* + \\mathrm{RF}^* + \\mathrm{SNF}^* + \\mathrm{HHA}^* + \\mathrm{DME} + \\mathrm{CL} + \\mathrm{P} + H$\n",
    "- $\\mathrm{BP} \\sim H^* + \\mathrm{HOS}^* + \\mathrm{HO}^* + \\mathrm{PBD}^* + \\mathrm{OT}^* + \\mathrm{SNF}^* + \\mathrm{HHA}^* + \\mathrm{DME} + \\mathrm{CL} + \\mathrm{P} + \\mathrm{RF} + \\mathrm{LTH}$"
   ]
  },
  {
   "cell_type": "markdown",
   "id": "collect-score",
   "metadata": {},
   "source": [
    "## Question 2"
   ]
  },
  {
   "cell_type": "markdown",
   "id": "awful-blanket",
   "metadata": {},
   "source": [
    "### Import the data"
   ]
  },
  {
   "cell_type": "code",
   "execution_count": 1,
   "id": "behind-absolute",
   "metadata": {
    "execution": {
     "iopub.execute_input": "2022-04-07T14:54:38.566834Z",
     "iopub.status.busy": "2022-04-07T14:54:38.566834Z",
     "iopub.status.idle": "2022-04-07T14:54:38.876833Z",
     "shell.execute_reply": "2022-04-07T14:54:38.876833Z",
     "shell.execute_reply.started": "2022-04-07T14:54:38.566834Z"
    }
   },
   "outputs": [
    {
     "data": {
      "text/plain": [
       "(3679, 48)"
      ]
     },
     "execution_count": 1,
     "metadata": {},
     "output_type": "execute_result"
    }
   ],
   "source": [
    "import pandas as pd\n",
    "import numpy as np\n",
    "\n",
    "df = pd.read_csv('./STARD.csv')\n",
    "df.shape"
   ]
  },
  {
   "cell_type": "code",
   "execution_count": 2,
   "id": "automatic-theology",
   "metadata": {
    "execution": {
     "iopub.execute_input": "2022-04-07T14:54:41.198702Z",
     "iopub.status.busy": "2022-04-07T14:54:41.198702Z",
     "iopub.status.idle": "2022-04-07T14:54:41.226702Z",
     "shell.execute_reply": "2022-04-07T14:54:41.226702Z",
     "shell.execute_reply.started": "2022-04-07T14:54:41.198702Z"
    }
   },
   "outputs": [
    {
     "data": {
      "text/html": [
       "<div>\n",
       "<style scoped>\n",
       "    .dataframe tbody tr th:only-of-type {\n",
       "        vertical-align: middle;\n",
       "    }\n",
       "\n",
       "    .dataframe tbody tr th {\n",
       "        vertical-align: top;\n",
       "    }\n",
       "\n",
       "    .dataframe thead th {\n",
       "        text-align: right;\n",
       "    }\n",
       "</style>\n",
       "<table border=\"1\" class=\"dataframe\">\n",
       "  <thead>\n",
       "    <tr style=\"text-align: right;\">\n",
       "      <th></th>\n",
       "      <th>id</th>\n",
       "      <th>concat</th>\n",
       "      <th>Gender</th>\n",
       "      <th>weeks</th>\n",
       "      <th>CIT</th>\n",
       "      <th>Bupropion</th>\n",
       "      <th>Mirzapine</th>\n",
       "      <th>Buspirone</th>\n",
       "      <th>Lithium</th>\n",
       "      <th>Nortriptyline</th>\n",
       "      <th>...</th>\n",
       "      <th>Anxiety</th>\n",
       "      <th>Borderline_Personality</th>\n",
       "      <th>Dependent_Personality</th>\n",
       "      <th>Antisocial_Personality</th>\n",
       "      <th>Paranoid_Personality</th>\n",
       "      <th>Personality_Disorder</th>\n",
       "      <th>Anorexia</th>\n",
       "      <th>Bulimia</th>\n",
       "      <th>Cocaine</th>\n",
       "      <th>Citalopram</th>\n",
       "    </tr>\n",
       "  </thead>\n",
       "  <tbody>\n",
       "    <tr>\n",
       "      <th>0</th>\n",
       "      <td>1233</td>\n",
       "      <td>MED1000000000</td>\n",
       "      <td>0.0</td>\n",
       "      <td>2</td>\n",
       "      <td>1.0</td>\n",
       "      <td>0.0</td>\n",
       "      <td>0.0</td>\n",
       "      <td>0.0</td>\n",
       "      <td>0.0</td>\n",
       "      <td>0.0</td>\n",
       "      <td>...</td>\n",
       "      <td>0.0</td>\n",
       "      <td>1.0</td>\n",
       "      <td>0.0</td>\n",
       "      <td>0.0</td>\n",
       "      <td>0.0</td>\n",
       "      <td>0.0</td>\n",
       "      <td>0.0</td>\n",
       "      <td>0.0</td>\n",
       "      <td>0.0</td>\n",
       "      <td>1</td>\n",
       "    </tr>\n",
       "    <tr>\n",
       "      <th>1</th>\n",
       "      <td>1236</td>\n",
       "      <td>MED1000000000</td>\n",
       "      <td>0.0</td>\n",
       "      <td>4</td>\n",
       "      <td>1.0</td>\n",
       "      <td>0.0</td>\n",
       "      <td>0.0</td>\n",
       "      <td>0.0</td>\n",
       "      <td>0.0</td>\n",
       "      <td>0.0</td>\n",
       "      <td>...</td>\n",
       "      <td>0.0</td>\n",
       "      <td>0.0</td>\n",
       "      <td>0.0</td>\n",
       "      <td>0.0</td>\n",
       "      <td>0.0</td>\n",
       "      <td>0.0</td>\n",
       "      <td>0.0</td>\n",
       "      <td>0.0</td>\n",
       "      <td>0.0</td>\n",
       "      <td>1</td>\n",
       "    </tr>\n",
       "    <tr>\n",
       "      <th>2</th>\n",
       "      <td>1256</td>\n",
       "      <td>MED1000000000</td>\n",
       "      <td>0.0</td>\n",
       "      <td>1</td>\n",
       "      <td>1.0</td>\n",
       "      <td>0.0</td>\n",
       "      <td>0.0</td>\n",
       "      <td>0.0</td>\n",
       "      <td>0.0</td>\n",
       "      <td>0.0</td>\n",
       "      <td>...</td>\n",
       "      <td>0.0</td>\n",
       "      <td>0.0</td>\n",
       "      <td>0.0</td>\n",
       "      <td>0.0</td>\n",
       "      <td>0.0</td>\n",
       "      <td>0.0</td>\n",
       "      <td>0.0</td>\n",
       "      <td>0.0</td>\n",
       "      <td>0.0</td>\n",
       "      <td>1</td>\n",
       "    </tr>\n",
       "    <tr>\n",
       "      <th>3</th>\n",
       "      <td>1259</td>\n",
       "      <td>MED1000000000</td>\n",
       "      <td>0.0</td>\n",
       "      <td>5</td>\n",
       "      <td>1.0</td>\n",
       "      <td>0.0</td>\n",
       "      <td>0.0</td>\n",
       "      <td>0.0</td>\n",
       "      <td>0.0</td>\n",
       "      <td>0.0</td>\n",
       "      <td>...</td>\n",
       "      <td>1.0</td>\n",
       "      <td>0.0</td>\n",
       "      <td>0.0</td>\n",
       "      <td>0.0</td>\n",
       "      <td>0.0</td>\n",
       "      <td>0.0</td>\n",
       "      <td>0.0</td>\n",
       "      <td>0.0</td>\n",
       "      <td>0.0</td>\n",
       "      <td>1</td>\n",
       "    </tr>\n",
       "    <tr>\n",
       "      <th>4</th>\n",
       "      <td>1262</td>\n",
       "      <td>MED1000000000</td>\n",
       "      <td>0.0</td>\n",
       "      <td>5</td>\n",
       "      <td>1.0</td>\n",
       "      <td>0.0</td>\n",
       "      <td>0.0</td>\n",
       "      <td>0.0</td>\n",
       "      <td>0.0</td>\n",
       "      <td>0.0</td>\n",
       "      <td>...</td>\n",
       "      <td>0.0</td>\n",
       "      <td>0.0</td>\n",
       "      <td>0.0</td>\n",
       "      <td>0.0</td>\n",
       "      <td>0.0</td>\n",
       "      <td>0.0</td>\n",
       "      <td>0.0</td>\n",
       "      <td>0.0</td>\n",
       "      <td>0.0</td>\n",
       "      <td>1</td>\n",
       "    </tr>\n",
       "  </tbody>\n",
       "</table>\n",
       "<p>5 rows × 48 columns</p>\n",
       "</div>"
      ],
      "text/plain": [
       "     id         concat  Gender  weeks  CIT  Bupropion  Mirzapine  Buspirone  \\\n",
       "0  1233  MED1000000000     0.0      2  1.0        0.0        0.0        0.0   \n",
       "1  1236  MED1000000000     0.0      4  1.0        0.0        0.0        0.0   \n",
       "2  1256  MED1000000000     0.0      1  1.0        0.0        0.0        0.0   \n",
       "3  1259  MED1000000000     0.0      5  1.0        0.0        0.0        0.0   \n",
       "4  1262  MED1000000000     0.0      5  1.0        0.0        0.0        0.0   \n",
       "\n",
       "   Lithium  Nortriptyline  ...  Anxiety  Borderline_Personality  \\\n",
       "0      0.0            0.0  ...      0.0                     1.0   \n",
       "1      0.0            0.0  ...      0.0                     0.0   \n",
       "2      0.0            0.0  ...      0.0                     0.0   \n",
       "3      0.0            0.0  ...      1.0                     0.0   \n",
       "4      0.0            0.0  ...      0.0                     0.0   \n",
       "\n",
       "   Dependent_Personality  Antisocial_Personality  Paranoid_Personality  \\\n",
       "0                    0.0                     0.0                   0.0   \n",
       "1                    0.0                     0.0                   0.0   \n",
       "2                    0.0                     0.0                   0.0   \n",
       "3                    0.0                     0.0                   0.0   \n",
       "4                    0.0                     0.0                   0.0   \n",
       "\n",
       "   Personality_Disorder  Anorexia  Bulimia  Cocaine  Citalopram  \n",
       "0                   0.0       0.0      0.0      0.0           1  \n",
       "1                   0.0       0.0      0.0      0.0           1  \n",
       "2                   0.0       0.0      0.0      0.0           1  \n",
       "3                   0.0       0.0      0.0      0.0           1  \n",
       "4                   0.0       0.0      0.0      0.0           1  \n",
       "\n",
       "[5 rows x 48 columns]"
      ]
     },
     "execution_count": 2,
     "metadata": {},
     "output_type": "execute_result"
    }
   ],
   "source": [
    "df.head()"
   ]
  },
  {
   "cell_type": "markdown",
   "id": "efficient-saskatchewan",
   "metadata": {},
   "source": [
    "### Check missingness"
   ]
  },
  {
   "cell_type": "code",
   "execution_count": 10,
   "id": "neutral-discrimination",
   "metadata": {
    "execution": {
     "iopub.execute_input": "2022-04-07T15:11:32.384414Z",
     "iopub.status.busy": "2022-04-07T15:11:32.384414Z",
     "iopub.status.idle": "2022-04-07T15:11:32.680403Z",
     "shell.execute_reply": "2022-04-07T15:11:32.680403Z",
     "shell.execute_reply.started": "2022-04-07T15:11:32.384414Z"
    },
    "tags": []
   },
   "outputs": [
    {
     "data": {
      "text/plain": [
       "<AxesSubplot:title={'center':'Missingness'}>"
      ]
     },
     "execution_count": 10,
     "metadata": {},
     "output_type": "execute_result"
    },
    {
     "data": {
      "image/png": "[encoded data removed]",
      "text/plain": [
       "<Figure size 720x252 with 1 Axes>"
      ]
     },
     "metadata": {},
     "output_type": "display_data"
    }
   ],
   "source": [
    "import matplotlib.pyplot as plt\n",
    "\n",
    "plt.style.use('ggplot')\n",
    "\n",
    "s = df.isna().sum()\n",
    "s.plot(kind='bar', title='Missingness', figsize=(10, 3.5))"
   ]
  },
  {
   "cell_type": "markdown",
   "id": "manufactured-anime",
   "metadata": {},
   "source": [
    "### Drop records with missing data\n",
    "\n",
    "This is just one record."
   ]
  },
  {
   "cell_type": "code",
   "execution_count": 13,
   "id": "hired-philosophy",
   "metadata": {
    "execution": {
     "iopub.execute_input": "2022-04-07T15:12:31.541657Z",
     "iopub.status.busy": "2022-04-07T15:12:31.540654Z",
     "iopub.status.idle": "2022-04-07T15:12:31.556674Z",
     "shell.execute_reply": "2022-04-07T15:12:31.556674Z",
     "shell.execute_reply.started": "2022-04-07T15:12:31.541657Z"
    },
    "tags": []
   },
   "outputs": [
    {
     "data": {
      "text/plain": [
       "(3678, 48)"
      ]
     },
     "execution_count": 13,
     "metadata": {},
     "output_type": "execute_result"
    }
   ],
   "source": [
    "df = df.dropna()\n",
    "df.shape"
   ]
  },
  {
   "cell_type": "markdown",
   "id": "imperial-contemporary",
   "metadata": {},
   "source": [
    "### Check the domains of each variable\n",
    "\n",
    "Are they all binary? Cocaine is not binary, so we'll transform that variable to be binary."
   ]
  },
  {
   "cell_type": "code",
   "execution_count": 20,
   "id": "challenging-coordinate",
   "metadata": {
    "execution": {
     "iopub.execute_input": "2022-04-07T15:16:32.330007Z",
     "iopub.status.busy": "2022-04-07T15:16:32.330007Z",
     "iopub.status.idle": "2022-04-07T15:16:32.353007Z",
     "shell.execute_reply": "2022-04-07T15:16:32.353007Z",
     "shell.execute_reply.started": "2022-04-07T15:16:32.330007Z"
    },
    "tags": []
   },
   "outputs": [
    {
     "data": {
      "text/html": [
       "<div>\n",
       "<style scoped>\n",
       "    .dataframe tbody tr th:only-of-type {\n",
       "        vertical-align: middle;\n",
       "    }\n",
       "\n",
       "    .dataframe tbody tr th {\n",
       "        vertical-align: top;\n",
       "    }\n",
       "\n",
       "    .dataframe thead th {\n",
       "        text-align: right;\n",
       "    }\n",
       "</style>\n",
       "<table border=\"1\" class=\"dataframe\">\n",
       "  <thead>\n",
       "    <tr style=\"text-align: right;\">\n",
       "      <th></th>\n",
       "      <th>variable</th>\n",
       "      <th>n_values</th>\n",
       "    </tr>\n",
       "  </thead>\n",
       "  <tbody>\n",
       "    <tr>\n",
       "      <th>42</th>\n",
       "      <td>Cocaine</td>\n",
       "      <td>3</td>\n",
       "    </tr>\n",
       "    <tr>\n",
       "      <th>0</th>\n",
       "      <td>Gender</td>\n",
       "      <td>2</td>\n",
       "    </tr>\n",
       "    <tr>\n",
       "      <th>33</th>\n",
       "      <td>PTSD</td>\n",
       "      <td>2</td>\n",
       "    </tr>\n",
       "    <tr>\n",
       "      <th>25</th>\n",
       "      <td>Alcohol</td>\n",
       "      <td>2</td>\n",
       "    </tr>\n",
       "    <tr>\n",
       "      <th>26</th>\n",
       "      <td>Amphetamine</td>\n",
       "      <td>2</td>\n",
       "    </tr>\n",
       "    <tr>\n",
       "      <th>27</th>\n",
       "      <td>Cannibis</td>\n",
       "      <td>2</td>\n",
       "    </tr>\n",
       "    <tr>\n",
       "      <th>28</th>\n",
       "      <td>Opioid</td>\n",
       "      <td>2</td>\n",
       "    </tr>\n",
       "    <tr>\n",
       "      <th>29</th>\n",
       "      <td>Panic</td>\n",
       "      <td>2</td>\n",
       "    </tr>\n",
       "    <tr>\n",
       "      <th>30</th>\n",
       "      <td>Specific_Phobia</td>\n",
       "      <td>2</td>\n",
       "    </tr>\n",
       "    <tr>\n",
       "      <th>31</th>\n",
       "      <td>Social_Phobia</td>\n",
       "      <td>2</td>\n",
       "    </tr>\n",
       "    <tr>\n",
       "      <th>32</th>\n",
       "      <td>OCD</td>\n",
       "      <td>2</td>\n",
       "    </tr>\n",
       "    <tr>\n",
       "      <th>34</th>\n",
       "      <td>Anxiety</td>\n",
       "      <td>2</td>\n",
       "    </tr>\n",
       "    <tr>\n",
       "      <th>23</th>\n",
       "      <td>Liver</td>\n",
       "      <td>2</td>\n",
       "    </tr>\n",
       "    <tr>\n",
       "      <th>35</th>\n",
       "      <td>Borderline_Personality</td>\n",
       "      <td>2</td>\n",
       "    </tr>\n",
       "    <tr>\n",
       "      <th>36</th>\n",
       "      <td>Dependent_Personality</td>\n",
       "      <td>2</td>\n",
       "    </tr>\n",
       "    <tr>\n",
       "      <th>37</th>\n",
       "      <td>Antisocial_Personality</td>\n",
       "      <td>2</td>\n",
       "    </tr>\n",
       "    <tr>\n",
       "      <th>38</th>\n",
       "      <td>Paranoid_Personality</td>\n",
       "      <td>2</td>\n",
       "    </tr>\n",
       "    <tr>\n",
       "      <th>39</th>\n",
       "      <td>Personality_Disorder</td>\n",
       "      <td>2</td>\n",
       "    </tr>\n",
       "    <tr>\n",
       "      <th>40</th>\n",
       "      <td>Anorexia</td>\n",
       "      <td>2</td>\n",
       "    </tr>\n",
       "    <tr>\n",
       "      <th>41</th>\n",
       "      <td>Bulimia</td>\n",
       "      <td>2</td>\n",
       "    </tr>\n",
       "    <tr>\n",
       "      <th>43</th>\n",
       "      <td>remission</td>\n",
       "      <td>2</td>\n",
       "    </tr>\n",
       "    <tr>\n",
       "      <th>24</th>\n",
       "      <td>Endocrine</td>\n",
       "      <td>2</td>\n",
       "    </tr>\n",
       "    <tr>\n",
       "      <th>22</th>\n",
       "      <td>Respiratory</td>\n",
       "      <td>2</td>\n",
       "    </tr>\n",
       "    <tr>\n",
       "      <th>1</th>\n",
       "      <td>CIT</td>\n",
       "      <td>2</td>\n",
       "    </tr>\n",
       "    <tr>\n",
       "      <th>21</th>\n",
       "      <td>Psychiatric_Illness</td>\n",
       "      <td>2</td>\n",
       "    </tr>\n",
       "    <tr>\n",
       "      <th>2</th>\n",
       "      <td>Bupropion</td>\n",
       "      <td>2</td>\n",
       "    </tr>\n",
       "    <tr>\n",
       "      <th>3</th>\n",
       "      <td>Mirzapine</td>\n",
       "      <td>2</td>\n",
       "    </tr>\n",
       "    <tr>\n",
       "      <th>4</th>\n",
       "      <td>Buspirone</td>\n",
       "      <td>2</td>\n",
       "    </tr>\n",
       "    <tr>\n",
       "      <th>5</th>\n",
       "      <td>Lithium</td>\n",
       "      <td>2</td>\n",
       "    </tr>\n",
       "    <tr>\n",
       "      <th>6</th>\n",
       "      <td>Nortriptyline</td>\n",
       "      <td>2</td>\n",
       "    </tr>\n",
       "    <tr>\n",
       "      <th>7</th>\n",
       "      <td>Sertraline</td>\n",
       "      <td>2</td>\n",
       "    </tr>\n",
       "    <tr>\n",
       "      <th>8</th>\n",
       "      <td>Thyroid</td>\n",
       "      <td>2</td>\n",
       "    </tr>\n",
       "    <tr>\n",
       "      <th>9</th>\n",
       "      <td>Tranylclypromine</td>\n",
       "      <td>2</td>\n",
       "    </tr>\n",
       "    <tr>\n",
       "      <th>10</th>\n",
       "      <td>Venlafaxine</td>\n",
       "      <td>2</td>\n",
       "    </tr>\n",
       "    <tr>\n",
       "      <th>11</th>\n",
       "      <td>RiskOfSuicide</td>\n",
       "      <td>2</td>\n",
       "    </tr>\n",
       "    <tr>\n",
       "      <th>12</th>\n",
       "      <td>Heart</td>\n",
       "      <td>2</td>\n",
       "    </tr>\n",
       "    <tr>\n",
       "      <th>13</th>\n",
       "      <td>Vascular</td>\n",
       "      <td>2</td>\n",
       "    </tr>\n",
       "    <tr>\n",
       "      <th>14</th>\n",
       "      <td>Haematopoietic</td>\n",
       "      <td>2</td>\n",
       "    </tr>\n",
       "    <tr>\n",
       "      <th>15</th>\n",
       "      <td>Eyes_Ears_Nose_Throat_Larynx</td>\n",
       "      <td>2</td>\n",
       "    </tr>\n",
       "    <tr>\n",
       "      <th>16</th>\n",
       "      <td>Gastrointestinal</td>\n",
       "      <td>2</td>\n",
       "    </tr>\n",
       "    <tr>\n",
       "      <th>17</th>\n",
       "      <td>Renal</td>\n",
       "      <td>2</td>\n",
       "    </tr>\n",
       "    <tr>\n",
       "      <th>18</th>\n",
       "      <td>Genitourinary</td>\n",
       "      <td>2</td>\n",
       "    </tr>\n",
       "    <tr>\n",
       "      <th>19</th>\n",
       "      <td>Musculoskeletal_Integument</td>\n",
       "      <td>2</td>\n",
       "    </tr>\n",
       "    <tr>\n",
       "      <th>20</th>\n",
       "      <td>Neurological</td>\n",
       "      <td>2</td>\n",
       "    </tr>\n",
       "    <tr>\n",
       "      <th>44</th>\n",
       "      <td>Citalopram</td>\n",
       "      <td>2</td>\n",
       "    </tr>\n",
       "  </tbody>\n",
       "</table>\n",
       "</div>"
      ],
      "text/plain": [
       "                        variable  n_values\n",
       "42                       Cocaine         3\n",
       "0                         Gender         2\n",
       "33                          PTSD         2\n",
       "25                       Alcohol         2\n",
       "26                   Amphetamine         2\n",
       "27                      Cannibis         2\n",
       "28                        Opioid         2\n",
       "29                         Panic         2\n",
       "30               Specific_Phobia         2\n",
       "31                 Social_Phobia         2\n",
       "32                           OCD         2\n",
       "34                       Anxiety         2\n",
       "23                         Liver         2\n",
       "35        Borderline_Personality         2\n",
       "36         Dependent_Personality         2\n",
       "37        Antisocial_Personality         2\n",
       "38          Paranoid_Personality         2\n",
       "39          Personality_Disorder         2\n",
       "40                      Anorexia         2\n",
       "41                       Bulimia         2\n",
       "43                     remission         2\n",
       "24                     Endocrine         2\n",
       "22                   Respiratory         2\n",
       "1                            CIT         2\n",
       "21           Psychiatric_Illness         2\n",
       "2                      Bupropion         2\n",
       "3                      Mirzapine         2\n",
       "4                      Buspirone         2\n",
       "5                        Lithium         2\n",
       "6                  Nortriptyline         2\n",
       "7                     Sertraline         2\n",
       "8                        Thyroid         2\n",
       "9               Tranylclypromine         2\n",
       "10                   Venlafaxine         2\n",
       "11                 RiskOfSuicide         2\n",
       "12                         Heart         2\n",
       "13                      Vascular         2\n",
       "14                Haematopoietic         2\n",
       "15  Eyes_Ears_Nose_Throat_Larynx         2\n",
       "16              Gastrointestinal         2\n",
       "17                         Renal         2\n",
       "18                 Genitourinary         2\n",
       "19    Musculoskeletal_Integument         2\n",
       "20                  Neurological         2\n",
       "44                    Citalopram         2"
      ]
     },
     "execution_count": 20,
     "metadata": {},
     "output_type": "execute_result"
    }
   ],
   "source": [
    "e_cols = ['remission', 'Citalopram', 'concat', 'id', 'weeks']\n",
    "i_cols = [c for c in df.columns if c not in e_cols]\n",
    "\n",
    "pd.DataFrame([(c, len(df[c].value_counts())) \n",
    "              for c in i_cols + ['remission', 'Citalopram']], columns=['variable', 'n_values']) \\\n",
    "    .sort_values(['n_values'], ascending=False)"
   ]
  },
  {
   "cell_type": "code",
   "execution_count": 23,
   "id": "swedish-terrorist",
   "metadata": {
    "execution": {
     "iopub.execute_input": "2022-04-07T15:19:00.978793Z",
     "iopub.status.busy": "2022-04-07T15:19:00.978793Z",
     "iopub.status.idle": "2022-04-07T15:19:00.991792Z",
     "shell.execute_reply": "2022-04-07T15:19:00.991792Z",
     "shell.execute_reply.started": "2022-04-07T15:19:00.978793Z"
    },
    "tags": []
   },
   "outputs": [
    {
     "data": {
      "text/plain": [
       "0.0    3641\n",
       "1.0      16\n",
       "2.0      21\n",
       "Name: Cocaine, dtype: int64"
      ]
     },
     "execution_count": 23,
     "metadata": {},
     "output_type": "execute_result"
    }
   ],
   "source": [
    "df['Cocaine'].value_counts().sort_index()"
   ]
  },
  {
   "cell_type": "code",
   "execution_count": 25,
   "id": "stuffed-basket",
   "metadata": {
    "execution": {
     "iopub.execute_input": "2022-04-07T15:19:58.408322Z",
     "iopub.status.busy": "2022-04-07T15:19:58.407322Z",
     "iopub.status.idle": "2022-04-07T15:19:58.428322Z",
     "shell.execute_reply": "2022-04-07T15:19:58.428322Z",
     "shell.execute_reply.started": "2022-04-07T15:19:58.408322Z"
    },
    "tags": []
   },
   "outputs": [
    {
     "data": {
      "text/plain": [
       "(3678, 48)"
      ]
     },
     "execution_count": 25,
     "metadata": {},
     "output_type": "execute_result"
    }
   ],
   "source": [
    "df = df \\\n",
    "    .assign(Cocaine=lambda d: d['Cocaine'].apply(lambda v: 0 if v == 0 else 1))\n",
    "df.shape"
   ]
  },
  {
   "cell_type": "markdown",
   "id": "foreign-interview",
   "metadata": {},
   "source": [
    "## Learn the parents"
   ]
  },
  {
   "cell_type": "code",
   "execution_count": 26,
   "id": "native-greek",
   "metadata": {
    "execution": {
     "iopub.execute_input": "2022-04-07T15:20:05.073196Z",
     "iopub.status.busy": "2022-04-07T15:20:05.073196Z",
     "iopub.status.idle": "2022-04-07T15:20:05.088198Z",
     "shell.execute_reply": "2022-04-07T15:20:05.088198Z",
     "shell.execute_reply.started": "2022-04-07T15:20:05.073196Z"
    }
   },
   "outputs": [
    {
     "data": {
      "text/plain": [
       "(5, 43)"
      ]
     },
     "execution_count": 26,
     "metadata": {},
     "output_type": "execute_result"
    }
   ],
   "source": [
    "e_cols = ['remission', 'Citalopram', 'concat', 'id', 'weeks']\n",
    "i_cols = [c for c in df.columns if c not in e_cols]\n",
    "\n",
    "len(e_cols), len(i_cols)"
   ]
  },
  {
   "cell_type": "markdown",
   "id": "auburn-cotton",
   "metadata": {},
   "source": [
    "Model for remission. Notice the regularization is set to `C=0.05`?"
   ]
  },
  {
   "cell_type": "code",
   "execution_count": 62,
   "id": "solved-pacific",
   "metadata": {
    "execution": {
     "iopub.execute_input": "2022-04-07T15:37:20.407736Z",
     "iopub.status.busy": "2022-04-07T15:37:20.407736Z",
     "iopub.status.idle": "2022-04-07T15:37:20.463159Z",
     "shell.execute_reply": "2022-04-07T15:37:20.463159Z",
     "shell.execute_reply.started": "2022-04-07T15:37:20.407736Z"
    },
    "tags": []
   },
   "outputs": [],
   "source": [
    "from sklearn.linear_model import LogisticRegression\n",
    "\n",
    "X, y = df[i_cols], df['remission'].ravel()\n",
    "\n",
    "m1 = LogisticRegression(penalty='l1', C=0.03, solver='saga', random_state=37)\n",
    "m1.fit(X, y)\n",
    "\n",
    "c1 = pd.Series(m1.coef_[0], X.columns)"
   ]
  },
  {
   "cell_type": "markdown",
   "id": "efficient-theory",
   "metadata": {},
   "source": [
    "Model for Citalopram."
   ]
  },
  {
   "cell_type": "code",
   "execution_count": 63,
   "id": "focused-locator",
   "metadata": {
    "execution": {
     "iopub.execute_input": "2022-04-07T15:37:20.927878Z",
     "iopub.status.busy": "2022-04-07T15:37:20.927878Z",
     "iopub.status.idle": "2022-04-07T15:37:20.996902Z",
     "shell.execute_reply": "2022-04-07T15:37:20.996902Z",
     "shell.execute_reply.started": "2022-04-07T15:37:20.927878Z"
    },
    "tags": []
   },
   "outputs": [],
   "source": [
    "X, y = df[i_cols], df['Citalopram'].ravel()\n",
    "\n",
    "m2 = LogisticRegression(penalty='l1', C=0.2, solver='saga', random_state=37)\n",
    "m2.fit(X, y)\n",
    "\n",
    "c2 = pd.Series(m2.coef_[0], X.columns)"
   ]
  },
  {
   "cell_type": "markdown",
   "id": "every-going",
   "metadata": {},
   "source": [
    "Side by side view of coefficients."
   ]
  },
  {
   "cell_type": "code",
   "execution_count": 64,
   "id": "quarterly-shift",
   "metadata": {
    "execution": {
     "iopub.execute_input": "2022-04-07T15:37:21.903336Z",
     "iopub.status.busy": "2022-04-07T15:37:21.903336Z",
     "iopub.status.idle": "2022-04-07T15:37:21.922809Z",
     "shell.execute_reply": "2022-04-07T15:37:21.922809Z",
     "shell.execute_reply.started": "2022-04-07T15:37:21.903336Z"
    },
    "tags": []
   },
   "outputs": [
    {
     "data": {
      "text/html": [
       "<div>\n",
       "<style scoped>\n",
       "    .dataframe tbody tr th:only-of-type {\n",
       "        vertical-align: middle;\n",
       "    }\n",
       "\n",
       "    .dataframe tbody tr th {\n",
       "        vertical-align: top;\n",
       "    }\n",
       "\n",
       "    .dataframe thead th {\n",
       "        text-align: right;\n",
       "    }\n",
       "</style>\n",
       "<table border=\"1\" class=\"dataframe\">\n",
       "  <thead>\n",
       "    <tr style=\"text-align: right;\">\n",
       "      <th></th>\n",
       "      <th>remission</th>\n",
       "      <th>Citalopram</th>\n",
       "    </tr>\n",
       "  </thead>\n",
       "  <tbody>\n",
       "    <tr>\n",
       "      <th>CIT</th>\n",
       "      <td>0.175928</td>\n",
       "      <td>8.734231</td>\n",
       "    </tr>\n",
       "    <tr>\n",
       "      <th>Bupropion</th>\n",
       "      <td>0.000000</td>\n",
       "      <td>-7.679186</td>\n",
       "    </tr>\n",
       "    <tr>\n",
       "      <th>Mirzapine</th>\n",
       "      <td>0.000000</td>\n",
       "      <td>-4.359558</td>\n",
       "    </tr>\n",
       "    <tr>\n",
       "      <th>Buspirone</th>\n",
       "      <td>0.000000</td>\n",
       "      <td>-7.848646</td>\n",
       "    </tr>\n",
       "    <tr>\n",
       "      <th>Lithium</th>\n",
       "      <td>0.000000</td>\n",
       "      <td>-3.660468</td>\n",
       "    </tr>\n",
       "    <tr>\n",
       "      <th>Thyroid</th>\n",
       "      <td>0.000000</td>\n",
       "      <td>-4.527627</td>\n",
       "    </tr>\n",
       "    <tr>\n",
       "      <th>Gastrointestinal</th>\n",
       "      <td>0.000000</td>\n",
       "      <td>-0.089738</td>\n",
       "    </tr>\n",
       "    <tr>\n",
       "      <th>Musculoskeletal_Integument</th>\n",
       "      <td>-0.009958</td>\n",
       "      <td>0.000000</td>\n",
       "    </tr>\n",
       "    <tr>\n",
       "      <th>Neurological</th>\n",
       "      <td>-0.067495</td>\n",
       "      <td>0.000000</td>\n",
       "    </tr>\n",
       "    <tr>\n",
       "      <th>Respiratory</th>\n",
       "      <td>-0.012714</td>\n",
       "      <td>0.000000</td>\n",
       "    </tr>\n",
       "  </tbody>\n",
       "</table>\n",
       "</div>"
      ],
      "text/plain": [
       "                            remission  Citalopram\n",
       "CIT                          0.175928    8.734231\n",
       "Bupropion                    0.000000   -7.679186\n",
       "Mirzapine                    0.000000   -4.359558\n",
       "Buspirone                    0.000000   -7.848646\n",
       "Lithium                      0.000000   -3.660468\n",
       "Thyroid                      0.000000   -4.527627\n",
       "Gastrointestinal             0.000000   -0.089738\n",
       "Musculoskeletal_Integument  -0.009958    0.000000\n",
       "Neurological                -0.067495    0.000000\n",
       "Respiratory                 -0.012714    0.000000"
      ]
     },
     "execution_count": 64,
     "metadata": {},
     "output_type": "execute_result"
    }
   ],
   "source": [
    "pd.DataFrame([c1, c2], index=['remission', 'Citalopram']).T \\\n",
    "    .query('abs(remission) > 0 or abs(Citalopram) > 0')"
   ]
  },
  {
   "cell_type": "markdown",
   "id": "narrative-minority",
   "metadata": {},
   "source": [
    "These are the variables important to remission."
   ]
  },
  {
   "cell_type": "code",
   "execution_count": 65,
   "id": "valid-latest",
   "metadata": {
    "execution": {
     "iopub.execute_input": "2022-04-07T15:37:22.976862Z",
     "iopub.status.busy": "2022-04-07T15:37:22.976862Z",
     "iopub.status.idle": "2022-04-07T15:37:22.980863Z",
     "shell.execute_reply": "2022-04-07T15:37:22.980863Z",
     "shell.execute_reply.started": "2022-04-07T15:37:22.976862Z"
    },
    "tags": []
   },
   "outputs": [
    {
     "data": {
      "text/plain": [
       "CIT                           0.175928\n",
       "Musculoskeletal_Integument   -0.009958\n",
       "Neurological                 -0.067495\n",
       "Respiratory                  -0.012714\n",
       "dtype: float64"
      ]
     },
     "execution_count": 65,
     "metadata": {},
     "output_type": "execute_result"
    }
   ],
   "source": [
    "c1[np.abs(c1) > 0]"
   ]
  },
  {
   "cell_type": "markdown",
   "id": "otherwise-arlington",
   "metadata": {},
   "source": [
    "These are the variables import to Citalopram."
   ]
  },
  {
   "cell_type": "code",
   "execution_count": 66,
   "id": "ongoing-finnish",
   "metadata": {
    "execution": {
     "iopub.execute_input": "2022-04-07T15:37:24.064853Z",
     "iopub.status.busy": "2022-04-07T15:37:24.064853Z",
     "iopub.status.idle": "2022-04-07T15:37:24.083868Z",
     "shell.execute_reply": "2022-04-07T15:37:24.083868Z",
     "shell.execute_reply.started": "2022-04-07T15:37:24.064853Z"
    },
    "tags": []
   },
   "outputs": [
    {
     "data": {
      "text/plain": [
       "CIT                 8.734231\n",
       "Bupropion          -7.679186\n",
       "Mirzapine          -4.359558\n",
       "Buspirone          -7.848646\n",
       "Lithium            -3.660468\n",
       "Thyroid            -4.527627\n",
       "Gastrointestinal   -0.089738\n",
       "dtype: float64"
      ]
     },
     "execution_count": 66,
     "metadata": {},
     "output_type": "execute_result"
    }
   ],
   "source": [
    "c2[np.abs(c2) > 0]"
   ]
  },
  {
   "cell_type": "markdown",
   "id": "norwegian-college",
   "metadata": {},
   "source": [
    "Learn the parameters for remission."
   ]
  },
  {
   "cell_type": "code",
   "execution_count": 91,
   "id": "preceding-tampa",
   "metadata": {
    "execution": {
     "iopub.execute_input": "2022-04-07T16:01:26.510125Z",
     "iopub.status.busy": "2022-04-07T16:01:26.510125Z",
     "iopub.status.idle": "2022-04-07T16:01:26.525126Z",
     "shell.execute_reply": "2022-04-07T16:01:26.525126Z",
     "shell.execute_reply.started": "2022-04-07T16:01:26.510125Z"
    },
    "tags": []
   },
   "outputs": [],
   "source": [
    "import itertools\n",
    "\n",
    "s = c1[np.abs(c1) > 0]\n",
    "values = [(0, 1) for _ in range(len(s))]\n",
    "values = list(itertools.product(*values))\n",
    "values = pd.DataFrame(values, columns=s.index)\n",
    "\n",
    "X, y = df[s.index], df['remission'].ravel()\n",
    "m = LogisticRegression(random_state=37, solver='saga')\n",
    "m.fit(X, y)\n",
    "\n",
    "remission_cpt = list(m.predict_proba(values).ravel())"
   ]
  },
  {
   "cell_type": "markdown",
   "id": "encouraging-excess",
   "metadata": {},
   "source": [
    "Learn the parameters for Citalopram."
   ]
  },
  {
   "cell_type": "code",
   "execution_count": 92,
   "id": "simplified-botswana",
   "metadata": {
    "execution": {
     "iopub.execute_input": "2022-04-07T16:01:26.989071Z",
     "iopub.status.busy": "2022-04-07T16:01:26.989071Z",
     "iopub.status.idle": "2022-04-07T16:01:27.013115Z",
     "shell.execute_reply": "2022-04-07T16:01:27.013115Z",
     "shell.execute_reply.started": "2022-04-07T16:01:26.989071Z"
    },
    "tags": []
   },
   "outputs": [],
   "source": [
    "s = c2[np.abs(c2) > 0]\n",
    "values = [(0, 1) for _ in range(len(s))]\n",
    "values = list(itertools.product(*values))\n",
    "values = pd.DataFrame(values, columns=s.index)\n",
    "\n",
    "X, y = df[s.index], df['Citalopram'].ravel()\n",
    "m = LogisticRegression(random_state=37, solver='saga')\n",
    "m.fit(X, y)\n",
    "\n",
    "citalopram_cpt = list(m.predict_proba(values).ravel())"
   ]
  },
  {
   "cell_type": "markdown",
   "id": "personal-island",
   "metadata": {},
   "source": [
    "Learn the parameters for the parents."
   ]
  },
  {
   "cell_type": "code",
   "execution_count": 102,
   "id": "affecting-smart",
   "metadata": {
    "execution": {
     "iopub.execute_input": "2022-04-07T16:05:23.195418Z",
     "iopub.status.busy": "2022-04-07T16:05:23.195418Z",
     "iopub.status.idle": "2022-04-07T16:05:23.219418Z",
     "shell.execute_reply": "2022-04-07T16:05:23.219418Z",
     "shell.execute_reply.started": "2022-04-07T16:05:23.195418Z"
    },
    "tags": []
   },
   "outputs": [],
   "source": [
    "def get_prob(c):\n",
    "    s = df[c].value_counts().sort_index()\n",
    "    s = s / s.sum()\n",
    "    p0 = s.iloc[0]\n",
    "    p1 = s.iloc[1]\n",
    "    \n",
    "    return [p0, p1]\n",
    "\n",
    "cpts = list(set(list(c1[np.abs(c1) > 0].index) + list(c2[np.abs(c2) > 0].index)))\n",
    "cpts = {c: get_prob(c) for c in cpts}\n",
    "cpts['remission'] = remission_cpt\n",
    "cpts['Citalopram'] = citalopram_cpt"
   ]
  },
  {
   "cell_type": "markdown",
   "id": "desirable-procurement",
   "metadata": {},
   "source": [
    "Define the structure."
   ]
  },
  {
   "cell_type": "code",
   "execution_count": 110,
   "id": "missing-communication",
   "metadata": {
    "execution": {
     "iopub.execute_input": "2022-04-07T16:08:35.851180Z",
     "iopub.status.busy": "2022-04-07T16:08:35.851180Z",
     "iopub.status.idle": "2022-04-07T16:08:35.858181Z",
     "shell.execute_reply": "2022-04-07T16:08:35.858181Z",
     "shell.execute_reply.started": "2022-04-07T16:08:35.851180Z"
    },
    "tags": []
   },
   "outputs": [],
   "source": [
    "nodes = ['remission', 'Citalopram'] + \\\n",
    "            list(set(list(c1[np.abs(c1) > 0].index) + list(c2[np.abs(c2) > 0].index)))\n",
    "edges = [(c, 'remission') for c in c1[np.abs(c1) > 0].index] + \\\n",
    "            [(c, 'Citalopram') for c in c2[np.abs(c2) > 0].index]"
   ]
  },
  {
   "cell_type": "markdown",
   "id": "beneficial-disability",
   "metadata": {},
   "source": [
    "Now that we have structure and parameters, we can build the BBN."
   ]
  },
  {
   "cell_type": "code",
   "execution_count": 122,
   "id": "domestic-champion",
   "metadata": {
    "execution": {
     "iopub.execute_input": "2022-04-07T16:16:17.591333Z",
     "iopub.status.busy": "2022-04-07T16:16:17.591333Z",
     "iopub.status.idle": "2022-04-07T16:16:17.608323Z",
     "shell.execute_reply": "2022-04-07T16:16:17.608323Z",
     "shell.execute_reply.started": "2022-04-07T16:16:17.591333Z"
    },
    "tags": []
   },
   "outputs": [],
   "source": [
    "from pybbn.graph.dag import Bbn\n",
    "from pybbn.graph.edge import Edge, EdgeType\n",
    "from pybbn.graph.node import BbnNode\n",
    "from pybbn.graph.variable import Variable\n",
    "from pybbn.pptc.inferencecontroller import InferenceController\n",
    "from pybbn.generator.bbngenerator import convert_for_drawing\n",
    "\n",
    "bbn = Bbn()\n",
    "\n",
    "bbn_nodes = {c: BbnNode(Variable(i, c, ['no', 'yes']), cpts[c]) for i, c in enumerate(nodes)}\n",
    "for c in bbn_nodes:\n",
    "    bbn.add_node(bbn_nodes[c])\n",
    "    \n",
    "for pa, ch in edges:\n",
    "    pa_node = bbn_nodes[pa]\n",
    "    ch_node = bbn_nodes[ch]\n",
    "    \n",
    "    bbn.add_edge(Edge(pa_node, ch_node, EdgeType.DIRECTED))"
   ]
  },
  {
   "cell_type": "code",
   "execution_count": 123,
   "id": "shaped-sperm",
   "metadata": {
    "execution": {
     "iopub.execute_input": "2022-04-07T16:16:17.847290Z",
     "iopub.status.busy": "2022-04-07T16:16:17.847290Z",
     "iopub.status.idle": "2022-04-07T16:16:17.967285Z",
     "shell.execute_reply": "2022-04-07T16:16:17.967285Z",
     "shell.execute_reply.started": "2022-04-07T16:16:17.847290Z"
    },
    "tags": []
   },
   "outputs": [
    {
     "data": {
      "image/png": "[encoded data removed]",
      "text/plain": [
       "<Figure size 360x360 with 1 Axes>"
      ]
     },
     "metadata": {},
     "output_type": "display_data"
    }
   ],
   "source": [
    "import networkx as nx\n",
    "\n",
    "g = convert_for_drawing(bbn)\n",
    "\n",
    "fig, ax = plt.subplots(figsize=(5, 5))\n",
    "\n",
    "nx.draw(**{\n",
    "    'G': g,\n",
    "    'ax': ax,\n",
    "    'pos': nx.circular_layout(g),\n",
    "    'with_labels': True,\n",
    "    'labels': {node.variable.id: name for name, node in bbn_nodes.items()},\n",
    "    'node_color': 'r'\n",
    "})"
   ]
  },
  {
   "cell_type": "markdown",
   "id": "regional-passing",
   "metadata": {},
   "source": [
    "Perform inference."
   ]
  },
  {
   "cell_type": "code",
   "execution_count": 126,
   "id": "dried-identity",
   "metadata": {
    "execution": {
     "iopub.execute_input": "2022-04-07T16:18:11.825440Z",
     "iopub.status.busy": "2022-04-07T16:18:11.825440Z",
     "iopub.status.idle": "2022-04-07T16:18:11.910439Z",
     "shell.execute_reply": "2022-04-07T16:18:11.910439Z",
     "shell.execute_reply.started": "2022-04-07T16:18:11.825440Z"
    },
    "tags": []
   },
   "outputs": [
    {
     "name": "stdout",
     "output_type": "stream",
     "text": [
      "Respiratory : no=0.66504, yes=0.33496\n",
      "Musculoskeletal_Integument : no=0.54432, yes=0.45568\n",
      "Neurological : no=0.71887, yes=0.28113\n",
      "CIT : no=0.00000, yes=1.00000\n",
      "remission : no=0.67024, yes=0.32976\n",
      "Buspirone : no=0.94454, yes=0.05546\n",
      "Thyroid : no=0.99103, yes=0.00897\n",
      "Gastrointestinal : no=0.61446, yes=0.38554\n",
      "Lithium : no=0.98967, yes=0.01033\n",
      "Mirzapine : no=0.95949, yes=0.04051\n",
      "Bupropion : no=0.89967, yes=0.10033\n",
      "Citalopram : no=0.98211, yes=0.01789\n"
     ]
    }
   ],
   "source": [
    "from pybbn.graph.jointree import EvidenceBuilder\n",
    "\n",
    "join_tree = InferenceController.apply(bbn)\n",
    "\n",
    "ev1 = EvidenceBuilder() \\\n",
    "        .with_node(join_tree.get_bbn_node_by_name('CIT')) \\\n",
    "        .with_evidence('yes', 1.0) \\\n",
    "        .build()\n",
    "evidences = [ev1]\n",
    "\n",
    "join_tree.update_evidences(evidences);\n",
    "\n",
    "for node, posteriors in join_tree.get_posteriors().items():\n",
    "    p = ', '.join([f'{val}={prob:.5f}' for val, prob in posteriors.items()])\n",
    "    print(f'{node} : {p}')"
   ]
  },
  {
   "cell_type": "code",
   "execution_count": null,
   "id": "single-blood",
   "metadata": {},
   "outputs": [],
   "source": []
  }
 ],
 "metadata": {
  "kernelspec": {
   "display_name": "Python 3",
   "language": "python",
   "name": "python3"
  },
  "language_info": {
   "codemirror_mode": {
    "name": "ipython",
    "version": 3
   },
   "file_extension": ".py",
   "mimetype": "text/x-python",
   "name": "python",
   "nbconvert_exporter": "python",
   "pygments_lexer": "ipython3",
   "version": "3.8.5"
  },
  "widgets": {
   "application/vnd.jupyter.widget-state+json": {
    "state": {},
    "version_major": 2,
    "version_minor": 0
   }
  }
 },
 "nbformat": 4,
 "nbformat_minor": 5
}
