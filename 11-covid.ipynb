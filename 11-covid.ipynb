{
 "cells": [
  {
   "cell_type": "markdown",
   "id": "scheduled-arrangement",
   "metadata": {},
   "source": [
    "# COVID"
   ]
  },
  {
   "cell_type": "markdown",
   "id": "occasional-graduation",
   "metadata": {},
   "source": [
    "## Load data"
   ]
  },
  {
   "cell_type": "code",
   "execution_count": 1,
   "id": "sublime-escape",
   "metadata": {
    "execution": {
     "iopub.status.idle": "2022-04-28T03:19:07.907198Z",
     "shell.execute_reply": "2022-04-28T03:19:07.906776Z",
     "shell.execute_reply.started": "2022-04-28T03:19:04.869962Z"
    }
   },
   "outputs": [
    {
     "data": {
      "text/plain": [
       "(1800000, 14)"
      ]
     },
     "execution_count": 1,
     "metadata": {},
     "output_type": "execute_result"
    }
   ],
   "source": [
    "import pandas as pd\n",
    "\n",
    "df = pd.read_csv('./final-sample-merged.csv', low_memory=False) \\\n",
    "    .assign(\n",
    "        disease=lambda d: d['disease'].apply(lambda v: 1 if v == 'covid' else 0),\n",
    "        race=lambda d: d['race'].apply(lambda v: 1 if v == 'white' else 0),\n",
    "        gender=lambda d: d['gender'].apply(lambda v: 1 if v == 'male' else 0),\n",
    "        age=lambda d: d['age'].apply(lambda v: int(v.split('_')[0])))\n",
    "df.shape"
   ]
  },
  {
   "cell_type": "code",
   "execution_count": 2,
   "id": "million-sitting",
   "metadata": {
    "execution": {
     "iopub.execute_input": "2022-04-28T03:19:07.908003Z",
     "iopub.status.busy": "2022-04-28T03:19:07.907896Z",
     "iopub.status.idle": "2022-04-28T03:19:07.919318Z",
     "shell.execute_reply": "2022-04-28T03:19:07.918936Z",
     "shell.execute_reply.started": "2022-04-28T03:19:07.907989Z"
    }
   },
   "outputs": [
    {
     "data": {
      "text/html": [
       "<div>\n",
       "<style scoped>\n",
       "    .dataframe tbody tr th:only-of-type {\n",
       "        vertical-align: middle;\n",
       "    }\n",
       "\n",
       "    .dataframe tbody tr th {\n",
       "        vertical-align: top;\n",
       "    }\n",
       "\n",
       "    .dataframe thead th {\n",
       "        text-align: right;\n",
       "    }\n",
       "</style>\n",
       "<table border=\"1\" class=\"dataframe\">\n",
       "  <thead>\n",
       "    <tr style=\"text-align: right;\">\n",
       "      <th></th>\n",
       "      <th>disease</th>\n",
       "      <th>race</th>\n",
       "      <th>age</th>\n",
       "      <th>gender</th>\n",
       "      <th>chills</th>\n",
       "      <th>cough</th>\n",
       "      <th>diarrhea</th>\n",
       "      <th>fever</th>\n",
       "      <th>headache</th>\n",
       "      <th>myalgia</th>\n",
       "      <th>nauseavomit</th>\n",
       "      <th>running_nose</th>\n",
       "      <th>sob</th>\n",
       "      <th>sore_throat</th>\n",
       "    </tr>\n",
       "  </thead>\n",
       "  <tbody>\n",
       "    <tr>\n",
       "      <th>0</th>\n",
       "      <td>1</td>\n",
       "      <td>0</td>\n",
       "      <td>60</td>\n",
       "      <td>0</td>\n",
       "      <td>1.0</td>\n",
       "      <td>1.0</td>\n",
       "      <td>NaN</td>\n",
       "      <td>NaN</td>\n",
       "      <td>1.0</td>\n",
       "      <td>1.0</td>\n",
       "      <td>NaN</td>\n",
       "      <td>NaN</td>\n",
       "      <td>NaN</td>\n",
       "      <td>1.0</td>\n",
       "    </tr>\n",
       "    <tr>\n",
       "      <th>1</th>\n",
       "      <td>1</td>\n",
       "      <td>1</td>\n",
       "      <td>40</td>\n",
       "      <td>1</td>\n",
       "      <td>1.0</td>\n",
       "      <td>1.0</td>\n",
       "      <td>0.0</td>\n",
       "      <td>1.0</td>\n",
       "      <td>1.0</td>\n",
       "      <td>1.0</td>\n",
       "      <td>1.0</td>\n",
       "      <td>0.0</td>\n",
       "      <td>1.0</td>\n",
       "      <td>1.0</td>\n",
       "    </tr>\n",
       "    <tr>\n",
       "      <th>2</th>\n",
       "      <td>1</td>\n",
       "      <td>1</td>\n",
       "      <td>10</td>\n",
       "      <td>0</td>\n",
       "      <td>0.0</td>\n",
       "      <td>0.0</td>\n",
       "      <td>0.0</td>\n",
       "      <td>0.0</td>\n",
       "      <td>0.0</td>\n",
       "      <td>1.0</td>\n",
       "      <td>0.0</td>\n",
       "      <td>NaN</td>\n",
       "      <td>0.0</td>\n",
       "      <td>1.0</td>\n",
       "    </tr>\n",
       "    <tr>\n",
       "      <th>3</th>\n",
       "      <td>1</td>\n",
       "      <td>1</td>\n",
       "      <td>40</td>\n",
       "      <td>1</td>\n",
       "      <td>NaN</td>\n",
       "      <td>0.0</td>\n",
       "      <td>NaN</td>\n",
       "      <td>NaN</td>\n",
       "      <td>NaN</td>\n",
       "      <td>1.0</td>\n",
       "      <td>0.0</td>\n",
       "      <td>NaN</td>\n",
       "      <td>NaN</td>\n",
       "      <td>NaN</td>\n",
       "    </tr>\n",
       "    <tr>\n",
       "      <th>4</th>\n",
       "      <td>1</td>\n",
       "      <td>1</td>\n",
       "      <td>30</td>\n",
       "      <td>1</td>\n",
       "      <td>1.0</td>\n",
       "      <td>1.0</td>\n",
       "      <td>1.0</td>\n",
       "      <td>0.0</td>\n",
       "      <td>1.0</td>\n",
       "      <td>1.0</td>\n",
       "      <td>0.0</td>\n",
       "      <td>1.0</td>\n",
       "      <td>0.0</td>\n",
       "      <td>1.0</td>\n",
       "    </tr>\n",
       "  </tbody>\n",
       "</table>\n",
       "</div>"
      ],
      "text/plain": [
       "   disease  race  age  gender  chills  cough  diarrhea  fever  headache  \\\n",
       "0        1     0   60       0     1.0    1.0       NaN    NaN       1.0   \n",
       "1        1     1   40       1     1.0    1.0       0.0    1.0       1.0   \n",
       "2        1     1   10       0     0.0    0.0       0.0    0.0       0.0   \n",
       "3        1     1   40       1     NaN    0.0       NaN    NaN       NaN   \n",
       "4        1     1   30       1     1.0    1.0       1.0    0.0       1.0   \n",
       "\n",
       "   myalgia  nauseavomit  running_nose  sob  sore_throat  \n",
       "0      1.0          NaN           NaN  NaN          1.0  \n",
       "1      1.0          1.0           0.0  1.0          1.0  \n",
       "2      1.0          0.0           NaN  0.0          1.0  \n",
       "3      1.0          0.0           NaN  NaN          NaN  \n",
       "4      1.0          0.0           1.0  0.0          1.0  "
      ]
     },
     "execution_count": 2,
     "metadata": {},
     "output_type": "execute_result"
    }
   ],
   "source": [
    "df.head()"
   ]
  },
  {
   "cell_type": "code",
   "execution_count": 3,
   "id": "postal-bidder",
   "metadata": {
    "execution": {
     "iopub.execute_input": "2022-04-28T03:19:07.920151Z",
     "iopub.status.busy": "2022-04-28T03:19:07.920048Z",
     "iopub.status.idle": "2022-04-28T03:19:07.929505Z",
     "shell.execute_reply": "2022-04-28T03:19:07.929139Z",
     "shell.execute_reply.started": "2022-04-28T03:19:07.920138Z"
    }
   },
   "outputs": [
    {
     "data": {
      "text/plain": [
       "disease           int64\n",
       "race              int64\n",
       "age               int64\n",
       "gender            int64\n",
       "chills          float64\n",
       "cough           float64\n",
       "diarrhea        float64\n",
       "fever           float64\n",
       "headache        float64\n",
       "myalgia         float64\n",
       "nauseavomit     float64\n",
       "running_nose    float64\n",
       "sob             float64\n",
       "sore_throat     float64\n",
       "dtype: object"
      ]
     },
     "execution_count": 3,
     "metadata": {},
     "output_type": "execute_result"
    }
   ],
   "source": [
    "df.dtypes"
   ]
  },
  {
   "cell_type": "markdown",
   "id": "biblical-solution",
   "metadata": {},
   "source": [
    "## Pairwise correlation\n",
    "\n",
    "We can use the pairwise correlations to build a graph structure."
   ]
  },
  {
   "cell_type": "code",
   "execution_count": 4,
   "id": "unauthorized-fault",
   "metadata": {
    "execution": {
     "iopub.execute_input": "2022-04-28T03:19:07.930245Z",
     "iopub.status.busy": "2022-04-28T03:19:07.930142Z",
     "iopub.status.idle": "2022-04-28T03:19:08.823856Z",
     "shell.execute_reply": "2022-04-28T03:19:08.823487Z",
     "shell.execute_reply.started": "2022-04-28T03:19:07.930232Z"
    }
   },
   "outputs": [],
   "source": [
    "corr_df = df.corr()"
   ]
  },
  {
   "cell_type": "code",
   "execution_count": 5,
   "id": "rocky-isolation",
   "metadata": {
    "execution": {
     "iopub.execute_input": "2022-04-28T03:19:08.824533Z",
     "iopub.status.busy": "2022-04-28T03:19:08.824411Z",
     "iopub.status.idle": "2022-04-28T03:19:09.325607Z",
     "shell.execute_reply": "2022-04-28T03:19:09.325241Z",
     "shell.execute_reply.started": "2022-04-28T03:19:08.824519Z"
    }
   },
   "outputs": [
    {
     "data": {
      "text/plain": [
       "<AxesSubplot:>"
      ]
     },
     "execution_count": 5,
     "metadata": {},
     "output_type": "execute_result"
    },
    {
     "data": {
      "image/png": "[encoded data removed]",
      "text/plain": [
       "<Figure size 432x288 with 2 Axes>"
      ]
     },
     "metadata": {
      "needs_background": "light"
     },
     "output_type": "display_data"
    }
   ],
   "source": [
    "import matplotlib.pyplot as plt\n",
    "import seaborn as sns\n",
    "\n",
    "sns.heatmap(corr_df)"
   ]
  },
  {
   "cell_type": "markdown",
   "id": "progressive-induction",
   "metadata": {},
   "source": [
    "These are the edges and their weights sorted descending."
   ]
  },
  {
   "cell_type": "code",
   "execution_count": 6,
   "id": "clean-murder",
   "metadata": {
    "execution": {
     "iopub.execute_input": "2022-04-28T03:19:09.326243Z",
     "iopub.status.busy": "2022-04-28T03:19:09.326112Z",
     "iopub.status.idle": "2022-04-28T03:19:09.334335Z",
     "shell.execute_reply": "2022-04-28T03:19:09.334044Z",
     "shell.execute_reply.started": "2022-04-28T03:19:09.326217Z"
    }
   },
   "outputs": [
    {
     "data": {
      "text/html": [
       "<div>\n",
       "<style scoped>\n",
       "    .dataframe tbody tr th:only-of-type {\n",
       "        vertical-align: middle;\n",
       "    }\n",
       "\n",
       "    .dataframe tbody tr th {\n",
       "        vertical-align: top;\n",
       "    }\n",
       "\n",
       "    .dataframe thead th {\n",
       "        text-align: right;\n",
       "    }\n",
       "</style>\n",
       "<table border=\"1\" class=\"dataframe\">\n",
       "  <thead>\n",
       "    <tr style=\"text-align: right;\">\n",
       "      <th></th>\n",
       "      <th>p</th>\n",
       "      <th>abs_p</th>\n",
       "    </tr>\n",
       "  </thead>\n",
       "  <tbody>\n",
       "    <tr>\n",
       "      <th>(disease, race)</th>\n",
       "      <td>0.698362</td>\n",
       "      <td>0.698362</td>\n",
       "    </tr>\n",
       "    <tr>\n",
       "      <th>(headache, myalgia)</th>\n",
       "      <td>0.573924</td>\n",
       "      <td>0.573924</td>\n",
       "    </tr>\n",
       "    <tr>\n",
       "      <th>(running_nose, sore_throat)</th>\n",
       "      <td>0.508476</td>\n",
       "      <td>0.508476</td>\n",
       "    </tr>\n",
       "    <tr>\n",
       "      <th>(cough, running_nose)</th>\n",
       "      <td>0.501068</td>\n",
       "      <td>0.501068</td>\n",
       "    </tr>\n",
       "    <tr>\n",
       "      <th>(headache, running_nose)</th>\n",
       "      <td>0.486561</td>\n",
       "      <td>0.486561</td>\n",
       "    </tr>\n",
       "  </tbody>\n",
       "</table>\n",
       "</div>"
      ],
      "text/plain": [
       "                                    p     abs_p\n",
       "(disease, race)              0.698362  0.698362\n",
       "(headache, myalgia)          0.573924  0.573924\n",
       "(running_nose, sore_throat)  0.508476  0.508476\n",
       "(cough, running_nose)        0.501068  0.501068\n",
       "(headache, running_nose)     0.486561  0.486561"
      ]
     },
     "execution_count": 6,
     "metadata": {},
     "output_type": "execute_result"
    }
   ],
   "source": [
    "import numpy as np\n",
    "import itertools\n",
    "\n",
    "edge_df = pd.Series(corr_df.values[np.triu_indices_from(corr_df.values, k=1)],\n",
    "          index=itertools.combinations(df.columns, 2)) \\\n",
    "    .sort_values(ascending=False) \\\n",
    "    .to_frame(name='p') \\\n",
    "    .assign(abs_p=lambda d: np.abs(d['p'])) \\\n",
    "    .sort_values(['abs_p'], ascending=False)\n",
    "edge_df.head()"
   ]
  },
  {
   "cell_type": "markdown",
   "id": "noted-bottom",
   "metadata": {},
   "source": [
    "## Build graph\n",
    "\n",
    "We will use the maximum weight spanning-tree algorithm (MWST)."
   ]
  },
  {
   "cell_type": "code",
   "execution_count": 7,
   "id": "elementary-indianapolis",
   "metadata": {
    "execution": {
     "iopub.execute_input": "2022-04-28T03:19:09.334873Z",
     "iopub.status.busy": "2022-04-28T03:19:09.334769Z",
     "iopub.status.idle": "2022-04-28T03:19:09.437016Z",
     "shell.execute_reply": "2022-04-28T03:19:09.436612Z",
     "shell.execute_reply.started": "2022-04-28T03:19:09.334860Z"
    }
   },
   "outputs": [],
   "source": [
    "import networkx as nx\n",
    "\n",
    "u = nx.Graph()\n",
    "\n",
    "for n in df.columns:\n",
    "    u.add_node(n)\n",
    "    \n",
    "for (n1, n2), _ in edge_df.iterrows():\n",
    "    if not nx.algorithms.shortest_paths.generic.has_path(u, n1, n2):\n",
    "        u.add_edge(n1, n2)\n",
    "    \n",
    "    if len(u.edges()) == len(u.nodes()) - 1:\n",
    "        break"
   ]
  },
  {
   "cell_type": "code",
   "execution_count": 8,
   "id": "official-lindsay",
   "metadata": {
    "execution": {
     "iopub.execute_input": "2022-04-28T03:19:09.437564Z",
     "iopub.status.busy": "2022-04-28T03:19:09.437458Z",
     "iopub.status.idle": "2022-04-28T03:19:09.440116Z",
     "shell.execute_reply": "2022-04-28T03:19:09.439827Z",
     "shell.execute_reply.started": "2022-04-28T03:19:09.437551Z"
    }
   },
   "outputs": [
    {
     "data": {
      "text/plain": [
       "(14, 13)"
      ]
     },
     "execution_count": 8,
     "metadata": {},
     "output_type": "execute_result"
    }
   ],
   "source": [
    "len(u.nodes()), len(u.edges())"
   ]
  },
  {
   "cell_type": "code",
   "execution_count": 9,
   "id": "dimensional-composition",
   "metadata": {
    "execution": {
     "iopub.execute_input": "2022-04-28T03:19:09.441085Z",
     "iopub.status.busy": "2022-04-28T03:19:09.440942Z",
     "iopub.status.idle": "2022-04-28T03:19:09.517569Z",
     "shell.execute_reply": "2022-04-28T03:19:09.517194Z",
     "shell.execute_reply.started": "2022-04-28T03:19:09.441072Z"
    }
   },
   "outputs": [
    {
     "data": {
      "image/png": "[encoded data removed]",
      "text/plain": [
       "<Figure size 1080x360 with 1 Axes>"
      ]
     },
     "metadata": {},
     "output_type": "display_data"
    }
   ],
   "source": [
    "fig, ax = plt.subplots(figsize=(15, 5))\n",
    "\n",
    "node_pos = nx.spring_layout(u)\n",
    "\n",
    "nx.draw(**{\n",
    "    'G': u,\n",
    "    'ax': ax,\n",
    "    'pos': node_pos,\n",
    "    'with_labels': True,\n",
    "    'node_color': 'r'\n",
    "})"
   ]
  },
  {
   "cell_type": "markdown",
   "id": "normal-comparison",
   "metadata": {},
   "source": [
    "Great, we have a structure, but this graph is undirected, we need a directed acyclic graph (DAG). Remember our knowledge about serial, diverging and converging structures? Only the converging structure is statistically distinguishable from the serial and diverging structures.\n",
    "\n",
    "- serial: A -> B -> C (implies A is conditionally independent of C given B)\n",
    "- diverging: A <- B -> C (implies A is conditionally independent of C given B)\n",
    "- converging: A -> B <- C (implies A is conditionally DEPENDENT of C given B)\n",
    "\n",
    "And remember our knowledge on Poisson regression or log-linear modeling? How we can use Poisson regression to model at least 9 different models between any 3 variables. Let's make it simple, we find all triplets in the undirected graph, denoted as (A, B, C), where \n",
    "\n",
    "- A is connected to B, \n",
    "- C is connected to B, and\n",
    "- A and C are NOT connected.\n",
    "\n",
    "If D(A,C | B) (A and C are conditionally dependent given B), then we can orient the arcs as converging: A -> B <- C."
   ]
  },
  {
   "cell_type": "code",
   "execution_count": 10,
   "id": "declared-shell",
   "metadata": {
    "execution": {
     "iopub.execute_input": "2022-04-28T03:19:09.518281Z",
     "iopub.status.busy": "2022-04-28T03:19:09.518161Z",
     "iopub.status.idle": "2022-04-28T03:19:09.522515Z",
     "shell.execute_reply": "2022-04-28T03:19:09.522162Z",
     "shell.execute_reply.started": "2022-04-28T03:19:09.518267Z"
    }
   },
   "outputs": [
    {
     "data": {
      "text/plain": [
       "16"
      ]
     },
     "execution_count": 10,
     "metadata": {},
     "output_type": "execute_result"
    }
   ],
   "source": [
    "def get_triplets(n):\n",
    "    def is_connected(a, c):\n",
    "        n_a = set(u.neighbors(a))\n",
    "        n_c = set(u.neighbors(c))\n",
    "        \n",
    "        if c not in n_a and a not in n_c:\n",
    "            return False\n",
    "        return True\n",
    "        \n",
    "    neighbors = list(u.neighbors(n))\n",
    "    if len(neighbors) < 2:\n",
    "        return []\n",
    "    \n",
    "    pairs = itertools.combinations(neighbors, 2)\n",
    "    pairs = filter(lambda tup: not is_connected(*tup), pairs)\n",
    "    pairs = map(lambda tup: (tup[0], n, tup[1]), pairs)\n",
    "    return list(pairs)\n",
    "\n",
    "triplets = list(itertools.chain(*[get_triplets(c) for c in df.columns]))\n",
    "len(triplets)"
   ]
  },
  {
   "cell_type": "code",
   "execution_count": 11,
   "id": "otherwise-coast",
   "metadata": {
    "execution": {
     "iopub.execute_input": "2022-04-28T03:19:09.522997Z",
     "iopub.status.busy": "2022-04-28T03:19:09.522898Z",
     "iopub.status.idle": "2022-04-28T03:19:09.525830Z",
     "shell.execute_reply": "2022-04-28T03:19:09.525547Z",
     "shell.execute_reply.started": "2022-04-28T03:19:09.522984Z"
    }
   },
   "outputs": [
    {
     "data": {
      "text/plain": [
       "[('race', 'disease', 'chills'),\n",
       " ('cough', 'chills', 'fever'),\n",
       " ('cough', 'chills', 'disease'),\n",
       " ('fever', 'chills', 'disease'),\n",
       " ('running_nose', 'cough', 'chills'),\n",
       " ('chills', 'fever', 'gender'),\n",
       " ('myalgia', 'headache', 'running_nose'),\n",
       " ('myalgia', 'headache', 'nauseavomit'),\n",
       " ('running_nose', 'headache', 'nauseavomit'),\n",
       " ('headache', 'myalgia', 'sob'),\n",
       " ('headache', 'myalgia', 'diarrhea'),\n",
       " ('sob', 'myalgia', 'diarrhea'),\n",
       " ('sore_throat', 'running_nose', 'cough'),\n",
       " ('sore_throat', 'running_nose', 'headache'),\n",
       " ('cough', 'running_nose', 'headache'),\n",
       " ('myalgia', 'sob', 'age')]"
      ]
     },
     "execution_count": 11,
     "metadata": {},
     "output_type": "execute_result"
    }
   ],
   "source": [
    "triplets"
   ]
  },
  {
   "cell_type": "markdown",
   "id": "catholic-active",
   "metadata": {},
   "source": [
    "There are 16 triplets that we have to model (or test for conditional dependence) to attempt to turn the undirected edges to directed ones. Let's use the Chi-Square test of conditional independence. The critical value is 18.5 with 4 degrees of freedom (alpha=0.001). If any Chi-Square value is greater than 18.5, we fail to reject the null hypothesis (that A and C are conditionally independent given B)."
   ]
  },
  {
   "cell_type": "code",
   "execution_count": 12,
   "id": "editorial-dragon",
   "metadata": {
    "execution": {
     "iopub.execute_input": "2022-04-28T03:19:09.526370Z",
     "iopub.status.busy": "2022-04-28T03:19:09.526269Z",
     "iopub.status.idle": "2022-04-28T03:19:11.016051Z",
     "shell.execute_reply": "2022-04-28T03:19:11.015741Z",
     "shell.execute_reply.started": "2022-04-28T03:19:09.526357Z"
    }
   },
   "outputs": [
    {
     "data": {
      "text/html": [
       "<div>\n",
       "<style scoped>\n",
       "    .dataframe tbody tr th:only-of-type {\n",
       "        vertical-align: middle;\n",
       "    }\n",
       "\n",
       "    .dataframe tbody tr th {\n",
       "        vertical-align: top;\n",
       "    }\n",
       "\n",
       "    .dataframe thead th {\n",
       "        text-align: right;\n",
       "    }\n",
       "</style>\n",
       "<table border=\"1\" class=\"dataframe\">\n",
       "  <thead>\n",
       "    <tr style=\"text-align: right;\">\n",
       "      <th></th>\n",
       "      <th>a</th>\n",
       "      <th>b</th>\n",
       "      <th>c</th>\n",
       "      <th>chi</th>\n",
       "      <th>dof</th>\n",
       "      <th>sig</th>\n",
       "    </tr>\n",
       "  </thead>\n",
       "  <tbody>\n",
       "    <tr>\n",
       "      <th>15</th>\n",
       "      <td>myalgia</td>\n",
       "      <td>sob</td>\n",
       "      <td>age</td>\n",
       "      <td>3.524911e+06</td>\n",
       "      <td>4</td>\n",
       "      <td>1</td>\n",
       "    </tr>\n",
       "    <tr>\n",
       "      <th>0</th>\n",
       "      <td>race</td>\n",
       "      <td>disease</td>\n",
       "      <td>chills</td>\n",
       "      <td>9.685151e+05</td>\n",
       "      <td>4</td>\n",
       "      <td>1</td>\n",
       "    </tr>\n",
       "    <tr>\n",
       "      <th>12</th>\n",
       "      <td>sore_throat</td>\n",
       "      <td>running_nose</td>\n",
       "      <td>cough</td>\n",
       "      <td>7.824393e+05</td>\n",
       "      <td>4</td>\n",
       "      <td>1</td>\n",
       "    </tr>\n",
       "    <tr>\n",
       "      <th>10</th>\n",
       "      <td>headache</td>\n",
       "      <td>myalgia</td>\n",
       "      <td>diarrhea</td>\n",
       "      <td>7.809949e+05</td>\n",
       "      <td>4</td>\n",
       "      <td>1</td>\n",
       "    </tr>\n",
       "    <tr>\n",
       "      <th>4</th>\n",
       "      <td>running_nose</td>\n",
       "      <td>cough</td>\n",
       "      <td>chills</td>\n",
       "      <td>7.309650e+05</td>\n",
       "      <td>4</td>\n",
       "      <td>1</td>\n",
       "    </tr>\n",
       "    <tr>\n",
       "      <th>7</th>\n",
       "      <td>myalgia</td>\n",
       "      <td>headache</td>\n",
       "      <td>nauseavomit</td>\n",
       "      <td>7.303296e+05</td>\n",
       "      <td>4</td>\n",
       "      <td>1</td>\n",
       "    </tr>\n",
       "    <tr>\n",
       "      <th>9</th>\n",
       "      <td>headache</td>\n",
       "      <td>myalgia</td>\n",
       "      <td>sob</td>\n",
       "      <td>6.974964e+05</td>\n",
       "      <td>4</td>\n",
       "      <td>1</td>\n",
       "    </tr>\n",
       "    <tr>\n",
       "      <th>11</th>\n",
       "      <td>sob</td>\n",
       "      <td>myalgia</td>\n",
       "      <td>diarrhea</td>\n",
       "      <td>6.476410e+05</td>\n",
       "      <td>4</td>\n",
       "      <td>1</td>\n",
       "    </tr>\n",
       "    <tr>\n",
       "      <th>13</th>\n",
       "      <td>sore_throat</td>\n",
       "      <td>running_nose</td>\n",
       "      <td>headache</td>\n",
       "      <td>6.224552e+05</td>\n",
       "      <td>4</td>\n",
       "      <td>1</td>\n",
       "    </tr>\n",
       "    <tr>\n",
       "      <th>1</th>\n",
       "      <td>cough</td>\n",
       "      <td>chills</td>\n",
       "      <td>fever</td>\n",
       "      <td>5.981784e+05</td>\n",
       "      <td>4</td>\n",
       "      <td>1</td>\n",
       "    </tr>\n",
       "    <tr>\n",
       "      <th>6</th>\n",
       "      <td>myalgia</td>\n",
       "      <td>headache</td>\n",
       "      <td>running_nose</td>\n",
       "      <td>5.884519e+05</td>\n",
       "      <td>4</td>\n",
       "      <td>1</td>\n",
       "    </tr>\n",
       "    <tr>\n",
       "      <th>14</th>\n",
       "      <td>cough</td>\n",
       "      <td>running_nose</td>\n",
       "      <td>headache</td>\n",
       "      <td>5.822597e+05</td>\n",
       "      <td>4</td>\n",
       "      <td>1</td>\n",
       "    </tr>\n",
       "    <tr>\n",
       "      <th>8</th>\n",
       "      <td>running_nose</td>\n",
       "      <td>headache</td>\n",
       "      <td>nauseavomit</td>\n",
       "      <td>5.013523e+05</td>\n",
       "      <td>4</td>\n",
       "      <td>1</td>\n",
       "    </tr>\n",
       "    <tr>\n",
       "      <th>2</th>\n",
       "      <td>cough</td>\n",
       "      <td>chills</td>\n",
       "      <td>disease</td>\n",
       "      <td>3.647219e+05</td>\n",
       "      <td>4</td>\n",
       "      <td>1</td>\n",
       "    </tr>\n",
       "    <tr>\n",
       "      <th>3</th>\n",
       "      <td>fever</td>\n",
       "      <td>chills</td>\n",
       "      <td>disease</td>\n",
       "      <td>3.069323e+05</td>\n",
       "      <td>4</td>\n",
       "      <td>1</td>\n",
       "    </tr>\n",
       "    <tr>\n",
       "      <th>5</th>\n",
       "      <td>chills</td>\n",
       "      <td>fever</td>\n",
       "      <td>gender</td>\n",
       "      <td>2.039085e+05</td>\n",
       "      <td>4</td>\n",
       "      <td>1</td>\n",
       "    </tr>\n",
       "  </tbody>\n",
       "</table>\n",
       "</div>"
      ],
      "text/plain": [
       "               a             b             c           chi  dof  sig\n",
       "15       myalgia           sob           age  3.524911e+06    4    1\n",
       "0           race       disease        chills  9.685151e+05    4    1\n",
       "12   sore_throat  running_nose         cough  7.824393e+05    4    1\n",
       "10      headache       myalgia      diarrhea  7.809949e+05    4    1\n",
       "4   running_nose         cough        chills  7.309650e+05    4    1\n",
       "7        myalgia      headache   nauseavomit  7.303296e+05    4    1\n",
       "9       headache       myalgia           sob  6.974964e+05    4    1\n",
       "11           sob       myalgia      diarrhea  6.476410e+05    4    1\n",
       "13   sore_throat  running_nose      headache  6.224552e+05    4    1\n",
       "1          cough        chills         fever  5.981784e+05    4    1\n",
       "6        myalgia      headache  running_nose  5.884519e+05    4    1\n",
       "14         cough  running_nose      headache  5.822597e+05    4    1\n",
       "8   running_nose      headache   nauseavomit  5.013523e+05    4    1\n",
       "2          cough        chills       disease  3.647219e+05    4    1\n",
       "3          fever        chills       disease  3.069323e+05    4    1\n",
       "5         chills         fever        gender  2.039085e+05    4    1"
      ]
     },
     "execution_count": 12,
     "metadata": {},
     "output_type": "execute_result"
    }
   ],
   "source": [
    "def get_observed(a, b, c):\n",
    "    def get_n(n, v, data):\n",
    "        return data[data[n]==v]['observed'].sum()\n",
    "        \n",
    "    count = df[[a, b, c]] \\\n",
    "        .dropna() \\\n",
    "        .assign(observed=1) \\\n",
    "        .groupby([a, b, c]) \\\n",
    "        .sum() \\\n",
    "        .reset_index()\n",
    "    \n",
    "    N = count['observed'].sum()\n",
    "    \n",
    "    count = count.assign(\n",
    "        a=lambda d: d.apply(lambda r: get_n(a, r[a], count), axis=1),\n",
    "        b=lambda d: d.apply(lambda r: get_n(b, r[b], count), axis=1),\n",
    "        c=lambda d: d.apply(lambda r: get_n(b, r[b], count), axis=1),\n",
    "        expected=lambda d: d['a'] * d['b'] * d['c'] / (N*N),\n",
    "        chi=lambda d: np.power(d['observed'] - d['expected'], 2) / d['expected'])\n",
    "    \n",
    "    dof = (2 * 2 * 2) - 2 - 2 - 2 + 2\n",
    "    chi = count['chi'].sum()\n",
    "    return {\n",
    "        'a': a,\n",
    "        'b': b,\n",
    "        'c': c,\n",
    "        'chi': chi, \n",
    "        'dof': dof,\n",
    "        'sig': 1 if chi >= 19 else 0\n",
    "    }\n",
    "\n",
    "pd.DataFrame([get_observed(*t) for t in triplets]) \\\n",
    "    .sort_values(['chi'], ascending=False)"
   ]
  },
  {
   "cell_type": "markdown",
   "id": "comparable-consideration",
   "metadata": {},
   "source": [
    "Ok, so it seems like all the triplets are significant! Wow. Since we have the triplets sorted from largest to smallest, use these triplets to orient the arcs A -> B <- C without creating cycle. If there are any arcs that remain undirected, use your best judgement to given them a direction without causing the graph to be cyclic."
   ]
  },
  {
   "cell_type": "code",
   "execution_count": 13,
   "id": "modified-survival",
   "metadata": {
    "execution": {
     "iopub.execute_input": "2022-04-28T03:19:11.016595Z",
     "iopub.status.busy": "2022-04-28T03:19:11.016491Z",
     "iopub.status.idle": "2022-04-28T03:19:11.019004Z",
     "shell.execute_reply": "2022-04-28T03:19:11.018652Z",
     "shell.execute_reply.started": "2022-04-28T03:19:11.016581Z"
    }
   },
   "outputs": [],
   "source": [
    "edges = [\n",
    "    ('age', 'sob'),\n",
    "    ('myalgia', 'sob'),\n",
    "    ('race', 'disease'),\n",
    "    ('chills', 'disease'),\n",
    "    ('cough', 'running_nose'),\n",
    "    ('sore_throat', 'running_nose'),\n",
    "    ('headache', 'myalgia'),\n",
    "    ('diarrhea', 'myalgia'),\n",
    "    ('headache', 'running_nose'),\n",
    "    ('fever', 'chills'),\n",
    "    ('cough', 'chills'),\n",
    "    ('gender', 'fever'),\n",
    "    ('headache', 'nauseavomit')\n",
    "]"
   ]
  },
  {
   "cell_type": "code",
   "execution_count": 17,
   "id": "compound-kenya",
   "metadata": {
    "execution": {
     "iopub.execute_input": "2022-04-28T03:20:54.831367Z",
     "iopub.status.busy": "2022-04-28T03:20:54.830740Z",
     "iopub.status.idle": "2022-04-28T03:20:54.840953Z",
     "shell.execute_reply": "2022-04-28T03:20:54.838914Z",
     "shell.execute_reply.started": "2022-04-28T03:20:54.831294Z"
    }
   },
   "outputs": [],
   "source": [
    "g = nx.DiGraph()\n",
    "\n",
    "for n in df.columns:\n",
    "    g.add_node(n)\n",
    "    \n",
    "for n1, n2 in edges:\n",
    "    g.add_edge(n1, n2)"
   ]
  },
  {
   "cell_type": "code",
   "execution_count": 21,
   "id": "developmental-cotton",
   "metadata": {
    "execution": {
     "iopub.execute_input": "2022-04-28T03:21:51.597303Z",
     "iopub.status.busy": "2022-04-28T03:21:51.596680Z",
     "iopub.status.idle": "2022-04-28T03:21:51.722369Z",
     "shell.execute_reply": "2022-04-28T03:21:51.722004Z",
     "shell.execute_reply.started": "2022-04-28T03:21:51.597229Z"
    }
   },
   "outputs": [
    {
     "data": {
      "image/png": "[encoded data removed]",
      "text/plain": [
       "<Figure size 1080x360 with 1 Axes>"
      ]
     },
     "metadata": {},
     "output_type": "display_data"
    }
   ],
   "source": [
    "fig, ax = plt.subplots(figsize=(15, 5))\n",
    "\n",
    "nx.draw(**{\n",
    "    'G': g,\n",
    "    'ax': ax,\n",
    "    'pos': node_pos,\n",
    "    'width': 1.0,\n",
    "    'with_labels': True,\n",
    "    'node_color': 'r',\n",
    "    'edge_color': 'b'\n",
    "})"
   ]
  },
  {
   "cell_type": "markdown",
   "id": "wanted-metadata",
   "metadata": {},
   "source": [
    "Nice, now we have a DAG structure. We just need to learn the parameters. Remember how we did it with Logistic regression? Look at the other notebooks. \n",
    "\n",
    "After you learn the parameters, use py-bbn to create your Bayesian Belief Network (BBN). Make a prediction (e.g. how would having a running nose increase/decrease the chance of COVID?)."
   ]
  },
  {
   "cell_type": "code",
   "execution_count": null,
   "id": "wrapped-section",
   "metadata": {},
   "outputs": [],
   "source": []
  }
 ],
 "metadata": {
  "kernelspec": {
   "display_name": "Python 3",
   "language": "python",
   "name": "python3"
  },
  "language_info": {
   "codemirror_mode": {
    "name": "ipython",
    "version": 3
   },
   "file_extension": ".py",
   "mimetype": "text/x-python",
   "name": "python",
   "nbconvert_exporter": "python",
   "pygments_lexer": "ipython3",
   "version": "3.8.5"
  },
  "widgets": {
   "application/vnd.jupyter.widget-state+json": {
    "state": {},
    "version_major": 2,
    "version_minor": 0
   }
  }
 },
 "nbformat": 4,
 "nbformat_minor": 5
}
