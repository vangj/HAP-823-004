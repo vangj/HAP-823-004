{
 "cells": [
  {
   "cell_type": "markdown",
   "id": "casual-scott",
   "metadata": {},
   "source": [
    "# COVID"
   ]
  },
  {
   "cell_type": "markdown",
   "id": "least-vaccine",
   "metadata": {},
   "source": [
    "## Load data"
   ]
  },
  {
   "cell_type": "code",
   "execution_count": 1,
   "id": "other-database",
   "metadata": {
    "execution": {
     "iopub.execute_input": "2022-04-28T19:24:45.181653Z",
     "iopub.status.busy": "2022-04-28T19:24:45.180930Z",
     "iopub.status.idle": "2022-04-28T19:24:48.266834Z",
     "shell.execute_reply": "2022-04-28T19:24:48.266474Z",
     "shell.execute_reply.started": "2022-04-28T19:24:45.181471Z"
    }
   },
   "outputs": [
    {
     "data": {
      "text/plain": [
       "(1800000, 14)"
      ]
     },
     "execution_count": 1,
     "metadata": {},
     "output_type": "execute_result"
    }
   ],
   "source": [
    "import pandas as pd\n",
    "\n",
    "df = pd.read_csv('./final-sample-merged.csv', low_memory=False) \\\n",
    "    .assign(\n",
    "        disease=lambda d: d['disease'].apply(lambda v: 1 if v == 'covid' else 0),\n",
    "        race=lambda d: d['race'].apply(lambda v: 1 if v == 'white' else 0),\n",
    "        gender=lambda d: d['gender'].apply(lambda v: 1 if v == 'male' else 0),\n",
    "        age=lambda d: d['age'].apply(lambda v: int(v.split('_')[0])))\n",
    "df.shape"
   ]
  },
  {
   "cell_type": "code",
   "execution_count": 2,
   "id": "surrounded-level",
   "metadata": {
    "execution": {
     "iopub.execute_input": "2022-04-28T19:24:48.267529Z",
     "iopub.status.busy": "2022-04-28T19:24:48.267426Z",
     "iopub.status.idle": "2022-04-28T19:24:48.278805Z",
     "shell.execute_reply": "2022-04-28T19:24:48.278473Z",
     "shell.execute_reply.started": "2022-04-28T19:24:48.267516Z"
    }
   },
   "outputs": [
    {
     "data": {
      "text/html": [
       "<div>\n",
       "<style scoped>\n",
       "    .dataframe tbody tr th:only-of-type {\n",
       "        vertical-align: middle;\n",
       "    }\n",
       "\n",
       "    .dataframe tbody tr th {\n",
       "        vertical-align: top;\n",
       "    }\n",
       "\n",
       "    .dataframe thead th {\n",
       "        text-align: right;\n",
       "    }\n",
       "</style>\n",
       "<table border=\"1\" class=\"dataframe\">\n",
       "  <thead>\n",
       "    <tr style=\"text-align: right;\">\n",
       "      <th></th>\n",
       "      <th>disease</th>\n",
       "      <th>race</th>\n",
       "      <th>age</th>\n",
       "      <th>gender</th>\n",
       "      <th>chills</th>\n",
       "      <th>cough</th>\n",
       "      <th>diarrhea</th>\n",
       "      <th>fever</th>\n",
       "      <th>headache</th>\n",
       "      <th>myalgia</th>\n",
       "      <th>nauseavomit</th>\n",
       "      <th>running_nose</th>\n",
       "      <th>sob</th>\n",
       "      <th>sore_throat</th>\n",
       "    </tr>\n",
       "  </thead>\n",
       "  <tbody>\n",
       "    <tr>\n",
       "      <th>0</th>\n",
       "      <td>1</td>\n",
       "      <td>0</td>\n",
       "      <td>60</td>\n",
       "      <td>0</td>\n",
       "      <td>1.0</td>\n",
       "      <td>1.0</td>\n",
       "      <td>NaN</td>\n",
       "      <td>NaN</td>\n",
       "      <td>1.0</td>\n",
       "      <td>1.0</td>\n",
       "      <td>NaN</td>\n",
       "      <td>NaN</td>\n",
       "      <td>NaN</td>\n",
       "      <td>1.0</td>\n",
       "    </tr>\n",
       "    <tr>\n",
       "      <th>1</th>\n",
       "      <td>1</td>\n",
       "      <td>1</td>\n",
       "      <td>40</td>\n",
       "      <td>1</td>\n",
       "      <td>1.0</td>\n",
       "      <td>1.0</td>\n",
       "      <td>0.0</td>\n",
       "      <td>1.0</td>\n",
       "      <td>1.0</td>\n",
       "      <td>1.0</td>\n",
       "      <td>1.0</td>\n",
       "      <td>0.0</td>\n",
       "      <td>1.0</td>\n",
       "      <td>1.0</td>\n",
       "    </tr>\n",
       "    <tr>\n",
       "      <th>2</th>\n",
       "      <td>1</td>\n",
       "      <td>1</td>\n",
       "      <td>10</td>\n",
       "      <td>0</td>\n",
       "      <td>0.0</td>\n",
       "      <td>0.0</td>\n",
       "      <td>0.0</td>\n",
       "      <td>0.0</td>\n",
       "      <td>0.0</td>\n",
       "      <td>1.0</td>\n",
       "      <td>0.0</td>\n",
       "      <td>NaN</td>\n",
       "      <td>0.0</td>\n",
       "      <td>1.0</td>\n",
       "    </tr>\n",
       "    <tr>\n",
       "      <th>3</th>\n",
       "      <td>1</td>\n",
       "      <td>1</td>\n",
       "      <td>40</td>\n",
       "      <td>1</td>\n",
       "      <td>NaN</td>\n",
       "      <td>0.0</td>\n",
       "      <td>NaN</td>\n",
       "      <td>NaN</td>\n",
       "      <td>NaN</td>\n",
       "      <td>1.0</td>\n",
       "      <td>0.0</td>\n",
       "      <td>NaN</td>\n",
       "      <td>NaN</td>\n",
       "      <td>NaN</td>\n",
       "    </tr>\n",
       "    <tr>\n",
       "      <th>4</th>\n",
       "      <td>1</td>\n",
       "      <td>1</td>\n",
       "      <td>30</td>\n",
       "      <td>1</td>\n",
       "      <td>1.0</td>\n",
       "      <td>1.0</td>\n",
       "      <td>1.0</td>\n",
       "      <td>0.0</td>\n",
       "      <td>1.0</td>\n",
       "      <td>1.0</td>\n",
       "      <td>0.0</td>\n",
       "      <td>1.0</td>\n",
       "      <td>0.0</td>\n",
       "      <td>1.0</td>\n",
       "    </tr>\n",
       "  </tbody>\n",
       "</table>\n",
       "</div>"
      ],
      "text/plain": [
       "   disease  race  age  gender  chills  cough  diarrhea  fever  headache  \\\n",
       "0        1     0   60       0     1.0    1.0       NaN    NaN       1.0   \n",
       "1        1     1   40       1     1.0    1.0       0.0    1.0       1.0   \n",
       "2        1     1   10       0     0.0    0.0       0.0    0.0       0.0   \n",
       "3        1     1   40       1     NaN    0.0       NaN    NaN       NaN   \n",
       "4        1     1   30       1     1.0    1.0       1.0    0.0       1.0   \n",
       "\n",
       "   myalgia  nauseavomit  running_nose  sob  sore_throat  \n",
       "0      1.0          NaN           NaN  NaN          1.0  \n",
       "1      1.0          1.0           0.0  1.0          1.0  \n",
       "2      1.0          0.0           NaN  0.0          1.0  \n",
       "3      1.0          0.0           NaN  NaN          NaN  \n",
       "4      1.0          0.0           1.0  0.0          1.0  "
      ]
     },
     "execution_count": 2,
     "metadata": {},
     "output_type": "execute_result"
    }
   ],
   "source": [
    "df.head()"
   ]
  },
  {
   "cell_type": "code",
   "execution_count": 3,
   "id": "exciting-homeless",
   "metadata": {
    "execution": {
     "iopub.execute_input": "2022-04-28T19:24:48.279616Z",
     "iopub.status.busy": "2022-04-28T19:24:48.279510Z",
     "iopub.status.idle": "2022-04-28T19:24:48.293225Z",
     "shell.execute_reply": "2022-04-28T19:24:48.292870Z",
     "shell.execute_reply.started": "2022-04-28T19:24:48.279602Z"
    }
   },
   "outputs": [
    {
     "data": {
      "text/plain": [
       "disease           int64\n",
       "race              int64\n",
       "age               int64\n",
       "gender            int64\n",
       "chills          float64\n",
       "cough           float64\n",
       "diarrhea        float64\n",
       "fever           float64\n",
       "headache        float64\n",
       "myalgia         float64\n",
       "nauseavomit     float64\n",
       "running_nose    float64\n",
       "sob             float64\n",
       "sore_throat     float64\n",
       "dtype: object"
      ]
     },
     "execution_count": 3,
     "metadata": {},
     "output_type": "execute_result"
    }
   ],
   "source": [
    "df.dtypes"
   ]
  },
  {
   "cell_type": "markdown",
   "id": "lightweight-teaching",
   "metadata": {},
   "source": [
    "## Pairwise correlation\n",
    "\n",
    "We can use the pairwise correlations to build a graph structure."
   ]
  },
  {
   "cell_type": "code",
   "execution_count": 4,
   "id": "painted-genealogy",
   "metadata": {
    "execution": {
     "iopub.execute_input": "2022-04-28T19:24:48.294054Z",
     "iopub.status.busy": "2022-04-28T19:24:48.293837Z",
     "iopub.status.idle": "2022-04-28T19:24:49.186076Z",
     "shell.execute_reply": "2022-04-28T19:24:49.185606Z",
     "shell.execute_reply.started": "2022-04-28T19:24:48.294027Z"
    }
   },
   "outputs": [],
   "source": [
    "corr_df = df.corr()"
   ]
  },
  {
   "cell_type": "code",
   "execution_count": 5,
   "id": "generic-devil",
   "metadata": {
    "execution": {
     "iopub.execute_input": "2022-04-28T19:24:49.186850Z",
     "iopub.status.busy": "2022-04-28T19:24:49.186710Z",
     "iopub.status.idle": "2022-04-28T19:24:49.696664Z",
     "shell.execute_reply": "2022-04-28T19:24:49.696275Z",
     "shell.execute_reply.started": "2022-04-28T19:24:49.186824Z"
    }
   },
   "outputs": [
    {
     "data": {
      "text/plain": [
       "<AxesSubplot:>"
      ]
     },
     "execution_count": 5,
     "metadata": {},
     "output_type": "execute_result"
    },
    {
     "data": {
      "image/png": "[encoded data removed]",
      "text/plain": [
       "<Figure size 432x288 with 2 Axes>"
      ]
     },
     "metadata": {
      "needs_background": "light"
     },
     "output_type": "display_data"
    }
   ],
   "source": [
    "import matplotlib.pyplot as plt\n",
    "import seaborn as sns\n",
    "\n",
    "sns.heatmap(corr_df)"
   ]
  },
  {
   "cell_type": "markdown",
   "id": "imposed-defensive",
   "metadata": {},
   "source": [
    "These are the edges and their weights sorted descending."
   ]
  },
  {
   "cell_type": "code",
   "execution_count": 6,
   "id": "palestinian-roman",
   "metadata": {
    "execution": {
     "iopub.execute_input": "2022-04-28T19:24:49.697245Z",
     "iopub.status.busy": "2022-04-28T19:24:49.697137Z",
     "iopub.status.idle": "2022-04-28T19:24:49.705278Z",
     "shell.execute_reply": "2022-04-28T19:24:49.704944Z",
     "shell.execute_reply.started": "2022-04-28T19:24:49.697231Z"
    }
   },
   "outputs": [
    {
     "data": {
      "text/html": [
       "<div>\n",
       "<style scoped>\n",
       "    .dataframe tbody tr th:only-of-type {\n",
       "        vertical-align: middle;\n",
       "    }\n",
       "\n",
       "    .dataframe tbody tr th {\n",
       "        vertical-align: top;\n",
       "    }\n",
       "\n",
       "    .dataframe thead th {\n",
       "        text-align: right;\n",
       "    }\n",
       "</style>\n",
       "<table border=\"1\" class=\"dataframe\">\n",
       "  <thead>\n",
       "    <tr style=\"text-align: right;\">\n",
       "      <th></th>\n",
       "      <th>p</th>\n",
       "      <th>abs_p</th>\n",
       "    </tr>\n",
       "  </thead>\n",
       "  <tbody>\n",
       "    <tr>\n",
       "      <th>(disease, race)</th>\n",
       "      <td>0.698362</td>\n",
       "      <td>0.698362</td>\n",
       "    </tr>\n",
       "    <tr>\n",
       "      <th>(headache, myalgia)</th>\n",
       "      <td>0.573924</td>\n",
       "      <td>0.573924</td>\n",
       "    </tr>\n",
       "    <tr>\n",
       "      <th>(running_nose, sore_throat)</th>\n",
       "      <td>0.508476</td>\n",
       "      <td>0.508476</td>\n",
       "    </tr>\n",
       "    <tr>\n",
       "      <th>(cough, running_nose)</th>\n",
       "      <td>0.501068</td>\n",
       "      <td>0.501068</td>\n",
       "    </tr>\n",
       "    <tr>\n",
       "      <th>(headache, running_nose)</th>\n",
       "      <td>0.486561</td>\n",
       "      <td>0.486561</td>\n",
       "    </tr>\n",
       "  </tbody>\n",
       "</table>\n",
       "</div>"
      ],
      "text/plain": [
       "                                    p     abs_p\n",
       "(disease, race)              0.698362  0.698362\n",
       "(headache, myalgia)          0.573924  0.573924\n",
       "(running_nose, sore_throat)  0.508476  0.508476\n",
       "(cough, running_nose)        0.501068  0.501068\n",
       "(headache, running_nose)     0.486561  0.486561"
      ]
     },
     "execution_count": 6,
     "metadata": {},
     "output_type": "execute_result"
    }
   ],
   "source": [
    "import numpy as np\n",
    "import itertools\n",
    "\n",
    "edge_df = pd.Series(corr_df.values[np.triu_indices_from(corr_df.values, k=1)],\n",
    "          index=itertools.combinations(df.columns, 2)) \\\n",
    "    .sort_values(ascending=False) \\\n",
    "    .to_frame(name='p') \\\n",
    "    .assign(abs_p=lambda d: np.abs(d['p'])) \\\n",
    "    .sort_values(['abs_p'], ascending=False)\n",
    "edge_df.head()"
   ]
  },
  {
   "cell_type": "markdown",
   "id": "cubic-trading",
   "metadata": {},
   "source": [
    "## Build graph\n",
    "\n",
    "We will use the maximum weight spanning-tree algorithm (MWST)."
   ]
  },
  {
   "cell_type": "code",
   "execution_count": 7,
   "id": "express-forwarding",
   "metadata": {
    "execution": {
     "iopub.execute_input": "2022-04-28T19:24:49.705855Z",
     "iopub.status.busy": "2022-04-28T19:24:49.705749Z",
     "iopub.status.idle": "2022-04-28T19:24:49.812458Z",
     "shell.execute_reply": "2022-04-28T19:24:49.812057Z",
     "shell.execute_reply.started": "2022-04-28T19:24:49.705842Z"
    }
   },
   "outputs": [],
   "source": [
    "import networkx as nx\n",
    "\n",
    "u = nx.Graph()\n",
    "\n",
    "for n in df.columns:\n",
    "    u.add_node(n)\n",
    "    \n",
    "for (n1, n2), _ in edge_df.iterrows():\n",
    "    if not nx.algorithms.shortest_paths.generic.has_path(u, n1, n2):\n",
    "        u.add_edge(n1, n2)\n",
    "    \n",
    "    if len(u.edges()) == len(u.nodes()) - 1:\n",
    "        break"
   ]
  },
  {
   "cell_type": "code",
   "execution_count": 8,
   "id": "thorough-timeline",
   "metadata": {
    "execution": {
     "iopub.execute_input": "2022-04-28T19:24:49.813055Z",
     "iopub.status.busy": "2022-04-28T19:24:49.812943Z",
     "iopub.status.idle": "2022-04-28T19:24:49.815537Z",
     "shell.execute_reply": "2022-04-28T19:24:49.815255Z",
     "shell.execute_reply.started": "2022-04-28T19:24:49.813041Z"
    }
   },
   "outputs": [
    {
     "data": {
      "text/plain": [
       "(14, 13)"
      ]
     },
     "execution_count": 8,
     "metadata": {},
     "output_type": "execute_result"
    }
   ],
   "source": [
    "len(u.nodes()), len(u.edges())"
   ]
  },
  {
   "cell_type": "code",
   "execution_count": 9,
   "id": "harmful-romania",
   "metadata": {
    "execution": {
     "iopub.execute_input": "2022-04-28T19:24:49.816622Z",
     "iopub.status.busy": "2022-04-28T19:24:49.816517Z",
     "iopub.status.idle": "2022-04-28T19:24:49.892443Z",
     "shell.execute_reply": "2022-04-28T19:24:49.892062Z",
     "shell.execute_reply.started": "2022-04-28T19:24:49.816610Z"
    }
   },
   "outputs": [
    {
     "data": {
      "image/png": "[encoded data removed]",
      "text/plain": [
       "<Figure size 1080x360 with 1 Axes>"
      ]
     },
     "metadata": {},
     "output_type": "display_data"
    }
   ],
   "source": [
    "fig, ax = plt.subplots(figsize=(15, 5))\n",
    "\n",
    "node_pos = nx.spring_layout(u)\n",
    "\n",
    "nx.draw(**{\n",
    "    'G': u,\n",
    "    'ax': ax,\n",
    "    'pos': node_pos,\n",
    "    'with_labels': True,\n",
    "    'node_color': 'r'\n",
    "})"
   ]
  },
  {
   "cell_type": "markdown",
   "id": "complex-january",
   "metadata": {},
   "source": [
    "Great, we have a structure, but this graph is undirected, we need a directed acyclic graph (DAG). Remember our knowledge about serial, diverging and converging structures? Only the converging structure is statistically distinguishable from the serial and diverging structures.\n",
    "\n",
    "- serial: A -> B -> C (implies A is conditionally independent of C given B)\n",
    "- diverging: A <- B -> C (implies A is conditionally independent of C given B)\n",
    "- converging: A -> B <- C (implies A is conditionally DEPENDENT of C given B)\n",
    "\n",
    "And remember our knowledge on Poisson regression or log-linear modeling? How we can use Poisson regression to model at least 9 different models between any 3 variables. Let's make it simple, we find all triplets in the undirected graph, denoted as (A, B, C), where \n",
    "\n",
    "- A is connected to B, \n",
    "- C is connected to B, and\n",
    "- A and C are NOT connected.\n",
    "\n",
    "If D(A,C | B) (A and C are conditionally dependent given B), then we can orient the arcs as converging: A -> B <- C."
   ]
  },
  {
   "cell_type": "code",
   "execution_count": 10,
   "id": "happy-platinum",
   "metadata": {
    "execution": {
     "iopub.execute_input": "2022-04-28T19:24:49.893196Z",
     "iopub.status.busy": "2022-04-28T19:24:49.893040Z",
     "iopub.status.idle": "2022-04-28T19:24:49.897754Z",
     "shell.execute_reply": "2022-04-28T19:24:49.897384Z",
     "shell.execute_reply.started": "2022-04-28T19:24:49.893182Z"
    }
   },
   "outputs": [
    {
     "data": {
      "text/plain": [
       "16"
      ]
     },
     "execution_count": 10,
     "metadata": {},
     "output_type": "execute_result"
    }
   ],
   "source": [
    "def get_triplets(n):\n",
    "    def is_connected(a, c):\n",
    "        n_a = set(u.neighbors(a))\n",
    "        n_c = set(u.neighbors(c))\n",
    "        \n",
    "        if c not in n_a and a not in n_c:\n",
    "            return False\n",
    "        return True\n",
    "        \n",
    "    neighbors = list(u.neighbors(n))\n",
    "    if len(neighbors) < 2:\n",
    "        return []\n",
    "    \n",
    "    pairs = itertools.combinations(neighbors, 2)\n",
    "    pairs = filter(lambda tup: not is_connected(*tup), pairs)\n",
    "    pairs = map(lambda tup: (tup[0], n, tup[1]), pairs)\n",
    "    return list(pairs)\n",
    "\n",
    "triplets = list(itertools.chain(*[get_triplets(c) for c in df.columns]))\n",
    "len(triplets)"
   ]
  },
  {
   "cell_type": "code",
   "execution_count": 11,
   "id": "sunset-looking",
   "metadata": {
    "execution": {
     "iopub.execute_input": "2022-04-28T19:24:49.898334Z",
     "iopub.status.busy": "2022-04-28T19:24:49.898229Z",
     "iopub.status.idle": "2022-04-28T19:24:49.901222Z",
     "shell.execute_reply": "2022-04-28T19:24:49.900950Z",
     "shell.execute_reply.started": "2022-04-28T19:24:49.898321Z"
    }
   },
   "outputs": [
    {
     "data": {
      "text/plain": [
       "[('race', 'disease', 'chills'),\n",
       " ('cough', 'chills', 'fever'),\n",
       " ('cough', 'chills', 'disease'),\n",
       " ('fever', 'chills', 'disease'),\n",
       " ('running_nose', 'cough', 'chills'),\n",
       " ('chills', 'fever', 'gender'),\n",
       " ('myalgia', 'headache', 'running_nose'),\n",
       " ('myalgia', 'headache', 'nauseavomit'),\n",
       " ('running_nose', 'headache', 'nauseavomit'),\n",
       " ('headache', 'myalgia', 'sob'),\n",
       " ('headache', 'myalgia', 'diarrhea'),\n",
       " ('sob', 'myalgia', 'diarrhea'),\n",
       " ('sore_throat', 'running_nose', 'cough'),\n",
       " ('sore_throat', 'running_nose', 'headache'),\n",
       " ('cough', 'running_nose', 'headache'),\n",
       " ('myalgia', 'sob', 'age')]"
      ]
     },
     "execution_count": 11,
     "metadata": {},
     "output_type": "execute_result"
    }
   ],
   "source": [
    "triplets"
   ]
  },
  {
   "cell_type": "markdown",
   "id": "exact-longer",
   "metadata": {},
   "source": [
    "There are 16 triplets that we have to model (or test for conditional dependence) to attempt to turn the undirected edges to directed ones. Let's use the Chi-Square test of conditional independence. The critical value is 18.5 with 4 degrees of freedom (alpha=0.001). If any Chi-Square value is greater than 18.5, we fail to reject the null hypothesis (that A and C are conditionally independent given B)."
   ]
  },
  {
   "cell_type": "code",
   "execution_count": 12,
   "id": "solid-synthetic",
   "metadata": {
    "execution": {
     "iopub.execute_input": "2022-04-28T19:24:49.901778Z",
     "iopub.status.busy": "2022-04-28T19:24:49.901671Z",
     "iopub.status.idle": "2022-04-28T19:24:51.396215Z",
     "shell.execute_reply": "2022-04-28T19:24:51.395863Z",
     "shell.execute_reply.started": "2022-04-28T19:24:49.901765Z"
    }
   },
   "outputs": [
    {
     "data": {
      "text/html": [
       "<div>\n",
       "<style scoped>\n",
       "    .dataframe tbody tr th:only-of-type {\n",
       "        vertical-align: middle;\n",
       "    }\n",
       "\n",
       "    .dataframe tbody tr th {\n",
       "        vertical-align: top;\n",
       "    }\n",
       "\n",
       "    .dataframe thead th {\n",
       "        text-align: right;\n",
       "    }\n",
       "</style>\n",
       "<table border=\"1\" class=\"dataframe\">\n",
       "  <thead>\n",
       "    <tr style=\"text-align: right;\">\n",
       "      <th></th>\n",
       "      <th>a</th>\n",
       "      <th>b</th>\n",
       "      <th>c</th>\n",
       "      <th>chi</th>\n",
       "      <th>dof</th>\n",
       "      <th>sig</th>\n",
       "    </tr>\n",
       "  </thead>\n",
       "  <tbody>\n",
       "    <tr>\n",
       "      <th>15</th>\n",
       "      <td>myalgia</td>\n",
       "      <td>sob</td>\n",
       "      <td>age</td>\n",
       "      <td>3.524911e+06</td>\n",
       "      <td>4</td>\n",
       "      <td>1</td>\n",
       "    </tr>\n",
       "    <tr>\n",
       "      <th>0</th>\n",
       "      <td>race</td>\n",
       "      <td>disease</td>\n",
       "      <td>chills</td>\n",
       "      <td>9.685151e+05</td>\n",
       "      <td>4</td>\n",
       "      <td>1</td>\n",
       "    </tr>\n",
       "    <tr>\n",
       "      <th>12</th>\n",
       "      <td>sore_throat</td>\n",
       "      <td>running_nose</td>\n",
       "      <td>cough</td>\n",
       "      <td>7.824393e+05</td>\n",
       "      <td>4</td>\n",
       "      <td>1</td>\n",
       "    </tr>\n",
       "    <tr>\n",
       "      <th>10</th>\n",
       "      <td>headache</td>\n",
       "      <td>myalgia</td>\n",
       "      <td>diarrhea</td>\n",
       "      <td>7.809949e+05</td>\n",
       "      <td>4</td>\n",
       "      <td>1</td>\n",
       "    </tr>\n",
       "    <tr>\n",
       "      <th>4</th>\n",
       "      <td>running_nose</td>\n",
       "      <td>cough</td>\n",
       "      <td>chills</td>\n",
       "      <td>7.309650e+05</td>\n",
       "      <td>4</td>\n",
       "      <td>1</td>\n",
       "    </tr>\n",
       "    <tr>\n",
       "      <th>7</th>\n",
       "      <td>myalgia</td>\n",
       "      <td>headache</td>\n",
       "      <td>nauseavomit</td>\n",
       "      <td>7.303296e+05</td>\n",
       "      <td>4</td>\n",
       "      <td>1</td>\n",
       "    </tr>\n",
       "    <tr>\n",
       "      <th>9</th>\n",
       "      <td>headache</td>\n",
       "      <td>myalgia</td>\n",
       "      <td>sob</td>\n",
       "      <td>6.974964e+05</td>\n",
       "      <td>4</td>\n",
       "      <td>1</td>\n",
       "    </tr>\n",
       "    <tr>\n",
       "      <th>11</th>\n",
       "      <td>sob</td>\n",
       "      <td>myalgia</td>\n",
       "      <td>diarrhea</td>\n",
       "      <td>6.476410e+05</td>\n",
       "      <td>4</td>\n",
       "      <td>1</td>\n",
       "    </tr>\n",
       "    <tr>\n",
       "      <th>13</th>\n",
       "      <td>sore_throat</td>\n",
       "      <td>running_nose</td>\n",
       "      <td>headache</td>\n",
       "      <td>6.224552e+05</td>\n",
       "      <td>4</td>\n",
       "      <td>1</td>\n",
       "    </tr>\n",
       "    <tr>\n",
       "      <th>1</th>\n",
       "      <td>cough</td>\n",
       "      <td>chills</td>\n",
       "      <td>fever</td>\n",
       "      <td>5.981784e+05</td>\n",
       "      <td>4</td>\n",
       "      <td>1</td>\n",
       "    </tr>\n",
       "    <tr>\n",
       "      <th>6</th>\n",
       "      <td>myalgia</td>\n",
       "      <td>headache</td>\n",
       "      <td>running_nose</td>\n",
       "      <td>5.884519e+05</td>\n",
       "      <td>4</td>\n",
       "      <td>1</td>\n",
       "    </tr>\n",
       "    <tr>\n",
       "      <th>14</th>\n",
       "      <td>cough</td>\n",
       "      <td>running_nose</td>\n",
       "      <td>headache</td>\n",
       "      <td>5.822597e+05</td>\n",
       "      <td>4</td>\n",
       "      <td>1</td>\n",
       "    </tr>\n",
       "    <tr>\n",
       "      <th>8</th>\n",
       "      <td>running_nose</td>\n",
       "      <td>headache</td>\n",
       "      <td>nauseavomit</td>\n",
       "      <td>5.013523e+05</td>\n",
       "      <td>4</td>\n",
       "      <td>1</td>\n",
       "    </tr>\n",
       "    <tr>\n",
       "      <th>2</th>\n",
       "      <td>cough</td>\n",
       "      <td>chills</td>\n",
       "      <td>disease</td>\n",
       "      <td>3.647219e+05</td>\n",
       "      <td>4</td>\n",
       "      <td>1</td>\n",
       "    </tr>\n",
       "    <tr>\n",
       "      <th>3</th>\n",
       "      <td>fever</td>\n",
       "      <td>chills</td>\n",
       "      <td>disease</td>\n",
       "      <td>3.069323e+05</td>\n",
       "      <td>4</td>\n",
       "      <td>1</td>\n",
       "    </tr>\n",
       "    <tr>\n",
       "      <th>5</th>\n",
       "      <td>chills</td>\n",
       "      <td>fever</td>\n",
       "      <td>gender</td>\n",
       "      <td>2.039085e+05</td>\n",
       "      <td>4</td>\n",
       "      <td>1</td>\n",
       "    </tr>\n",
       "  </tbody>\n",
       "</table>\n",
       "</div>"
      ],
      "text/plain": [
       "               a             b             c           chi  dof  sig\n",
       "15       myalgia           sob           age  3.524911e+06    4    1\n",
       "0           race       disease        chills  9.685151e+05    4    1\n",
       "12   sore_throat  running_nose         cough  7.824393e+05    4    1\n",
       "10      headache       myalgia      diarrhea  7.809949e+05    4    1\n",
       "4   running_nose         cough        chills  7.309650e+05    4    1\n",
       "7        myalgia      headache   nauseavomit  7.303296e+05    4    1\n",
       "9       headache       myalgia           sob  6.974964e+05    4    1\n",
       "11           sob       myalgia      diarrhea  6.476410e+05    4    1\n",
       "13   sore_throat  running_nose      headache  6.224552e+05    4    1\n",
       "1          cough        chills         fever  5.981784e+05    4    1\n",
       "6        myalgia      headache  running_nose  5.884519e+05    4    1\n",
       "14         cough  running_nose      headache  5.822597e+05    4    1\n",
       "8   running_nose      headache   nauseavomit  5.013523e+05    4    1\n",
       "2          cough        chills       disease  3.647219e+05    4    1\n",
       "3          fever        chills       disease  3.069323e+05    4    1\n",
       "5         chills         fever        gender  2.039085e+05    4    1"
      ]
     },
     "execution_count": 12,
     "metadata": {},
     "output_type": "execute_result"
    }
   ],
   "source": [
    "def get_observed(a, b, c):\n",
    "    def get_n(n, v, data):\n",
    "        return data[data[n]==v]['observed'].sum()\n",
    "        \n",
    "    count = df[[a, b, c]] \\\n",
    "        .dropna() \\\n",
    "        .assign(observed=1) \\\n",
    "        .groupby([a, b, c]) \\\n",
    "        .sum() \\\n",
    "        .reset_index()\n",
    "    \n",
    "    N = count['observed'].sum()\n",
    "    \n",
    "    count = count.assign(\n",
    "        a=lambda d: d.apply(lambda r: get_n(a, r[a], count), axis=1),\n",
    "        b=lambda d: d.apply(lambda r: get_n(b, r[b], count), axis=1),\n",
    "        c=lambda d: d.apply(lambda r: get_n(b, r[b], count), axis=1),\n",
    "        expected=lambda d: d['a'] * d['b'] * d['c'] / (N*N),\n",
    "        chi=lambda d: np.power(d['observed'] - d['expected'], 2) / d['expected'])\n",
    "    \n",
    "    dof = (2 * 2 * 2) - 2 - 2 - 2 + 2\n",
    "    chi = count['chi'].sum()\n",
    "    return {\n",
    "        'a': a,\n",
    "        'b': b,\n",
    "        'c': c,\n",
    "        'chi': chi, \n",
    "        'dof': dof,\n",
    "        'sig': 1 if chi >= 19 else 0\n",
    "    }\n",
    "\n",
    "pd.DataFrame([get_observed(*t) for t in triplets]) \\\n",
    "    .sort_values(['chi'], ascending=False)"
   ]
  },
  {
   "cell_type": "markdown",
   "id": "selective-baghdad",
   "metadata": {},
   "source": [
    "Ok, so it seems like all the triplets are significant! Wow. Since we have the triplets sorted from largest to smallest, use these triplets to orient the arcs A -> B <- C without creating cycle. If there are any arcs that remain undirected, use your best judgement to given them a direction without causing the graph to be cyclic."
   ]
  },
  {
   "cell_type": "code",
   "execution_count": 13,
   "id": "whole-score",
   "metadata": {
    "execution": {
     "iopub.execute_input": "2022-04-28T19:24:51.396861Z",
     "iopub.status.busy": "2022-04-28T19:24:51.396752Z",
     "iopub.status.idle": "2022-04-28T19:24:51.399279Z",
     "shell.execute_reply": "2022-04-28T19:24:51.398946Z",
     "shell.execute_reply.started": "2022-04-28T19:24:51.396848Z"
    }
   },
   "outputs": [],
   "source": [
    "edges = [\n",
    "    ('age', 'sob'),\n",
    "    ('myalgia', 'sob'),\n",
    "    ('race', 'disease'),\n",
    "    ('chills', 'disease'),\n",
    "    ('cough', 'running_nose'),\n",
    "    ('sore_throat', 'running_nose'),\n",
    "    ('headache', 'myalgia'),\n",
    "    ('diarrhea', 'myalgia'),\n",
    "    ('headache', 'running_nose'),\n",
    "    ('fever', 'chills'),\n",
    "    ('cough', 'chills'),\n",
    "    ('gender', 'fever'),\n",
    "    ('headache', 'nauseavomit')\n",
    "]"
   ]
  },
  {
   "cell_type": "code",
   "execution_count": 14,
   "id": "musical-receptor",
   "metadata": {
    "execution": {
     "iopub.execute_input": "2022-04-28T19:24:51.399817Z",
     "iopub.status.busy": "2022-04-28T19:24:51.399713Z",
     "iopub.status.idle": "2022-04-28T19:24:51.413114Z",
     "shell.execute_reply": "2022-04-28T19:24:51.412756Z",
     "shell.execute_reply.started": "2022-04-28T19:24:51.399804Z"
    }
   },
   "outputs": [],
   "source": [
    "g = nx.DiGraph()\n",
    "\n",
    "for n in df.columns:\n",
    "    g.add_node(n)\n",
    "    \n",
    "for n1, n2 in edges:\n",
    "    g.add_edge(n1, n2)"
   ]
  },
  {
   "cell_type": "code",
   "execution_count": 15,
   "id": "worthy-valuable",
   "metadata": {
    "execution": {
     "iopub.execute_input": "2022-04-28T19:24:51.413798Z",
     "iopub.status.busy": "2022-04-28T19:24:51.413676Z",
     "iopub.status.idle": "2022-04-28T19:24:51.542489Z",
     "shell.execute_reply": "2022-04-28T19:24:51.542133Z",
     "shell.execute_reply.started": "2022-04-28T19:24:51.413785Z"
    }
   },
   "outputs": [
    {
     "data": {
      "image/png": "[encoded data removed]",
      "text/plain": [
       "<Figure size 1080x360 with 1 Axes>"
      ]
     },
     "metadata": {},
     "output_type": "display_data"
    }
   ],
   "source": [
    "fig, ax = plt.subplots(figsize=(15, 5))\n",
    "\n",
    "nx.draw(**{\n",
    "    'G': g,\n",
    "    'ax': ax,\n",
    "    'pos': node_pos,\n",
    "    'width': 1.0,\n",
    "    'with_labels': True,\n",
    "    'node_color': 'r',\n",
    "    'edge_color': 'b'\n",
    "})"
   ]
  },
  {
   "cell_type": "markdown",
   "id": "advised-relations",
   "metadata": {},
   "source": [
    "Nice, now we have a DAG structure. We just need to learn the parameters. Remember how we did it with Logistic regression? Look at the other notebooks. \n",
    "\n",
    "After you learn the parameters, use py-bbn to create your Bayesian Belief Network (BBN). Make a prediction (e.g. how would having a running nose increase/decrease the chance of COVID?)."
   ]
  },
  {
   "cell_type": "code",
   "execution_count": 16,
   "id": "attended-mainstream",
   "metadata": {
    "execution": {
     "iopub.execute_input": "2022-04-28T19:24:51.543084Z",
     "iopub.status.busy": "2022-04-28T19:24:51.542974Z",
     "iopub.status.idle": "2022-04-28T19:24:51.552975Z",
     "shell.execute_reply": "2022-04-28T19:24:51.552635Z",
     "shell.execute_reply.started": "2022-04-28T19:24:51.543071Z"
    }
   },
   "outputs": [
    {
     "data": {
      "text/plain": [
       "20    247512\n",
       "30    242364\n",
       "50    232123\n",
       "10    229470\n",
       "40    220349\n",
       "0     218438\n",
       "60    209060\n",
       "70    130044\n",
       "80     70640\n",
       "Name: age, dtype: int64"
      ]
     },
     "execution_count": 16,
     "metadata": {},
     "output_type": "execute_result"
    }
   ],
   "source": [
    "df['age'].value_counts()"
   ]
  },
  {
   "cell_type": "markdown",
   "id": "assigned-glenn",
   "metadata": {},
   "source": [
    "## Learn parameters"
   ]
  },
  {
   "cell_type": "code",
   "execution_count": 17,
   "id": "sized-pitch",
   "metadata": {
    "execution": {
     "iopub.execute_input": "2022-04-28T19:24:51.553626Z",
     "iopub.status.busy": "2022-04-28T19:24:51.553515Z",
     "iopub.status.idle": "2022-04-28T19:25:23.348375Z",
     "shell.execute_reply": "2022-04-28T19:25:23.347959Z",
     "shell.execute_reply.started": "2022-04-28T19:24:51.553612Z"
    }
   },
   "outputs": [],
   "source": [
    "from sklearn.linear_model import LogisticRegression\n",
    "from sklearn.pipeline import Pipeline\n",
    "from sklearn.impute import SimpleImputer\n",
    "\n",
    "def get_values(parents):\n",
    "    def get_pa_values(pa):\n",
    "        pa_values = list(df[pa].value_counts().sort_index().index)\n",
    "        return pa_values\n",
    "        \n",
    "    values = [get_pa_values(pa) for pa in parents]\n",
    "    values = itertools.product(*values)\n",
    "    return np.array(list(values))\n",
    "\n",
    "def get_cpt(n):\n",
    "    parents = sorted(list(g.predecessors(n)))\n",
    "    \n",
    "    if len(parents) == 0:\n",
    "        s = df[n].value_counts()\n",
    "        s = s / s.sum()\n",
    "        s = s.sort_index()\n",
    "        \n",
    "        if n != 'age':\n",
    "            return {\n",
    "                'values': ['false', 'true'],\n",
    "                'probs': [v for v in s.values],\n",
    "                'parents': parents\n",
    "            }\n",
    "        else:\n",
    "            return {\n",
    "                'values': [f'{v:02}' for v in s.index],\n",
    "                'probs': [v for v in s.values],\n",
    "                'parents': parents\n",
    "            }\n",
    "    else:\n",
    "        q = df[n].notna()\n",
    "        X = df[q][parents]\n",
    "        y = df[q][n]\n",
    "        \n",
    "        model = Pipeline([\n",
    "            ('imputer', SimpleImputer()),\n",
    "            ('classifier', LogisticRegression(solver='saga', random_state=37))\n",
    "        ])\n",
    "        \n",
    "        model.fit(X, y)\n",
    "        \n",
    "        Z = np.array(get_values(parents))\n",
    "        probs = np.ravel(model.predict_proba(Z))\n",
    "        probs = [float(p) for p in probs]\n",
    "        \n",
    "        return {\n",
    "            'values': ['false', 'true'],\n",
    "            'probs': probs,\n",
    "            'parents': parents,\n",
    "            'Z': Z.shape\n",
    "        }\n",
    "  \n",
    "cpts = {n: get_cpt(n) for n in df.columns}"
   ]
  },
  {
   "cell_type": "code",
   "execution_count": 18,
   "id": "known-vietnamese",
   "metadata": {
    "execution": {
     "iopub.execute_input": "2022-04-28T19:25:23.348955Z",
     "iopub.status.busy": "2022-04-28T19:25:23.348851Z",
     "iopub.status.idle": "2022-04-28T19:25:23.353764Z",
     "shell.execute_reply": "2022-04-28T19:25:23.353496Z",
     "shell.execute_reply.started": "2022-04-28T19:25:23.348942Z"
    }
   },
   "outputs": [
    {
     "data": {
      "text/plain": [
       "{'disease': {'values': ['false', 'true'],\n",
       "  'probs': [0.7113987962385642,\n",
       "   0.2886012037614358,\n",
       "   1.6913728330458788e-05,\n",
       "   0.9999830862716695,\n",
       "   0.9013070281293555,\n",
       "   0.09869297187064456,\n",
       "   6.266009161226549e-05,\n",
       "   0.9999373399083877],\n",
       "  'parents': ['chills', 'race'],\n",
       "  'Z': (4, 2)},\n",
       " 'race': {'values': ['false', 'true'],\n",
       "  'probs': [0.8039522222222222, 0.19604777777777777],\n",
       "  'parents': []},\n",
       " 'age': {'values': ['00', '10', '20', '30', '40', '50', '60', '70', '80'],\n",
       "  'probs': [0.12135444444444445,\n",
       "   0.12748333333333334,\n",
       "   0.13750666666666667,\n",
       "   0.13464666666666666,\n",
       "   0.12241611111111111,\n",
       "   0.12895722222222222,\n",
       "   0.11614444444444444,\n",
       "   0.07224666666666667,\n",
       "   0.03924444444444444],\n",
       "  'parents': []},\n",
       " 'gender': {'values': ['false', 'true'],\n",
       "  'probs': [0.5070494444444444, 0.49295055555555556],\n",
       "  'parents': []},\n",
       " 'chills': {'values': ['false', 'true'],\n",
       "  'probs': [0.8161176157341727,\n",
       "   0.18388238426582731,\n",
       "   0.5162619101006936,\n",
       "   0.4837380898993064,\n",
       "   0.4727066219971765,\n",
       "   0.5272933780028235,\n",
       "   0.17734007346940783,\n",
       "   0.8226599265305922],\n",
       "  'parents': ['cough', 'fever'],\n",
       "  'Z': (4, 2)},\n",
       " 'cough': {'values': ['false', 'true'],\n",
       "  'probs': [0.35308222170339, 0.64691777829661],\n",
       "  'parents': []},\n",
       " 'diarrhea': {'values': ['false', 'true'],\n",
       "  'probs': [0.8240054735905352, 0.1759945264094648],\n",
       "  'parents': []},\n",
       " 'fever': {'values': ['false', 'true'],\n",
       "  'probs': [0.4707290491224241,\n",
       "   0.5292709508775759,\n",
       "   0.41289000446054835,\n",
       "   0.5871099955394516],\n",
       "  'parents': ['gender'],\n",
       "  'Z': (2, 1)},\n",
       " 'headache': {'values': ['false', 'true'],\n",
       "  'probs': [0.5385816670641242, 0.46141833293587575],\n",
       "  'parents': []},\n",
       " 'myalgia': {'values': ['false', 'true'],\n",
       "  'probs': [0.844641537919614,\n",
       "   0.15535846208038592,\n",
       "   0.30928831547840185,\n",
       "   0.6907116845215981,\n",
       "   0.5964236853032089,\n",
       "   0.4035763146967911,\n",
       "   0.10851113878845042,\n",
       "   0.8914888612115496],\n",
       "  'parents': ['diarrhea', 'headache'],\n",
       "  'Z': (4, 2)},\n",
       " 'nauseavomit': {'values': ['false', 'true'],\n",
       "  'probs': [0.9294133665137961,\n",
       "   0.07058663348620389,\n",
       "   0.5994100044345422,\n",
       "   0.4005899955654578],\n",
       "  'parents': ['headache'],\n",
       "  'Z': (2, 1)},\n",
       " 'running_nose': {'values': ['false', 'true'],\n",
       "  'probs': [0.9476284659559965,\n",
       "   0.05237153404400351,\n",
       "   0.8222617430541921,\n",
       "   0.17773825694580792,\n",
       "   0.8317179387323088,\n",
       "   0.16828206126769116,\n",
       "   0.5582343487036214,\n",
       "   0.44176565129637857,\n",
       "   0.730616866507842,\n",
       "   0.26938313349215803,\n",
       "   0.40948421750977815,\n",
       "   0.5905157824902219,\n",
       "   0.42555921730097557,\n",
       "   0.5744407826990244,\n",
       "   0.15924646579671908,\n",
       "   0.8407535342032809],\n",
       "  'parents': ['cough', 'headache', 'sore_throat'],\n",
       "  'Z': (8, 3)},\n",
       " 'sob': {'values': ['false', 'true'],\n",
       "  'probs': [0.9181742081049382,\n",
       "   0.08182579189506181,\n",
       "   0.5910777386741061,\n",
       "   0.40892226132589393,\n",
       "   0.9068616567890412,\n",
       "   0.09313834321095883,\n",
       "   0.5563920008731554,\n",
       "   0.44360799912684457,\n",
       "   0.8941654006719025,\n",
       "   0.10583459932809748,\n",
       "   0.5211476544278294,\n",
       "   0.4788523455721706,\n",
       "   0.8799675169081834,\n",
       "   0.12003248309181654,\n",
       "   0.4856915154238186,\n",
       "   0.5143084845761814,\n",
       "   0.864154329928792,\n",
       "   0.13584567007120793,\n",
       "   0.45037881362609045,\n",
       "   0.5496211863739096,\n",
       "   0.8466210103868946,\n",
       "   0.15337898961310534,\n",
       "   0.4155590724256377,\n",
       "   0.5844409275743623,\n",
       "   0.8272770169100997,\n",
       "   0.1727229830899003,\n",
       "   0.3815624655525327,\n",
       "   0.6184375344474673,\n",
       "   0.8060522642574652,\n",
       "   0.19394773574253482,\n",
       "   0.34868776163076454,\n",
       "   0.6513122383692355,\n",
       "   0.782903787761896,\n",
       "   0.21709621223810402,\n",
       "   0.3171927484588697,\n",
       "   0.6828072515411303],\n",
       "  'parents': ['age', 'myalgia'],\n",
       "  'Z': (18, 2)},\n",
       " 'sore_throat': {'values': ['false', 'true'],\n",
       "  'probs': [0.6057796742518256, 0.3942203257481745],\n",
       "  'parents': []}}"
      ]
     },
     "execution_count": 18,
     "metadata": {},
     "output_type": "execute_result"
    }
   ],
   "source": [
    "cpts"
   ]
  },
  {
   "cell_type": "markdown",
   "id": "happy-julian",
   "metadata": {},
   "source": [
    "## Construct BBN"
   ]
  },
  {
   "cell_type": "code",
   "execution_count": 19,
   "id": "indoor-boring",
   "metadata": {
    "execution": {
     "iopub.execute_input": "2022-04-28T19:25:23.354347Z",
     "iopub.status.busy": "2022-04-28T19:25:23.354245Z",
     "iopub.status.idle": "2022-04-28T19:25:23.373211Z",
     "shell.execute_reply": "2022-04-28T19:25:23.372844Z",
     "shell.execute_reply.started": "2022-04-28T19:25:23.354334Z"
    }
   },
   "outputs": [
    {
     "name": "stdout",
     "output_type": "stream",
     "text": [
      "chills --> disease\n",
      "race --> disease\n",
      "cough --> chills\n",
      "fever --> chills\n",
      "gender --> fever\n",
      "diarrhea --> myalgia\n",
      "headache --> myalgia\n",
      "headache --> nauseavomit\n",
      "cough --> running_nose\n",
      "headache --> running_nose\n",
      "sore_throat --> running_nose\n",
      "age --> sob\n",
      "myalgia --> sob\n"
     ]
    }
   ],
   "source": [
    "from pybbn.graph.dag import Bbn\n",
    "from pybbn.graph.edge import Edge, EdgeType\n",
    "from pybbn.graph.node import BbnNode\n",
    "from pybbn.graph.variable import Variable\n",
    "from pybbn.pptc.inferencecontroller import InferenceController\n",
    "from pybbn.generator.bbngenerator import convert_for_drawing\n",
    "\n",
    "bbn = Bbn()\n",
    "\n",
    "bbn_nodes = {n: BbnNode(Variable(i, n, d['values']), d['probs']) for i, (n, d) in enumerate(cpts.items())}\n",
    "\n",
    "for c in bbn_nodes:\n",
    "    bbn.add_node(bbn_nodes[c])\n",
    "    \n",
    "for ch, d in cpts.items():\n",
    "    ch_node = bbn_nodes[ch]\n",
    "    \n",
    "    for pa in d['parents']:\n",
    "        pa_node = bbn_nodes[pa]\n",
    "    \n",
    "        bbn.add_edge(Edge(pa_node, ch_node, EdgeType.DIRECTED))\n",
    "        print(f'{pa} --> {ch}')"
   ]
  },
  {
   "cell_type": "code",
   "execution_count": 20,
   "id": "stupid-object",
   "metadata": {
    "execution": {
     "iopub.execute_input": "2022-04-28T19:25:23.373855Z",
     "iopub.status.busy": "2022-04-28T19:25:23.373734Z",
     "iopub.status.idle": "2022-04-28T19:25:23.380006Z",
     "shell.execute_reply": "2022-04-28T19:25:23.379717Z",
     "shell.execute_reply.started": "2022-04-28T19:25:23.373841Z"
    }
   },
   "outputs": [
    {
     "name": "stdout",
     "output_type": "stream",
     "text": [
      "fever : false=0.44222, true=0.55778\n",
      "gender : false=0.50705, true=0.49295\n",
      "headache : false=0.53858, true=0.46142\n",
      "nauseavomit : false=0.77714, true=0.22286\n",
      "race : false=0.80395, true=0.19605\n",
      "chills : false=0.42832, true=0.57168\n",
      "disease : false=0.32067, true=0.67933\n",
      "cough : false=0.35308, true=0.64692\n",
      "myalgia : false=0.55779, true=0.44221\n",
      "diarrhea : false=0.82401, true=0.17599\n",
      "running_nose : false=0.59489, true=0.40511\n",
      "sore_throat : false=0.60578, true=0.39422\n",
      "sob : false=0.69244, true=0.30756\n",
      "age : 00=0.12135, 10=0.12748, 20=0.13751, 30=0.13465, 40=0.12242, 50=0.12896, 60=0.11614, 70=0.07225, 80=0.03924\n"
     ]
    }
   ],
   "source": [
    "from pybbn.graph.jointree import EvidenceBuilder\n",
    "\n",
    "join_tree = InferenceController.apply(bbn)\n",
    "\n",
    "for node, posteriors in join_tree.get_posteriors().items():\n",
    "    p = ', '.join([f'{val}={prob:.5f}' for val, prob in posteriors.items()])\n",
    "    print(f'{node} : {p}')"
   ]
  },
  {
   "cell_type": "code",
   "execution_count": null,
   "id": "civilian-restriction",
   "metadata": {},
   "outputs": [],
   "source": []
  }
 ],
 "metadata": {
  "kernelspec": {
   "display_name": "Python 3",
   "language": "python",
   "name": "python3"
  },
  "language_info": {
   "codemirror_mode": {
    "name": "ipython",
    "version": 3
   },
   "file_extension": ".py",
   "mimetype": "text/x-python",
   "name": "python",
   "nbconvert_exporter": "python",
   "pygments_lexer": "ipython3",
   "version": "3.8.5"
  },
  "widgets": {
   "application/vnd.jupyter.widget-state+json": {
    "state": {},
    "version_major": 2,
    "version_minor": 0
   }
  }
 },
 "nbformat": 4,
 "nbformat_minor": 5
}
